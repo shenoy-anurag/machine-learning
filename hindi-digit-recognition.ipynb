{
 "cells": [
  {
   "cell_type": "code",
   "execution_count": 1,
   "metadata": {},
   "outputs": [
    {
     "name": "stdout",
     "output_type": "stream",
     "text": [
      "Tensor Flow Version: 2.8.0\n",
      "Keras Version: 2.8.0\n"
     ]
    }
   ],
   "source": [
    "import os\n",
    "import pickle as pkl\n",
    "\n",
    "# import numpy as np\n",
    "# import pandas as pd\n",
    "import tensorflow as tf\n",
    "import keras\n",
    "from keras.preprocessing.image import image_dataset_from_directory\n",
    "from keras import layers\n",
    "from matplotlib import pyplot as plt\n",
    "import seaborn as sns\n",
    "\n",
    "print(f\"Tensor Flow Version: {tf.__version__}\")\n",
    "print(f\"Keras Version: {keras.__version__}\")\n",
    "# print(f\"Pandas {pd.__version__}\")"
   ]
  },
  {
   "cell_type": "markdown",
   "source": [
    "### Downloading the Data"
   ],
   "metadata": {
    "collapsed": false,
    "pycharm": {
     "name": "#%% md\n"
    }
   }
  },
  {
   "cell_type": "code",
   "execution_count": 2,
   "metadata": {
    "pycharm": {
     "name": "#%%\n"
    }
   },
   "outputs": [
    {
     "name": "stdout",
     "output_type": "stream",
     "text": [
      "./data/DevanagariHandwrittenCharacterDataset\n"
     ]
    }
   ],
   "source": [
    "DATA_FOLDER = \"./data\"\n",
    "\n",
    "hindi_handwritten_dataset_zip_url = \"https://archive.ics.uci.edu/ml/machine-learning-databases/00389/DevanagariHandwrittenCharacterDataset.zip\"\n",
    "zip_file_name = hindi_handwritten_dataset_zip_url.rsplit('/', 1)[1]\n",
    "\n",
    "TRAIN_FOLDER_NAME = \"Train\"\n",
    "TEST_FOLDER_NAME = \"Test\"\n",
    "DEVANAGARI_ZIP_PATH = os.path.join(DATA_FOLDER, zip_file_name)\n",
    "DEVANAGARI_DATA_FOLDER = os.path.join(os.path.join(DATA_FOLDER, zip_file_name.rsplit(\".\")[0]))\n",
    "print(DEVANAGARI_DATA_FOLDER)"
   ]
  },
  {
   "cell_type": "code",
   "execution_count": 3,
   "metadata": {
    "pycharm": {
     "name": "#%%\n"
    }
   },
   "outputs": [
    {
     "name": "stdout",
     "output_type": "stream",
     "text": [
      "Zip file already present\n",
      "Files already present on disk\n"
     ]
    }
   ],
   "source": [
    "# Download the dataset and de-compress\n",
    "import requests\n",
    "import zipfile\n",
    "\n",
    "if not os.path.exists(DEVANAGARI_ZIP_PATH):\n",
    "    req = requests.get(hindi_handwritten_dataset_zip_url, allow_redirects=True)\n",
    "    # Writing the file to the local file system\n",
    "    with open(DEVANAGARI_ZIP_PATH, 'wb') as output_file:\n",
    "        output_file.write(req.content)\n",
    "    print(\"Downloaded zip file\")\n",
    "else:\n",
    "    print(\"Zip file already present\")\n",
    "\n",
    "if not os.path.exists(DEVANAGARI_DATA_FOLDER):\n",
    "    with zipfile.ZipFile(DEVANAGARI_ZIP_PATH, 'r') as zip_ref:\n",
    "        zip_ref.extractall(DATA_FOLDER)\n",
    "    print(\"Extracted zip file\")\n",
    "else:\n",
    "    print(\"Files already present on disk\")"
   ]
  },
  {
   "cell_type": "markdown",
   "source": [
    "### Removing classes we don't want"
   ],
   "metadata": {
    "collapsed": false,
    "pycharm": {
     "name": "#%% md\n"
    }
   }
  },
  {
   "cell_type": "code",
   "execution_count": 4,
   "metadata": {
    "pycharm": {
     "name": "#%%\n"
    }
   },
   "outputs": [],
   "source": [
    "all_label_names = [\n",
    "    'character_10_yna', 'character_11_taamatar', 'character_12_thaa', 'character_13_daa', 'character_14_dhaa',\n",
    "    'character_15_adna', 'character_16_tabala', 'character_17_tha', 'character_18_da', 'character_19_dha',\n",
    "    'character_1_ka', 'character_20_na', 'character_21_pa', 'character_22_pha', 'character_23_ba', 'character_24_bha',\n",
    "    'character_25_ma', 'character_26_yaw', 'character_27_ra', 'character_28_la', 'character_29_waw', 'character_2_kha',\n",
    "    'character_30_motosaw', 'character_31_petchiryakha', 'character_32_patalosaw', 'character_33_ha',\n",
    "    'character_34_chhya', 'character_35_tra', 'character_36_gya', 'character_3_ga', 'character_4_gha',\n",
    "    'character_5_kna', 'character_6_cha', 'character_7_chha', 'character_8_ja', 'character_9_jha', 'digit_0', 'digit_1',\n",
    "    'digit_2', 'digit_3', 'digit_4', 'digit_5', 'digit_6', 'digit_7', 'digit_8', 'digit_9'\n",
    "]\n",
    "labels_to_keep = [\n",
    "    \"digit_0\", \"digit_1\", \"digit_2\", \"digit_3\", \"digit_4\", \"digit_5\", \"digit_6\", \"digit_7\", \"digit_8\", \"digit_9\"\n",
    "]"
   ]
  },
  {
   "cell_type": "code",
   "execution_count": 5,
   "metadata": {
    "pycharm": {
     "name": "#%%\n"
    }
   },
   "outputs": [],
   "source": [
    "import shutil\n",
    "import glob\n",
    "\n",
    "# We will only keep the Hindi digits in training data.\n",
    "folders = glob.glob(os.path.join(DEVANAGARI_DATA_FOLDER, TRAIN_FOLDER_NAME, \"*\"))\n",
    "# print(folders)\n",
    "# print(folders[0].rsplit(\"/\")[-1])\n",
    "for f in folders:\n",
    "    if f.rsplit(\"/\")[-1] not in labels_to_keep:\n",
    "        try:\n",
    "            shutil.rmtree(f)\n",
    "        except OSError as e:\n",
    "            print(\"Error: %s : %s\" % (f, e.strerror))\n",
    "\n",
    "# Doing the same to test data.\n",
    "folders = glob.glob(os.path.join(DEVANAGARI_DATA_FOLDER, TEST_FOLDER_NAME, \"*\"))\n",
    "# print(folders)\n",
    "# print(folders[0].rsplit(\"/\")[-1])\n",
    "for f in folders:\n",
    "    if f.rsplit(\"/\")[-1] not in labels_to_keep:\n",
    "        try:\n",
    "            shutil.rmtree(f)\n",
    "        except OSError as e:\n",
    "            print(\"Error: %s : %s\" % (f, e.strerror))"
   ]
  },
  {
   "cell_type": "markdown",
   "source": [
    "### Dataset and Model Parameters"
   ],
   "metadata": {
    "collapsed": false,
    "pycharm": {
     "name": "#%% md\n"
    }
   }
  },
  {
   "cell_type": "code",
   "execution_count": 6,
   "metadata": {
    "pycharm": {
     "name": "#%%\n"
    }
   },
   "outputs": [],
   "source": [
    "RANDOM_SEED = 42\n",
    "\n",
    "# Data parameters\n",
    "IMG_HEIGHT = 32\n",
    "IMG_WIDTH = 32\n",
    "VALIDATION_SPLIT = 0.1\n",
    "\n",
    "# Model parameters\n",
    "BATCH_SIZE = 32\n",
    "KERNEL_SIZE = (3, 3)\n",
    "MAX_POOLING_SIZE = (2, 2)\n",
    "DROPOUT = 0.5\n",
    "\n",
    "num_classes = len(labels_to_keep)"
   ]
  },
  {
   "cell_type": "code",
   "execution_count": 7,
   "metadata": {
    "pycharm": {
     "name": "#%%\n"
    }
   },
   "outputs": [
    {
     "name": "stdout",
     "output_type": "stream",
     "text": [
      "Gathering training dataset...\n",
      "Found 17000 files belonging to 10 classes.\n",
      "Using 15300 files for training.\n",
      "Metal device set to: Apple M1\n",
      "Gathering validation dataset...\n"
     ]
    },
    {
     "name": "stderr",
     "output_type": "stream",
     "text": [
      "2022-03-06 23:13:34.336330: I tensorflow/core/common_runtime/pluggable_device/pluggable_device_factory.cc:305] Could not identify NUMA node of platform GPU ID 0, defaulting to 0. Your kernel may not have been built with NUMA support.\n",
      "2022-03-06 23:13:34.336429: I tensorflow/core/common_runtime/pluggable_device/pluggable_device_factory.cc:271] Created TensorFlow device (/job:localhost/replica:0/task:0/device:GPU:0 with 0 MB memory) -> physical PluggableDevice (device: 0, name: METAL, pci bus id: <undefined>)\n"
     ]
    },
    {
     "name": "stdout",
     "output_type": "stream",
     "text": [
      "Found 17000 files belonging to 10 classes.\n",
      "Using 1700 files for validation.\n",
      "Gathering test dataset...\n",
      "Found 3000 files belonging to 10 classes.\n"
     ]
    }
   ],
   "source": [
    "classes = labels_to_keep\n",
    "classes_to_output_class_names = {\n",
    "    \"digit_0\": \"0\", \"digit_1\": \"1\", \"digit_2\": \"2\", \"digit_3\": \"3\", \"digit_4\": \"4\", \"digit_5\": \"5\", \"digit_6\": \"6\",\n",
    "    \"digit_7\": \"7\", \"digit_8\": \"8\", \"digit_9\": \"9\"\n",
    "}\n",
    "# output_classes = [\n",
    "#     \"ka\", \"kha\", \"ga\", \"gha\", \"kna\", \"cha\", \"chha\", \"ja\", \"jha\", \"yna\", \"t`a\", \"t`ha\", \"d`a\", \"d`ha\", \"adna\", \"ta\",\n",
    "#     \"tha\", \"da\", \"dha\", \"na\", \"pa\", \"pha\", \"ba\", \"bha\", \"ma\", \"yaw\", \"ra\", \"la\", \"waw\", \"sha\", \"shat\", \"sa\", \"ha\",\n",
    "#     \"aksha\", \"tra\", \"gya\", \"0\", \"1\", \"2\", \"3\", \"4\", \"5\", \"6\", \"7\", \"8\", \"9\"\n",
    "# ]\n",
    "\n",
    "print(\"Gathering training dataset...\")\n",
    "train_dataset = image_dataset_from_directory(\n",
    "    os.path.join(DEVANAGARI_DATA_FOLDER, TRAIN_FOLDER_NAME),\n",
    "    labels=\"inferred\",\n",
    "    label_mode=\"int\",\n",
    "    class_names=classes,\n",
    "    color_mode=\"grayscale\",\n",
    "    batch_size=BATCH_SIZE,\n",
    "    image_size=(IMG_HEIGHT, IMG_WIDTH),\n",
    "    shuffle=True,\n",
    "    seed=RANDOM_SEED,\n",
    "    validation_split=VALIDATION_SPLIT,\n",
    "    subset=\"training\",\n",
    "    interpolation=\"bilinear\",\n",
    "    follow_links=False,\n",
    "    crop_to_aspect_ratio=False,\n",
    ")\n",
    "\n",
    "print(\"Gathering validation dataset...\")\n",
    "val_dataset = image_dataset_from_directory(\n",
    "    os.path.join(DEVANAGARI_DATA_FOLDER, TRAIN_FOLDER_NAME),\n",
    "    labels=\"inferred\",\n",
    "    label_mode=\"int\",\n",
    "    class_names=classes,\n",
    "    color_mode=\"grayscale\",\n",
    "    batch_size=BATCH_SIZE,\n",
    "    image_size=(IMG_HEIGHT, IMG_WIDTH),\n",
    "    shuffle=True,\n",
    "    seed=RANDOM_SEED,\n",
    "    validation_split=VALIDATION_SPLIT,\n",
    "    subset=\"validation\",\n",
    "    interpolation=\"bilinear\",\n",
    "    follow_links=False,\n",
    "    crop_to_aspect_ratio=False,\n",
    ")\n",
    "\n",
    "print(\"Gathering test dataset...\")\n",
    "test_dataset = image_dataset_from_directory(\n",
    "    os.path.join(DEVANAGARI_DATA_FOLDER, TEST_FOLDER_NAME),\n",
    "    labels=\"inferred\",\n",
    "    label_mode=\"int\",\n",
    "    class_names=classes,\n",
    "    color_mode=\"grayscale\",\n",
    "    batch_size=BATCH_SIZE,\n",
    "    image_size=(IMG_HEIGHT, IMG_WIDTH),\n",
    "    shuffle=True,\n",
    "    seed=RANDOM_SEED,\n",
    "    validation_split=None,  # None, so that we get all the data.\n",
    "    subset=None,\n",
    "    interpolation=\"bilinear\",\n",
    "    follow_links=False,\n",
    "    crop_to_aspect_ratio=False,\n",
    ")"
   ]
  },
  {
   "cell_type": "code",
   "execution_count": 8,
   "metadata": {
    "pycharm": {
     "name": "#%%\n"
    }
   },
   "outputs": [
    {
     "data": {
      "text/plain": "(TensorSpec(shape=(None, 32, 32, 1), dtype=tf.float32, name=None),\n TensorSpec(shape=(None,), dtype=tf.int32, name=None))"
     },
     "execution_count": 8,
     "metadata": {},
     "output_type": "execute_result"
    }
   ],
   "source": [
    "train_dataset.element_spec"
   ]
  },
  {
   "cell_type": "code",
   "execution_count": 9,
   "metadata": {
    "pycharm": {
     "name": "#%%\n"
    }
   },
   "outputs": [
    {
     "name": "stdout",
     "output_type": "stream",
     "text": [
      "{0: 'digit_0', 1: 'digit_1', 2: 'digit_2', 3: 'digit_3', 4: 'digit_4', 5: 'digit_5', 6: 'digit_6', 7: 'digit_7', 8: 'digit_8', 9: 'digit_9'}\n"
     ]
    }
   ],
   "source": [
    "class_names_to_labels = dict([(cls_name, lbl) for cls_name, lbl in zip(classes, list(range(len(classes))))])\n",
    "# print(class_names_to_labels)\n",
    "labels_to_class_names = dict([(v, k) for k, v in class_names_to_labels.items()])\n",
    "print(labels_to_class_names)"
   ]
  },
  {
   "cell_type": "markdown",
   "source": [
    "### Look at the data\n",
    "Let us take a look at the data after it has been stored as a tensorflow tf.Data.Dataset object."
   ],
   "metadata": {
    "collapsed": false,
    "pycharm": {
     "name": "#%% md\n"
    }
   }
  },
  {
   "cell_type": "code",
   "execution_count": 10,
   "metadata": {
    "pycharm": {
     "name": "#%%\n"
    }
   },
   "outputs": [
    {
     "name": "stdout",
     "output_type": "stream",
     "text": [
      "(32, 32, 1)\n"
     ]
    },
    {
     "name": "stderr",
     "output_type": "stream",
     "text": [
      "2022-03-06 23:13:34.901606: W tensorflow/core/platform/profile_utils/cpu_utils.cc:128] Failed to get CPU frequency: 0 Hz\n"
     ]
    },
    {
     "data": {
      "text/plain": "<Figure size 720x576 with 6 Axes>",
      "image/png": "[encoded data removed]"
     },
     "metadata": {
      "needs_background": "light"
     },
     "output_type": "display_data"
    }
   ],
   "source": [
    "# Take a look at the input data\n",
    "rows = 2\n",
    "columns = 3\n",
    "fig = plt.figure(figsize=(10, 8))\n",
    "j = 1\n",
    "for images, labels in train_dataset.take(1):\n",
    "    print(images[0].shape)\n",
    "    for i, l in zip(images[:6], labels[:6]):\n",
    "        fig.add_subplot(rows, columns, j)\n",
    "        plt.imshow(tf.squeeze(i), cmap='gray', vmin=0, vmax=255)\n",
    "        plt.title(labels_to_class_names[int(l)])\n",
    "        j += 1"
   ]
  },
  {
   "cell_type": "markdown",
   "source": [
    "### Data Augmentation and Normalisation\n",
    "#### Normalisation\n",
    "\n",
    "The values of pixels in the images range from `[0, 255]`.\n",
    "\n",
    "We should normalize the values to be in the `[0, 1]` range.\n",
    "\n",
    "The purpose of Normalisation is to make values measured on different scales to be all \"squished\" or \"expanded\" to a common scale/range such as `[0, 1]`.\n",
    "This ensures that each variable in the data is given an equal importance and no variable influences the model parameters more than any other purely because it's values are larger.\n",
    "\n",
    "We will perform the normalization using <a href=\"https://www.tensorflow.org/api_docs/python/tf/keras/layers/Rescaling\"><code>tf.keras.layers.Rescaling</code></a>.\n",
    "\n",
    "#### Augmentation\n",
    "Augmenting the data allows us to ensure that the model doesn't just learn something that's common for the entire class, but has no meaning when it comes to classification.\n",
    "\n",
    "For example, consider a dataset with blue cars and red cars.\n",
    "\n",
    "If all the blue cars are facing to the right and all red cars are facing left, then the model will end up being influenced by the orientation of the car in the image, thus producing incorrect predications when you ask the model to predict, say, the color of a blue car facing to the left.\n",
    "\n",
    "By performing augmentations such as Flipping, Rotations, Zooming, Shearing, Translations etc, we prevent the model from learning/memorizing features which are irrelevant."
   ],
   "metadata": {
    "collapsed": false,
    "pycharm": {
     "name": "#%% md\n"
    }
   }
  },
  {
   "cell_type": "code",
   "execution_count": 11,
   "outputs": [],
   "source": [
    "# Scale images to the [0, 1] range\n",
    "normalization_layer = layers.Rescaling(1. / 255)\n",
    "# Data Augmentations\n",
    "with tf.device('/CPU:0'):\n",
    "    data_augmentation_layers = keras.Sequential(\n",
    "        [\n",
    "            # layers.RandomFlip(\"horizontal\",\n",
    "            #                   input_shape=(IMG_HEIGHT,\n",
    "            #                                IMG_WIDTH,\n",
    "            #                                1)),\n",
    "            # layers.RandomRotation(0.1),\n",
    "            layers.RandomZoom(0.05),\n",
    "            layers.RandomTranslation(0.05, 0.05),\n",
    "        ]\n",
    "    )"
   ],
   "metadata": {
    "collapsed": false,
    "pycharm": {
     "name": "#%%\n"
    }
   }
  },
  {
   "cell_type": "markdown",
   "source": [
    "### Prefetch and Caching\n",
    "Learn about tf.data.Dataset Prefetching here: <https://www.tensorflow.org/api_docs/python/tf/data/Dataset#prefetch>\n",
    "Learn about tf.data.Dataset Caching here: <https://www.tensorflow.org/api_docs/python/tf/data/Dataset#cache>"
   ],
   "metadata": {
    "collapsed": false,
    "pycharm": {
     "name": "#%% md\n"
    }
   }
  },
  {
   "cell_type": "code",
   "execution_count": 12,
   "metadata": {
    "pycharm": {
     "name": "#%%\n"
    }
   },
   "outputs": [],
   "source": [
    "# prefetching and caching data to improve performance.\n",
    "AUTOTUNE = tf.data.AUTOTUNE\n",
    "\n",
    "train_ds = train_dataset.cache().shuffle(1000).prefetch(buffer_size=AUTOTUNE)\n",
    "val_ds = val_dataset.cache().prefetch(buffer_size=AUTOTUNE)"
   ]
  },
  {
   "cell_type": "markdown",
   "source": [
    "### Checking Data Augmentation"
   ],
   "metadata": {
    "collapsed": false,
    "pycharm": {
     "name": "#%% md\n"
    }
   }
  },
  {
   "cell_type": "code",
   "execution_count": 13,
   "metadata": {
    "pycharm": {
     "name": "#%%\n"
    }
   },
   "outputs": [
    {
     "data": {
      "text/plain": "<Figure size 432x288 with 1 Axes>",
      "image/png": "[encoded data removed]"
     },
     "metadata": {
      "needs_background": "light"
     },
     "output_type": "display_data"
    },
    {
     "data": {
      "text/plain": "<Figure size 720x864 with 12 Axes>",
      "image/png": "[encoded data removed]"
     },
     "metadata": {
      "needs_background": "light"
     },
     "output_type": "display_data"
    }
   ],
   "source": [
    "rows = 3\n",
    "columns = 4\n",
    "for images, _ in train_dataset.take(1):\n",
    "    plt.imshow(tf.squeeze(images[0]), cmap='gray', vmin=0, vmax=255)\n",
    "    fig = plt.figure(figsize=(10, 12))\n",
    "    for i in range(12):\n",
    "        with tf.device('/CPU:0'):\n",
    "            augmented_images = data_augmentation_layers(images)\n",
    "        fig.add_subplot(rows, columns, i + 1)\n",
    "        # plt.imshow(augmented_images[0].numpy().astype(\"uint8\"))\n",
    "        plt.imshow(tf.squeeze(augmented_images[0]), cmap='gray', vmin=0, vmax=255)\n",
    "        plt.axis(\"off\")"
   ]
  },
  {
   "cell_type": "markdown",
   "source": [
    "### Creating the Model\n",
    "\n",
    "First, we'll add the `data_augmentation_layers` and the `normalization_layer`, following which we'll create a convolutional neural network.\n",
    "\n",
    "Learn more about CNNs here: <https://machinelearningmastery.com/convolutional-layers-for-deep-learning-neural-networks/>"
   ],
   "metadata": {
    "collapsed": false,
    "pycharm": {
     "name": "#%% md\n"
    }
   }
  },
  {
   "cell_type": "code",
   "execution_count": 14,
   "metadata": {
    "pycharm": {
     "name": "#%%\n"
    }
   },
   "outputs": [],
   "source": [
    "model = keras.Sequential(\n",
    "    [\n",
    "        data_augmentation_layers,\n",
    "        normalization_layer,\n",
    "        layers.Conv2D(32, kernel_size=KERNEL_SIZE, activation=\"relu\"),\n",
    "        layers.MaxPooling2D(pool_size=MAX_POOLING_SIZE),\n",
    "        layers.Conv2D(64, kernel_size=KERNEL_SIZE, activation=\"relu\"),\n",
    "        layers.MaxPooling2D(pool_size=MAX_POOLING_SIZE),\n",
    "        layers.Dropout(DROPOUT),\n",
    "        layers.Flatten(),\n",
    "        layers.Dense(128, activation='relu'),\n",
    "        layers.Dense(num_classes, activation=\"softmax\"),\n",
    "    ]\n",
    ")"
   ]
  },
  {
   "cell_type": "markdown",
   "source": [
    "### Compiling and Building Model\n",
    "Note that we are using Categorical Crossentropy as the loss function, and this is well suited for categorical output data.\n",
    "Read more here: <https://en.wikipedia.org/wiki/Cross_entropy#Cross-entropy_loss_function_and_logistic_regression>"
   ],
   "metadata": {
    "collapsed": false,
    "pycharm": {
     "name": "#%% md\n"
    }
   }
  },
  {
   "cell_type": "code",
   "execution_count": 15,
   "metadata": {
    "pycharm": {
     "name": "#%%\n"
    }
   },
   "outputs": [
    {
     "name": "stdout",
     "output_type": "stream",
     "text": [
      "Model: \"sequential_1\"\n",
      "_________________________________________________________________\n",
      " Layer (type)                Output Shape              Param #   \n",
      "=================================================================\n",
      " sequential (Sequential)     (32, 32, 32, 1)           0         \n",
      "                                                                 \n",
      " rescaling (Rescaling)       (32, 32, 32, 1)           0         \n",
      "                                                                 \n",
      " conv2d (Conv2D)             (32, 30, 30, 32)          320       \n",
      "                                                                 \n",
      " max_pooling2d (MaxPooling2D  (32, 15, 15, 32)         0         \n",
      " )                                                               \n",
      "                                                                 \n",
      " conv2d_1 (Conv2D)           (32, 13, 13, 64)          18496     \n",
      "                                                                 \n",
      " max_pooling2d_1 (MaxPooling  (32, 6, 6, 64)           0         \n",
      " 2D)                                                             \n",
      "                                                                 \n",
      " dropout (Dropout)           (32, 6, 6, 64)            0         \n",
      "                                                                 \n",
      " flatten (Flatten)           (32, 2304)                0         \n",
      "                                                                 \n",
      " dense (Dense)               (32, 128)                 295040    \n",
      "                                                                 \n",
      " dense_1 (Dense)             (32, 10)                  1290      \n",
      "                                                                 \n",
      "=================================================================\n",
      "Total params: 315,146\n",
      "Trainable params: 315,146\n",
      "Non-trainable params: 0\n",
      "_________________________________________________________________\n"
     ]
    }
   ],
   "source": [
    "model.compile(optimizer='adam',\n",
    "              loss=tf.keras.losses.SparseCategoricalCrossentropy(from_logits=True),\n",
    "              metrics=['accuracy'])\n",
    "model.build(input_shape=(BATCH_SIZE, IMG_HEIGHT, IMG_WIDTH, 1))\n",
    "model.summary()"
   ]
  },
  {
   "cell_type": "code",
   "execution_count": 16,
   "metadata": {
    "pycharm": {
     "name": "#%%\n"
    }
   },
   "outputs": [
    {
     "name": "stdout",
     "output_type": "stream",
     "text": [
      "Epoch 1/15\n"
     ]
    },
    {
     "name": "stderr",
     "output_type": "stream",
     "text": [
      "/Users/anurags/miniforge3/envs/tensorflow_exp/lib/python3.9/site-packages/tensorflow/python/util/dispatch.py:1082: UserWarning: \"`sparse_categorical_crossentropy` received `from_logits=True`, but the `output` argument was produced by a sigmoid or softmax activation and thus does not represent logits. Was this intended?\"\n",
      "  return dispatch_target(*args, **kwargs)\n",
      "2022-03-06 23:13:36.016510: I tensorflow/core/grappler/optimizers/custom_graph_optimizer_registry.cc:113] Plugin optimizer for device_type GPU is enabled.\n"
     ]
    },
    {
     "name": "stdout",
     "output_type": "stream",
     "text": [
      "479/479 [==============================] - ETA: 0s - loss: 0.3515 - accuracy: 0.8866"
     ]
    },
    {
     "name": "stderr",
     "output_type": "stream",
     "text": [
      "2022-03-06 23:13:44.063930: I tensorflow/core/grappler/optimizers/custom_graph_optimizer_registry.cc:113] Plugin optimizer for device_type GPU is enabled.\n"
     ]
    },
    {
     "name": "stdout",
     "output_type": "stream",
     "text": [
      "479/479 [==============================] - 9s 17ms/step - loss: 0.3515 - accuracy: 0.8866 - val_loss: 0.0545 - val_accuracy: 0.9847\n",
      "Epoch 2/15\n",
      "479/479 [==============================] - 8s 17ms/step - loss: 0.0971 - accuracy: 0.9701 - val_loss: 0.0392 - val_accuracy: 0.9865\n",
      "Epoch 3/15\n",
      "479/479 [==============================] - 8s 17ms/step - loss: 0.0642 - accuracy: 0.9798 - val_loss: 0.0383 - val_accuracy: 0.9871\n",
      "Epoch 4/15\n",
      "479/479 [==============================] - 8s 17ms/step - loss: 0.0508 - accuracy: 0.9849 - val_loss: 0.0221 - val_accuracy: 0.9924\n",
      "Epoch 5/15\n",
      "479/479 [==============================] - 8s 18ms/step - loss: 0.0368 - accuracy: 0.9880 - val_loss: 0.0218 - val_accuracy: 0.9935\n",
      "Epoch 6/15\n",
      "479/479 [==============================] - 8s 18ms/step - loss: 0.0336 - accuracy: 0.9891 - val_loss: 0.0262 - val_accuracy: 0.9900\n",
      "Epoch 7/15\n",
      "479/479 [==============================] - 8s 17ms/step - loss: 0.0278 - accuracy: 0.9911 - val_loss: 0.0211 - val_accuracy: 0.9924\n",
      "Epoch 8/15\n",
      "479/479 [==============================] - 8s 17ms/step - loss: 0.0255 - accuracy: 0.9915 - val_loss: 0.0221 - val_accuracy: 0.9935\n",
      "Epoch 9/15\n",
      "479/479 [==============================] - 8s 17ms/step - loss: 0.0215 - accuracy: 0.9931 - val_loss: 0.0116 - val_accuracy: 0.9947\n",
      "Epoch 10/15\n",
      "479/479 [==============================] - 8s 17ms/step - loss: 0.0211 - accuracy: 0.9942 - val_loss: 0.0099 - val_accuracy: 0.9971\n",
      "Epoch 11/15\n",
      "479/479 [==============================] - 8s 17ms/step - loss: 0.0144 - accuracy: 0.9954 - val_loss: 0.0138 - val_accuracy: 0.9947\n",
      "Epoch 12/15\n",
      "479/479 [==============================] - 8s 17ms/step - loss: 0.0131 - accuracy: 0.9964 - val_loss: 0.0132 - val_accuracy: 0.9947\n",
      "Epoch 13/15\n",
      "479/479 [==============================] - 8s 17ms/step - loss: 0.0151 - accuracy: 0.9956 - val_loss: 0.0209 - val_accuracy: 0.9912\n",
      "Epoch 14/15\n",
      "479/479 [==============================] - 8s 17ms/step - loss: 0.0174 - accuracy: 0.9939 - val_loss: 0.0165 - val_accuracy: 0.9953\n",
      "Epoch 15/15\n",
      "479/479 [==============================] - 8s 17ms/step - loss: 0.0119 - accuracy: 0.9963 - val_loss: 0.0111 - val_accuracy: 0.9965\n"
     ]
    }
   ],
   "source": [
    "epochs = 15\n",
    "history = model.fit(\n",
    "    train_dataset,\n",
    "    validation_data=val_dataset,\n",
    "    epochs=epochs\n",
    ")"
   ]
  },
  {
   "cell_type": "markdown",
   "source": [
    "### Measuring Performance on Training and Test Data"
   ],
   "metadata": {
    "collapsed": false,
    "pycharm": {
     "name": "#%% md\n"
    }
   }
  },
  {
   "cell_type": "code",
   "execution_count": 17,
   "metadata": {
    "pycharm": {
     "name": "#%%\n"
    }
   },
   "outputs": [
    {
     "data": {
      "text/plain": "<Figure size 1080x360 with 2 Axes>",
      "image/png": "[encoded data removed]"
     },
     "metadata": {
      "needs_background": "light"
     },
     "output_type": "display_data"
    }
   ],
   "source": [
    "acc = history.history['accuracy']\n",
    "val_acc = history.history['val_accuracy']\n",
    "\n",
    "loss = history.history['loss']\n",
    "val_loss = history.history['val_loss']\n",
    "\n",
    "epochs_range = range(1, epochs + 1)\n",
    "\n",
    "fig = plt.figure(figsize=(15, 5))\n",
    "fig.add_subplot(1, 2, 1)\n",
    "sns.lineplot(x=epochs_range, y=acc, legend='brief', label='Training Accuracy')\n",
    "sns.lineplot(x=epochs_range, y=val_acc, legend='brief', label='Validation Accuracy')\n",
    "\n",
    "fig.add_subplot(1, 2, 2)\n",
    "sns.lineplot(x=epochs_range, y=loss, legend='brief', label='Training Loss')\n",
    "sns.lineplot(x=epochs_range, y=val_loss, legend='brief', label='Validation Loss')\n",
    "plt.show()"
   ]
  },
  {
   "cell_type": "markdown",
   "metadata": {},
   "source": [
    "### Metrics\n",
    "\n",
    "| Data       | Accuracy | Loss   |\n",
    "|:-----------|:--------:|-------:|\n",
    "| Training   | 99.52%   | 0.0139 |\n",
    "| Validation | 99.65%   | 0.0107 |\n",
    "\n",
    "<!-- Training Accuracy: 99.52%\n",
    "\n",
    "Validation Accuracy: 99.65%\n",
    "\n",
    "Training Loss: 0.0139\n",
    "\n",
    "Validation Loss: 0.0107 -->\n",
    "\n",
    "\n",
    "We can see that the model's accuracy and validation accuracy quickly went up during and after the first epoch and then it saturated around epoch #10. \n",
    "\n",
    "Training and validation loss also fell dramatically after the second epoch, and reached a saturation around epoch #11."
   ]
  },
  {
   "cell_type": "code",
   "execution_count": 18,
   "metadata": {
    "pycharm": {
     "name": "#%%\n"
    }
   },
   "outputs": [
    {
     "name": "stdout",
     "output_type": "stream",
     "text": [
      "Evaluate\n",
      "94/94 [==============================] - 1s 6ms/step - loss: 0.0179 - accuracy: 0.9960\n"
     ]
    }
   ],
   "source": [
    "print(\"Evaluate\")\n",
    "result = model.evaluate(test_dataset)\n",
    "result = dict(zip(model.metrics_names, result))"
   ]
  },
  {
   "cell_type": "markdown",
   "source": [
    "### Test Metrics\n",
    "\n",
    "| Data | Accuracy |   Loss |\n",
    "|:-----|:--------:|-------:|\n",
    "| Test |  99.56%  | 0.0189 |"
   ],
   "metadata": {
    "collapsed": false,
    "pycharm": {
     "name": "#%% md\n"
    }
   }
  },
  {
   "cell_type": "markdown",
   "source": [
    "#### Overall this is a great result, and it shows that the model has generalized properly and has low variance, while having high bias."
   ],
   "metadata": {
    "collapsed": false,
    "pycharm": {
     "name": "#%% md\n"
    }
   }
  },
  {
   "cell_type": "markdown",
   "source": [
    "### Saving the Model"
   ],
   "metadata": {
    "collapsed": false,
    "pycharm": {
     "name": "#%% md\n"
    }
   }
  },
  {
   "cell_type": "code",
   "execution_count": 19,
   "outputs": [],
   "source": [
    "MODEL_FOLDER = \"./models\"\n",
    "HINDI_MNIST_FOLDER = \"hindi_mnist\"\n",
    "MODEL_SAVE_FOLDER = os.path.join(MODEL_FOLDER, HINDI_MNIST_FOLDER)\n",
    "TF_MODEL_SAVE_FOLDER = os.path.join(MODEL_FOLDER, HINDI_MNIST_FOLDER, \"tf_serving\")\n",
    "MODEL_SAVE_PATH = os.path.join(MODEL_FOLDER, HINDI_MNIST_FOLDER, \"model.h5\")\n",
    "# pickle files\n",
    "CLASSES_PKL_FILE = \"classes.pickle\"\n",
    "CLASSES_PKL_PATH = os.path.join(MODEL_SAVE_FOLDER, CLASSES_PKL_FILE)"
   ],
   "metadata": {
    "collapsed": false,
    "pycharm": {
     "name": "#%%\n"
    }
   }
  },
  {
   "cell_type": "code",
   "execution_count": 20,
   "outputs": [],
   "source": [
    "model.save(\n",
    "    MODEL_SAVE_PATH, overwrite=True, include_optimizer=True, save_format=None,\n",
    "    signatures=None, options=None, save_traces=True\n",
    ")"
   ],
   "metadata": {
    "collapsed": false,
    "pycharm": {
     "name": "#%%\n"
    }
   }
  },
  {
   "cell_type": "code",
   "execution_count": 21,
   "outputs": [
    {
     "name": "stderr",
     "output_type": "stream",
     "text": [
      "2022-03-06 23:15:40.984722: W tensorflow/python/util/util.cc:368] Sets are not currently considered sequences, but this may change in the future, so consider avoiding using them.\n"
     ]
    },
    {
     "name": "stdout",
     "output_type": "stream",
     "text": [
      "INFO:tensorflow:Assets written to: ./models/hindi_mnist/tf_serving/assets\n"
     ]
    }
   ],
   "source": [
    "model.save(\n",
    "    TF_MODEL_SAVE_FOLDER, overwrite=True, include_optimizer=True, save_format='tf'\n",
    ")"
   ],
   "metadata": {
    "collapsed": false,
    "pycharm": {
     "name": "#%%\n"
    }
   }
  },
  {
   "cell_type": "code",
   "execution_count": 22,
   "outputs": [],
   "source": [
    "with open(CLASSES_PKL_PATH, 'wb') as f:\n",
    "    pkl.dump(classes, f)\n",
    "    pkl.dump(labels_to_class_names, f)"
   ],
   "metadata": {
    "collapsed": false,
    "pycharm": {
     "name": "#%%\n"
    }
   }
  },
  {
   "cell_type": "code",
   "execution_count": 23,
   "outputs": [],
   "source": [
    "# Delete model and labels_to_class_names to check if we correctly saved the model by loading it from disk and re-evaluating on test data.\n",
    "del model\n",
    "del classes\n",
    "del labels_to_class_names"
   ],
   "metadata": {
    "collapsed": false,
    "pycharm": {
     "name": "#%%\n"
    }
   }
  },
  {
   "cell_type": "code",
   "execution_count": 24,
   "outputs": [],
   "source": [
    "import pickle as pkl\n",
    "from keras.models import load_model"
   ],
   "metadata": {
    "collapsed": false,
    "pycharm": {
     "name": "#%%\n"
    }
   }
  },
  {
   "cell_type": "code",
   "execution_count": 25,
   "outputs": [],
   "source": [
    "model = load_model(MODEL_SAVE_PATH)\n",
    "\n",
    "with open(CLASSES_PKL_PATH, 'rb') as f:\n",
    "    classes = pkl.load(f)\n",
    "    labels_to_class_names = pkl.load(f)"
   ],
   "metadata": {
    "collapsed": false,
    "pycharm": {
     "name": "#%%\n"
    }
   }
  },
  {
   "cell_type": "code",
   "execution_count": 26,
   "outputs": [
    {
     "name": "stdout",
     "output_type": "stream",
     "text": [
      "Evaluate\n",
      "20/94 [=====>........................] - ETA: 0s - loss: 4.6448e-04 - accuracy: 1.0000"
     ]
    },
    {
     "name": "stderr",
     "output_type": "stream",
     "text": [
      "/Users/anurags/miniforge3/envs/tensorflow_exp/lib/python3.9/site-packages/tensorflow/python/util/dispatch.py:1082: UserWarning: \"`sparse_categorical_crossentropy` received `from_logits=True`, but the `output` argument was produced by a sigmoid or softmax activation and thus does not represent logits. Was this intended?\"\n",
      "  return dispatch_target(*args, **kwargs)\n",
      "2022-03-06 23:15:41.637264: I tensorflow/core/grappler/optimizers/custom_graph_optimizer_registry.cc:113] Plugin optimizer for device_type GPU is enabled.\n"
     ]
    },
    {
     "name": "stdout",
     "output_type": "stream",
     "text": [
      "94/94 [==============================] - 1s 6ms/step - loss: 0.0179 - accuracy: 0.9960\n",
      "{'loss': 0.017931433394551277, 'accuracy': 0.9959999918937683}\n"
     ]
    }
   ],
   "source": [
    "print(\"Evaluate\")\n",
    "result = model.evaluate(test_dataset)\n",
    "result = dict(zip(model.metrics_names, result))\n",
    "print(result)"
   ],
   "metadata": {
    "collapsed": false,
    "pycharm": {
     "name": "#%%\n"
    }
   }
  }
 ],
 "metadata": {
  "anaconda-cloud": {},
  "interpreter": {
   "hash": "bac202e34058ad38db675308b80e7de5e5ddbf57c78c80cc2ab122b4e0e7a6d0"
  },
  "kernelspec": {
   "display_name": "Python [conda env:tensorflow_exp] *",
   "language": "python",
   "name": "conda-env-tensorflow_exp-py"
  },
  "language_info": {
   "codemirror_mode": {
    "name": "ipython",
    "version": 3
   },
   "file_extension": ".py",
   "mimetype": "text/x-python",
   "name": "python",
   "nbconvert_exporter": "python",
   "pygments_lexer": "ipython3",
   "version": "3.9.7"
  }
 },
 "nbformat": 4,
 "nbformat_minor": 4
}
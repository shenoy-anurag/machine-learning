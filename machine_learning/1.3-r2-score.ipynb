{
 "cells": [
  {
   "cell_type": "markdown",
   "id": "117cdbe5",
   "metadata": {},
   "source": [
    "# R2 Score\n",
    "The why, what, and how of R2 score with examples and plots."
   ]
  },
  {
   "cell_type": "markdown",
   "id": "273781ec",
   "metadata": {},
   "source": [
    "## Dataset\n",
    "Let's start by creating a synthetic dataset, and exploring the $R^2$ math equation.\n",
    "\n",
    "We'll break it down into it's parts, write code for each of them, and then combine them to calculate the $R^2$ score."
   ]
  },
  {
   "cell_type": "code",
   "execution_count": 1,
   "id": "a4764709",
   "metadata": {},
   "outputs": [
    {
     "name": "stdout",
     "output_type": "stream",
     "text": [
      "Python version: 3.9.7 | packaged by conda-forge | (default, Sep 29 2021, 19:24:02) \n",
      "[Clang 11.1.0 ]\n",
      "NumPy version: 1.22.4\n",
      "matplotlib version: 3.5.1\n",
      "seaborn version: 0.11.2\n"
     ]
    }
   ],
   "source": [
    "import sys\n",
    "import numpy as np\n",
    "from sklearn import datasets, linear_model, metrics\n",
    "\n",
    "%matplotlib inline\n",
    "import matplotlib\n",
    "import matplotlib.pyplot as plt\n",
    "import seaborn as sns\n",
    "\n",
    "sns.set_theme(style=\"white\")\n",
    "\n",
    "print(\"Python version: {}\". format(sys.version))\n",
    "print(\"NumPy version: {}\". format(np.__version__))\n",
    "print(\"matplotlib version: {}\". format(matplotlib.__version__))\n",
    "print(\"seaborn version: {}\". format(sns.__version__))"
   ]
  },
  {
   "cell_type": "code",
   "execution_count": 2,
   "id": "2acb27b8",
   "metadata": {},
   "outputs": [],
   "source": [
    "X, y = datasets.make_regression(\n",
    "    n_samples=101, n_features=1, noise=15, random_state=4\n",
    ")"
   ]
  },
  {
   "cell_type": "code",
   "execution_count": 3,
   "id": "abef1fba",
   "metadata": {},
   "outputs": [
    {
     "data": {
      "text/plain": [
       "((101, 1), (101,))"
      ]
     },
     "execution_count": 3,
     "metadata": {},
     "output_type": "execute_result"
    }
   ],
   "source": [
    "X.shape, y.shape"
   ]
  },
  {
   "cell_type": "code",
   "execution_count": 4,
   "id": "d274b9d3",
   "metadata": {},
   "outputs": [
    {
     "data": {
      "text/plain": [
       "-2.379775273987008"
      ]
     },
     "execution_count": 4,
     "metadata": {},
     "output_type": "execute_result"
    }
   ],
   "source": [
    "min(X[:,0])"
   ]
  },
  {
   "cell_type": "code",
   "execution_count": 5,
   "id": "65084755",
   "metadata": {},
   "outputs": [
    {
     "data": {
      "text/plain": [
       "Text(0, 0.5, 'Y')"
      ]
     },
     "execution_count": 5,
     "metadata": {},
     "output_type": "execute_result"
    },
    {
     "data": {
      "image/png": "[encoded data removed]",
      "text/plain": [
       "<Figure size 432x288 with 1 Axes>"
      ]
     },
     "metadata": {},
     "output_type": "display_data"
    }
   ],
   "source": [
    "sns.scatterplot(x=X[:,0], y=y)\n",
    "plt.title(\"Linear Regression Dataset\")\n",
    "plt.xlabel(\"X\")\n",
    "plt.ylabel(\"Y\")"
   ]
  },
  {
   "cell_type": "markdown",
   "id": "80a23673",
   "metadata": {},
   "source": [
    "## $R^2$ Equation\n",
    "\n",
    "$$ R^2 = \\frac{\\text{ Var(mean) } - \\text{ Var(line / fit) }}{\\text{ Var(mean) }} $$\n",
    "\n",
    "<br />\n",
    "\n",
    "This equation has two parts:\n",
    "1. Variance around the mean.\n",
    "\n",
    "2. Variance around the line / fit.\n"
   ]
  },
  {
   "cell_type": "markdown",
   "id": "825c0db1",
   "metadata": {},
   "source": [
    "### Variance around the Mean\n",
    "Variance (denoted as $\\sigma^2$) is defined as: \n",
    "\n",
    "### For a population\n",
    "$$ \n",
    "\\sigma^2 = \\frac{1}{N}\\sum{(y_i - \\bar{y})^2}\n",
    "$$\n",
    "\n",
    "where $\\bar{y}$ is the population mean, $y_i$ is the $i^{th}$ element from the population, and $ N $ is the population size.\n",
    "\n",
    "### For a sample\n",
    "$$ \n",
    "\\sigma^2 = \\frac{1}{N - 1}\\sum{(y_i - \\bar{y})^2}\n",
    "$$\n",
    "\n",
    "where $\\bar{y}$ is the population mean, $y_i$ is the $i^{th}$ element from the population, and $ N $ is the population size.\n"
   ]
  },
  {
   "cell_type": "code",
   "execution_count": 6,
   "id": "d6e780d8",
   "metadata": {},
   "outputs": [
    {
     "data": {
      "text/plain": [
       "1.1768932931378253"
      ]
     },
     "execution_count": 6,
     "metadata": {},
     "output_type": "execute_result"
    }
   ],
   "source": [
    "target_mean = np.mean(y)\n",
    "target_mean"
   ]
  },
  {
   "cell_type": "code",
   "execution_count": 7,
   "id": "c1bac78b",
   "metadata": {},
   "outputs": [
    {
     "name": "stdout",
     "output_type": "stream",
     "text": [
      "Variance around the mean: 1860.8668716260763\n"
     ]
    }
   ],
   "source": [
    "def variance_around_mean(y_truth):\n",
    "    target_mean = np.mean(y_truth)\n",
    "    n_samples = y_truth.shape[0]\n",
    "    return np.sum(np.power(y_truth - target_mean, 2)) / n_samples\n",
    "\n",
    "var_mean = variance_around_mean(y)\n",
    "\n",
    "print(\"Variance around the mean: {}\".format(var_mean))"
   ]
  },
  {
   "cell_type": "code",
   "execution_count": 8,
   "id": "b0b92332",
   "metadata": {},
   "outputs": [
    {
     "name": "stdout",
     "output_type": "stream",
     "text": [
      "Weights: [42.51715605] Biases: -0.6187640292899277\n"
     ]
    }
   ],
   "source": [
    "lin_reg = linear_model.LinearRegression()\n",
    "lin_reg.fit(X, y)\n",
    "print(\"Weights:\", lin_reg.coef_, \"Biases:\", lin_reg.intercept_)"
   ]
  },
  {
   "cell_type": "code",
   "execution_count": 9,
   "id": "64835c17",
   "metadata": {},
   "outputs": [],
   "source": [
    "y_pred = lin_reg.predict(X)"
   ]
  },
  {
   "cell_type": "markdown",
   "id": "ce06a809",
   "metadata": {},
   "source": [
    "### Variance around the Line\n",
    "Variance (denoted as $\\sigma^2$) is defined as: \n",
    "\n",
    "$$ \n",
    "\\sigma^2 = \\frac{1}{N}\\sum{(y_i - \\hat{y})^2}\n",
    "$$\n",
    "\n",
    "where $\\hat{y}$ is the predicted y, $y_i$ is the $i^{th}$ element from the population i.e. the ground truth aka target aka label, and $ N $ is the population size."
   ]
  },
  {
   "cell_type": "code",
   "execution_count": 10,
   "id": "d09e462e",
   "metadata": {},
   "outputs": [
    {
     "name": "stdout",
     "output_type": "stream",
     "text": [
      "Variance around the line: 157.94516971621366\n"
     ]
    }
   ],
   "source": [
    "def variance_around_the_line(y_truth, y_pred):\n",
    "    n_samples = y_truth.shape[0]\n",
    "    return np.sum(np.power(y_truth - y_pred, 2)) / n_samples\n",
    "\n",
    "var_line = variance_around_the_line(y_truth=y, y_pred=y_pred)\n",
    "\n",
    "print(\"Variance around the line: {}\".format(var_line))"
   ]
  },
  {
   "cell_type": "code",
   "execution_count": 11,
   "id": "f689e584",
   "metadata": {},
   "outputs": [
    {
     "name": "stdout",
     "output_type": "stream",
     "text": [
      "R2 Score: \n",
      "\tUsing my implementation: \t0.9151227999570991\n",
      "\tUsing Sklearn.metrics: \t\t0.9151227999570991\n"
     ]
    }
   ],
   "source": [
    "def r2_score(y_truth, y_pred):\n",
    "    var_mean = variance_around_mean(y_truth=y_truth)\n",
    "    var_line = variance_around_the_line(y_truth=y_truth, y_pred=y_pred)\n",
    "    return (var_mean - var_line) / var_mean\n",
    "\n",
    "\n",
    "score = r2_score(y_truth=y, y_pred=y_pred)\n",
    "sklearn_r2 = metrics.r2_score(y_true=y, y_pred=y_pred)\n",
    "\n",
    "print(\"R2 Score: \")\n",
    "print(\"\\tUsing my implementation: \\t{}\".format(score))\n",
    "print(\"\\tUsing Sklearn.metrics: \\t\\t{}\".format(sklearn_r2))"
   ]
  },
  {
   "cell_type": "markdown",
   "id": "4267a4ad",
   "metadata": {},
   "source": [
    "## Conclusion\n",
    "We covered the what (what is R2 and it's formula), and the how (how to use sklearn to calculate it or, how to calculate r2 score from scratch). Now, let's cover the why?\n",
    "\n",
    "### Why\n",
    "#### Which model is better? or should we even use ML?\n",
    "There's a need to determine if we should use a Machine Learning model in the first place.\n",
    "\n",
    "Does the model perform better than either regular statistical means, or a random value?\n",
    "\n",
    "Comparing the model to a truly random value does not make sense. You can't draw any conclusions either way.\n",
    "\n",
    "However, it is important to compare the performance of the model with a baseline.\n",
    "\n",
    "We can compare the model's performance with any of the measures of central tendency mean, median or mode. Mean minimizes the MSE, which is what we see in $ \\frac{1}{N}\\sum{(y_i - \\bar{y})^2} $. Median minimizes the MAE. [1]\n",
    "\n",
    "[1]: https://stats.stackexchange.com/a/177058\n",
    "\n",
    "Since variance is the difference of each y value with a measure squared, the \"best\" baseline model is a model which uses the mean to predict values.\n",
    "\n",
    "#### Comparing model with Variance around mean\n",
    "We could compare \n",
    "$$ Score = {\\text{ Var(mean) } - \\text{ Var(line / fit) }} $$\n",
    "\n",
    "This would expand to:\n",
    "\n",
    "$$ \n",
    "Score = \\frac{1}{N}\\sum{(y_i - \\bar{y})^2} - \\frac{1}{N}\\sum{(y_i - \\hat{y})^2}\n",
    "$$\n",
    "\n",
    "However, this score would have meaning only for each value of N separately.\n",
    "\n",
    "The $ \\text{ Var(mean) } - \\text{ Var(line / fit) } $ is directly affected by the number of data points N. If we added more samples, both variances will increase, and consequently, their difference will also increase.\n",
    "\n",
    "Comparing $ \\text{ Var(mean) } - \\text{ Var(line / fit) } $ of models trained on datasets of different sizes would not be possible.\n",
    "\n",
    "#### Standardizing the difference in Variances\n",
    "When we divide this by Variance around the mean, it gets rid of the N value.\n",
    "\n",
    "$$ \n",
    "R^2 = \\frac{\\frac{1}{N}\\sum{(y_i - \\bar{y})^2} - \\frac{1}{N}\\sum{(y_i - \\hat{y})^2}}{\\frac{1}{N}\\sum{(y_i - \\bar{y})^2}}\n",
    "$$\n",
    "\n",
    "$$ \n",
    "\\Rightarrow  R^2 = \\frac{SST - SSE}{SST}\n",
    "$$\n",
    "\n",
    "$$ \n",
    "\\Rightarrow  R^2 = 1 - \\frac{SSE}{SST}\n",
    "$$\n",
    "\n",
    "$ \\frac{1}{N} $ is cancelled out, and the final value is not dependent on the population size.\n",
    "\n",
    "It also standardizes the value of the score from 0 to 1. This provides R2 score with interpretability which just Var(mean) - Var(line) doesn't have.\n",
    "\n",
    "\n",
    "### Interpretation of R2\n",
    "R-squared aims to quantify how much of the total variation in the dependent variable (y) is explained by the regression model. In essence, it compares the variance of the errors (SSE) to the total variance (SST).\n",
    "\n",
    "Let's say $ R^2 = 0.915 $.\n",
    "\n",
    "This is inferred as \"there is 91.5% less variation around the line, than around the mean.\" or, that the X - y relationship explains 91.5% of the variation.\n",
    "\n",
    "## References\n",
    "1. Mean minimizes squared error (or L2 norm) https://stats.stackexchange.com/a/177058\n",
    "2. Chioka - Differences between the L1-norm and the L2-norm (Least Absolute Deviations and Least Squares) https://www.chioka.in/differences-between-the-l1-norm-and-the-l2-norm-least-absolute-deviations-and-least-squares/\n",
    "3. StatQuest - R2 Clearly Explained https://www.youtube.com/watch?v=bMccdk8EdGo"
   ]
  }
 ],
 "metadata": {
  "kernelspec": {
   "display_name": "tensorflow_exp",
   "language": "python",
   "name": "python3"
  },
  "language_info": {
   "codemirror_mode": {
    "name": "ipython",
    "version": 3
   },
   "file_extension": ".py",
   "mimetype": "text/x-python",
   "name": "python",
   "nbconvert_exporter": "python",
   "pygments_lexer": "ipython3",
   "version": "3.9.7"
  }
 },
 "nbformat": 4,
 "nbformat_minor": 5
}

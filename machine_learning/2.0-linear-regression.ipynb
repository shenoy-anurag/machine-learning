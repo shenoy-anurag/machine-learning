{
 "cells": [
  {
   "cell_type": "markdown",
   "id": "a41f91ee",
   "metadata": {},
   "source": [
    "# Linear Regression"
   ]
  },
  {
   "cell_type": "code",
   "execution_count": 1,
   "id": "f7bae598",
   "metadata": {},
   "outputs": [
    {
     "name": "stdout",
     "output_type": "stream",
     "text": [
      "Python version: 3.12.9 | packaged by conda-forge | (main, Mar  4 2025, 22:44:42) [Clang 18.1.8 ]\n",
      "NumPy version: 2.1.3\n",
      "pandas version: 2.2.3\n",
      "matplotlib version: 3.10.1\n",
      "seaborn version: 0.13.2\n"
     ]
    }
   ],
   "source": [
    "import sys\n",
    "import math\n",
    "import numpy as np\n",
    "import pandas as pd\n",
    "from sklearn import datasets, metrics\n",
    "\n",
    "%matplotlib inline\n",
    "import matplotlib\n",
    "import matplotlib.pyplot as plt\n",
    "import seaborn as sns\n",
    "\n",
    "# plt.style.use('seaborn-whitegrid')\n",
    "sns.set_theme(style=\"white\")\n",
    "\n",
    "print(\"Python version: {}\". format(sys.version))\n",
    "print(\"NumPy version: {}\". format(np.__version__))\n",
    "print(\"pandas version: {}\". format(pd.__version__))\n",
    "print(\"matplotlib version: {}\". format(matplotlib.__version__))\n",
    "print(\"seaborn version: {}\". format(sns.__version__))"
   ]
  },
  {
   "cell_type": "code",
   "execution_count": 2,
   "id": "6594462e",
   "metadata": {},
   "outputs": [],
   "source": [
    "X, y = datasets.make_regression(\n",
    "    n_samples=101, n_features=1, noise=15, random_state=4\n",
    ")"
   ]
  },
  {
   "cell_type": "code",
   "execution_count": 3,
   "id": "675aba61",
   "metadata": {},
   "outputs": [
    {
     "data": {
      "text/plain": [
       "((101, 1), (101,))"
      ]
     },
     "execution_count": 3,
     "metadata": {},
     "output_type": "execute_result"
    }
   ],
   "source": [
    "X.shape, y.shape"
   ]
  },
  {
   "cell_type": "code",
   "execution_count": 4,
   "id": "b18e01cc",
   "metadata": {},
   "outputs": [],
   "source": [
    "# df = pd.DataFrame({'X': X[:,0], 'Y': y})\n",
    "# df.head()"
   ]
  },
  {
   "cell_type": "code",
   "execution_count": 5,
   "id": "eff1fc25",
   "metadata": {},
   "outputs": [
    {
     "data": {
      "text/plain": [
       "Text(0, 0.5, 'Y')"
      ]
     },
     "execution_count": 5,
     "metadata": {},
     "output_type": "execute_result"
    },
    {
     "data": {
      "image/png": "[encoded data removed]",
      "text/plain": [
       "<Figure size 640x480 with 1 Axes>"
      ]
     },
     "metadata": {},
     "output_type": "display_data"
    }
   ],
   "source": [
    "sns.scatterplot(x=X[:,0], y=y)\n",
    "plt.title(\"Linear Regression Dataset\")\n",
    "plt.xlabel(\"X\")\n",
    "plt.ylabel(\"Y\")"
   ]
  },
  {
   "cell_type": "code",
   "execution_count": 6,
   "id": "0d53e644",
   "metadata": {},
   "outputs": [],
   "source": [
    "def mean_squared_error(X, y, w, b):\n",
    "    n_samples, _ = X.shape\n",
    "    return np.sum(np.power(y - (np.dot(X, w) + b), 2)) / n_samples\n"
   ]
  },
  {
   "cell_type": "code",
   "execution_count": 7,
   "id": "36032240",
   "metadata": {},
   "outputs": [
    {
     "name": "stdout",
     "output_type": "stream",
     "text": [
      "(101,)\n",
      "[0.01423546] 0\n",
      "1861.1103922201025\n",
      "1861.1103922201025\n"
     ]
    }
   ],
   "source": [
    "w = np.random.rand(X.shape[1])\n",
    "b = 0\n",
    "y_pred = np.dot(X, w) + b\n",
    "print(y_pred.shape)\n",
    "print(w, b)\n",
    "print(metrics.mean_squared_error(y, y_pred))\n",
    "print(mean_squared_error(X, y, w, b))"
   ]
  },
  {
   "cell_type": "markdown",
   "id": "bf1fb430",
   "metadata": {},
   "source": [
    "## Loss Function for Linear Regression\n",
    "$$ \\text{MSE} = \\frac{ \\sum_{i=1}^{N} (y_i - \\hat{y}_i)^2 }{N} $$\n",
    "\n",
    "Because $ \\hat{y}_i $ or `y_pred` is determined by the line `m * x + c` (where we are using weights $ w $ to determine the slope, and bias $ b $ for the intercept), our equation becomes\n",
    "\n",
    "$$ \\text{MSE} = \\frac{1}{N}\\sum_{i=1}^{N} (y_i - (wx_i + b))^2 $$\n",
    "\n",
    "For Gradient Descent, we need to differentiate this loss function w.r.t $ w $ and $ b $.\n",
    "$$ \\frac{d}{dw} = \\frac{1}{N}\\sum_{i=1}^{N} -2 x_i(y_i - (wx_i + b)) $$\n",
    "\n",
    "$$ \\Rightarrow \\frac{d}{dw} = \\frac{1}{N}\\sum_{i=1}^{N} 2 x_i((wx_i + b) - y_i) $$\n",
    "\n",
    "$$ \\frac{d}{db} = \\frac{1}{N}\\sum_{i=1}^{N} -2 \\cdot 1 \\cdot (y_i - (wx_i + b)) $$\n",
    "\n",
    "$$ \\Rightarrow \\frac{d}{db} = \\frac{1}{N}\\sum_{i=1}^{N} 2 ((wx_i + b) - y_i) $$\n",
    "\n",
    "All we need to do is to move in the opposite direction of d/dw and d/db by the provided learning rate."
   ]
  },
  {
   "cell_type": "code",
   "execution_count": 8,
   "id": "20cdcf2b",
   "metadata": {},
   "outputs": [],
   "source": [
    "class LinearRegression:\n",
    "    def __init__(self, lr: int = 0.01, n_iters: int = 1000) -> None:\n",
    "        self.lr = lr\n",
    "        self.n_iters = n_iters\n",
    "        self.weights = None\n",
    "        self.bias = None\n",
    "\n",
    "    def fit(self, X, y):\n",
    "        num_samples, n_features = X.shape\n",
    "        self.weights = np.random.rand(n_features)\n",
    "        self.bias = 0  # starting from the origin\n",
    "\n",
    "        for _ in range(self.n_iters):\n",
    "            # y = m * x + c\n",
    "            y_pred = np.dot(X, self.weights) + self.bias\n",
    "            dw = (1 / num_samples) * np.dot(X.T, y_pred - y)\n",
    "            db = (1 / num_samples) * np.sum(y_pred - y)\n",
    "\n",
    "            # Move in the opposite direction of the gradients, hence -ve of learning_rate * dw and db.\n",
    "            self.weights = self.weights - self.lr * dw\n",
    "            self.bias = self.bias - self.lr * db\n",
    "\n",
    "    def predict(self, X):\n",
    "        return np.dot(X, self.weights) + self.bias\n",
    "\n",
    "    def params(self):\n",
    "        return {'weights': self.weights, 'bias': self.bias}"
   ]
  },
  {
   "cell_type": "code",
   "execution_count": 9,
   "id": "10450198",
   "metadata": {},
   "outputs": [
    {
     "data": {
      "text/plain": [
       "array([  41.89601495,  -85.64498928,   -0.61765313,   84.40968302,\n",
       "         -0.61765313,   84.40968302, -128.15865736,   84.40968302,\n",
       "         84.40968302,   -0.61765313])"
      ]
     },
     "execution_count": 9,
     "metadata": {},
     "output_type": "execute_result"
    }
   ],
   "source": [
    "lin_reg = LinearRegression()\n",
    "\n",
    "lin_reg.fit(X, y)\n",
    "\n",
    "X_test = np.random.randint(low=-3, high=3, size=(10, 1))\n",
    "y_pred = lin_reg.predict(X_test)\n",
    "y_pred"
   ]
  },
  {
   "cell_type": "code",
   "execution_count": 10,
   "id": "a77e5a22",
   "metadata": {},
   "outputs": [
    {
     "name": "stdout",
     "output_type": "stream",
     "text": [
      "{'lr': 0.01, 'n_iters': 1000, 'weights': array([42.51366808]), 'bias': np.float64(-0.6176531273934909)}\n"
     ]
    }
   ],
   "source": [
    "print(lin_reg.__dict__)"
   ]
  },
  {
   "cell_type": "code",
   "execution_count": 11,
   "id": "3919e633",
   "metadata": {},
   "outputs": [
    {
     "name": "stdout",
     "output_type": "stream",
     "text": [
      "(101,)\n",
      "157.94518210548802\n"
     ]
    }
   ],
   "source": [
    "y_pred = lin_reg.predict(X)\n",
    "print(y_pred.shape)\n",
    "print(metrics.mean_squared_error(y, y_pred))"
   ]
  },
  {
   "cell_type": "code",
   "execution_count": 12,
   "id": "0e2a6d40",
   "metadata": {},
   "outputs": [
    {
     "data": {
      "text/plain": [
       "Text(0, 0.5, 'Y')"
      ]
     },
     "execution_count": 12,
     "metadata": {},
     "output_type": "execute_result"
    },
    {
     "data": {
      "image/png": "[encoded data removed]",
      "text/plain": [
       "<Figure size 640x480 with 1 Axes>"
      ]
     },
     "metadata": {},
     "output_type": "display_data"
    }
   ],
   "source": [
    "sns.scatterplot(x=X[:,0], y=y)\n",
    "plt.axline((0, lin_reg.bias), slope=lin_reg.weights[0], color='C0', label='Regression line')\n",
    "plt.title(\"Linear Regression Dataset\")\n",
    "plt.legend()\n",
    "plt.xlabel(\"X\")\n",
    "plt.ylabel(\"Y\")"
   ]
  },
  {
   "cell_type": "markdown",
   "id": "18d1e60f",
   "metadata": {},
   "source": [
    "## Conclusion\n",
    "We fit a line to the data.\n",
    "\n",
    "If we had more features, as in the case of Multiple Regression, we would have fit a plane (in the case of 2 features) or a higher-dimensional object for higher-dimensional training data.\n",
    "\n",
    "## References\n",
    "1. Patrick Loeber's MLFromscratch https://github.com/patrickloeber/MLfromscratch\n",
    "2. AssemblyAI's video on Implementing Linear Regression from scratch https://www.youtube.com/watch?v=ltXSoduiVwY\n",
    "3. KD Nugget's Blog post on Linear Regression https://www.kdnuggets.com/linear-regression-from-scratch-with-numpy"
   ]
  }
 ],
 "metadata": {
  "kernelspec": {
   "display_name": "genMusicPy312",
   "language": "python",
   "name": "python3"
  },
  "language_info": {
   "codemirror_mode": {
    "name": "ipython",
    "version": 3
   },
   "file_extension": ".py",
   "mimetype": "text/x-python",
   "name": "python",
   "nbconvert_exporter": "python",
   "pygments_lexer": "ipython3",
   "version": "3.12.9"
  }
 },
 "nbformat": 4,
 "nbformat_minor": 5
}

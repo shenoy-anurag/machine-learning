{
 "cells": [
  {
   "cell_type": "markdown",
   "metadata": {},
   "source": [
    "# Overview\n",
    "My revision of vectors, matrices and least squares in the form of Jupyter notebooks.\n",
    "\n",
    "Learnings from 3Blue1Brown's excellent series on Linear Algebra, and from the book \"Introduction to Applied Linear Algebra\" by Stephen Boyd and Lieven Vandenberghe.\n",
    "\n",
    "3Blue1Brown's Linear Algebra Series: <https://www.youtube.com/playlist?list=PLZHQObOWTQDPD3MizzM2xVFitgF8hE_ab>\n",
    "\n",
    "Intro to Linear Algebra book: <https://web.stanford.edu/~boyd/vmls/>"
   ]
  },
  {
   "cell_type": "markdown",
   "metadata": {},
   "source": [
    "# Vectors\n",
    "Vectors are defined differently based on who's looking at it.\n",
    "\n",
    "Physics student's perspective is that vectors are arrows pointing in space. They have a direction, and a magnitude. The vector can be moved around, but it's still the same vector, as long as the direction and magnitude remain the same.\n",
    "\n",
    "A Computer science student's perspective is that vectors are an ordered list of numbers. For example, if we want to analyze house prices, and the relationships between different factors, we might model it using square footage, number of bedrooms, whether it is close to the sea/ocean or not and its price. So, the vector for a 1500sq ft, 3 bedroom house close to the ocean, worth $400k would be [1500, 3, 1, 400000].\n",
    "\n",
    "A Mathmetician looks at vectors as two set of numbers which can be added and can be scaled by a factor. $\\vec{v} + \\vec{w}$, and $2 * \\vec{v}$.\n",
    "\n",
    "The ability for us to switch between the list interpretation of vectors and the geometric representations, allows us to visualize a whole group of numbers and gain a holistic understanding of our data or phenomena."
   ]
  },
  {
   "cell_type": "code",
   "execution_count": 1,
   "metadata": {},
   "outputs": [],
   "source": [
    "%matplotlib inline\n",
    "import matplotlib.pyplot as plt\n",
    "\n",
    "plt.style.use('seaborn-whitegrid')\n",
    "import numpy as np"
   ]
  },
  {
   "cell_type": "code",
   "execution_count": 19,
   "metadata": {},
   "outputs": [
    {
     "data": {
      "image/png": "[encoded data removed]",
      "text/plain": [
       "<Figure size 720x504 with 1 Axes>"
      ]
     },
     "metadata": {},
     "output_type": "display_data"
    }
   ],
   "source": [
    "# Sample 2-D vector\n",
    "V = [\n",
    "    [\n",
    "        3,  # x - coordinate\n",
    "        1   # y - coordinate\n",
    "    ]\n",
    "]\n",
    "\n",
    "origin = np.array([[0, 0, 0], [0, 0, 0]])  # origin point\n",
    "\n",
    "plt.figure(figsize=(10, 7))\n",
    "plt.quiver(*origin, V[0][0], V[0][1], color=['b'], scale=21)\n",
    "plt.show()\n"
   ]
  },
  {
   "cell_type": "markdown",
   "metadata": {},
   "source": [
    "## Basis Vectors\n",
    "If $\\vec{v}$ and $\\vec{w}$ are unit vectors which are perpendicular to each other, they are a pair of basis vectors for 2D space. This is because, any pair of scalars, say we choose [2, 3], can scale these two basis vectors to form the vector [2, 3]. So, in essence, these two unit vectors are the basis for all vectors in the 2D space.\n",
    "\n",
    "The basis vectors we choose by convention are $\\hat{i}$ and $\\hat{j}$, for 2D space, which are unit vectors parallel to the `x` and `y` axes respectively.\n",
    "\n",
    "## Span\n",
    "The span of $\\vec{v}$ and $\\vec{w}$ is the set of all their linear  combinations.\n",
    "\n",
    "## For Intuition\n",
    "### Individual vectors\n",
    "Think of **individual** vectors as *arrows*.\n",
    "### Collection of vectors\n",
    "Think of a **collection** of vectors as *points* (the points which represent the vector using a set of N numbers in N-dimensional space, for example, in 2D space, the point [3,1] is a point that represents the arrow from origin 3 units right on the x axis and 1 unit up parallel to the y axis)."
   ]
  },
  {
   "cell_type": "code",
   "execution_count": 45,
   "metadata": {},
   "outputs": [
    {
     "name": "stdout",
     "output_type": "stream",
     "text": [
      "(2, 2)\n"
     ]
    },
    {
     "data": {
      "image/png": "[encoded data removed]",
      "text/plain": [
       "<Figure size 504x504 with 1 Axes>"
      ]
     },
     "metadata": {},
     "output_type": "display_data"
    }
   ],
   "source": [
    "V = np.array([\n",
    "    [1, 0],\n",
    "    [0, 1]\n",
    "])\n",
    "print(V.shape)\n",
    "\n",
    "origin = np.array([[0, 0], [0, 0]])  # origin point\n",
    "\n",
    "plt.figure(figsize=(7, 7))\n",
    "plt.quiver(*origin, V[:, 0], V[:, 1], color=['r', 'b'], angles='xy', scale_units='xy', scale=1)\n",
    "plt.xticks(list(range(-2,3)))\n",
    "plt.yticks(list(range(-2,3)))\n",
    "# plt.xlim((-2,3))\n",
    "# plt.ylim((-2,3))\n",
    "plt.title(\"i and j unit vectors\")\n",
    "plt.show()"
   ]
  },
  {
   "cell_type": "markdown",
   "metadata": {},
   "source": [
    "## Linear Transformations\n",
    "We have two words here: Linear and Transformation.\n",
    "\n",
    "The word Transformation here, is another way of saying *function*. That is, a transformation is a function which takes inputs and spits out an output.\n",
    "\n",
    "The key for intuition is to understand why it called a transformation, and not a function. The reason is because we should think of transformations in terms of movement. There are so many different types of transformations. Some can squish and morph lines into curves and spirals, others can stretch them or rotate them.\n",
    "\n",
    "The word Linear tells us what kind of transformations we are restricted to. \n",
    "\n",
    "For a transformation to be Linear, we only need to satisfy two conditions.\n",
    "### Conditions for Linearity\n",
    "1. The origin must remain the same (should not be moved).\n",
    "2. All lines and vectors should not become curves. \n",
    "\n",
    "#### Origin condition\n",
    "Origin must remain at the same location, and thus the \"zero\" value doesn't change after the transformation.\n",
    "\n",
    "#### Lines must not become curves condition\n",
    "Curves can only happen when the function has a degree/power other than 1. \n",
    "\n",
    "For example, $fn(x) = x^2$, i.e. $y = x^2$ makes the point at [1,1] stay at [1,1], but the point at [2,1] is now transformed to [2,4], and the point at [3,1] is [3,9]. \n",
    "\n",
    "These values indicate that the slope of the line is varying with the changing values of x. Slope at [1,1] is 1, slope at [2,4] is 2, and so on. The slope is becoming steeper and we increase x.\n",
    "\n",
    "Recall that from differential calculus, the rate of change of `y` w.r.t `x` is **constant** for a line, along the entire line. Whereas, for a curve, we get values at every point on the curve.\n",
    "\n",
    "Equation for a line is $ y = mx + c $. If take the differential, $ \\frac{d}{dx}(mx + c) = \\frac{d}{dx}(mx) + \\frac{d}{dx}(c) $.\n",
    "\n",
    "$ \\frac{d}{dx}(mx + c) = m * 1*x^{1-1} + 0 $\n",
    "\n",
    "$ \\Rightarrow \\frac{d}{dx}(mx + c) = m $, where m is the slope of the line.\n",
    "\n",
    "### Intuition\n",
    "The origin must remain at the same location.\n",
    "\n",
    "AND\n",
    "\n",
    "The grid lines of the space, must remain parallel and evenly spaced."
   ]
  }
 ],
 "metadata": {
  "kernelspec": {
   "display_name": "Python 3.9.7 64-bit",
   "language": "python",
   "name": "python3"
  },
  "language_info": {
   "codemirror_mode": {
    "name": "ipython",
    "version": 3
   },
   "file_extension": ".py",
   "mimetype": "text/x-python",
   "name": "python",
   "nbconvert_exporter": "python",
   "pygments_lexer": "ipython3",
   "version": "3.9.7"
  },
  "orig_nbformat": 4,
  "vscode": {
   "interpreter": {
    "hash": "aee8b7b246df8f9039afb4144a1f6fd8d2ca17a180786b69acc140d282b71a49"
   }
  }
 },
 "nbformat": 4,
 "nbformat_minor": 2
}

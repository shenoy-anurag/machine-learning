{
 "cells": [
  {
   "cell_type": "markdown",
   "metadata": {},
   "source": [
    "# Determinants\n",
    "In the previous notebook `linalg2_matrices.ipynb`, we revised linear transformations in 2D planes and 3D spaces.\n",
    "\n",
    "Let us now see how much linear transformations scale the areas and volumes, in 2D planes and 3D spaces respectively.\n",
    "\n",
    "Suppose we have the linear transformation matrix \n",
    "$$\n",
    "\\left[ \\begin{array}{cc}\n",
    "    5 &0 \\\\\n",
    "    0 &3 \\\\\n",
    "\\end{array} \\right]\n",
    "$$\n",
    "\n",
    "Here, the transformation scales $ \\hat{i} $ by a factor of 5, and scales $ \\hat{j} $ by a factor of 3. This means that the area has been scaled by a factor of 15.\n",
    "\n",
    "This scaling factor is known as a determinant of a transformation.\n",
    "\n",
    "$$\n",
    "det(\\left[ \\begin{array}{cc}\n",
    "    5 &0 \\\\\n",
    "    0 &3 \\\\\n",
    "\\end{array} \\right]) = 15 * A\n",
    "$$\n",
    "\n",
    "Where $ A $ is the original matrix having the original unscaled unit vectors i.e.\n",
    "\n",
    "$$\n",
    "A = \\left[ \\begin{array}{cc}\n",
    "    1 &0 \\\\\n",
    "    0 &1 \\\\\n",
    "\\end{array} \\right]\n",
    "$$"
   ]
  },
  {
   "cell_type": "code",
   "execution_count": 2,
   "metadata": {},
   "outputs": [],
   "source": [
    "%matplotlib inline\n",
    "import matplotlib.pyplot as plt\n",
    "\n",
    "plt.style.use('seaborn-whitegrid')\n",
    "import numpy as np"
   ]
  },
  {
   "cell_type": "code",
   "execution_count": 3,
   "metadata": {},
   "outputs": [
    {
     "name": "stdout",
     "output_type": "stream",
     "text": [
      "Transformation Matrix: \n",
      "[[5 0]\n",
      " [0 3]]\n",
      "Determinant of the matrix: \n",
      "15.0\n"
     ]
    }
   ],
   "source": [
    "transformation_matrix = np.matrix([\n",
    "    [5, 0],\n",
    "    [0, 3]\n",
    "])\n",
    "\n",
    "print(\"Transformation Matrix: \")\n",
    "print(transformation_matrix)\n",
    "print(\"Determinant of the matrix: \")\n",
    "det = np.linalg.det(transformation_matrix)\n",
    "print(det)"
   ]
  },
  {
   "cell_type": "markdown",
   "metadata": {},
   "source": [
    "We saw, in the previous notebook, that the rotation matrix about the z-axis ($ R_z $), is given by\n",
    "$$\n",
    "R_z = \\left[ \\begin{array}{ccc}\n",
    "    cos(\\theta) &-sin(\\theta)   &0 \\\\\n",
    "    sin(\\theta) &cos(\\theta)    &0 \\\\\n",
    "    0           &0              &1 \\\\\n",
    "    \\end{array} \\right]\n",
    "$$\n",
    "For a $ 90^\\circ $ rotation about the $ z $ axis, $ R_z $ will be,\n",
    "$$\n",
    "R_z(90^\\circ) = \\left[ \\begin{array}{ccc}\n",
    "    0   &-1   &0 \\\\\n",
    "    1   &0    &0 \\\\\n",
    "    0   &0    &1 \\\\\n",
    "    \\end{array} \\right]\n",
    "$$"
   ]
  },
  {
   "cell_type": "code",
   "execution_count": 4,
   "metadata": {},
   "outputs": [
    {
     "name": "stdout",
     "output_type": "stream",
     "text": [
      "Transformation Matrix: \n",
      "[[ 0 -1  0]\n",
      " [ 1  0  0]\n",
      " [ 0  0  1]]\n",
      "Determinant of the matrix: \n",
      "1.0\n"
     ]
    }
   ],
   "source": [
    "transformation_matrix = np.matrix([\n",
    "    [0, -1, 0],\n",
    "    [1, 0, 0],\n",
    "    [0, 0, 1]\n",
    "])\n",
    "\n",
    "print(\"Transformation Matrix: \")\n",
    "print(transformation_matrix)\n",
    "print(\"Determinant of the matrix: \")\n",
    "det = np.linalg.det(transformation_matrix)\n",
    "print(det)"
   ]
  },
  {
   "cell_type": "markdown",
   "metadata": {},
   "source": [
    "From intuition, a $ 90^\\circ $ rotation about any of the x, y, or z axes does not result in the stretching or squeezing of 2D or 3D space.\n",
    "\n",
    "As we can see, the determinant of such a transformation matrix (here a $ 90^\\circ $ rotation about z axis), is 1, indicating that the 3D space has not been stretched or squeezed in any way.\n",
    "\n",
    "However, if we scale $ \\hat{i} $ by 2 after the $ 90^\\circ $ rotation about z axis, then we are stretching space, causing it to expand, and as a result the determinant should also scale.\n",
    "\n",
    "Let's compute it:"
   ]
  },
  {
   "cell_type": "code",
   "execution_count": 6,
   "metadata": {},
   "outputs": [
    {
     "name": "stdout",
     "output_type": "stream",
     "text": [
      "Transformation Matrix after rotation + scaling: \n",
      "[[ 0 -1  0]\n",
      " [ 2  0  0]\n",
      " [ 0  0  1]]\n",
      "Determinant of the matrix: \n",
      "2.0\n"
     ]
    }
   ],
   "source": [
    "transformation_matrix = np.matrix([\n",
    "    [0, -1, 0],\n",
    "    [1, 0, 0],\n",
    "    [0, 0, 1]\n",
    "])\n",
    "# Let's scale basis vector i, by 2 units.\n",
    "transformation_matrix[:, 0] *= 2\n",
    "# Transformation matrix after rotation + scaling:\n",
    "print(\"Transformation Matrix after rotation + scaling: \")\n",
    "print(transformation_matrix)\n",
    "print(\"Determinant of the matrix: \")\n",
    "det = np.linalg.det(transformation_matrix)\n",
    "print(det)"
   ]
  },
  {
   "cell_type": "code",
   "execution_count": null,
   "metadata": {},
   "outputs": [],
   "source": []
  }
 ],
 "metadata": {
  "kernelspec": {
   "display_name": "Python 3.9.7 64-bit",
   "language": "python",
   "name": "python3"
  },
  "language_info": {
   "codemirror_mode": {
    "name": "ipython",
    "version": 3
   },
   "file_extension": ".py",
   "mimetype": "text/x-python",
   "name": "python",
   "nbconvert_exporter": "python",
   "pygments_lexer": "ipython3",
   "version": "3.9.7"
  },
  "orig_nbformat": 4,
  "vscode": {
   "interpreter": {
    "hash": "aee8b7b246df8f9039afb4144a1f6fd8d2ca17a180786b69acc140d282b71a49"
   }
  }
 },
 "nbformat": 4,
 "nbformat_minor": 2
}

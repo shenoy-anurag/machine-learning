{
 "cells": [
  {
   "cell_type": "code",
   "execution_count": 1,
   "metadata": {},
   "outputs": [],
   "source": [
    "%matplotlib inline\n",
    "import matplotlib.pyplot as plt\n",
    "plt.style.use('seaborn-whitegrid')\n",
    "import seaborn as sns\n",
    "\n",
    "import numpy as np\n",
    "import pandas as pd"
   ]
  },
  {
   "cell_type": "markdown",
   "metadata": {},
   "source": [
    "# Inverse Matrices\n",
    "Imagine a transformation $ A $ such that a vector $ \\vec{x} $ is transformed to $ \\vec{v} $.\n",
    "\n",
    "In other words, $ A\\vec{x} = \\vec{v} $\n",
    "\n",
    "If we have a system of equations,\n",
    "\n",
    "$$\n",
    "2x \t+ \ty \t− \t2z \t= \t3 \\\\\n",
    "x \t− \ty \t− \tz \t= \t0 \\\\\n",
    "x \t+ \ty \t+ \t3z \t= \t12 \\\\\n",
    "$$\n",
    "\n",
    "we can re-write this in the Matrix form as,\n",
    "\n",
    "$$ \n",
    "A \\vec{x} = \\vec{v} \\\\\n",
    "\\left[ \\begin{array}{ccc}\n",
    "    2 &1 &-2 \\\\\n",
    "    1 &-1 &-1 \\\\\n",
    "    1 &1 &3 \\\\\n",
    "\\end{array} \\right] \n",
    "\\left[ \\begin{array}{c}\n",
    "    x \\\\\n",
    "    y \\\\\n",
    "    z \\\\\n",
    "\\end{array} \\right] = \\left[ \\begin{array}{c}\n",
    "    3 \\\\\n",
    "    0 \\\\\n",
    "    12 \\\\\n",
    "\\end{array} \\right]\n",
    "$$\n",
    "\n",
    "Now imagine a transformation which can undo the transformation, such that the basis vectors $ \\hat{i}, \\hat{j} \\text{ and } \\hat{k} $ are back to their original unit magnitude and direction.\n",
    "\n",
    "Such a transformation, is called the *Inverse*. The inverse of $ A $ is written as $ A^{-1} $.\n",
    "\n",
    "Performing the two transformations $ A $ and $ A^{-1} $ one after the other, means that the basis vectors are first morphed, and then \"un-morphed\", thus essentially \"doing nothing\".\n",
    "\n",
    "The matrix that corresponds to the composite transformation $ A A^{-1} $, is the matrix that transforms the basis vector matrix into itself. Essentially, it is the **Identity transformation**.\n",
    "\n",
    "The matrix for the **Identity transformation**, called the **Identity Matrix**, represented by the notation $ I $ is, \n",
    "\n",
    "$$\n",
    "\\left[ \\begin{array}{ccc}\n",
    "    1 &0 &0 \\\\\n",
    "    0 &1 &0 \\\\\n",
    "    0 &0 &1 \\\\\n",
    "\\end{array} \\right] \n",
    "$$"
   ]
  },
  {
   "cell_type": "code",
   "execution_count": 2,
   "metadata": {},
   "outputs": [
    {
     "name": "stdout",
     "output_type": "stream",
     "text": [
      "Identity: \n",
      "[[1 0 0]\n",
      " [0 1 0]\n",
      " [0 0 1]]\n",
      "Vector: \n",
      "[[3]\n",
      " [4]\n",
      " [5]]\n",
      "Result: \n",
      "[[3]\n",
      " [4]\n",
      " [5]]\n"
     ]
    }
   ],
   "source": [
    "# Let's see with sample vectors and transformations\n",
    "I = np.matrix([\n",
    "    [1, 0, 0],\n",
    "    [0, 1, 0],\n",
    "    [0, 0, 1],\n",
    "])\n",
    "x = np.array([[3, 4, 5]]).T\n",
    "print(\"Identity: \")\n",
    "print(I)\n",
    "print(\"Vector: \")\n",
    "print(x)\n",
    "\n",
    "v = I * x\n",
    "print(\"Result: \")\n",
    "print(v)"
   ]
  },
  {
   "cell_type": "markdown",
   "metadata": {},
   "source": [
    "### Example 1: Finding Inverse"
   ]
  },
  {
   "cell_type": "code",
   "execution_count": 3,
   "metadata": {},
   "outputs": [
    {
     "name": "stdout",
     "output_type": "stream",
     "text": [
      "Transformation Matrix A: \n",
      "[[ 2  1 -2]\n",
      " [ 1 -1 -1]\n",
      " [ 1  1  3]]\n",
      "Determinant of the matrix: \n",
      "-11.999999999999995\n",
      "Inverse of A: \n",
      "[[ 0.16666667  0.41666667  0.25      ]\n",
      " [ 0.33333333 -0.66666667 -0.        ]\n",
      " [-0.16666667  0.08333333  0.25      ]]\n",
      "Verification of Inverse using Identity Matrix: \n",
      "[[ 1.00000000e+00 -2.77555756e-17  0.00000000e+00]\n",
      " [ 5.55111512e-17  1.00000000e+00  0.00000000e+00]\n",
      " [ 2.77555756e-17 -1.38777878e-17  1.00000000e+00]]\n"
     ]
    }
   ],
   "source": [
    "# Let's solve a system of equations using NumPy\n",
    "A = np.matrix([\n",
    "    [2, 1, -2],\n",
    "    [1, -1, -1],\n",
    "    [1, 1, 3],\n",
    "])\n",
    "B = np.array([[3, 0, 12]]).T\n",
    "print(\"Transformation Matrix A: \")\n",
    "print(A)\n",
    "det = np.linalg.det(A)\n",
    "print(\"Determinant of the matrix: \")\n",
    "print(det)\n",
    "\n",
    "A_inv = np.linalg.inv(A)\n",
    "print(\"Inverse of A: \")\n",
    "print(A_inv)\n",
    "\n",
    "m = A * A_inv\n",
    "# m = A_inv * A\n",
    "print(\"Verification of Inverse using Identity Matrix: \")\n",
    "print(m)"
   ]
  },
  {
   "cell_type": "code",
   "execution_count": 8,
   "metadata": {},
   "outputs": [
    {
     "name": "stdout",
     "output_type": "stream",
     "text": [
      "Now, if we want to find out which vector [x, y, z] transformed into [3, 0, 12], we can apply the inverse transformation to v, to find the original vector.\n",
      "Original vector: \n",
      "[[3.5]\n",
      " [1. ]\n",
      " [2.5]]\n",
      "Verification of vector and inverse matrix using the transformation on original vector:\n",
      "[[ 3.]\n",
      " [ 0.]\n",
      " [12.]]\n",
      "We can see that x = [3.5, 1, 2.5] is the solution for the system of linear equations.\n",
      "This indicates that the inverse of A we found is correct!\n"
     ]
    }
   ],
   "source": [
    "# Now, if we want to find out which vector [x, y, z] transformed into [3, 0, 12], we can apply the inverse transformation to v, to find the original vector.\n",
    "print(\"Now, if we want to find out which vector [x, y, z] transformed into [3, 0, 12], we can apply the inverse transformation to v, to find the original vector.\")\n",
    "x = A_inv * B\n",
    "print(\"Original vector: \")\n",
    "print(x)\n",
    "\n",
    "# Verification of vector and inverse matrix using the transformation on original vector:\n",
    "v = A * x\n",
    "print(\"Verification of vector and inverse matrix using the transformation on original vector:\")\n",
    "print(v)\n",
    "print(\"We can see that x = [3.5, 1, 2.5] is the solution for the system of linear equations.\")\n",
    "print(\"This indicates that the inverse of A we found is correct!\")"
   ]
  },
  {
   "attachments": {},
   "cell_type": "markdown",
   "metadata": {},
   "source": [
    "## Two possibilities\n",
    "There are two possibilities for the transformation matrix. One where the determinant of A is non-zero, and one where it is zero.\n",
    "#### 1. Determinant of Transformation matrix is Non-Zero, i.e. $ A \\neq 0 $.\n",
    "If the Determinant is non-zero, it means that the N-Dimensional space given by the set of N basis vectors, is **not** being transformed into a space which is less than N-dimensions. It is only being transformed into another N-Dimensional space. \n",
    "\n",
    "This also means that the basis vectors are an independent set of vectors, which means that there is a unique solution (unique transformation matrix) which is the inverse of the the transformation matrix.\n",
    "\n",
    "#### 2. Determinant of Transformation matrix is Zero, i.e. $ A = 0 $.\n",
    "Remember that when the Determinant is Zero, it means that atleast one of the N basis vectors in the N-dimensional space can be written as a Linear combination of the other vectors, thus indicating that the vectors are linearly dependent, and thus atleast one of the vectors' effect can be explained by a combination of the other vectors.\n",
    "\n",
    "This means that the number of basis vectors required to cover each and every point in the new transformed space, is less than N-dimensions.\n",
    "\n",
    "Which in turn, means that the transformation is squishing/compressing a larger dimensional space into a smaller dimensional one.\n",
    "\n",
    "There is no \"Inverse transformation\", which can un-squish or de-compress a smaller dimensional space into a larger dimensional one.\n",
    "\n",
    "**Note:** For the system of linear equations, when a transformation matrix transforms a 3-D space into a 1D space, for example, we may still have a solution to the system of equations, but a solution will only exist if the transformed vector $ \\vec{v} $ lies on the 1D line."
   ]
  },
  {
   "cell_type": "markdown",
   "metadata": {},
   "source": [
    "As we saw in Example 1, the determinant was non-zero, and thus the transformation has an inverse. This means that the system of equations has a unique solution."
   ]
  },
  {
   "cell_type": "code",
   "execution_count": null,
   "metadata": {},
   "outputs": [],
   "source": []
  }
 ],
 "metadata": {
  "kernelspec": {
   "display_name": "tensorflow_exp",
   "language": "python",
   "name": "python3"
  },
  "language_info": {
   "codemirror_mode": {
    "name": "ipython",
    "version": 3
   },
   "file_extension": ".py",
   "mimetype": "text/x-python",
   "name": "python",
   "nbconvert_exporter": "python",
   "pygments_lexer": "ipython3",
   "version": "3.9.7"
  },
  "orig_nbformat": 4
 },
 "nbformat": 4,
 "nbformat_minor": 2
}

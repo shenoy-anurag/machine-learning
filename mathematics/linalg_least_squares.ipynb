{
 "cells": [
  {
   "cell_type": "markdown",
   "metadata": {},
   "source": [
    "# Overview\n",
    "Let's start to understand LS by using a simple dataset with a single independent variable and a single observed variable (I use the term \"observed\" as correlation does not mean causation).\n",
    "\n",
    "The first dataset is available here: <https://www.kaggle.com/datasets/karthickveerakumar/salary-data-simple-linear-regression>"
   ]
  },
  {
   "cell_type": "code",
   "execution_count": 1,
   "metadata": {},
   "outputs": [
    {
     "name": "stderr",
     "output_type": "stream",
     "text": [
      "/Users/anurags/miniforge3/envs/tensorflow_exp/lib/python3.9/site-packages/scipy/__init__.py:146: UserWarning: A NumPy version >=1.16.5 and <1.23.0 is required for this version of SciPy (detected version 1.23.3\n",
      "  warnings.warn(f\"A NumPy version >={np_minversion} and <{np_maxversion}\"\n"
     ]
    }
   ],
   "source": [
    "import pandas as pd\n",
    "import numpy as np\n",
    "import math\n",
    "\n",
    "%matplotlib inline\n",
    "import matplotlib.pyplot as plt\n",
    "plt.style.use('seaborn-whitegrid')\n",
    "import seaborn as sns"
   ]
  },
  {
   "cell_type": "markdown",
   "metadata": {},
   "source": [
    "## Dataset 1: Salary Data"
   ]
  },
  {
   "cell_type": "code",
   "execution_count": 2,
   "metadata": {},
   "outputs": [
    {
     "name": "stdout",
     "output_type": "stream",
     "text": [
      "   YearsExperience   Salary\n",
      "0              1.1  39343.0\n",
      "1              1.3  46205.0\n",
      "2              1.5  37731.0\n",
      "3              2.0  43525.0\n",
      "4              2.2  39891.0\n"
     ]
    },
    {
     "data": {
      "text/html": [
       "<div>\n",
       "<style scoped>\n",
       "    .dataframe tbody tr th:only-of-type {\n",
       "        vertical-align: middle;\n",
       "    }\n",
       "\n",
       "    .dataframe tbody tr th {\n",
       "        vertical-align: top;\n",
       "    }\n",
       "\n",
       "    .dataframe thead th {\n",
       "        text-align: right;\n",
       "    }\n",
       "</style>\n",
       "<table border=\"1\" class=\"dataframe\">\n",
       "  <thead>\n",
       "    <tr style=\"text-align: right;\">\n",
       "      <th></th>\n",
       "      <th>YearsExperience</th>\n",
       "      <th>Salary</th>\n",
       "    </tr>\n",
       "  </thead>\n",
       "  <tbody>\n",
       "    <tr>\n",
       "      <th>count</th>\n",
       "      <td>30.000000</td>\n",
       "      <td>30.000000</td>\n",
       "    </tr>\n",
       "    <tr>\n",
       "      <th>mean</th>\n",
       "      <td>5.313333</td>\n",
       "      <td>76003.000000</td>\n",
       "    </tr>\n",
       "    <tr>\n",
       "      <th>std</th>\n",
       "      <td>2.837888</td>\n",
       "      <td>27414.429785</td>\n",
       "    </tr>\n",
       "    <tr>\n",
       "      <th>min</th>\n",
       "      <td>1.100000</td>\n",
       "      <td>37731.000000</td>\n",
       "    </tr>\n",
       "    <tr>\n",
       "      <th>25%</th>\n",
       "      <td>3.200000</td>\n",
       "      <td>56720.750000</td>\n",
       "    </tr>\n",
       "    <tr>\n",
       "      <th>50%</th>\n",
       "      <td>4.700000</td>\n",
       "      <td>65237.000000</td>\n",
       "    </tr>\n",
       "    <tr>\n",
       "      <th>75%</th>\n",
       "      <td>7.700000</td>\n",
       "      <td>100544.750000</td>\n",
       "    </tr>\n",
       "    <tr>\n",
       "      <th>max</th>\n",
       "      <td>10.500000</td>\n",
       "      <td>122391.000000</td>\n",
       "    </tr>\n",
       "  </tbody>\n",
       "</table>\n",
       "</div>"
      ],
      "text/plain": [
       "       YearsExperience         Salary\n",
       "count        30.000000      30.000000\n",
       "mean          5.313333   76003.000000\n",
       "std           2.837888   27414.429785\n",
       "min           1.100000   37731.000000\n",
       "25%           3.200000   56720.750000\n",
       "50%           4.700000   65237.000000\n",
       "75%           7.700000  100544.750000\n",
       "max          10.500000  122391.000000"
      ]
     },
     "execution_count": 2,
     "metadata": {},
     "output_type": "execute_result"
    }
   ],
   "source": [
    "df = pd.read_csv(\"../data/Salary_Data.csv\")\n",
    "\n",
    "df.dropna(inplace=True)\n",
    "print(df.head())\n",
    "df.describe()"
   ]
  },
  {
   "cell_type": "markdown",
   "metadata": {},
   "source": [
    "### Data Visualization\n",
    "Let's visualize the data points to get an idea of our data."
   ]
  },
  {
   "cell_type": "code",
   "execution_count": 3,
   "metadata": {},
   "outputs": [
    {
     "data": {
      "image/png": "[encoded data removed]",
      "text/plain": [
       "<Figure size 432x288 with 1 Axes>"
      ]
     },
     "metadata": {},
     "output_type": "display_data"
    }
   ],
   "source": [
    "ax = sns.scatterplot(x=df[\"YearsExperience\"], y=df[\"Salary\"])"
   ]
  },
  {
   "cell_type": "markdown",
   "metadata": {},
   "source": [
    "Maybe we want to know how the Years of Experience (YoE) in an industry, correlates to the Salary earned by individuals.\n",
    "\n",
    "We can see that Years of Experience correlates very well with Salary earned. Through the visualization, we can see that there's a linear trend between the two variables, and that this dataset doesn't contain extreme outliers.\n",
    "\n",
    "To find the linear relation between YoE and Salary, we can fit a line to the data.\n",
    "\n",
    "In order to fit a line to the data, we should start by using different combinations of slopes and intercepts and calculating $ R^2 $ to evaluate the residuals and determine how well the observed outcomes are replicated by the model (in this case, the model is a line).\n",
    "\n",
    "Let's start with a line y = min(Salary) + (range(Salary) / 2) or y ~ 80000."
   ]
  },
  {
   "cell_type": "code",
   "execution_count": 4,
   "metadata": {},
   "outputs": [
    {
     "name": "stdout",
     "output_type": "stream",
     "text": [
      "Max and min salaries: 122391.0 and 37731.0\n",
      "Our initial fitted line y = 80061.0\n",
      "Average salary: 76003.0\n",
      "Sum of squares of distances about the mean\n",
      "21794977852.0\n",
      "21794977852.0\n",
      "Calculation using full formula:  21794977852.0\n",
      "Calculation using y = c : \t 21794977852.0\n"
     ]
    }
   ],
   "source": [
    "y_max, y_min = df.Salary.max(), df.Salary.min()\n",
    "print(\"Max and min salaries: {} and {}\".format(y_max, y_min))\n",
    "y_intercept = y_min + (y_max - y_min) / 2\n",
    "print(\"Our initial fitted line y = {}\".format(y_intercept))\n",
    "avg_salary = df.Salary.mean()\n",
    "print(\"Average salary: {}\".format(avg_salary))\n",
    "\n",
    "# List of salaries - The Y variable\n",
    "salaries = df.Salary.tolist()\n",
    "# List of Years of Experience - The X variable\n",
    "yoe = df[\"YearsExperience\"].tolist()\n",
    "\n",
    "print(\"Sum of squares of distances about the mean\")\n",
    "# Sum of squares of distances about the mean\n",
    "sum_sq_mean = 0\n",
    "for p in salaries:\n",
    "    sum_sq_mean += (avg_salary - p) ** 2\n",
    "print(sum_sq_mean)\n",
    "\n",
    "# Using pythonic list comprehension\n",
    "sum_sq_mean = sum([(num - avg_salary) ** 2 for num in salaries])\n",
    "print(sum_sq_mean)\n",
    "\n",
    "# Using NumPy\n",
    "m = 0  # since we are using the line y = df.Salary.mean(), which is a line that is horizontal and parallel to the x-axis.\n",
    "sum_sq_mean = np.sum(np.square(np.array(salaries) - avg_salary - (m * np.array(yoe))))\n",
    "print(\"Calculation using full formula: \", sum_sq_mean)\n",
    "sum_sq_mean = np.sum(np.power(np.subtract(salaries, avg_salary), 2))\n",
    "print(\"Calculation using y = c : \\t\", sum_sq_mean)"
   ]
  },
  {
   "cell_type": "code",
   "execution_count": 5,
   "metadata": {},
   "outputs": [
    {
     "name": "stdout",
     "output_type": "stream",
     "text": [
      "Variation about the mean\n",
      "726499261.7333333\n",
      "Variation about Fit\n",
      "742966625.7333333\n"
     ]
    }
   ],
   "source": [
    "# Variation about the mean = ((data - mean)^2)/n    where 'n' is the sample size.\n",
    "var_mean = sum_sq_mean / len(salaries)\n",
    "print(\"Variation about the mean\")\n",
    "print(var_mean)\n",
    "\n",
    "# Variation about the fit = ((data - fit)^2)/n    where 'n' is the sample size.\n",
    "# Let's call this SS_fit\n",
    "sum_sq_fit = np.sum(np.power(np.subtract(salaries, y_intercept), 2))\n",
    "var_fit = sum_sq_fit / len(salaries)\n",
    "print(\"Variation about Fit\")\n",
    "print(var_fit)"
   ]
  },
  {
   "cell_type": "markdown",
   "metadata": {},
   "source": [
    "### Visualizing the Intial fitted line and Mean"
   ]
  },
  {
   "cell_type": "code",
   "execution_count": 6,
   "metadata": {},
   "outputs": [
    {
     "data": {
      "text/plain": [
       "<matplotlib.legend.Legend at 0x15b2e18b0>"
      ]
     },
     "execution_count": 6,
     "metadata": {},
     "output_type": "execute_result"
    },
    {
     "data": {
      "image/png": "[encoded data removed]",
      "text/plain": [
       "<Figure size 432x288 with 1 Axes>"
      ]
     },
     "metadata": {},
     "output_type": "display_data"
    }
   ],
   "source": [
    "ax = sns.scatterplot(x=df[\"YearsExperience\"], y=df[\"Salary\"])\n",
    "plt.plot([0, math.ceil(df[\"YearsExperience\"].max())], [avg_salary, avg_salary], label=\"Mean Salary\", linestyle='dashed', linewidth=2, color='r')\n",
    "plt.plot([0, math.ceil(df[\"YearsExperience\"].max())], [y_intercept, y_intercept], label=\"Initial Fit\", linewidth=2, color='g')\n",
    "plt.legend()"
   ]
  },
  {
   "cell_type": "markdown",
   "metadata": {},
   "source": [
    "### R Squared\n",
    "We know formula for $ R^2 $ is:\n",
    "\n",
    "$$\n",
    "R^2 = \\frac{Var(mean) - Var(fit)}{Var(mean)}\n",
    "$$\n",
    "\n",
    "$ R^2 $ can also be calculated as \n",
    "\n",
    "$$\n",
    "R^2 = \\frac{SumOfSquares(mean) - SumOfSquares(fit)}{SumOfSquares(mean)}\n",
    "$$"
   ]
  },
  {
   "cell_type": "code",
   "execution_count": 7,
   "metadata": {},
   "outputs": [
    {
     "name": "stdout",
     "output_type": "stream",
     "text": [
      "R Squared = -0.022666731912033878\n"
     ]
    }
   ],
   "source": [
    "r_sq = (sum_sq_mean - sum_sq_fit) / sum_sq_mean\n",
    "print(\"R Squared = {}\".format(r_sq))"
   ]
  },
  {
   "cell_type": "markdown",
   "metadata": {},
   "source": [
    "From the above result, we can see that our initial line is very bad at predicting Salary based on Years of Experience.\n",
    "\n",
    "Let's consider a line passing through the points p1 = [0, 30_000] and p2 = [10, 120_000].\n",
    "\n",
    "We can see that, with an eye-test, on the graph, that such a line seems to fit the data pretty well.\n",
    "\n",
    "This example line has, slope = 9k, and c = 30k. \n",
    "So, $ y = mx + c = 9000*x + 30000 $."
   ]
  },
  {
   "cell_type": "code",
   "execution_count": 8,
   "metadata": {},
   "outputs": [
    {
     "name": "stdout",
     "output_type": "stream",
     "text": [
      "11\n"
     ]
    },
    {
     "data": {
      "text/plain": [
       "<matplotlib.legend.Legend at 0x15b2e15b0>"
      ]
     },
     "execution_count": 8,
     "metadata": {},
     "output_type": "execute_result"
    },
    {
     "data": {
      "image/png": "[encoded data removed]",
      "text/plain": [
       "<Figure size 432x288 with 1 Axes>"
      ]
     },
     "metadata": {},
     "output_type": "display_data"
    }
   ],
   "source": [
    "# Let's say our line is given by y = m * x + c, where m = 9000, c = 30k\n",
    "ax = sns.scatterplot(x=df[\"YearsExperience\"], y=df[\"Salary\"])\n",
    "x_max_rounded = math.ceil(df[\"YearsExperience\"].max())\n",
    "print(x_max_rounded)\n",
    "plt.plot([0, x_max_rounded], [avg_salary, avg_salary], label=\"Mean Salary\", linestyle='dashed', linewidth=2, color='r')\n",
    "plt.plot([0, x_max_rounded], [30000, 129000], label=\"Eye-test fit\", linewidth=2, color='g')\n",
    "plt.legend()"
   ]
  },
  {
   "cell_type": "markdown",
   "metadata": {},
   "source": [
    "Let's calculate the residuals"
   ]
  },
  {
   "cell_type": "code",
   "execution_count": 9,
   "metadata": {},
   "outputs": [
    {
     "name": "stdout",
     "output_type": "stream",
     "text": [
      "1084460122.0\n",
      "R Squared = 0.9502426600584737\n"
     ]
    }
   ],
   "source": [
    "c = 30000\n",
    "m = 9000\n",
    "# Y - intercepts for each X value i.e. Salary value for each Years of Experience value predicted by the line given by y = m * x + c.\n",
    "y = np.array(salaries)\n",
    "x = np.array(yoe)\n",
    "# slope = ((x-x.mean())*(y-y.mean())).sum()/(np.square(x-x.mean())).sum()\n",
    "# y_intercept = y.mean() - (m * x.mean())\n",
    "# print(slope, y_intercept)\n",
    "sum_sq_fit = np.sum(np.square(y - c - (m * x)))\n",
    "print(sum_sq_fit)\n",
    "\n",
    "r_sq = (sum_sq_mean - sum_sq_fit) / sum_sq_mean\n",
    "print(\"R Squared = {}\".format(r_sq))\n"
   ]
  },
  {
   "cell_type": "code",
   "execution_count": 10,
   "metadata": {},
   "outputs": [
    {
     "name": "stdout",
     "output_type": "stream",
     "text": [
      "9000 30000 6\n",
      "For Years of Experience = 6, Salary predicted is 84000\n",
      "11\n"
     ]
    },
    {
     "data": {
      "text/plain": [
       "<matplotlib.legend.Legend at 0x15b3bf8b0>"
      ]
     },
     "execution_count": 10,
     "metadata": {},
     "output_type": "execute_result"
    },
    {
     "data": {
      "image/png": "[encoded data removed]",
      "text/plain": [
       "<Figure size 432x288 with 1 Axes>"
      ]
     },
     "metadata": {},
     "output_type": "display_data"
    }
   ],
   "source": [
    "# Predicting Salary using this line.\n",
    "def predict(slope, intercept, x_val):\n",
    "    return slope * x_val + intercept\n",
    "\n",
    "test_yoe = 6\n",
    "print(m, c, test_yoe)\n",
    "sal = predict(slope=m, intercept=c, x_val=test_yoe)\n",
    "print(\"For Years of Experience = {}, Salary predicted is {}\".format(test_yoe, sal))\n",
    "\n",
    "# Plot prediction\n",
    "ax = sns.scatterplot(x=df[\"YearsExperience\"], y=df[\"Salary\"])\n",
    "x_max_rounded = math.ceil(df[\"YearsExperience\"].max())\n",
    "print(x_max_rounded)\n",
    "plt.plot([0, x_max_rounded], [avg_salary, avg_salary], label=\"Mean Salary\", linestyle='dashed', linewidth=2, color='b')\n",
    "plt.plot([0, x_max_rounded], [30000, 129000], label=\"Initial Fit\", linewidth=2, color='g')\n",
    "plt.plot(test_yoe, sal, marker=\"o\", markersize=10, markerfacecolor=\"r\")\n",
    "plt.plot([0, test_yoe - 0.2], [sal, sal], linestyle='dashed', linewidth=2, color='black')\n",
    "plt.plot([test_yoe, test_yoe], [c, sal - 3000], linestyle='dashed', linewidth=2, color='black')\n",
    "plt.annotate(text=\"Predicted Salary\", xy=[test_yoe + 0.2, sal], color='r')\n",
    "ax.set(title=\"Prediction of Salary using line y = 9k * x + 30k for YoE = {}\".format(test_yoe))\n",
    "plt.legend()"
   ]
  },
  {
   "cell_type": "markdown",
   "metadata": {},
   "source": [
    "As we can see, the residuals reduced dramatically due to the well-fitting line considered, and $ R^2 $ is now 0.95, or in other words, the line tracking Years of Experience explains 95% of the variation in Salary earned.\n",
    "\n",
    "Let's try to improve this by trying to find a line which gives us the least residuals or gives us the best R^2."
   ]
  },
  {
   "cell_type": "code",
   "execution_count": 11,
   "metadata": {},
   "outputs": [
    {
     "name": "stdout",
     "output_type": "stream",
     "text": [
      "(array([ 9449.96232146, 25792.20019867]), array([9.38128552e+08]), 2, array([33.2288172 ,  2.51906874]))\n",
      "Best fit line has slope = 9449.962321455072 and y_intercept = 25792.20019866871\n"
     ]
    }
   ],
   "source": [
    "# Using NumPy\n",
    "# Let's add a column to x, which will be the biases for the Least Squares algorithm.\n",
    "A = np.vstack([x, np.ones(len(x))]).T\n",
    "B = y.copy()\n",
    "least_sq = np.linalg.lstsq(A, B, rcond=None)\n",
    "print(least_sq)\n",
    "\n",
    "best_fit_line = least_sq[0]\n",
    "print(\"Best fit line has slope = {} and y_intercept = {}\".format(best_fit_line[0], best_fit_line[1]))"
   ]
  },
  {
   "cell_type": "markdown",
   "metadata": {},
   "source": [
    "Let's see what this line looks like and calculate it's $ R^2 $."
   ]
  },
  {
   "cell_type": "code",
   "execution_count": 12,
   "metadata": {},
   "outputs": [
    {
     "data": {
      "text/plain": [
       "<matplotlib.legend.Legend at 0x15b39f0a0>"
      ]
     },
     "execution_count": 12,
     "metadata": {},
     "output_type": "execute_result"
    },
    {
     "data": {
      "image/png": "[encoded data removed]",
      "text/plain": [
       "<Figure size 432x288 with 1 Axes>"
      ]
     },
     "metadata": {},
     "output_type": "display_data"
    }
   ],
   "source": [
    "ax = sns.scatterplot(x=df[\"YearsExperience\"], y=df[\"Salary\"])\n",
    "x_max_rounded = math.ceil(df[\"YearsExperience\"].max())\n",
    "plt.plot([0, x_max_rounded], [avg_salary, avg_salary], label=\"Mean Salary\", linestyle='dashed', linewidth=2, color='r')\n",
    "plt.plot([0, x_max_rounded], [30000, 129000], label=\"Eye-test fit\", linewidth=2, linestyle='dashed', color='g')\n",
    "plt.plot([0, x_max_rounded], [best_fit_line[1], x_max_rounded * best_fit_line[0] + best_fit_line[1]], label=\"Best Fit (LS)\", linewidth=2, color='black')\n",
    "plt.legend()"
   ]
  },
  {
   "cell_type": "markdown",
   "metadata": {},
   "source": [
    "We see in the above how the best fit line looks like, and how it compares to our quick eye-test based line.\n",
    "\n"
   ]
  },
  {
   "cell_type": "code",
   "execution_count": 13,
   "metadata": {},
   "outputs": [
    {
     "name": "stdout",
     "output_type": "stream",
     "text": [
      "938128551.668429\n",
      "R Squared = 0.9569566641435084\n",
      "The best fit line explains 95.70 % of the variation in Salary earned as Years of experience changes.\n"
     ]
    }
   ],
   "source": [
    "sum_sq_fit = np.sum(np.square(y - best_fit_line[1] - (best_fit_line[0] * x)))\n",
    "print(sum_sq_fit)\n",
    "\n",
    "r_sq = (sum_sq_mean - sum_sq_fit) / sum_sq_mean\n",
    "print(\"R Squared = {}\".format(r_sq))\n",
    "print(\"The best fit line explains {:.2f} % of the variation in Salary earned as Years of experience changes.\".format(r_sq * 100))"
   ]
  },
  {
   "cell_type": "code",
   "execution_count": null,
   "metadata": {},
   "outputs": [],
   "source": []
  }
 ],
 "metadata": {
  "kernelspec": {
   "display_name": "Python 3.9.7 ('tensorflow_exp')",
   "language": "python",
   "name": "python3"
  },
  "language_info": {
   "codemirror_mode": {
    "name": "ipython",
    "version": 3
   },
   "file_extension": ".py",
   "mimetype": "text/x-python",
   "name": "python",
   "nbconvert_exporter": "python",
   "pygments_lexer": "ipython3",
   "version": "3.9.7"
  },
  "orig_nbformat": 4,
  "vscode": {
   "interpreter": {
    "hash": "1a1ba92539025a9776faa821cedc9a98091bd051794ac2a35f86e7b5baaa1b51"
   }
  }
 },
 "nbformat": 4,
 "nbformat_minor": 2
}

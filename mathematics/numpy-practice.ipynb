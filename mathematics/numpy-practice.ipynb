{
 "cells": [
  {
   "cell_type": "code",
   "execution_count": 1,
   "metadata": {},
   "outputs": [],
   "source": [
    "import numpy as np"
   ]
  },
  {
   "cell_type": "markdown",
   "metadata": {},
   "source": [
    "## Accessing arrays and filtering"
   ]
  },
  {
   "cell_type": "code",
   "execution_count": 6,
   "metadata": {},
   "outputs": [
    {
     "name": "stdout",
     "output_type": "stream",
     "text": [
      "10 10\n",
      "[1 1 1 1 2 1 1 1 2 2]\n",
      "[5 9 0]\n"
     ]
    }
   ],
   "source": [
    "# Accessing arrays and certain indices\n",
    "x = np.array([1, 2, 3, 4, 5, 6, 7, 8, 9, 0])\n",
    "y = [0, 0, 0, 0, 1, 0, 0, 0, 1, 1]\n",
    "\n",
    "print(len(x), len(y))\n",
    "print(x[y])\n",
    "\n",
    "# Quick list comprehension for converting 1s and 0s to bool entities.\n",
    "y = [v == 1 for v in y]\n",
    "# or\n",
    "y = list(map(bool,y))\n",
    "# or\n",
    "y = [bool(v) for v in y]\n",
    "print(x[y])"
   ]
  },
  {
   "cell_type": "code",
   "execution_count": null,
   "metadata": {},
   "outputs": [],
   "source": []
  }
 ],
 "metadata": {
  "kernelspec": {
   "display_name": "Python 3.9.7 64-bit",
   "language": "python",
   "name": "python3"
  },
  "language_info": {
   "codemirror_mode": {
    "name": "ipython",
    "version": 3
   },
   "file_extension": ".py",
   "mimetype": "text/x-python",
   "name": "python",
   "nbconvert_exporter": "python",
   "pygments_lexer": "ipython3",
   "version": "3.9.7"
  },
  "orig_nbformat": 4,
  "vscode": {
   "interpreter": {
    "hash": "aee8b7b246df8f9039afb4144a1f6fd8d2ca17a180786b69acc140d282b71a49"
   }
  }
 },
 "nbformat": 4,
 "nbformat_minor": 2
}

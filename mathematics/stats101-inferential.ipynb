{
 "cells": [
  {
   "cell_type": "code",
   "execution_count": 1,
   "metadata": {},
   "outputs": [],
   "source": [
    "import math\n",
    "import copy\n",
    "import statistics\n",
    "import numpy as np\n",
    "import pandas as pd\n",
    "\n",
    "import matplotlib.pyplot as plt\n",
    "import seaborn as sns"
   ]
  },
  {
   "cell_type": "code",
   "execution_count": 6,
   "metadata": {},
   "outputs": [],
   "source": [
    "from stats import *"
   ]
  },
  {
   "attachments": {},
   "cell_type": "markdown",
   "metadata": {},
   "source": [
    "### Height and Weight Dataset\n",
    "https://www.kaggle.com/datasets/burnoutminer/heights-and-weights-dataset\n",
    "\n",
    "Original source: http://socr.ucla.edu/docs/resources/SOCR_Data/SOCR_Data_Dinov_020108_HeightsWeights.html\n",
    "\n",
    "Download and extract csv to `/data` folder."
   ]
  },
  {
   "cell_type": "code",
   "execution_count": 7,
   "metadata": {},
   "outputs": [],
   "source": [
    "df = pd.read_csv(\"../data/SOCR-HeightWeight.csv\")"
   ]
  },
  {
   "cell_type": "code",
   "execution_count": 8,
   "metadata": {},
   "outputs": [
    {
     "data": {
      "text/plain": [
       "[167.0896074, 181.6486334, 176.2727996, 173.270164, 172.18103739999998]"
      ]
     },
     "metadata": {},
     "output_type": "display_data"
    },
    {
     "name": "stdout",
     "output_type": "stream",
     "text": [
      "Number of data points: 25000\n"
     ]
    },
    {
     "data": {
      "text/plain": [
       "array([167.0896074, 181.6486334, 176.2727996, ..., 164.334317 ,\n",
       "       171.5241172, 174.9491294])"
      ]
     },
     "execution_count": 8,
     "metadata": {},
     "output_type": "execute_result"
    }
   ],
   "source": [
    "heights = (df[\"Height(Inches)\"] * 2.54).to_numpy()\n",
    "heights_lst = heights.tolist()\n",
    "display(heights_lst[:5])\n",
    "num_pts = len(heights_lst)\n",
    "print(\"Number of data points: {}\".format(num_pts))\n",
    "heights"
   ]
  },
  {
   "attachments": {},
   "cell_type": "markdown",
   "metadata": {},
   "source": [
    "# Inferential Statistics\n",
    "In a nutshell, inferential statistics uses a small sample of data to draw inferences about the larger population that the sample came from."
   ]
  },
  {
   "attachments": {},
   "cell_type": "markdown",
   "metadata": {},
   "source": [
    "## Hypothesis testing\n",
    "A statistical hypothesis is an assumption about a population parameter.\n",
    "\n",
    "Let's assume that the mean height of a human (male or female) is 5'6\".\n",
    "\n",
    "The assumption about the height is the statistical hypothesis and the true mean height of humans is the population parameter."
   ]
  },
  {
   "cell_type": "code",
   "execution_count": 9,
   "metadata": {},
   "outputs": [
    {
     "name": "stdout",
     "output_type": "stream",
     "text": [
      "Statistical Hypothesis: 167.64000000000001 \n",
      "&\n",
      "Population parameter: \t172.70250853587314\n"
     ]
    }
   ],
   "source": [
    "height_assumption = 5 * 12 + 6 # in inches\n",
    "height_assumption = height_assumption * 2.54\n",
    "true_mean = calc_mean(heights_lst)\n",
    "print(\"Statistical Hypothesis: {} \\n&\\nPopulation parameter: \\t{}\".format(height_assumption, true_mean))"
   ]
  },
  {
   "attachments": {},
   "cell_type": "markdown",
   "metadata": {},
   "source": [
    "So, we were close enough, but suppose this was good educated guess for height in a given sample, but we found say people on mars to be on average 5 inches taller, we might have a reason to explore the data to try to find correlations and potentially infer causes for the difference.\n",
    "\n",
    "Hypothesis testing allows us to find interesting results and tendencies."
   ]
  },
  {
   "attachments": {},
   "cell_type": "markdown",
   "metadata": {},
   "source": [
    "There are two types of statistical hypotheses:\n",
    "\n",
    "### Null Hypothesis\n",
    "The null hypothesis, denoted as $H_0$, is the hypothesis that the sample data occurs purely from chance.\n",
    "\n",
    "A statement in hypothesis testing that assumes no effect or no difference, which researchers aim to disprove.\n",
    "\n",
    "### Alternative hypothesis\n",
    "The alternative hypothesis, denoted as $H_1$ or $H_a$, is the hypothesis that the sample data is influenced by some non-random cause.\n",
    "\n",
    "The alternative hypothesis is a statement that contradicts the null hypothesis and suggests that there is a significant difference or relationship between variables."
   ]
  },
  {
   "cell_type": "markdown",
   "metadata": {},
   "source": [
    "### P-value\n",
    "\n",
    "The probability of obtaining test results at least as extreme as those observed, assuming the null hypothesis is true.\n",
    "\n",
    "$ H_0 $: Let's assume that a coin is a fair coin.\n",
    "\n",
    "$ H_1 $: The coin is not a fair coin.\n",
    "\n",
    "Test:\n",
    "\n",
    "Toss the coin and see if it gives us tails. Let's say it gives us tails at every toss.\n",
    "| Toss      | P-value   |\n",
    "| --------- | --------- |\n",
    "| 1 - Tails | 0.5       |\n",
    "| 2 - Tails | 0.25      |\n",
    "| 3 - Tails | 0.125     |\n",
    "| 4 - Tails | 0.0625    |\n",
    "| 5 - Tails | 0.03125   |\n",
    "| 6 - Tails | 0.015625  |\n",
    "\n",
    "\n",
    "P-value is used to determine whether to reject the null hypothesis or not.\n",
    "\n",
    "1. Set a significance level ($ \\alpha $), typically 0.05. This threshold means that there's only a 5% probability of obtaining results at least as extreme as those observed, given the null hypothesis is true.\n",
    "\n",
    "2. Calculate the P-value: Obtain the probability of the observations given that the null hypothesis holds true.\n",
    "\n",
    "3. Compare P-value to $ \\alpha $.\n",
    "   - If p-value < $ \\alpha $: Reject the null hypothesis.\n",
    "   - If p-value > $ \\alpha $: Fail to reject the null hypothesis.\n",
    "\n",
    "If we fail to reject the null hypothesis, it means that our results are not statistically significant."
   ]
  },
  {
   "cell_type": "markdown",
   "metadata": {},
   "source": [
    "5 consecutive tails has a p-value of 0.03, which is below our $ \\alpha = 0.05 $, giving us enough confidence to reject the null hypothesis. It means our observations are statistically significant."
   ]
  }
 ],
 "metadata": {
  "kernelspec": {
   "display_name": "tensorflow_exp",
   "language": "python",
   "name": "python3"
  },
  "language_info": {
   "codemirror_mode": {
    "name": "ipython",
    "version": 3
   },
   "file_extension": ".py",
   "mimetype": "text/x-python",
   "name": "python",
   "nbconvert_exporter": "python",
   "pygments_lexer": "ipython3",
   "version": "3.9.7"
  },
  "orig_nbformat": 4
 },
 "nbformat": 4,
 "nbformat_minor": 2
}

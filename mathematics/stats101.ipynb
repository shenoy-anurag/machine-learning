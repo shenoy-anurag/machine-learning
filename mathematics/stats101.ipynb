{
 "cells": [
  {
   "cell_type": "code",
   "execution_count": 2,
   "metadata": {},
   "outputs": [],
   "source": [
    "import math\n",
    "import copy\n",
    "import statistics\n",
    "import numpy as np\n",
    "import pandas as pd\n",
    "\n",
    "import matplotlib.pyplot as plt\n",
    "import seaborn as sns"
   ]
  },
  {
   "attachments": {},
   "cell_type": "markdown",
   "metadata": {},
   "source": [
    "### Height and Weight Dataset\n",
    "https://www.kaggle.com/datasets/burnoutminer/heights-and-weights-dataset\n",
    "\n",
    "Original source: http://socr.ucla.edu/docs/resources/SOCR_Data/SOCR_Data_Dinov_020108_HeightsWeights.html\n",
    "\n",
    "Download and extract csv to `/data` folder."
   ]
  },
  {
   "cell_type": "code",
   "execution_count": 3,
   "metadata": {},
   "outputs": [],
   "source": [
    "df = pd.read_csv(\"../data/SOCR-HeightWeight.csv\")"
   ]
  },
  {
   "cell_type": "code",
   "execution_count": 4,
   "metadata": {},
   "outputs": [
    {
     "data": {
      "text/html": [
       "<div>\n",
       "<style scoped>\n",
       "    .dataframe tbody tr th:only-of-type {\n",
       "        vertical-align: middle;\n",
       "    }\n",
       "\n",
       "    .dataframe tbody tr th {\n",
       "        vertical-align: top;\n",
       "    }\n",
       "\n",
       "    .dataframe thead th {\n",
       "        text-align: right;\n",
       "    }\n",
       "</style>\n",
       "<table border=\"1\" class=\"dataframe\">\n",
       "  <thead>\n",
       "    <tr style=\"text-align: right;\">\n",
       "      <th></th>\n",
       "      <th>Index</th>\n",
       "      <th>Height(Inches)</th>\n",
       "      <th>Weight(Pounds)</th>\n",
       "    </tr>\n",
       "  </thead>\n",
       "  <tbody>\n",
       "    <tr>\n",
       "      <th>0</th>\n",
       "      <td>1</td>\n",
       "      <td>65.78331</td>\n",
       "      <td>112.9925</td>\n",
       "    </tr>\n",
       "    <tr>\n",
       "      <th>1</th>\n",
       "      <td>2</td>\n",
       "      <td>71.51521</td>\n",
       "      <td>136.4873</td>\n",
       "    </tr>\n",
       "    <tr>\n",
       "      <th>2</th>\n",
       "      <td>3</td>\n",
       "      <td>69.39874</td>\n",
       "      <td>153.0269</td>\n",
       "    </tr>\n",
       "    <tr>\n",
       "      <th>3</th>\n",
       "      <td>4</td>\n",
       "      <td>68.21660</td>\n",
       "      <td>142.3354</td>\n",
       "    </tr>\n",
       "    <tr>\n",
       "      <th>4</th>\n",
       "      <td>5</td>\n",
       "      <td>67.78781</td>\n",
       "      <td>144.2971</td>\n",
       "    </tr>\n",
       "  </tbody>\n",
       "</table>\n",
       "</div>"
      ],
      "text/plain": [
       "   Index  Height(Inches)  Weight(Pounds)\n",
       "0      1        65.78331        112.9925\n",
       "1      2        71.51521        136.4873\n",
       "2      3        69.39874        153.0269\n",
       "3      4        68.21660        142.3354\n",
       "4      5        67.78781        144.2971"
      ]
     },
     "execution_count": 4,
     "metadata": {},
     "output_type": "execute_result"
    }
   ],
   "source": [
    "df.head()"
   ]
  },
  {
   "cell_type": "code",
   "execution_count": 5,
   "metadata": {},
   "outputs": [
    {
     "data": {
      "text/plain": [
       "array([167.0896074, 181.6486334, 176.2727996, ..., 164.334317 ,\n",
       "       171.5241172, 174.9491294])"
      ]
     },
     "execution_count": 5,
     "metadata": {},
     "output_type": "execute_result"
    }
   ],
   "source": [
    "heights = (df[\"Height(Inches)\"] * 2.54).to_numpy()\n",
    "heights"
   ]
  },
  {
   "cell_type": "code",
   "execution_count": 6,
   "metadata": {},
   "outputs": [
    {
     "data": {
      "text/plain": [
       "[167.0896074, 181.6486334, 176.2727996, 173.270164, 172.18103739999998]"
      ]
     },
     "execution_count": 6,
     "metadata": {},
     "output_type": "execute_result"
    }
   ],
   "source": [
    "heights_lst = heights.tolist()\n",
    "heights_lst[:5]"
   ]
  },
  {
   "cell_type": "code",
   "execution_count": 7,
   "metadata": {},
   "outputs": [
    {
     "name": "stdout",
     "output_type": "stream",
     "text": [
      "Number of data points: 25000\n"
     ]
    }
   ],
   "source": [
    "num_pts = len(heights_lst)\n",
    "print(\"Number of data points: {}\".format(num_pts))"
   ]
  },
  {
   "attachments": {},
   "cell_type": "markdown",
   "metadata": {},
   "source": [
    "Reference: https://www.statology.org/descriptive-inferential-statistics/\n",
    "\n",
    "# Descriptive Statistics\n",
    "In a nutshell, descriptive statistics aims to describe a chunk of raw data using summary statistics, graphs, and tables.\n",
    "\n",
    "\n",
    "There are three common forms of descriptive statistics:\n",
    "## 1. Summary statistics. \n",
    "These are statistics that summarize the data using a single number.\n",
    "\n",
    "## 2. Graphs. \n",
    "Graphs help us visualize data. Common types of graphs used to visualize data include boxplots, histograms, stem-and-leaf plots, and scatterplots.\n",
    "\n",
    "## 3. Tables. \n",
    "Tables can help us understand how data is distributed. One common type of table is a frequency table, which tells us how many data values fall within certain ranges. "
   ]
  },
  {
   "cell_type": "code",
   "execution_count": 8,
   "metadata": {},
   "outputs": [
    {
     "data": {
      "text/plain": [
       "<AxesSubplot:ylabel='Count'>"
      ]
     },
     "execution_count": 8,
     "metadata": {},
     "output_type": "execute_result"
    },
    {
     "data": {
      "image/png": "[encoded data removed]",
      "text/plain": [
       "<Figure size 720x504 with 1 Axes>"
      ]
     },
     "metadata": {
      "needs_background": "light"
     },
     "output_type": "display_data"
    }
   ],
   "source": [
    "plt.figure(figsize=(10, 7))\n",
    "hp = sns.histplot(heights, binwidth=0.5)\n",
    "hp"
   ]
  },
  {
   "attachments": {},
   "cell_type": "markdown",
   "metadata": {},
   "source": [
    "As we can see, this data follow a normal distribution.\n",
    "\n",
    "Let's calculate the mean, median, mode and other statistics from this data using plain python, using the statistics library and finally using numpy."
   ]
  },
  {
   "attachments": {},
   "cell_type": "markdown",
   "metadata": {},
   "source": [
    "## Summary statistics\n",
    "There are two types of summary statistics:\n",
    "### 1. Measures of central tendency\n",
    "These numbers describe the center of the dataset. Examples are mean, median and mode.\n",
    "\n",
    "### 2. Measures of dispersion\n",
    "These numbers indicate how spread out the values are within the data. Examples are variance and standard deviation."
   ]
  },
  {
   "cell_type": "code",
   "execution_count": 9,
   "metadata": {},
   "outputs": [],
   "source": [
    "from collections import Counter\n",
    "from scipy import stats as st"
   ]
  },
  {
   "attachments": {},
   "cell_type": "markdown",
   "metadata": {},
   "source": [
    "### Measures of central tendency"
   ]
  },
  {
   "cell_type": "code",
   "execution_count": 10,
   "metadata": {},
   "outputs": [
    {
     "name": "stdout",
     "output_type": "stream",
     "text": [
      "Mean: \n",
      "\tUsing pure python: \t172.70250853587314\n",
      "\tUsing statistics: \t172.702508535872\n",
      "\tUsing numpy: \t\t172.702508535872\n"
     ]
    }
   ],
   "source": [
    "# Mean\n",
    "print(\"Mean: \")\n",
    "# Pure Python\n",
    "def calc_mean(data):\n",
    "    return sum(data)/len(data)\n",
    "\n",
    "mean = calc_mean(data=heights_lst)\n",
    "print(\"\\tUsing pure python: \\t{}\".format(mean))\n",
    "# Statistics library\n",
    "mean = statistics.mean(heights_lst)\n",
    "print(\"\\tUsing statistics: \\t{}\".format(mean))\n",
    "# Numpy library\n",
    "mean = np.mean(heights)\n",
    "print(\"\\tUsing numpy: \\t\\t{}\".format(mean))"
   ]
  },
  {
   "cell_type": "code",
   "execution_count": 11,
   "metadata": {},
   "outputs": [
    {
     "name": "stdout",
     "output_type": "stream",
     "text": [
      "Median: \n",
      "\tUsing pure python: \t172.709078\n",
      "\tUsing statistics: \t172.709078\n",
      "\tUsing numpy: \t\t172.709078\n"
     ]
    }
   ],
   "source": [
    "# Median\n",
    "print(\"Median: \")\n",
    "# Pure Python\n",
    "def calc_median(data_points):\n",
    "    data_points.sort()\n",
    "    len_data = len(data_points)\n",
    "    if len_data % 2 == 0:\n",
    "        mid = len_data//2 - 1\n",
    "        # print(\"mid, mid+1 = {}, {}\".format(mid + 1, mid + 2))\n",
    "        # print(data_points[mid])\n",
    "        return (data_points[mid] + data_points[mid + 1]) / 2\n",
    "    else:\n",
    "        mid = len_data//2\n",
    "        # print(\"mid = {}\".format(mid + 1))\n",
    "        return data_points[mid]\n",
    "\n",
    "median = calc_median(heights_lst)\n",
    "print(\"\\tUsing pure python: \\t{}\".format(median))\n",
    "# Statistics library\n",
    "median = statistics.median(heights_lst)\n",
    "print(\"\\tUsing statistics: \\t{}\".format(median))\n",
    "# Numpy library\n",
    "median = np.median(heights)\n",
    "print(\"\\tUsing numpy: \\t\\t{}\".format(median))"
   ]
  },
  {
   "cell_type": "code",
   "execution_count": 12,
   "metadata": {},
   "outputs": [
    {
     "name": "stdout",
     "output_type": "stream",
     "text": [
      "Mode: \n",
      "\tUsing pure python: \t166.7712184\n",
      "\tUsing statistics: \t166.7712184\n",
      "\tUsing scipy.stats: \t166.7712184\n"
     ]
    }
   ],
   "source": [
    "# Mode\n",
    "print(\"Mode: \")\n",
    "# Pure Python\n",
    "def find_mode(data):\n",
    "    counts = Counter(data)\n",
    "    mode = counts.most_common(1)[0][0]\n",
    "    return mode\n",
    "\n",
    "mode = find_mode(data=heights_lst)\n",
    "print(\"\\tUsing pure python: \\t{}\".format(mode))\n",
    "# Statistics library\n",
    "mode = statistics.mode(heights_lst)\n",
    "print(\"\\tUsing statistics: \\t{}\".format(mode))\n",
    "# Numpy library\n",
    "# There's no native way to find mode in numpy, so we can either use the statistics module or scipy.stats\n",
    "mode = st.mode(heights).mode[0]\n",
    "print(\"\\tUsing scipy.stats: \\t{}\".format(mode))"
   ]
  },
  {
   "attachments": {},
   "cell_type": "markdown",
   "metadata": {},
   "source": [
    "### Measures of dispersion"
   ]
  },
  {
   "cell_type": "code",
   "execution_count": 13,
   "metadata": {},
   "outputs": [
    {
     "name": "stdout",
     "output_type": "stream",
     "text": [
      "Range: \n",
      "\tUsing pure python: \t37.7810776\n",
      "\tUsing numpy: \t\t37.7810776\n"
     ]
    }
   ],
   "source": [
    "# Range\n",
    "print(\"Range: \")\n",
    "# Pure Python\n",
    "def calc_range(data):\n",
    "    max_v = max(data)\n",
    "    min_v = min(data)\n",
    "    n_range = max(heights_lst) - min(heights_lst)\n",
    "    return min_v, max_v, n_range    \n",
    "\n",
    "min_h, max_h, n_range = calc_range(data=heights_lst)\n",
    "print(\"\\tUsing pure python: \\t{}\".format(n_range))\n",
    "# Numpy library\n",
    "# There's no native way to find mode in numpy, so we can either use the statistics module or scipy.stats\n",
    "n_range = np.max(heights) - np.min(heights)\n",
    "print(\"\\tUsing numpy: \\t\\t{}\".format(n_range))"
   ]
  },
  {
   "cell_type": "code",
   "execution_count": 14,
   "metadata": {},
   "outputs": [
    {
     "name": "stdout",
     "output_type": "stream",
     "text": [
      "Interquartile Range: \n",
      "\tUsing pure python: \t169.4289982, 172.709078, 175.95335649999998\n",
      "\tUsing statistics: \t169.42905535, 172.709078, 175.95340095\n",
      "\tUsing numpy: \t\t169.42916965, 172.709078, 175.95331205\n"
     ]
    }
   ],
   "source": [
    "# Interquartile Range\n",
    "print(\"Interquartile Range: \")\n",
    "# Pure Python\n",
    "def find_median_points(data):\n",
    "    len_data = len(data)\n",
    "    if len_data % 2 == 0:\n",
    "        mid = len_data//2 - 1\n",
    "        return \"even\", mid, mid + 1\n",
    "    else:\n",
    "        mid = len_data//2\n",
    "        return \"odd\", mid, None\n",
    "\n",
    "def calc_quartile_range(data):\n",
    "    data_cpy = copy.deepcopy(data)\n",
    "    odd_even, idx1, idx2 = find_median_points(data_cpy)\n",
    "    median = calc_median(data_cpy)\n",
    "    lower_values = data_cpy[:idx1]\n",
    "    upper_values = data_cpy[idx1 + 1:]\n",
    "    q1 = calc_median(lower_values)\n",
    "    q3 = calc_median(upper_values)\n",
    "    return q1, median, q3\n",
    "\n",
    "\n",
    "q1, q2, q3 = calc_quartile_range(data=heights_lst)\n",
    "print(\"\\tUsing pure python: \\t{}, {}, {}\".format(q1, q2, q3))\n",
    "# Statistics library\n",
    "quantiles = statistics.quantiles(heights_lst)\n",
    "print(\"\\tUsing statistics: \\t{}, {}, {}\".format(quantiles[0], quantiles[1], quantiles[2]))\n",
    "# Numpy library\n",
    "q1 = np.quantile(heights, 0.25)\n",
    "q2 = np.quantile(heights, 0.5)\n",
    "q3 = np.quantile(heights, 0.75)\n",
    "print(\"\\tUsing numpy: \\t\\t{}, {}, {}\".format(q1, q2, q3))"
   ]
  },
  {
   "attachments": {},
   "cell_type": "markdown",
   "metadata": {},
   "source": [
    "### Variance\n",
    "Variance is defined as (denoted as $\\sigma^2$): \n",
    "\n",
    "$\\sigma^{2} = \\frac{1}{N}\\sum{(x_i – \\mu)^{2}}$\n",
    "\n",
    "where $\\mu$ is the population mean, $x_i$ is the $i^{th}$ element from the population, $N$ is the population size, and $\\sum$ is just a fancy symbol that means “sum.”\n"
   ]
  },
  {
   "cell_type": "code",
   "execution_count": 16,
   "metadata": {},
   "outputs": [
    {
     "name": "stdout",
     "output_type": "stream",
     "text": [
      "Variance: \n",
      "\tUsing pure python: \t23.330517813504205\n",
      "\tUsing statistics: \t23.33145107154699\n",
      "\tUsing numpy: \t\t23.33051781350413\n"
     ]
    }
   ],
   "source": [
    "# Variance\n",
    "print(\"Variance: \")\n",
    "# Pure Python\n",
    "def calc_variance(data):\n",
    "    mean = calc_mean(data)\n",
    "    differences = [x - mean for x in data]\n",
    "    variance = sum([x**2 for x in differences])/len(data)\n",
    "    return variance\n",
    "\n",
    "variance = calc_variance(data=heights_lst)\n",
    "print(\"\\tUsing pure python: \\t{}\".format(variance))\n",
    "# Statistics library\n",
    "variance = statistics.variance(heights_lst)\n",
    "print(\"\\tUsing statistics: \\t{}\".format(variance))\n",
    "# Numpy library\n",
    "variance = np.var(heights)\n",
    "print(\"\\tUsing numpy: \\t\\t{}\".format(variance))"
   ]
  },
  {
   "attachments": {},
   "cell_type": "markdown",
   "metadata": {},
   "source": [
    "### Standard Deviation\n",
    "The formula to find the standard deviation of a population (denoted as $\\sigma$ ) is:\n",
    "\n",
    "$\\sigma = \\sqrt{\\frac{1}{N}\\sum{(x_i – \\mu)^{2}}}$"
   ]
  },
  {
   "cell_type": "code",
   "execution_count": 17,
   "metadata": {},
   "outputs": [
    {
     "name": "stdout",
     "output_type": "stream",
     "text": [
      "Standard Deviation: \n",
      "\tUsing pure python: \t4.830167472614609\n",
      "\tUsing statistics: \t4.830264078862251\n",
      "\tUsing numpy: \t\t4.830167472614602\n"
     ]
    }
   ],
   "source": [
    "# Standard Deviation\n",
    "print(\"Standard Deviation: \")\n",
    "# Pure Python\n",
    "def calc_standard_deviation(data):\n",
    "    variance = calc_variance(data)\n",
    "    st_dev = math.sqrt(variance)\n",
    "    return st_dev\n",
    "\n",
    "stdv = calc_standard_deviation(data=heights_lst)\n",
    "print(\"\\tUsing pure python: \\t{}\".format(stdv))\n",
    "# Statistics library\n",
    "stdv = statistics.stdev(heights_lst)\n",
    "print(\"\\tUsing statistics: \\t{}\".format(stdv))\n",
    "# Numpy library\n",
    "stdv = np.std(heights)\n",
    "print(\"\\tUsing numpy: \\t\\t{}\".format(stdv))"
   ]
  },
  {
   "attachments": {},
   "cell_type": "markdown",
   "metadata": {},
   "source": [
    "# Inferential Statistics\n",
    "In a nutshell, inferential statistics uses a small sample of data to draw inferences about the larger population that the sample came from."
   ]
  },
  {
   "attachments": {},
   "cell_type": "markdown",
   "metadata": {},
   "source": [
    "## Hypothesis testing\n",
    "A statistical hypothesis is an assumption about a population parameter.\n",
    "\n",
    "Let's assume that the mean height of a human (male or female) is 5'6\".\n",
    "\n",
    "The assumption about the height is the statistical hypothesis and the true mean height of humans is the population parameter."
   ]
  },
  {
   "cell_type": "code",
   "execution_count": 25,
   "metadata": {},
   "outputs": [
    {
     "name": "stdout",
     "output_type": "stream",
     "text": [
      "Statistical Hypothesis: 167.64000000000001 \n",
      "&\n",
      "Population parameter: \t172.70250853587117\n"
     ]
    }
   ],
   "source": [
    "height_assumption = 5 * 12 + 6 # in inches\n",
    "height_assumption = height_assumption * 2.54\n",
    "true_mean = calc_mean(heights_lst)\n",
    "print(\"Statistical Hypothesis: {} \\n&\\nPopulation parameter: \\t{}\".format(height_assumption, true_mean))"
   ]
  },
  {
   "attachments": {},
   "cell_type": "markdown",
   "metadata": {},
   "source": [
    "So, we were close enough, but suppose this was good educated guess for height in a given sample, but we found say people on mars to be on average 5 inches taller, we might have a reason to explore the data to try to find correlations and potentially infer causes for the difference.\n",
    "\n",
    "Hypothesis testing allows us to find interesting results and tendencies."
   ]
  },
  {
   "attachments": {},
   "cell_type": "markdown",
   "metadata": {},
   "source": [
    "There are two types of statistical hypotheses:\n",
    "\n",
    "### Null Hypothesis\n",
    "The null hypothesis, denoted as $H_0$, is the hypothesis that the sample data occurs purely from chance.\n",
    "\n",
    "### Alternative hypothesis\n",
    "The alternative hypothesis, denoted as $H_1$ or $H_a$, is the hypothesis that the sample data is influenced by some non-random cause."
   ]
  },
  {
   "cell_type": "code",
   "execution_count": null,
   "metadata": {},
   "outputs": [],
   "source": []
  }
 ],
 "metadata": {
  "kernelspec": {
   "display_name": "tensorflow_exp",
   "language": "python",
   "name": "python3"
  },
  "language_info": {
   "codemirror_mode": {
    "name": "ipython",
    "version": 3
   },
   "file_extension": ".py",
   "mimetype": "text/x-python",
   "name": "python",
   "nbconvert_exporter": "python",
   "pygments_lexer": "ipython3",
   "version": "3.9.7"
  },
  "orig_nbformat": 4
 },
 "nbformat": 4,
 "nbformat_minor": 2
}

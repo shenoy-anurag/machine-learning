{
 "cells": [
  {
   "cell_type": "code",
   "execution_count": 1,
   "id": "bed7c561",
   "metadata": {},
   "outputs": [],
   "source": [
    "import os\n",
    "import tarfile\n",
    "import requests\n",
    "import numpy as np\n",
    "import pandas as pd\n",
    "import matplotlib.pyplot as plt # for data visualization purposes\n",
    "import seaborn as sns # for statistical data visualization\n",
    "import sklearn as sk\n",
    "%matplotlib inline\n",
    "\n",
    "# Use 3 decimal places in output display\n",
    "pd.set_option(\"display.precision\", 3)\n",
    "# Don't wrap repr(DataFrame) across additional lines\n",
    "pd.set_option(\"display.expand_frame_repr\", False)\n",
    "# Set max rows displayed in output to 25\n",
    "pd.set_option(\"display.max_rows\", 25)"
   ]
  },
  {
   "cell_type": "markdown",
   "id": "085a3801",
   "metadata": {},
   "source": [
    "### Downloading the data"
   ]
  },
  {
   "cell_type": "code",
   "execution_count": 2,
   "id": "50b3d02b",
   "metadata": {},
   "outputs": [
    {
     "name": "stdout",
     "output_type": "stream",
     "text": [
      "./data/20news-bydate-matlab.tgz\n"
     ]
    }
   ],
   "source": [
    "DATA_FOLDER = \"./data\"\n",
    "\n",
    "NEWSGROUP_DATASET_URL = \"http://qwone.com/~jason/20Newsgroups/20news-bydate-matlab.tgz\"\n",
    "gzip_file_name = NEWSGROUP_DATASET_URL.rsplit('/', 1)[1]\n",
    "NEWSGROUP_FOLDER_NAME = \"20news-bydate\"\n",
    "NEWSGROUP_FOLDER = os.path.join(DATA_FOLDER, NEWSGROUP_FOLDER_NAME)\n",
    "NEWSGROUP_GZIP_PATH = os.path.join(DATA_FOLDER, gzip_file_name)\n",
    "print(NEWSGROUP_GZIP_PATH)"
   ]
  },
  {
   "cell_type": "code",
   "execution_count": 3,
   "id": "9bb6efca",
   "metadata": {},
   "outputs": [
    {
     "name": "stdout",
     "output_type": "stream",
     "text": [
      "Downloaded zip file\n",
      "De-compressed Gzip file\n"
     ]
    }
   ],
   "source": [
    "# downloading the file\n",
    "if not os.path.exists(NEWSGROUP_GZIP_PATH):\n",
    "    req = requests.get(NEWSGROUP_DATASET_URL, allow_redirects=True)\n",
    "    # Writing the file to the local file system\n",
    "    with open(NEWSGROUP_GZIP_PATH, 'wb') as output_file:\n",
    "        output_file.write(req.content)\n",
    "    print(\"Downloaded zip file\")\n",
    "else:\n",
    "    print(\"Zip file already present\")\n",
    "\n",
    "# open file\n",
    "if not os.path.exists(NEWSGROUP_FOLDER):\n",
    "    with tarfile.open(NEWSGROUP_GZIP_PATH) as f:\n",
    "        # extracting file\n",
    "        f.extractall(DATA_FOLDER)\n",
    "    print(\"De-compressed Gzip file\")\n",
    "else:\n",
    "    print(\"Un-compressed folder already present\")"
   ]
  },
  {
   "cell_type": "markdown",
   "id": "3701dcf9",
   "metadata": {},
   "source": [
    "### Preparing Data"
   ]
  },
  {
   "cell_type": "code",
   "execution_count": 4,
   "id": "1832e485",
   "metadata": {},
   "outputs": [],
   "source": [
    "DATA_PATH = os.path.join(NEWSGROUP_FOLDER, \"matlab\")\n",
    "\n",
    "TRAIN_DATA_FILE = \"train.data\"\n",
    "TRAIN_LABEL_FILE = \"train.label\"\n",
    "TRAIN_MAP_FILE = \"train.map\"\n",
    "\n",
    "TEST_DATA_FILE = \"test.data\"\n",
    "TEST_LABEL_FILE = \"test.label\"\n",
    "TEST_MAP_FILE = \"test.map\"\n",
    "\n",
    "train_data_path = os.path.join(DATA_PATH, TRAIN_DATA_FILE)\n",
    "test_data_path = os.path.join(DATA_PATH, TEST_DATA_FILE)\n",
    "train_label_path = os.path.join(DATA_PATH, TRAIN_LABEL_FILE)\n",
    "test_label_path = os.path.join(DATA_PATH, TEST_LABEL_FILE)\n",
    "train_map_path = os.path.join(DATA_PATH, TRAIN_MAP_FILE)\n",
    "test_map_path = os.path.join(DATA_PATH, TEST_MAP_FILE)"
   ]
  },
  {
   "cell_type": "code",
   "execution_count": 5,
   "id": "37e4314f",
   "metadata": {},
   "outputs": [],
   "source": [
    "def read_data_file(file_path):\n",
    "    lines = None\n",
    "    with open(file_path, 'r') as f:\n",
    "        lines = f.read()\n",
    "    lines = lines.split(\"\\n\")\n",
    "    lines = [line for line in lines if line.strip()]\n",
    "    return lines\n",
    "\n",
    "def load_data(file_path):\n",
    "    df = pd.read_csv(file_path, names=[\"doc_id\", \"word_id\", \"count\"], sep=' ')\n",
    "    return df\n",
    "\n",
    "def load_labels(file_path):\n",
    "    df = pd.read_csv(file_path, names=[\"label_id\"], sep=' ')\n",
    "    return df\n",
    "\n",
    "def load_map(map_file_path):\n",
    "    train_map_dict = {}\n",
    "    train_map = read_data_file(map_file_path)\n",
    "    for line in train_map:\n",
    "        if line.strip():\n",
    "            k, v = line.split()\n",
    "            train_map_dict[k] = int(v)\n",
    "    return train_map_dict"
   ]
  },
  {
   "cell_type": "code",
   "execution_count": 6,
   "id": "d0d22104",
   "metadata": {},
   "outputs": [
    {
     "name": "stdout",
     "output_type": "stream",
     "text": [
      "         doc_id  word_id  count\n",
      "0             1        1      4\n",
      "1             1        2      2\n",
      "2             1        3     10\n",
      "3             1        4      4\n",
      "4             1        5      2\n",
      "...         ...      ...    ...\n",
      "1467340   11269    47387      1\n",
      "1467341   11269    48339      1\n",
      "1467342   11269    48919      1\n",
      "1467343   11269    51544      1\n",
      "1467344   11269    53958      1\n",
      "\n",
      "[1467345 rows x 3 columns]\n",
      "        doc_id  word_id  count\n",
      "0            1        3      1\n",
      "1            1       10      1\n",
      "2            1       12      8\n",
      "3            1       17      1\n",
      "4            1       23      8\n",
      "...        ...      ...    ...\n",
      "967869    7505    44515      1\n",
      "967870    7505    47720      1\n",
      "967871    7505    50324      1\n",
      "967872    7505    59935      1\n",
      "967873    7505    61188      2\n",
      "\n",
      "[967874 rows x 3 columns]\n"
     ]
    }
   ],
   "source": [
    "train_df = load_data(train_data_path)\n",
    "train_df.dropna()\n",
    "test_df = load_data(test_data_path)\n",
    "test_df.dropna()\n",
    "\n",
    "train_labels = load_labels(train_label_path)\n",
    "train_labels.dropna()\n",
    "test_labels = load_labels(test_label_path)\n",
    "test_labels.dropna()\n",
    "\n",
    "train_map = load_map(train_map_path)\n",
    "test_map = load_map(test_map_path)\n",
    "labels_to_label_ids = {**train_map, **test_map}\n",
    "label_ids_to_labels = dict([(v, k) for k, v in labels_to_label_ids.items()])\n",
    "del train_map\n",
    "del test_map\n",
    "\n",
    "print(train_df)\n",
    "print(test_df)"
   ]
  },
  {
   "cell_type": "code",
   "execution_count": 7,
   "id": "5ca4c432",
   "metadata": {},
   "outputs": [
    {
     "data": {
      "text/plain": "         doc_id  word_id  count  label_id\n0             1        1      4         1\n1             1        2      2         1\n2             1        3     10         1\n3             1        4      4         1\n4             1        5      2         1\n...         ...      ...    ...       ...\n1467128   11268    25975      2        20\n1467129   11268    27356      1        20\n1467130   11268    53958      1        20\n1467131   11268    53974      1        20\n1467132   11268    53975      1        20\n\n[1467133 rows x 4 columns]",
      "text/html": "<div>\n<style scoped>\n    .dataframe tbody tr th:only-of-type {\n        vertical-align: middle;\n    }\n\n    .dataframe tbody tr th {\n        vertical-align: top;\n    }\n\n    .dataframe thead th {\n        text-align: right;\n    }\n</style>\n<table border=\"1\" class=\"dataframe\">\n  <thead>\n    <tr style=\"text-align: right;\">\n      <th></th>\n      <th>doc_id</th>\n      <th>word_id</th>\n      <th>count</th>\n      <th>label_id</th>\n    </tr>\n  </thead>\n  <tbody>\n    <tr>\n      <th>0</th>\n      <td>1</td>\n      <td>1</td>\n      <td>4</td>\n      <td>1</td>\n    </tr>\n    <tr>\n      <th>1</th>\n      <td>1</td>\n      <td>2</td>\n      <td>2</td>\n      <td>1</td>\n    </tr>\n    <tr>\n      <th>2</th>\n      <td>1</td>\n      <td>3</td>\n      <td>10</td>\n      <td>1</td>\n    </tr>\n    <tr>\n      <th>3</th>\n      <td>1</td>\n      <td>4</td>\n      <td>4</td>\n      <td>1</td>\n    </tr>\n    <tr>\n      <th>4</th>\n      <td>1</td>\n      <td>5</td>\n      <td>2</td>\n      <td>1</td>\n    </tr>\n    <tr>\n      <th>...</th>\n      <td>...</td>\n      <td>...</td>\n      <td>...</td>\n      <td>...</td>\n    </tr>\n    <tr>\n      <th>1467128</th>\n      <td>11268</td>\n      <td>25975</td>\n      <td>2</td>\n      <td>20</td>\n    </tr>\n    <tr>\n      <th>1467129</th>\n      <td>11268</td>\n      <td>27356</td>\n      <td>1</td>\n      <td>20</td>\n    </tr>\n    <tr>\n      <th>1467130</th>\n      <td>11268</td>\n      <td>53958</td>\n      <td>1</td>\n      <td>20</td>\n    </tr>\n    <tr>\n      <th>1467131</th>\n      <td>11268</td>\n      <td>53974</td>\n      <td>1</td>\n      <td>20</td>\n    </tr>\n    <tr>\n      <th>1467132</th>\n      <td>11268</td>\n      <td>53975</td>\n      <td>1</td>\n      <td>20</td>\n    </tr>\n  </tbody>\n</table>\n<p>1467133 rows × 4 columns</p>\n</div>"
     },
     "execution_count": 7,
     "metadata": {},
     "output_type": "execute_result"
    }
   ],
   "source": [
    "train_df = pd.merge(train_df, train_labels, left_on=\"doc_id\", right_index=True)\n",
    "test_df = pd.merge(test_df, test_labels, left_on=\"doc_id\", right_index=True)\n",
    "train_df"
   ]
  },
  {
   "cell_type": "code",
   "execution_count": 8,
   "id": "0b37d577",
   "metadata": {},
   "outputs": [
    {
     "name": "stdout",
     "output_type": "stream",
     "text": [
      "count       292.000\n",
      "mean       5213.349\n",
      "std       11859.311\n",
      "min        1002.000\n",
      "25%        1293.250\n",
      "50%        1854.500\n",
      "75%        4353.000\n",
      "max      144419.000\n",
      "Name: total_word_count, dtype: float64\n"
     ]
    }
   ],
   "source": [
    "# Pruning data based on word count:\n",
    "# We will keep only those words which have appeared more than 1000 times in the training data.\n",
    "MIN_WORD_COUNT = 1000\n",
    "\n",
    "grouped = train_df.groupby(\"word_id\")\n",
    "grouped = grouped.agg(total_word_count=pd.NamedAgg(column=\"count\", aggfunc=\"sum\"))\n",
    "df = grouped.reset_index()\n",
    "above_1000 = df[df[\"total_word_count\"] > MIN_WORD_COUNT]\n",
    "print(above_1000[\"total_word_count\"].describe())\n",
    "\n",
    "# Words with more than 1000 total appearances\n",
    "final_word_list = above_1000[\"word_id\"].unique().tolist()\n",
    "N_WORDS = len(final_word_list)\n",
    "words_to_idx = dict([final_word_list[i], i] for i in range(len(final_word_list)))\n",
    "\n",
    "# Prune train df\n",
    "df = train_df[\"word_id\"].isin(final_word_list)\n",
    "train_df = train_df[df]\n",
    "# Prune test df\n",
    "df = test_df[\"word_id\"].isin(final_word_list)\n",
    "test_df = test_df[df]\n",
    "\n",
    "# # Prune labels\n",
    "# train_labels = train_labels[train_labels.index.isin(train_df.index)]\n",
    "# test_labels = test_labels[test_labels.index.isin(test_df.index)]"
   ]
  },
  {
   "cell_type": "code",
   "execution_count": 9,
   "id": "dcc6d86f",
   "metadata": {},
   "outputs": [
    {
     "name": "stdout",
     "output_type": "stream",
     "text": [
      "18760 [1, 1, 2, 2, 3]\n"
     ]
    }
   ],
   "source": [
    "train_doc_ids = train_df[\"doc_id\"].unique().tolist()\n",
    "test_doc_ids = test_df[\"doc_id\"].unique().tolist()\n",
    "final_doc_id_list = train_doc_ids + test_doc_ids\n",
    "final_doc_id_list.sort()\n",
    "\n",
    "del train_doc_ids\n",
    "del test_doc_ids\n",
    "print(len(final_doc_id_list), final_doc_id_list[:5])"
   ]
  },
  {
   "cell_type": "code",
   "execution_count": 10,
   "id": "431b1390",
   "metadata": {},
   "outputs": [],
   "source": [
    "def encode_doc_bernoulli(n_words, doc_group):\n",
    "    word_counts_enc_list = np.zeros(n_words, dtype=np.int32)\n",
    "    for row in doc_group.itertuples(index=False):\n",
    "        word_counts_enc_list[words_to_idx[row[1]]] = 1\n",
    "    return word_counts_enc_list\n",
    "\n",
    "def encode_doc_multinomial(n_words, doc_group):\n",
    "    word_counts_enc_list = np.zeros(n_words, dtype=np.int32)\n",
    "    for row in doc_group.itertuples(index=False):\n",
    "        word_counts_enc_list[words_to_idx[row[1]]] = row[2]\n",
    "    return word_counts_enc_list\n",
    "    \n",
    "def encode_documents(df, group_col, n_words, enc_type=\"Bernoulli\"):\n",
    "    docs_word_count_list = []\n",
    "\n",
    "    doc_ids = df[group_col].unique().tolist()\n",
    "    doc_ids.sort()\n",
    "    grouped = df.groupby(group_col)\n",
    "    \n",
    "    if enc_type == \"Bernoulli\":\n",
    "        enc_fn = encode_doc_bernoulli\n",
    "    elif enc_type == \"Multinomial\":\n",
    "        enc_fn = encode_doc_multinomial\n",
    "    else:\n",
    "        enc_fn = encode_doc_bernoulli\n",
    "    \n",
    "    for doc_id in doc_ids:\n",
    "        group = grouped.get_group(doc_id)\n",
    "        word_counts_enc_list = enc_fn(n_words, group)\n",
    "        docs_word_count_list.append(word_counts_enc_list)\n",
    "    return docs_word_count_list\n",
    "\n",
    "def get_labels_for_doc_ids(df):\n",
    "    labels = []\n",
    "    doc_ids = df[\"doc_id\"].unique().tolist()\n",
    "    grouped = df.groupby(\"doc_id\")\n",
    "    for doc_id in doc_ids:\n",
    "        group = grouped.get_group(doc_id)\n",
    "        labels.append(group.iloc[0,3])\n",
    "    return labels"
   ]
  },
  {
   "cell_type": "markdown",
   "id": "a470822c",
   "metadata": {},
   "source": [
    "### a) Naive Bayes model (Tom Mitchell) using Bernoulli NB"
   ]
  },
  {
   "cell_type": "code",
   "execution_count": 11,
   "id": "eb415078",
   "metadata": {},
   "outputs": [],
   "source": [
    "# Imports for clasification\n",
    "from sklearn.naive_bayes import BernoulliNB\n",
    "from sklearn import metrics"
   ]
  },
  {
   "cell_type": "code",
   "execution_count": 12,
   "id": "175a23a1",
   "metadata": {},
   "outputs": [],
   "source": [
    "x_train = np.array(encode_documents(train_df, group_col=\"doc_id\", n_words=N_WORDS, enc_type=\"Bernoulli\"))\n",
    "x_test = np.array(encode_documents(test_df, group_col=\"doc_id\", n_words=N_WORDS, enc_type=\"Bernoulli\"))\n",
    "y_train = np.array(get_labels_for_doc_ids(train_df))\n",
    "y_test = np.array(get_labels_for_doc_ids(test_df))"
   ]
  },
  {
   "cell_type": "code",
   "execution_count": 13,
   "id": "d3590589",
   "metadata": {},
   "outputs": [
    {
     "name": "stdout",
     "output_type": "stream",
     "text": [
      "BernoulliNB(binarize=False)\n"
     ]
    }
   ],
   "source": [
    "# Classification using Bernoulli Naive Bayes\n",
    "bnb_model = BernoulliNB(binarize=False)\n",
    "bnb_model.fit(x_train, y_train)\n",
    "print(bnb_model)"
   ]
  },
  {
   "cell_type": "code",
   "execution_count": 14,
   "id": "ad8d1c51",
   "metadata": {},
   "outputs": [
    {
     "name": "stdout",
     "output_type": "stream",
     "text": [
      "Bernoulli Naive Bayes has an accuracy of 28.41% against the test set.\n"
     ]
    }
   ],
   "source": [
    "# Testing BernoulliNB model\n",
    "y_pred = bnb_model.predict(x_test)\n",
    "test_accuracy = metrics.accuracy_score(y_test, y_pred)\n",
    "print(\"Bernoulli Naive Bayes has an accuracy of {:.2f}%\".format(float(test_accuracy) * 100), \"against the test set.\")"
   ]
  },
  {
   "cell_type": "markdown",
   "id": "67ae72af",
   "metadata": {},
   "source": [
    "### b) Multinomial Naive Bayes Model"
   ]
  },
  {
   "cell_type": "code",
   "execution_count": 15,
   "id": "66e1ed2b",
   "metadata": {},
   "outputs": [],
   "source": [
    "# Imports for clasification\n",
    "from sklearn.naive_bayes import MultinomialNB\n",
    "from sklearn import metrics"
   ]
  },
  {
   "cell_type": "code",
   "execution_count": 16,
   "id": "10892b21",
   "metadata": {},
   "outputs": [],
   "source": [
    "x_train = np.array(encode_documents(train_df, group_col=\"doc_id\", n_words=N_WORDS, enc_type=\"Multinomial\"))\n",
    "x_test = np.array(encode_documents(test_df, group_col=\"doc_id\", n_words=N_WORDS, enc_type=\"Multinomial\"))\n",
    "y_train = np.array(get_labels_for_doc_ids(train_df))\n",
    "y_test = np.array(get_labels_for_doc_ids(test_df))"
   ]
  },
  {
   "cell_type": "code",
   "execution_count": 17,
   "id": "2cae8fb5",
   "metadata": {},
   "outputs": [
    {
     "name": "stdout",
     "output_type": "stream",
     "text": [
      "MultinomialNB()\n"
     ]
    }
   ],
   "source": [
    "mn_model = MultinomialNB()\n",
    "mn_model.fit(x_train, y_train)\n",
    "print(mn_model)"
   ]
  },
  {
   "cell_type": "code",
   "execution_count": 18,
   "id": "67be60be",
   "metadata": {},
   "outputs": [
    {
     "name": "stdout",
     "output_type": "stream",
     "text": [
      "Multinomial Naive Bayes has an accuracy of 39.02% against the test set.\n"
     ]
    }
   ],
   "source": [
    "# Testing Multinomial Naive Bayes\n",
    "y_pred = mn_model.predict(x_test)\n",
    "test_accuracy = metrics.accuracy_score(y_test, y_pred)\n",
    "print(\"Multinomial Naive Bayes has an accuracy of {:.2f}%\".format(float(test_accuracy) * 100), \"against the test set.\")"
   ]
  },
  {
   "cell_type": "markdown",
   "id": "ca7715f0",
   "metadata": {},
   "source": [
    "### c) TF-IDF Linear Discriminant Analysis Model"
   ]
  },
  {
   "cell_type": "code",
   "execution_count": 19,
   "id": "ba39bf44",
   "metadata": {},
   "outputs": [],
   "source": [
    "from sklearn.feature_extraction.text import TfidfTransformer\n",
    "from sklearn.discriminant_analysis import LinearDiscriminantAnalysis"
   ]
  },
  {
   "cell_type": "code",
   "execution_count": 20,
   "id": "d31bceeb",
   "metadata": {},
   "outputs": [],
   "source": [
    "x_train = np.array(encode_documents(train_df, group_col=\"doc_id\", n_words=N_WORDS, enc_type=\"Multinomial\"))\n",
    "x_test = np.array(encode_documents(test_df, group_col=\"doc_id\", n_words=N_WORDS, enc_type=\"Multinomial\"))\n",
    "y_train = np.array(get_labels_for_doc_ids(train_df))\n",
    "y_test = np.array(get_labels_for_doc_ids(test_df))"
   ]
  },
  {
   "cell_type": "code",
   "execution_count": 21,
   "id": "8786f93e",
   "metadata": {},
   "outputs": [
    {
     "data": {
      "text/plain": "array([[0.04079175, 0.01761314, 0.06933421, ..., 0.        , 0.        ,\n        0.        ],\n       [0.        , 0.        , 0.        , ..., 0.        , 0.        ,\n        0.        ],\n       [0.        , 0.        , 0.        , ..., 0.        , 0.        ,\n        0.        ],\n       ...,\n       [0.        , 0.        , 0.        , ..., 0.        , 0.        ,\n        0.        ],\n       [0.        , 0.        , 0.        , ..., 0.        , 0.        ,\n        0.        ],\n       [0.        , 0.        , 0.        , ..., 0.        , 0.        ,\n        0.        ]])"
     },
     "execution_count": 21,
     "metadata": {},
     "output_type": "execute_result"
    }
   ],
   "source": [
    "# TF-IDF processing:\n",
    "tfidf_transformer = TfidfTransformer()\n",
    "# train data processing\n",
    "x_train = tfidf_transformer.fit_transform(x_train).toarray()\n",
    "# test data processing\n",
    "x_test = tfidf_transformer.transform(x_test).toarray()\n",
    "x_train"
   ]
  },
  {
   "cell_type": "code",
   "execution_count": 22,
   "id": "6dea9b0b",
   "metadata": {},
   "outputs": [
    {
     "data": {
      "text/plain": "LinearDiscriminantAnalysis()"
     },
     "execution_count": 22,
     "metadata": {},
     "output_type": "execute_result"
    }
   ],
   "source": [
    "clf = LinearDiscriminantAnalysis()\n",
    "clf.fit(x_train, y_train)"
   ]
  },
  {
   "cell_type": "code",
   "execution_count": 23,
   "id": "3f4288b6",
   "metadata": {},
   "outputs": [
    {
     "name": "stdout",
     "output_type": "stream",
     "text": [
      "LDA model accuracy: 53.73%  on training data.\n"
     ]
    }
   ],
   "source": [
    "y_pred = clf.predict(x_train)\n",
    "test_accuracy = metrics.accuracy_score(y_train, y_pred)\n",
    "print(\"LDA model accuracy: {:.2f}%\".format(float(test_accuracy) * 100), \" on training data.\")"
   ]
  },
  {
   "cell_type": "code",
   "execution_count": 24,
   "id": "4703e862",
   "metadata": {},
   "outputs": [
    {
     "name": "stdout",
     "output_type": "stream",
     "text": [
      "LDA model accuracy: 41.30%  on test data.\n"
     ]
    }
   ],
   "source": [
    "y_pred = clf.predict(x_test)\n",
    "test_accuracy = metrics.accuracy_score(y_test, y_pred)\n",
    "print(\"LDA model accuracy: {:.2f}%\".format(float(test_accuracy) * 100), \" on test data.\")"
   ]
  },
  {
   "cell_type": "markdown",
   "id": "0904b55f",
   "metadata": {},
   "source": [
    "### d) Least Squares Model"
   ]
  },
  {
   "cell_type": "code",
   "execution_count": 25,
   "id": "976ed0ef",
   "metadata": {},
   "outputs": [],
   "source": [
    "from sklearn.preprocessing import OneHotEncoder\n",
    "from sklearn import linear_model"
   ]
  },
  {
   "cell_type": "code",
   "execution_count": 26,
   "id": "5e1ce77c",
   "metadata": {},
   "outputs": [],
   "source": [
    "# Preparing train and test datasets\n",
    "x_train = np.array(encode_documents(train_df, group_col=\"doc_id\", n_words=N_WORDS, enc_type=\"Multinomial\"))\n",
    "x_test = np.array(encode_documents(test_df, group_col=\"doc_id\", n_words=N_WORDS, enc_type=\"Multinomial\"))\n",
    "y_train = np.array(get_labels_for_doc_ids(train_df))\n",
    "y_test = np.array(get_labels_for_doc_ids(test_df))"
   ]
  },
  {
   "cell_type": "code",
   "execution_count": 27,
   "id": "60c4652c",
   "metadata": {},
   "outputs": [],
   "source": [
    "# TF-IDF processing:\n",
    "tfidf_transformer = TfidfTransformer()\n",
    "# train data processing\n",
    "x_train = tfidf_transformer.fit_transform(x_train).toarray()\n",
    "# test data processing\n",
    "x_test = tfidf_transformer.transform(x_test).toarray()"
   ]
  },
  {
   "cell_type": "code",
   "execution_count": 28,
   "id": "70ec8cdc",
   "metadata": {},
   "outputs": [
    {
     "name": "stdout",
     "output_type": "stream",
     "text": [
      "(11259, 293) (7501, 293)\n"
     ]
    }
   ],
   "source": [
    "# Append 1.0 to every doc vector.\n",
    "one_vec = np.ones((x_train.shape[0],)).reshape(-1, 1)\n",
    "x_train = np.hstack((x_train, one_vec))\n",
    "\n",
    "one_vec = np.ones((x_test.shape[0],)).reshape(-1, 1)\n",
    "x_test = np.hstack((x_test, one_vec))\n",
    "print(x_train.shape, x_test.shape)"
   ]
  },
  {
   "cell_type": "code",
   "execution_count": 29,
   "id": "72ce4d36",
   "metadata": {},
   "outputs": [
    {
     "data": {
      "text/plain": "array([[1., 0., 0., ..., 0., 0., 0.],\n       [1., 0., 0., ..., 0., 0., 0.],\n       [1., 0., 0., ..., 0., 0., 0.],\n       ...,\n       [0., 0., 0., ..., 0., 0., 1.],\n       [0., 0., 0., ..., 0., 0., 1.],\n       [0., 0., 0., ..., 0., 0., 1.]])"
     },
     "execution_count": 29,
     "metadata": {},
     "output_type": "execute_result"
    }
   ],
   "source": [
    "# OneHotEncode the labels for training\n",
    "all_labels = list(label_ids_to_labels.keys())\n",
    "all_labels.sort()\n",
    "all_labels = np.array(all_labels)\n",
    "\n",
    "onehot_encoder = OneHotEncoder()\n",
    "onehot_labels = all_labels.reshape(-1, 1)\n",
    "onehot_encoder.fit(onehot_labels)\n",
    "y_train = onehot_encoder.transform(y_train.reshape(-1, 1)).toarray()\n",
    "y_train"
   ]
  },
  {
   "cell_type": "code",
   "execution_count": 30,
   "id": "463aabea",
   "metadata": {},
   "outputs": [
    {
     "name": "stderr",
     "output_type": "stream",
     "text": [
      "/var/folders/9y/ln_z5wqj0j33qrhqjlvsvzzh0000gn/T/ipykernel_61656/3481677689.py:1: FutureWarning: `rcond` parameter will change to the default of machine precision times ``max(M, N)`` where M and N are the input matrix dimensions.\n",
      "To use the future default and silence this warning we advise to pass `rcond=None`, to keep using the old, explicitly pass `rcond=-1`.\n",
      "  w = np.linalg.lstsq(x_train, y_train)\n"
     ]
    }
   ],
   "source": [
    "w = np.linalg.lstsq(x_train, y_train)"
   ]
  },
  {
   "cell_type": "code",
   "execution_count": 31,
   "outputs": [
    {
     "data": {
      "text/plain": "(293, 20)"
     },
     "execution_count": 31,
     "metadata": {},
     "output_type": "execute_result"
    }
   ],
   "source": [
    "w[0].shape"
   ],
   "metadata": {
    "collapsed": false,
    "pycharm": {
     "name": "#%%\n"
    }
   }
  },
  {
   "cell_type": "code",
   "execution_count": 32,
   "id": "2615a34b",
   "metadata": {},
   "outputs": [],
   "source": [
    "res = np.matmul(x_test, w[0])"
   ]
  },
  {
   "cell_type": "code",
   "execution_count": 33,
   "id": "7ffddbc9",
   "metadata": {},
   "outputs": [
    {
     "data": {
      "text/plain": "array([ 1, 16,  1, ..., 18,  1, 16])"
     },
     "execution_count": 33,
     "metadata": {},
     "output_type": "execute_result"
    }
   ],
   "source": [
    "y_pred = np.array([all_labels[np.argmax(res[i])] for i in range(len(res))])\n",
    "y_pred"
   ]
  },
  {
   "cell_type": "code",
   "execution_count": 34,
   "id": "bb0631db",
   "metadata": {},
   "outputs": [
    {
     "name": "stdout",
     "output_type": "stream",
     "text": [
      "Least Squares regressor has an accuracy of 41.51% against the test set.\n"
     ]
    }
   ],
   "source": [
    "test_accuracy = metrics.accuracy_score(y_test, y_pred)\n",
    "print(\"Least Squares regressor has an accuracy of {:.2f}%\".format(float(test_accuracy) * 100), \"against the test set.\")"
   ]
  },
  {
   "cell_type": "code",
   "execution_count": 35,
   "id": "117f629e",
   "metadata": {},
   "outputs": [],
   "source": [
    "from sklearn.metrics import confusion_matrix, classification_report"
   ]
  },
  {
   "cell_type": "code",
   "execution_count": 36,
   "id": "8c1a30ce",
   "metadata": {},
   "outputs": [
    {
     "data": {
      "text/plain": "<AxesSubplot:>"
     },
     "execution_count": 36,
     "metadata": {},
     "output_type": "execute_result"
    },
    {
     "data": {
      "text/plain": "<Figure size 720x720 with 2 Axes>",
      "image/png": "[encoded data removed]"
     },
     "metadata": {
      "needs_background": "light"
     },
     "output_type": "display_data"
    }
   ],
   "source": [
    "cm = confusion_matrix(y_test, y_pred)\n",
    "\n",
    "label_names = [label_ids_to_labels[all_labels[i]] for i in range(len(all_labels))]\n",
    "\n",
    "cm_matrix = pd.DataFrame(data=cm, columns=label_names, index=label_names)\n",
    "\n",
    "plt.figure(figsize = (10, 10))\n",
    "sns.heatmap(cm_matrix, annot=True, square=True, fmt='d', cmap='YlGnBu')"
   ]
  },
  {
   "cell_type": "code",
   "execution_count": 37,
   "id": "64a22aa0",
   "metadata": {},
   "outputs": [
    {
     "name": "stdout",
     "output_type": "stream",
     "text": [
      "              precision    recall  f1-score   support\n",
      "\n",
      "           1       0.32      0.21      0.26       317\n",
      "           2       0.37      0.37      0.37       389\n",
      "           3       0.59      0.60      0.59       391\n",
      "           4       0.40      0.36      0.38       392\n",
      "           5       0.25      0.17      0.20       383\n",
      "           6       0.43      0.38      0.40       389\n",
      "           7       0.46      0.71      0.56       382\n",
      "           8       0.61      0.49      0.54       395\n",
      "           9       0.35      0.44      0.39       397\n",
      "          10       0.33      0.37      0.35       397\n",
      "          11       0.50      0.67      0.57       398\n",
      "          12       0.50      0.54      0.52       395\n",
      "          13       0.27      0.25      0.26       393\n",
      "          14       0.30      0.37      0.33       393\n",
      "          15       0.55      0.47      0.51       392\n",
      "          16       0.42      0.55      0.47       398\n",
      "          17       0.46      0.34      0.39       364\n",
      "          18       0.37      0.60      0.46       376\n",
      "          19       0.32      0.17      0.22       310\n",
      "          20       0.30      0.04      0.06       250\n",
      "\n",
      "    accuracy                           0.42      7501\n",
      "   macro avg       0.41      0.40      0.39      7501\n",
      "weighted avg       0.41      0.42      0.40      7501\n",
      "\n"
     ]
    }
   ],
   "source": [
    "print(classification_report(y_test, y_pred))"
   ]
  }
 ],
 "metadata": {
  "kernelspec": {
   "display_name": "Python [conda env:tensorflow_exp] *",
   "language": "python",
   "name": "conda-env-tensorflow_exp-py"
  },
  "language_info": {
   "codemirror_mode": {
    "name": "ipython",
    "version": 3
   },
   "file_extension": ".py",
   "mimetype": "text/x-python",
   "name": "python",
   "nbconvert_exporter": "python",
   "pygments_lexer": "ipython3",
   "version": "3.9.7"
  }
 },
 "nbformat": 4,
 "nbformat_minor": 5
}
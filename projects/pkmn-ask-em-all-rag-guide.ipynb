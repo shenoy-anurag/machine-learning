{
 "cells": [
  {
   "cell_type": "markdown",
   "id": "045574a4",
   "metadata": {
    "papermill": {
     "duration": 0.008312,
     "end_time": "2025-03-20T00:47:09.108165",
     "exception": false,
     "start_time": "2025-03-20T00:47:09.099853",
     "status": "completed"
    },
    "tags": []
   },
   "source": [
    "# Install LLM, RAG dependencies"
   ]
  },
  {
   "cell_type": "code",
   "execution_count": 1,
   "id": "193ffbb6",
   "metadata": {
    "execution": {
     "iopub.execute_input": "2025-03-20T00:47:09.124062Z",
     "iopub.status.busy": "2025-03-20T00:47:09.123748Z",
     "iopub.status.idle": "2025-03-20T00:47:09.133067Z",
     "shell.execute_reply": "2025-03-20T00:47:09.132130Z"
    },
    "papermill": {
     "duration": 0.01885,
     "end_time": "2025-03-20T00:47:09.134568",
     "exception": false,
     "start_time": "2025-03-20T00:47:09.115718",
     "status": "completed"
    },
    "tags": []
   },
   "outputs": [
    {
     "name": "stdout",
     "output_type": "stream",
     "text": [
      "-------------------------\n"
     ]
    }
   ],
   "source": [
    "#ignore warnings\n",
    "import warnings\n",
    "warnings.filterwarnings('ignore')\n",
    "print('-'*25)"
   ]
  },
  {
   "cell_type": "code",
   "execution_count": 2,
   "id": "84cbd31f",
   "metadata": {
    "execution": {
     "iopub.execute_input": "2025-03-20T00:47:09.151468Z",
     "iopub.status.busy": "2025-03-20T00:47:09.151156Z",
     "iopub.status.idle": "2025-03-20T00:47:25.837540Z",
     "shell.execute_reply": "2025-03-20T00:47:25.836117Z"
    },
    "papermill": {
     "duration": 16.696249,
     "end_time": "2025-03-20T00:47:25.839003",
     "exception": false,
     "start_time": "2025-03-20T00:47:09.142754",
     "status": "completed"
    },
    "tags": []
   },
   "outputs": [
    {
     "name": "stdout",
     "output_type": "stream",
     "text": [
      "\u001b[2K   \u001b[90m━━━━━━━━━━━━━━━━━━━━━━━━━━━━━━━━━━━━━━━━\u001b[0m \u001b[32m2.5/2.5 MB\u001b[0m \u001b[31m25.2 MB/s\u001b[0m eta \u001b[36m0:00:00\u001b[0m\r\n",
      "\u001b[2K   \u001b[90m━━━━━━━━━━━━━━━━━━━━━━━━━━━━━━━━━━━━━━━━\u001b[0m \u001b[32m136.5/136.5 kB\u001b[0m \u001b[31m7.6 MB/s\u001b[0m eta \u001b[36m0:00:00\u001b[0m\r\n",
      "\u001b[2K   \u001b[90m━━━━━━━━━━━━━━━━━━━━━━━━━━━━━━━━━━━━━━━━\u001b[0m \u001b[32m60.9/60.9 kB\u001b[0m \u001b[31m2.6 MB/s\u001b[0m eta \u001b[36m0:00:00\u001b[0m\r\n",
      "\u001b[2K   \u001b[90m━━━━━━━━━━━━━━━━━━━━━━━━━━━━━━━━━━━━━━━━\u001b[0m \u001b[32m1.0/1.0 MB\u001b[0m \u001b[31m34.0 MB/s\u001b[0m eta \u001b[36m0:00:00\u001b[0m\r\n",
      "\u001b[2K   \u001b[90m━━━━━━━━━━━━━━━━━━━━━━━━━━━━━━━━━━━━━━━━\u001b[0m \u001b[32m417.1/417.1 kB\u001b[0m \u001b[31m16.0 MB/s\u001b[0m eta \u001b[36m0:00:00\u001b[0m\r\n",
      "\u001b[2K   \u001b[90m━━━━━━━━━━━━━━━━━━━━━━━━━━━━━━━━━━━━━━━━\u001b[0m \u001b[32m41.2/41.2 kB\u001b[0m \u001b[31m2.0 MB/s\u001b[0m eta \u001b[36m0:00:00\u001b[0m\r\n",
      "\u001b[2K   \u001b[90m━━━━━━━━━━━━━━━━━━━━━━━━━━━━━━━━━━━━━━━━\u001b[0m \u001b[32m46.5/46.5 kB\u001b[0m \u001b[31m2.5 MB/s\u001b[0m eta \u001b[36m0:00:00\u001b[0m\r\n",
      "\u001b[2K   \u001b[90m━━━━━━━━━━━━━━━━━━━━━━━━━━━━━━━━━━━━━━━━\u001b[0m \u001b[32m580.2/580.2 kB\u001b[0m \u001b[31m19.4 MB/s\u001b[0m eta \u001b[36m0:00:00\u001b[0m\r\n",
      "\u001b[?25h\u001b[31mERROR: pip's dependency resolver does not currently take into account all the packages that are installed. This behaviour is the source of the following dependency conflicts.\r\n",
      "gcsfs 2024.10.0 requires fsspec==2024.10.0, but you have fsspec 2024.12.0 which is incompatible.\u001b[0m\u001b[31m\r\n",
      "\u001b[0mNote: you may need to restart the kernel to use updated packages.\n"
     ]
    }
   ],
   "source": [
    "%pip install --quiet --upgrade langchain-text-splitters langchain-community langgraph langchain-openai"
   ]
  },
  {
   "cell_type": "code",
   "execution_count": 3,
   "id": "3261290f",
   "metadata": {
    "execution": {
     "iopub.execute_input": "2025-03-20T00:47:25.857078Z",
     "iopub.status.busy": "2025-03-20T00:47:25.856734Z",
     "iopub.status.idle": "2025-03-20T00:47:25.880564Z",
     "shell.execute_reply": "2025-03-20T00:47:25.879479Z"
    },
    "papermill": {
     "duration": 0.03463,
     "end_time": "2025-03-20T00:47:25.882063",
     "exception": false,
     "start_time": "2025-03-20T00:47:25.847433",
     "status": "completed"
    },
    "tags": []
   },
   "outputs": [
    {
     "name": "stdout",
     "output_type": "stream",
     "text": [
      "pokdex-for-all-1025-pokemon-w-text-description\n",
      "\n",
      "pokedex.csv\n",
      "\n"
     ]
    }
   ],
   "source": [
    "from subprocess import check_output\n",
    "print(check_output([\"ls\", \"../input\"]).decode(\"utf8\"))\n",
    "print(check_output([\"ls\", \"../input/pokdex-for-all-1025-pokemon-w-text-description\"]).decode(\"utf8\"))"
   ]
  },
  {
   "cell_type": "code",
   "execution_count": 4,
   "id": "3957ed7e",
   "metadata": {
    "execution": {
     "iopub.execute_input": "2025-03-20T00:47:25.899097Z",
     "iopub.status.busy": "2025-03-20T00:47:25.898800Z",
     "iopub.status.idle": "2025-03-20T00:47:29.151238Z",
     "shell.execute_reply": "2025-03-20T00:47:29.150410Z"
    },
    "papermill": {
     "duration": 3.262443,
     "end_time": "2025-03-20T00:47:29.152712",
     "exception": false,
     "start_time": "2025-03-20T00:47:25.890269",
     "status": "completed"
    },
    "tags": []
   },
   "outputs": [
    {
     "name": "stdout",
     "output_type": "stream",
     "text": [
      "Python version: 3.10.12 (main, Nov  6 2024, 20:22:13) [GCC 11.4.0]\n",
      "NumPy version: 1.26.4\n",
      "pandas version: 2.2.3\n",
      "matplotlib version: 3.7.5\n"
     ]
    }
   ],
   "source": [
    "import sys\n",
    "import time\n",
    "from typing import List, Dict, Text, Optional\n",
    "import numpy as np\n",
    "import pandas as pd\n",
    "import matplotlib\n",
    "import matplotlib.pyplot as plt\n",
    "import seaborn as sns\n",
    "sns.set_theme(style=\"white\")\n",
    "\n",
    "print(\"Python version: {}\". format(sys.version))\n",
    "print(\"NumPy version: {}\". format(np.__version__))\n",
    "print(\"pandas version: {}\". format(pd.__version__))\n",
    "print(\"matplotlib version: {}\". format(matplotlib.__version__))"
   ]
  },
  {
   "cell_type": "markdown",
   "id": "2148b2d8",
   "metadata": {
    "papermill": {
     "duration": 0.007757,
     "end_time": "2025-03-20T00:47:29.169222",
     "exception": false,
     "start_time": "2025-03-20T00:47:29.161465",
     "status": "completed"
    },
    "tags": []
   },
   "source": [
    "# 1.0 Load data"
   ]
  },
  {
   "cell_type": "code",
   "execution_count": 5,
   "id": "5e575ecf",
   "metadata": {
    "execution": {
     "iopub.execute_input": "2025-03-20T00:47:29.187946Z",
     "iopub.status.busy": "2025-03-20T00:47:29.187477Z",
     "iopub.status.idle": "2025-03-20T00:47:29.191163Z",
     "shell.execute_reply": "2025-03-20T00:47:29.190333Z"
    },
    "papermill": {
     "duration": 0.014234,
     "end_time": "2025-03-20T00:47:29.192505",
     "exception": false,
     "start_time": "2025-03-20T00:47:29.178271",
     "status": "completed"
    },
    "tags": []
   },
   "outputs": [],
   "source": [
    "DATA_FILE_PATH = \"/kaggle/input/pokdex-for-all-1025-pokemon-w-text-description/pokedex.csv\""
   ]
  },
  {
   "cell_type": "code",
   "execution_count": 6,
   "id": "9ea78e38",
   "metadata": {
    "execution": {
     "iopub.execute_input": "2025-03-20T00:47:29.210659Z",
     "iopub.status.busy": "2025-03-20T00:47:29.210318Z",
     "iopub.status.idle": "2025-03-20T00:47:29.256148Z",
     "shell.execute_reply": "2025-03-20T00:47:29.255060Z"
    },
    "papermill": {
     "duration": 0.057028,
     "end_time": "2025-03-20T00:47:29.258320",
     "exception": false,
     "start_time": "2025-03-20T00:47:29.201292",
     "status": "completed"
    },
    "tags": []
   },
   "outputs": [
    {
     "data": {
      "text/html": [
       "<div>\n",
       "<style scoped>\n",
       "    .dataframe tbody tr th:only-of-type {\n",
       "        vertical-align: middle;\n",
       "    }\n",
       "\n",
       "    .dataframe tbody tr th {\n",
       "        vertical-align: top;\n",
       "    }\n",
       "\n",
       "    .dataframe thead th {\n",
       "        text-align: right;\n",
       "    }\n",
       "</style>\n",
       "<table border=\"1\" class=\"dataframe\">\n",
       "  <thead>\n",
       "    <tr style=\"text-align: right;\">\n",
       "      <th></th>\n",
       "      <th>id</th>\n",
       "      <th>name</th>\n",
       "      <th>height</th>\n",
       "      <th>weight</th>\n",
       "      <th>hp</th>\n",
       "      <th>attack</th>\n",
       "      <th>defense</th>\n",
       "      <th>s_attack</th>\n",
       "      <th>s_defense</th>\n",
       "      <th>speed</th>\n",
       "      <th>type</th>\n",
       "      <th>evo_set</th>\n",
       "      <th>info</th>\n",
       "    </tr>\n",
       "  </thead>\n",
       "  <tbody>\n",
       "    <tr>\n",
       "      <th>0</th>\n",
       "      <td>1</td>\n",
       "      <td>bulbasaur</td>\n",
       "      <td>7</td>\n",
       "      <td>69</td>\n",
       "      <td>45</td>\n",
       "      <td>49</td>\n",
       "      <td>49</td>\n",
       "      <td>65</td>\n",
       "      <td>65</td>\n",
       "      <td>45</td>\n",
       "      <td>{grass,poison}</td>\n",
       "      <td>1</td>\n",
       "      <td>A strange seed was planted on its back at birt...</td>\n",
       "    </tr>\n",
       "    <tr>\n",
       "      <th>1</th>\n",
       "      <td>2</td>\n",
       "      <td>ivysaur</td>\n",
       "      <td>10</td>\n",
       "      <td>130</td>\n",
       "      <td>60</td>\n",
       "      <td>62</td>\n",
       "      <td>63</td>\n",
       "      <td>80</td>\n",
       "      <td>80</td>\n",
       "      <td>60</td>\n",
       "      <td>{grass,poison}</td>\n",
       "      <td>1</td>\n",
       "      <td>When the bulb on its back grows large, it appe...</td>\n",
       "    </tr>\n",
       "    <tr>\n",
       "      <th>2</th>\n",
       "      <td>3</td>\n",
       "      <td>venusaur</td>\n",
       "      <td>20</td>\n",
       "      <td>1000</td>\n",
       "      <td>80</td>\n",
       "      <td>82</td>\n",
       "      <td>83</td>\n",
       "      <td>100</td>\n",
       "      <td>100</td>\n",
       "      <td>80</td>\n",
       "      <td>{grass,poison}</td>\n",
       "      <td>1</td>\n",
       "      <td>The plant blooms when it is absorbing solar en...</td>\n",
       "    </tr>\n",
       "    <tr>\n",
       "      <th>3</th>\n",
       "      <td>4</td>\n",
       "      <td>charmander</td>\n",
       "      <td>6</td>\n",
       "      <td>85</td>\n",
       "      <td>39</td>\n",
       "      <td>52</td>\n",
       "      <td>43</td>\n",
       "      <td>60</td>\n",
       "      <td>50</td>\n",
       "      <td>65</td>\n",
       "      <td>{fire}</td>\n",
       "      <td>2</td>\n",
       "      <td>Obviously prefers hot places. When it rains, s...</td>\n",
       "    </tr>\n",
       "    <tr>\n",
       "      <th>4</th>\n",
       "      <td>5</td>\n",
       "      <td>charmeleon</td>\n",
       "      <td>11</td>\n",
       "      <td>190</td>\n",
       "      <td>58</td>\n",
       "      <td>64</td>\n",
       "      <td>58</td>\n",
       "      <td>80</td>\n",
       "      <td>65</td>\n",
       "      <td>80</td>\n",
       "      <td>{fire}</td>\n",
       "      <td>2</td>\n",
       "      <td>When it swings its burning tail, it elevates t...</td>\n",
       "    </tr>\n",
       "  </tbody>\n",
       "</table>\n",
       "</div>"
      ],
      "text/plain": [
       "   id        name  height  weight  hp  attack  defense  s_attack  s_defense  \\\n",
       "0   1   bulbasaur       7      69  45      49       49        65         65   \n",
       "1   2     ivysaur      10     130  60      62       63        80         80   \n",
       "2   3    venusaur      20    1000  80      82       83       100        100   \n",
       "3   4  charmander       6      85  39      52       43        60         50   \n",
       "4   5  charmeleon      11     190  58      64       58        80         65   \n",
       "\n",
       "   speed            type  evo_set  \\\n",
       "0     45  {grass,poison}        1   \n",
       "1     60  {grass,poison}        1   \n",
       "2     80  {grass,poison}        1   \n",
       "3     65          {fire}        2   \n",
       "4     80          {fire}        2   \n",
       "\n",
       "                                                info  \n",
       "0  A strange seed was planted on its back at birt...  \n",
       "1  When the bulb on its back grows large, it appe...  \n",
       "2  The plant blooms when it is absorbing solar en...  \n",
       "3  Obviously prefers hot places. When it rains, s...  \n",
       "4  When it swings its burning tail, it elevates t...  "
      ]
     },
     "execution_count": 6,
     "metadata": {},
     "output_type": "execute_result"
    }
   ],
   "source": [
    "pokedex_df = pd.read_csv(DATA_FILE_PATH)\n",
    "\n",
    "pokedex_df.head()"
   ]
  },
  {
   "cell_type": "markdown",
   "id": "27a73751",
   "metadata": {
    "papermill": {
     "duration": 0.008492,
     "end_time": "2025-03-20T00:47:29.276442",
     "exception": false,
     "start_time": "2025-03-20T00:47:29.267950",
     "status": "completed"
    },
    "tags": []
   },
   "source": [
    "# 1.1 Describe data"
   ]
  },
  {
   "cell_type": "code",
   "execution_count": 7,
   "id": "4f0cd298",
   "metadata": {
    "execution": {
     "iopub.execute_input": "2025-03-20T00:47:29.294609Z",
     "iopub.status.busy": "2025-03-20T00:47:29.294194Z",
     "iopub.status.idle": "2025-03-20T00:47:29.332812Z",
     "shell.execute_reply": "2025-03-20T00:47:29.331659Z"
    },
    "papermill": {
     "duration": 0.04983,
     "end_time": "2025-03-20T00:47:29.334706",
     "exception": false,
     "start_time": "2025-03-20T00:47:29.284876",
     "status": "completed"
    },
    "tags": []
   },
   "outputs": [
    {
     "name": "stdout",
     "output_type": "stream",
     "text": [
      "<class 'pandas.core.frame.DataFrame'>\n",
      "RangeIndex: 1025 entries, 0 to 1024\n",
      "Data columns (total 13 columns):\n",
      " #   Column     Non-Null Count  Dtype \n",
      "---  ------     --------------  ----- \n",
      " 0   id         1025 non-null   int64 \n",
      " 1   name       1025 non-null   object\n",
      " 2   height     1025 non-null   int64 \n",
      " 3   weight     1025 non-null   int64 \n",
      " 4   hp         1025 non-null   int64 \n",
      " 5   attack     1025 non-null   int64 \n",
      " 6   defense    1025 non-null   int64 \n",
      " 7   s_attack   1025 non-null   int64 \n",
      " 8   s_defense  1025 non-null   int64 \n",
      " 9   speed      1025 non-null   int64 \n",
      " 10  type       1025 non-null   object\n",
      " 11  evo_set    1025 non-null   int64 \n",
      " 12  info       1025 non-null   object\n",
      "dtypes: int64(10), object(3)\n",
      "memory usage: 104.2+ KB\n"
     ]
    },
    {
     "data": {
      "text/plain": [
       "None"
      ]
     },
     "metadata": {},
     "output_type": "display_data"
    }
   ],
   "source": [
    "# Getting Info\n",
    "display(pokedex_df.info())"
   ]
  },
  {
   "cell_type": "code",
   "execution_count": 8,
   "id": "918b3c6c",
   "metadata": {
    "execution": {
     "iopub.execute_input": "2025-03-20T00:47:29.353897Z",
     "iopub.status.busy": "2025-03-20T00:47:29.353589Z",
     "iopub.status.idle": "2025-03-20T00:47:29.383855Z",
     "shell.execute_reply": "2025-03-20T00:47:29.382708Z"
    },
    "papermill": {
     "duration": 0.041505,
     "end_time": "2025-03-20T00:47:29.385233",
     "exception": false,
     "start_time": "2025-03-20T00:47:29.343728",
     "status": "completed"
    },
    "tags": []
   },
   "outputs": [
    {
     "data": {
      "text/html": [
       "<div>\n",
       "<style scoped>\n",
       "    .dataframe tbody tr th:only-of-type {\n",
       "        vertical-align: middle;\n",
       "    }\n",
       "\n",
       "    .dataframe tbody tr th {\n",
       "        vertical-align: top;\n",
       "    }\n",
       "\n",
       "    .dataframe thead th {\n",
       "        text-align: right;\n",
       "    }\n",
       "</style>\n",
       "<table border=\"1\" class=\"dataframe\">\n",
       "  <thead>\n",
       "    <tr style=\"text-align: right;\">\n",
       "      <th></th>\n",
       "      <th>id</th>\n",
       "      <th>height</th>\n",
       "      <th>weight</th>\n",
       "      <th>hp</th>\n",
       "      <th>attack</th>\n",
       "      <th>defense</th>\n",
       "      <th>s_attack</th>\n",
       "      <th>s_defense</th>\n",
       "      <th>speed</th>\n",
       "      <th>evo_set</th>\n",
       "    </tr>\n",
       "  </thead>\n",
       "  <tbody>\n",
       "    <tr>\n",
       "      <th>count</th>\n",
       "      <td>1025.000000</td>\n",
       "      <td>1025.000000</td>\n",
       "      <td>1025.000000</td>\n",
       "      <td>1025.000000</td>\n",
       "      <td>1025.000000</td>\n",
       "      <td>1025.000000</td>\n",
       "      <td>1025.000000</td>\n",
       "      <td>1025.000000</td>\n",
       "      <td>1025.000000</td>\n",
       "      <td>1025.000000</td>\n",
       "    </tr>\n",
       "    <tr>\n",
       "      <th>mean</th>\n",
       "      <td>513.000000</td>\n",
       "      <td>12.116098</td>\n",
       "      <td>669.865366</td>\n",
       "      <td>70.184390</td>\n",
       "      <td>77.521951</td>\n",
       "      <td>72.507317</td>\n",
       "      <td>70.080976</td>\n",
       "      <td>70.205854</td>\n",
       "      <td>67.186341</td>\n",
       "      <td>253.195122</td>\n",
       "    </tr>\n",
       "    <tr>\n",
       "      <th>std</th>\n",
       "      <td>296.036315</td>\n",
       "      <td>12.481673</td>\n",
       "      <td>1212.731138</td>\n",
       "      <td>26.631054</td>\n",
       "      <td>29.782541</td>\n",
       "      <td>29.286972</td>\n",
       "      <td>29.658378</td>\n",
       "      <td>26.639329</td>\n",
       "      <td>28.717227</td>\n",
       "      <td>159.505305</td>\n",
       "    </tr>\n",
       "    <tr>\n",
       "      <th>min</th>\n",
       "      <td>1.000000</td>\n",
       "      <td>1.000000</td>\n",
       "      <td>1.000000</td>\n",
       "      <td>1.000000</td>\n",
       "      <td>5.000000</td>\n",
       "      <td>5.000000</td>\n",
       "      <td>10.000000</td>\n",
       "      <td>20.000000</td>\n",
       "      <td>5.000000</td>\n",
       "      <td>1.000000</td>\n",
       "    </tr>\n",
       "    <tr>\n",
       "      <th>25%</th>\n",
       "      <td>257.000000</td>\n",
       "      <td>5.000000</td>\n",
       "      <td>85.000000</td>\n",
       "      <td>50.000000</td>\n",
       "      <td>55.000000</td>\n",
       "      <td>50.000000</td>\n",
       "      <td>47.000000</td>\n",
       "      <td>50.000000</td>\n",
       "      <td>45.000000</td>\n",
       "      <td>110.000000</td>\n",
       "    </tr>\n",
       "    <tr>\n",
       "      <th>50%</th>\n",
       "      <td>513.000000</td>\n",
       "      <td>10.000000</td>\n",
       "      <td>280.000000</td>\n",
       "      <td>68.000000</td>\n",
       "      <td>75.000000</td>\n",
       "      <td>70.000000</td>\n",
       "      <td>65.000000</td>\n",
       "      <td>67.000000</td>\n",
       "      <td>65.000000</td>\n",
       "      <td>257.000000</td>\n",
       "    </tr>\n",
       "    <tr>\n",
       "      <th>75%</th>\n",
       "      <td>769.000000</td>\n",
       "      <td>15.000000</td>\n",
       "      <td>700.000000</td>\n",
       "      <td>85.000000</td>\n",
       "      <td>100.000000</td>\n",
       "      <td>90.000000</td>\n",
       "      <td>90.000000</td>\n",
       "      <td>86.000000</td>\n",
       "      <td>88.000000</td>\n",
       "      <td>387.000000</td>\n",
       "    </tr>\n",
       "    <tr>\n",
       "      <th>max</th>\n",
       "      <td>1025.000000</td>\n",
       "      <td>200.000000</td>\n",
       "      <td>9999.000000</td>\n",
       "      <td>255.000000</td>\n",
       "      <td>181.000000</td>\n",
       "      <td>230.000000</td>\n",
       "      <td>173.000000</td>\n",
       "      <td>230.000000</td>\n",
       "      <td>200.000000</td>\n",
       "      <td>549.000000</td>\n",
       "    </tr>\n",
       "  </tbody>\n",
       "</table>\n",
       "</div>"
      ],
      "text/plain": [
       "                id       height       weight           hp       attack  \\\n",
       "count  1025.000000  1025.000000  1025.000000  1025.000000  1025.000000   \n",
       "mean    513.000000    12.116098   669.865366    70.184390    77.521951   \n",
       "std     296.036315    12.481673  1212.731138    26.631054    29.782541   \n",
       "min       1.000000     1.000000     1.000000     1.000000     5.000000   \n",
       "25%     257.000000     5.000000    85.000000    50.000000    55.000000   \n",
       "50%     513.000000    10.000000   280.000000    68.000000    75.000000   \n",
       "75%     769.000000    15.000000   700.000000    85.000000   100.000000   \n",
       "max    1025.000000   200.000000  9999.000000   255.000000   181.000000   \n",
       "\n",
       "           defense     s_attack    s_defense        speed      evo_set  \n",
       "count  1025.000000  1025.000000  1025.000000  1025.000000  1025.000000  \n",
       "mean     72.507317    70.080976    70.205854    67.186341   253.195122  \n",
       "std      29.286972    29.658378    26.639329    28.717227   159.505305  \n",
       "min       5.000000    10.000000    20.000000     5.000000     1.000000  \n",
       "25%      50.000000    47.000000    50.000000    45.000000   110.000000  \n",
       "50%      70.000000    65.000000    67.000000    65.000000   257.000000  \n",
       "75%      90.000000    90.000000    86.000000    88.000000   387.000000  \n",
       "max     230.000000   173.000000   230.000000   200.000000   549.000000  "
      ]
     },
     "execution_count": 8,
     "metadata": {},
     "output_type": "execute_result"
    }
   ],
   "source": [
    "pokedex_df.describe()"
   ]
  },
  {
   "cell_type": "markdown",
   "id": "01d02a74",
   "metadata": {
    "papermill": {
     "duration": 0.009026,
     "end_time": "2025-03-20T00:47:29.403582",
     "exception": false,
     "start_time": "2025-03-20T00:47:29.394556",
     "status": "completed"
    },
    "tags": []
   },
   "source": [
    "## Null values"
   ]
  },
  {
   "cell_type": "code",
   "execution_count": 9,
   "id": "2761aa15",
   "metadata": {
    "execution": {
     "iopub.execute_input": "2025-03-20T00:47:29.422130Z",
     "iopub.status.busy": "2025-03-20T00:47:29.421833Z",
     "iopub.status.idle": "2025-03-20T00:47:29.428630Z",
     "shell.execute_reply": "2025-03-20T00:47:29.427748Z"
    },
    "papermill": {
     "duration": 0.017668,
     "end_time": "2025-03-20T00:47:29.430115",
     "exception": false,
     "start_time": "2025-03-20T00:47:29.412447",
     "status": "completed"
    },
    "tags": []
   },
   "outputs": [
    {
     "data": {
      "text/plain": [
       "id           0\n",
       "name         0\n",
       "height       0\n",
       "weight       0\n",
       "hp           0\n",
       "attack       0\n",
       "defense      0\n",
       "s_attack     0\n",
       "s_defense    0\n",
       "speed        0\n",
       "type         0\n",
       "evo_set      0\n",
       "info         0\n",
       "dtype: int64"
      ]
     },
     "metadata": {},
     "output_type": "display_data"
    }
   ],
   "source": [
    "# Checking NULL values\n",
    "display(pokedex_df.isnull().sum())"
   ]
  },
  {
   "cell_type": "markdown",
   "id": "465b2890",
   "metadata": {
    "papermill": {
     "duration": 0.008632,
     "end_time": "2025-03-20T00:47:29.448327",
     "exception": false,
     "start_time": "2025-03-20T00:47:29.439695",
     "status": "completed"
    },
    "tags": []
   },
   "source": [
    "# 1.2 EDA\n",
    "## 1.2.1 Distribution of Height"
   ]
  },
  {
   "cell_type": "code",
   "execution_count": 10,
   "id": "d57fdc2c",
   "metadata": {
    "execution": {
     "iopub.execute_input": "2025-03-20T00:47:29.466729Z",
     "iopub.status.busy": "2025-03-20T00:47:29.466440Z",
     "iopub.status.idle": "2025-03-20T00:47:29.929825Z",
     "shell.execute_reply": "2025-03-20T00:47:29.928907Z"
    },
    "papermill": {
     "duration": 0.474524,
     "end_time": "2025-03-20T00:47:29.931448",
     "exception": false,
     "start_time": "2025-03-20T00:47:29.456924",
     "status": "completed"
    },
    "tags": []
   },
   "outputs": [
    {
     "data": {
      "image/png": "[encoded data removed]",
      "text/plain": [
       "<Figure size 1200x500 with 1 Axes>"
      ]
     },
     "metadata": {},
     "output_type": "display_data"
    }
   ],
   "source": [
    "# Plot: Distribution of Pokemon Height\n",
    "plt.figure(figsize=(12, 5))\n",
    "sns.histplot(pokedex_df['height'], bins=50, kde=True, label='Pokemon Height')\n",
    "plt.xlabel(\"Pokemon Height\")\n",
    "plt.ylabel(\"Frequency\")\n",
    "plt.title(\"Distribution of Pokemon Heights\")\n",
    "plt.xticks(rotation=90)\n",
    "plt.legend()\n",
    "plt.show()"
   ]
  },
  {
   "cell_type": "markdown",
   "id": "939b0688",
   "metadata": {
    "papermill": {
     "duration": 0.008834,
     "end_time": "2025-03-20T00:47:29.949864",
     "exception": false,
     "start_time": "2025-03-20T00:47:29.941030",
     "status": "completed"
    },
    "tags": []
   },
   "source": [
    "## 1.2.2 Distribution of Weight"
   ]
  },
  {
   "cell_type": "code",
   "execution_count": 11,
   "id": "d98f2034",
   "metadata": {
    "execution": {
     "iopub.execute_input": "2025-03-20T00:47:29.968803Z",
     "iopub.status.busy": "2025-03-20T00:47:29.968483Z",
     "iopub.status.idle": "2025-03-20T00:47:30.239858Z",
     "shell.execute_reply": "2025-03-20T00:47:30.238933Z"
    },
    "papermill": {
     "duration": 0.282358,
     "end_time": "2025-03-20T00:47:30.241045",
     "exception": false,
     "start_time": "2025-03-20T00:47:29.958687",
     "status": "completed"
    },
    "tags": []
   },
   "outputs": [
    {
     "data": {
      "image/png": "[encoded data removed]",
      "text/plain": [
       "<Figure size 1200x500 with 1 Axes>"
      ]
     },
     "metadata": {},
     "output_type": "display_data"
    }
   ],
   "source": [
    "# Plot: Distribution of Pokemon Weight\n",
    "plt.figure(figsize=(12, 5))\n",
    "sns.histplot(pokedex_df['weight'], bins=50, kde=True, label='Pokemon Weight')\n",
    "plt.xlabel(\"Pokemon Weight\")\n",
    "plt.ylabel(\"Frequency\")\n",
    "plt.title(\"Distribution of Pokemon Weights\")\n",
    "plt.xticks(rotation=90)\n",
    "plt.legend()\n",
    "plt.show()"
   ]
  },
  {
   "cell_type": "code",
   "execution_count": 12,
   "id": "8243e50c",
   "metadata": {
    "execution": {
     "iopub.execute_input": "2025-03-20T00:47:30.266444Z",
     "iopub.status.busy": "2025-03-20T00:47:30.266054Z",
     "iopub.status.idle": "2025-03-20T00:47:30.271797Z",
     "shell.execute_reply": "2025-03-20T00:47:30.270948Z"
    },
    "papermill": {
     "duration": 0.019183,
     "end_time": "2025-03-20T00:47:30.273011",
     "exception": false,
     "start_time": "2025-03-20T00:47:30.253828",
     "status": "completed"
    },
    "tags": []
   },
   "outputs": [
    {
     "name": "stdout",
     "output_type": "stream",
     "text": [
      "['id', 'height', 'weight', 'hp', 'attack', 'defense', 's_attack', 's_defense', 'speed', 'evo_set']\n"
     ]
    }
   ],
   "source": [
    "info = \"\"\"\n",
    " #   Column     Non-Null Count  Dtype \n",
    "---  ------     --------------  ----- \n",
    " 0   id         1025 non-null   int64 \n",
    " 1   name       1025 non-null   object\n",
    " 2   height     1025 non-null   int64 \n",
    " 3   weight     1025 non-null   int64 \n",
    " 4   hp         1025 non-null   int64 \n",
    " 5   attack     1025 non-null   int64 \n",
    " 6   defense    1025 non-null   int64 \n",
    " 7   s_attack   1025 non-null   int64 \n",
    " 8   s_defense  1025 non-null   int64 \n",
    " 9   speed      1025 non-null   int64 \n",
    " 10  type       1025 non-null   object\n",
    " 11  evo_set    1025 non-null   int64 \n",
    " 12  info       1025 non-null   object\n",
    "\"\"\"\n",
    "numerical_columns = [\n",
    "    line.strip().split()[1] for line in info.split(\"\\n\") \n",
    "    if line != '' and line.strip().split()[-1] in ['int64', 'float64']\n",
    "]\n",
    "print(numerical_columns)"
   ]
  },
  {
   "cell_type": "markdown",
   "id": "2ec49fdb",
   "metadata": {
    "papermill": {
     "duration": 0.009337,
     "end_time": "2025-03-20T00:47:30.292495",
     "exception": false,
     "start_time": "2025-03-20T00:47:30.283158",
     "status": "completed"
    },
    "tags": []
   },
   "source": [
    "## 1.2.3 Correlation between features"
   ]
  },
  {
   "cell_type": "code",
   "execution_count": 13,
   "id": "cc4730c0",
   "metadata": {
    "execution": {
     "iopub.execute_input": "2025-03-20T00:47:30.314687Z",
     "iopub.status.busy": "2025-03-20T00:47:30.314379Z",
     "iopub.status.idle": "2025-03-20T00:47:30.633321Z",
     "shell.execute_reply": "2025-03-20T00:47:30.632611Z"
    },
    "papermill": {
     "duration": 0.331169,
     "end_time": "2025-03-20T00:47:30.634497",
     "exception": false,
     "start_time": "2025-03-20T00:47:30.303328",
     "status": "completed"
    },
    "tags": []
   },
   "outputs": [
    {
     "data": {
      "text/plain": [
       "<Axes: >"
      ]
     },
     "execution_count": 13,
     "metadata": {},
     "output_type": "execute_result"
    },
    {
     "data": {
      "image/png": "[encoded data removed]",
      "text/plain": [
       "<Figure size 1100x900 with 2 Axes>"
      ]
     },
     "metadata": {},
     "output_type": "display_data"
    }
   ],
   "source": [
    "# Correlation matrix\n",
    "corr = pokedex_df[numerical_columns].corr()\n",
    "\n",
    "# Generate a mask for the upper triangle\n",
    "mask = np.triu(np.ones_like(corr, dtype=bool))\n",
    "\n",
    "f, ax = plt.subplots(figsize=(11, 9))\n",
    "\n",
    "# Generate a custom diverging colormap\n",
    "cmap = sns.diverging_palette(250, 10, as_cmap=True)\n",
    "\n",
    "# Draw the heatmap with the mask and correct aspect ratio\n",
    "sns.heatmap(corr, mask=mask, cmap=cmap, vmax=.3, center=0,\n",
    "            square=True, linewidths=.5, cbar_kws={\"shrink\": .5})"
   ]
  },
  {
   "cell_type": "markdown",
   "id": "21819ebc",
   "metadata": {
    "papermill": {
     "duration": 0.009984,
     "end_time": "2025-03-20T00:47:30.655147",
     "exception": false,
     "start_time": "2025-03-20T00:47:30.645163",
     "status": "completed"
    },
    "tags": []
   },
   "source": [
    "# 2.0 Retrieval Augmented Generation\n",
    "## 2.0.0 Imports"
   ]
  },
  {
   "cell_type": "code",
   "execution_count": 14,
   "id": "e1bfea8f",
   "metadata": {
    "execution": {
     "iopub.execute_input": "2025-03-20T00:47:30.676381Z",
     "iopub.status.busy": "2025-03-20T00:47:30.676004Z",
     "iopub.status.idle": "2025-03-20T00:47:31.242602Z",
     "shell.execute_reply": "2025-03-20T00:47:31.241557Z"
    },
    "papermill": {
     "duration": 0.579182,
     "end_time": "2025-03-20T00:47:31.244290",
     "exception": false,
     "start_time": "2025-03-20T00:47:30.665108",
     "status": "completed"
    },
    "tags": []
   },
   "outputs": [],
   "source": [
    "import os\n",
    "from kaggle_secrets import UserSecretsClient\n",
    "user_secrets = UserSecretsClient()\n",
    "\n",
    "os.environ[\"OPENAI_API_KEY\"] = user_secrets.get_secret(\"OPENAI_API_KEY\")\n",
    "OPENAI_API_KEY = user_secrets.get_secret(\"OPENAI_API_KEY\")"
   ]
  },
  {
   "cell_type": "code",
   "execution_count": 15,
   "id": "af8a8a94",
   "metadata": {
    "execution": {
     "iopub.execute_input": "2025-03-20T00:47:31.271882Z",
     "iopub.status.busy": "2025-03-20T00:47:31.271571Z",
     "iopub.status.idle": "2025-03-20T00:47:33.226868Z",
     "shell.execute_reply": "2025-03-20T00:47:33.225286Z"
    },
    "papermill": {
     "duration": 1.971985,
     "end_time": "2025-03-20T00:47:33.228557",
     "exception": false,
     "start_time": "2025-03-20T00:47:31.256572",
     "status": "completed"
    },
    "tags": []
   },
   "outputs": [],
   "source": [
    "from langchain.chat_models import init_chat_model\n",
    "from langchain_openai import OpenAIEmbeddings\n",
    "from langchain_community.document_loaders import CSVLoader\n",
    "from langchain_core.vectorstores import InMemoryVectorStore"
   ]
  },
  {
   "cell_type": "markdown",
   "id": "de1dfa17",
   "metadata": {
    "papermill": {
     "duration": 0.010488,
     "end_time": "2025-03-20T00:47:33.250438",
     "exception": false,
     "start_time": "2025-03-20T00:47:33.239950",
     "status": "completed"
    },
    "tags": []
   },
   "source": [
    "## 2.0.1 Initialize LLM and Embeddings"
   ]
  },
  {
   "cell_type": "code",
   "execution_count": 16,
   "id": "53dd1bd9",
   "metadata": {
    "execution": {
     "iopub.execute_input": "2025-03-20T00:47:33.273045Z",
     "iopub.status.busy": "2025-03-20T00:47:33.272781Z",
     "iopub.status.idle": "2025-03-20T00:47:33.641521Z",
     "shell.execute_reply": "2025-03-20T00:47:33.640609Z"
    },
    "papermill": {
     "duration": 0.382231,
     "end_time": "2025-03-20T00:47:33.643363",
     "exception": false,
     "start_time": "2025-03-20T00:47:33.261132",
     "status": "completed"
    },
    "tags": []
   },
   "outputs": [],
   "source": [
    "llm = init_chat_model(\"gpt-4o-mini\", model_provider=\"openai\")\n",
    "\n",
    "embeddings = OpenAIEmbeddings(model=\"text-embedding-3-small\")"
   ]
  },
  {
   "cell_type": "markdown",
   "id": "98c5e568",
   "metadata": {
    "papermill": {
     "duration": 0.015937,
     "end_time": "2025-03-20T00:47:33.677137",
     "exception": false,
     "start_time": "2025-03-20T00:47:33.661200",
     "status": "completed"
    },
    "tags": []
   },
   "source": [
    "## 2.0.2 Load CSV data as documents using LangChain"
   ]
  },
  {
   "cell_type": "code",
   "execution_count": 17,
   "id": "8ae54fe9",
   "metadata": {
    "execution": {
     "iopub.execute_input": "2025-03-20T00:47:33.707939Z",
     "iopub.status.busy": "2025-03-20T00:47:33.707638Z",
     "iopub.status.idle": "2025-03-20T00:47:33.725666Z",
     "shell.execute_reply": "2025-03-20T00:47:33.724855Z"
    },
    "papermill": {
     "duration": 0.032382,
     "end_time": "2025-03-20T00:47:33.726805",
     "exception": false,
     "start_time": "2025-03-20T00:47:33.694423",
     "status": "completed"
    },
    "tags": []
   },
   "outputs": [
    {
     "name": "stdout",
     "output_type": "stream",
     "text": [
      "page_content='id: 1\n",
      "name: bulbasaur\n",
      "height: 7\n",
      "weight: 69\n",
      "hp: 45\n",
      "attack: 49\n",
      "defense: 49\n",
      "s_attack: 65\n",
      "s_defense: 65\n",
      "speed: 45\n",
      "type: {grass,poison}\n",
      "evo_set: 1\n",
      "info: A strange seed was planted on its back at birth. The plant sprouts and grows with this POKéMON.' metadata={'source': '/kaggle/input/pokdex-for-all-1025-pokemon-w-text-description/pokedex.csv', 'row': 0}\n",
      "page_content='id: 2\n",
      "name: ivysaur\n",
      "height: 10\n",
      "weight: 130\n",
      "hp: 60\n",
      "attack: 62\n",
      "defense: 63\n",
      "s_attack: 80\n",
      "s_defense: 80\n",
      "speed: 60\n",
      "type: {grass,poison}\n",
      "evo_set: 1\n",
      "info: When the bulb on its back grows large, it appears to lose the ability to stand on its hind legs.' metadata={'source': '/kaggle/input/pokdex-for-all-1025-pokemon-w-text-description/pokedex.csv', 'row': 1}\n"
     ]
    }
   ],
   "source": [
    "loader = CSVLoader(file_path=DATA_FILE_PATH)\n",
    "data = loader.load()\n",
    "\n",
    "for record in data[:2]:\n",
    "    print(record)"
   ]
  },
  {
   "cell_type": "markdown",
   "id": "c85c2ea3",
   "metadata": {
    "papermill": {
     "duration": 0.010065,
     "end_time": "2025-03-20T00:47:33.747619",
     "exception": false,
     "start_time": "2025-03-20T00:47:33.737554",
     "status": "completed"
    },
    "tags": []
   },
   "source": [
    "## 2.0.3 Store documents for search"
   ]
  },
  {
   "cell_type": "code",
   "execution_count": 18,
   "id": "8673cbac",
   "metadata": {
    "execution": {
     "iopub.execute_input": "2025-03-20T00:47:33.769609Z",
     "iopub.status.busy": "2025-03-20T00:47:33.769288Z",
     "iopub.status.idle": "2025-03-20T00:47:43.497187Z",
     "shell.execute_reply": "2025-03-20T00:47:43.496229Z"
    },
    "papermill": {
     "duration": 9.740891,
     "end_time": "2025-03-20T00:47:43.498862",
     "exception": false,
     "start_time": "2025-03-20T00:47:33.757971",
     "status": "completed"
    },
    "tags": []
   },
   "outputs": [],
   "source": [
    "vector_store = InMemoryVectorStore.from_documents(data, embeddings)"
   ]
  },
  {
   "cell_type": "code",
   "execution_count": 19,
   "id": "896bc6f5",
   "metadata": {
    "execution": {
     "iopub.execute_input": "2025-03-20T00:47:43.521365Z",
     "iopub.status.busy": "2025-03-20T00:47:43.521029Z",
     "iopub.status.idle": "2025-03-20T00:47:44.265819Z",
     "shell.execute_reply": "2025-03-20T00:47:44.264525Z"
    },
    "papermill": {
     "duration": 0.75758,
     "end_time": "2025-03-20T00:47:44.267453",
     "exception": false,
     "start_time": "2025-03-20T00:47:43.509873",
     "status": "completed"
    },
    "tags": []
   },
   "outputs": [
    {
     "name": "stdout",
     "output_type": "stream",
     "text": [
      "page_content='id: 25\n",
      "name: pikachu\n",
      "height: 4\n",
      "weight: 60\n",
      "hp: 35\n",
      "attack: 55\n",
      "defense: 40\n",
      "s_attack: 50\n",
      "s_defense: 50\n",
      "speed: 90\n",
      "type: {electric}\n",
      "evo_set: 10\n",
      "info: When several of these POKéMON gather, their electricity could build and cause lightning storms.' metadata={'source': '/kaggle/input/pokdex-for-all-1025-pokemon-w-text-description/pokedex.csv', 'row': 24}\n",
      "page_content='id: 172\n",
      "name: pichu\n",
      "height: 3\n",
      "weight: 20\n",
      "hp: 20\n",
      "attack: 40\n",
      "defense: 15\n",
      "s_attack: 35\n",
      "s_defense: 35\n",
      "speed: 60\n",
      "type: {electric}\n",
      "evo_set: 10\n",
      "info: It is not yet skilled at storing electricity. It may send out a jolt if amused or startled.' metadata={'source': '/kaggle/input/pokdex-for-all-1025-pokemon-w-text-description/pokedex.csv', 'row': 171}\n"
     ]
    }
   ],
   "source": [
    "docs = vector_store.similarity_search(\"Tell me about Pikachu\", k=2)\n",
    "for doc in docs:\n",
    "    print(doc)"
   ]
  },
  {
   "cell_type": "markdown",
   "id": "e1737015",
   "metadata": {
    "papermill": {
     "duration": 0.010547,
     "end_time": "2025-03-20T00:47:44.289381",
     "exception": false,
     "start_time": "2025-03-20T00:47:44.278834",
     "status": "completed"
    },
    "tags": []
   },
   "source": [
    "# 2.1 Generate RAG prompt with context"
   ]
  },
  {
   "cell_type": "code",
   "execution_count": 20,
   "id": "87fbad89",
   "metadata": {
    "execution": {
     "iopub.execute_input": "2025-03-20T00:47:44.312794Z",
     "iopub.status.busy": "2025-03-20T00:47:44.312460Z",
     "iopub.status.idle": "2025-03-20T00:47:44.560394Z",
     "shell.execute_reply": "2025-03-20T00:47:44.559264Z"
    },
    "papermill": {
     "duration": 0.261563,
     "end_time": "2025-03-20T00:47:44.561966",
     "exception": false,
     "start_time": "2025-03-20T00:47:44.300403",
     "status": "completed"
    },
    "tags": []
   },
   "outputs": [],
   "source": [
    "from pydantic import BaseModel\n",
    "from typing import List, Dict, Optional\n",
    "\n",
    "from langchain import hub\n",
    "\n",
    "prompt = hub.pull(\"rlm/rag-prompt\")\n",
    "\n",
    "\n",
    "class State(BaseModel):\n",
    "    question: str\n",
    "    context: Optional[List[Dict]]\n",
    "    answer: str\n",
    "\n",
    "\n",
    "def retrieve(db, state: State):\n",
    "    retrieved_docs = db.similarity_search(state[\"question\"]) # defaults to k = 4, so max 4 documents are returned.\n",
    "    return {\"context\": retrieved_docs}\n",
    "\n",
    "\n",
    "def generate(state: State):\n",
    "    docs_content = \"\\n\\n\".join(doc.page_content for doc in state[\"context\"])\n",
    "    messages = prompt.invoke(\n",
    "        {\"question\": state[\"question\"], \"context\": docs_content})\n",
    "    response = llm.invoke(messages)\n",
    "    return {\"answer\": response.content}\n",
    "\n",
    "\n",
    "def retrieve_and_generate(user_prompt, tenant=None):\n",
    "    state = {'question': user_prompt, 'context': None, 'answer': ''}\n",
    "    if tenant:\n",
    "        state.update({'tenant': tenant})\n",
    "\n",
    "    context = retrieve(vector_store, state)\n",
    "    state['context'] = context['context']\n",
    "    \n",
    "    ans = generate(state)['answer']\n",
    "    return ans\n",
    "\n",
    "\n",
    "def print_rag(user_prompt, rag_answer):\n",
    "    print(\"Question: \\t{}\".format(user_prompt))\n",
    "    print(\"Answer: \\t{}\".format(rag_answer))"
   ]
  },
  {
   "cell_type": "code",
   "execution_count": 21,
   "id": "56b4f46a",
   "metadata": {
    "execution": {
     "iopub.execute_input": "2025-03-20T00:47:44.585184Z",
     "iopub.status.busy": "2025-03-20T00:47:44.584867Z",
     "iopub.status.idle": "2025-03-20T00:47:46.409150Z",
     "shell.execute_reply": "2025-03-20T00:47:46.407682Z"
    },
    "papermill": {
     "duration": 1.837619,
     "end_time": "2025-03-20T00:47:46.410733",
     "exception": false,
     "start_time": "2025-03-20T00:47:44.573114",
     "status": "completed"
    },
    "tags": []
   },
   "outputs": [
    {
     "name": "stdout",
     "output_type": "stream",
     "text": [
      "The Pokémon that controls space is Palkia. It is described as having the ability to distort space and is considered a deity in Sinnoh-region mythology.\n"
     ]
    }
   ],
   "source": [
    "state = {'question': \"The Pokemon which controls space\", 'context': None, 'answer': ''}\n",
    "\n",
    "context = retrieve(vector_store, state)\n",
    "state['context'] = context['context']\n",
    "\n",
    "print(generate(state)['answer'])"
   ]
  },
  {
   "cell_type": "markdown",
   "id": "e519f5de",
   "metadata": {
    "papermill": {
     "duration": 0.010535,
     "end_time": "2025-03-20T00:47:46.432418",
     "exception": false,
     "start_time": "2025-03-20T00:47:46.421883",
     "status": "completed"
    },
    "tags": []
   },
   "source": [
    "# 2.2 Ask Questions\n",
    "## Questions about my favorites: Dialga & Palkia from Sinnoh Region"
   ]
  },
  {
   "cell_type": "code",
   "execution_count": 22,
   "id": "18501997",
   "metadata": {
    "execution": {
     "iopub.execute_input": "2025-03-20T00:47:46.455114Z",
     "iopub.status.busy": "2025-03-20T00:47:46.454814Z",
     "iopub.status.idle": "2025-03-20T00:47:48.646599Z",
     "shell.execute_reply": "2025-03-20T00:47:48.645387Z"
    },
    "papermill": {
     "duration": 2.204803,
     "end_time": "2025-03-20T00:47:48.648017",
     "exception": false,
     "start_time": "2025-03-20T00:47:46.443214",
     "status": "completed"
    },
    "tags": []
   },
   "outputs": [
    {
     "name": "stdout",
     "output_type": "stream",
     "text": [
      "Question: \tWhich Pokemon have the ability to manipulate space?\n",
      "Answer: \tThe Pokémon that have the ability to manipulate space are Palkia, which can distort space, and Hoopa, which can warp space using its loop. Deoxys is also associated with space due to its origin from a space virus, but it does not specifically manipulate space like the others.\n",
      "\n",
      "Pokemon: Palkia \n",
      "Info: It has the ability to distort space. It is described as a deity in Sinnoh-region mythology.\n"
     ]
    }
   ],
   "source": [
    "ques = \"Which Pokemon have the ability to manipulate space?\"\n",
    "ans = retrieve_and_generate(ques)\n",
    "print_rag(ques, ans)\n",
    "\n",
    "print()\n",
    "pkmn = pokedex_df[pokedex_df.name.isin(['palkia'])]\n",
    "print(\"Pokemon:\", pkmn['name'].tolist()[0].title(), \"\\nInfo:\", pkmn['info'].tolist()[0])"
   ]
  },
  {
   "cell_type": "code",
   "execution_count": 23,
   "id": "232a1169",
   "metadata": {
    "execution": {
     "iopub.execute_input": "2025-03-20T00:47:48.724468Z",
     "iopub.status.busy": "2025-03-20T00:47:48.724132Z",
     "iopub.status.idle": "2025-03-20T00:47:51.087980Z",
     "shell.execute_reply": "2025-03-20T00:47:51.087064Z"
    },
    "papermill": {
     "duration": 2.430057,
     "end_time": "2025-03-20T00:47:51.089358",
     "exception": false,
     "start_time": "2025-03-20T00:47:48.659301",
     "status": "completed"
    },
    "tags": []
   },
   "outputs": [
    {
     "name": "stdout",
     "output_type": "stream",
     "text": [
      "Question: \tWhich Pokemon have the ability to control time?\n",
      "Answer: \tThe Pokémon that have the ability to control time are Dialga and Celebi. Dialga is known for its power to control time, while Celebi is described as wandering across time.\n",
      "\n",
      "Pokemon: Dialga \n",
      "Info: It has the power to control time. It appears in Sinnoh-region myths as an ancient deity.\n"
     ]
    }
   ],
   "source": [
    "ques = \"Which Pokemon have the ability to control time?\"\n",
    "ans = retrieve_and_generate(ques)\n",
    "print_rag(ques, ans)\n",
    "\n",
    "print()\n",
    "pkmn = pokedex_df[pokedex_df.name.isin(['dialga'])]\n",
    "print(\"Pokemon:\", pkmn['name'].tolist()[0].title(), \"\\nInfo:\", pkmn['info'].tolist()[0])"
   ]
  },
  {
   "cell_type": "code",
   "execution_count": 24,
   "id": "46c07018",
   "metadata": {
    "execution": {
     "iopub.execute_input": "2025-03-20T00:47:51.112719Z",
     "iopub.status.busy": "2025-03-20T00:47:51.112399Z",
     "iopub.status.idle": "2025-03-20T00:47:52.616897Z",
     "shell.execute_reply": "2025-03-20T00:47:52.615938Z"
    },
    "papermill": {
     "duration": 1.517385,
     "end_time": "2025-03-20T00:47:52.618041",
     "exception": false,
     "start_time": "2025-03-20T00:47:51.100656",
     "status": "completed"
    },
    "tags": []
   },
   "outputs": [
    {
     "name": "stdout",
     "output_type": "stream",
     "text": [
      "Question: \tPopular ghost pokemon\n",
      "Answer: \tPopular ghost Pokémon include Gastly, Phantump, and Lampent. Gastly is known for its ability to cloak targets and put them to sleep, while Phantump is created when spirits possess tree stumps. Lampent wanders cities looking for the spirits of the fallen.\n"
     ]
    }
   ],
   "source": [
    "ques = \"Popular ghost pokemon\"\n",
    "ans = retrieve_and_generate(ques)\n",
    "print_rag(ques, ans)"
   ]
  },
  {
   "cell_type": "code",
   "execution_count": 25,
   "id": "0777b719",
   "metadata": {
    "execution": {
     "iopub.execute_input": "2025-03-20T00:47:52.641310Z",
     "iopub.status.busy": "2025-03-20T00:47:52.641017Z",
     "iopub.status.idle": "2025-03-20T00:47:57.741466Z",
     "shell.execute_reply": "2025-03-20T00:47:57.740598Z"
    },
    "papermill": {
     "duration": 5.113264,
     "end_time": "2025-03-20T00:47:57.742662",
     "exception": false,
     "start_time": "2025-03-20T00:47:52.629398",
     "status": "completed"
    },
    "tags": []
   },
   "outputs": [
    {
     "name": "stdout",
     "output_type": "stream",
     "text": [
      "Question: \tCan you tell me about Pokemon which are from folk tales?\n",
      "Answer: \tPokémon like Giratina and Gothorita are inspired by folk tales. Giratina is said to inhabit a world on the reverse side of ours, linked to ancient legends, while Gothorita is known for using hypnosis to mislead people, reflecting stories found in various cultures. Relicanth, while an ancient species, does not specifically relate to folk tales in the same way.\n"
     ]
    }
   ],
   "source": [
    "ques = \"Can you tell me about Pokemon which are from folk tales?\"\n",
    "ans = retrieve_and_generate(ques)\n",
    "print_rag(ques, ans)"
   ]
  },
  {
   "cell_type": "code",
   "execution_count": 26,
   "id": "40c872ab",
   "metadata": {
    "execution": {
     "iopub.execute_input": "2025-03-20T00:47:57.767075Z",
     "iopub.status.busy": "2025-03-20T00:47:57.766774Z",
     "iopub.status.idle": "2025-03-20T00:48:00.098445Z",
     "shell.execute_reply": "2025-03-20T00:48:00.097338Z"
    },
    "papermill": {
     "duration": 2.345829,
     "end_time": "2025-03-20T00:48:00.100303",
     "exception": false,
     "start_time": "2025-03-20T00:47:57.754474",
     "status": "completed"
    },
    "tags": []
   },
   "outputs": [
    {
     "name": "stdout",
     "output_type": "stream",
     "text": [
      "Question: \tPokemon which cause Forest fires\n",
      "Answer: \tPokémon that can cause forest fires include Charizard, which can spit fire hot enough to melt boulders and is known to cause forest fires unintentionally. Torchic and Pignite also have fire-related abilities, though they are not specifically noted for causing fires in forests.\n",
      "\n",
      "Pokemon: Charizard \n",
      "Info: Spits fire that is hot enough to melt boulders. Known to cause forest fires unintentionally.\n"
     ]
    }
   ],
   "source": [
    "ques = \"Pokemon which cause Forest fires\"\n",
    "ans = retrieve_and_generate(ques)\n",
    "print_rag(ques, ans)\n",
    "\n",
    "print()\n",
    "pkmn = pokedex_df[pokedex_df.name.isin(['charizard'])]\n",
    "print(\"Pokemon:\", pkmn['name'].tolist()[0].title(), \"\\nInfo:\", pkmn['info'].tolist()[0])"
   ]
  },
  {
   "cell_type": "markdown",
   "id": "8f7a638d",
   "metadata": {
    "papermill": {
     "duration": 0.010666,
     "end_time": "2025-03-20T00:48:00.122377",
     "exception": false,
     "start_time": "2025-03-20T00:48:00.111711",
     "status": "completed"
    },
    "tags": []
   },
   "source": [
    "## Where RAG works well and prevents inaccurate information from being provided to the user"
   ]
  },
  {
   "cell_type": "code",
   "execution_count": 27,
   "id": "2177ffe5",
   "metadata": {
    "execution": {
     "iopub.execute_input": "2025-03-20T00:48:00.145207Z",
     "iopub.status.busy": "2025-03-20T00:48:00.144860Z",
     "iopub.status.idle": "2025-03-20T00:48:01.659339Z",
     "shell.execute_reply": "2025-03-20T00:48:01.658154Z"
    },
    "papermill": {
     "duration": 1.527603,
     "end_time": "2025-03-20T00:48:01.660752",
     "exception": false,
     "start_time": "2025-03-20T00:48:00.133149",
     "status": "completed"
    },
    "tags": []
   },
   "outputs": [
    {
     "name": "stdout",
     "output_type": "stream",
     "text": [
      "Question: \tMicrosoft Office\n",
      "Answer: \tI don't know.\n"
     ]
    }
   ],
   "source": [
    "ques = \"Microsoft Office\"\n",
    "ans = retrieve_and_generate(ques)\n",
    "print_rag(ques, ans)"
   ]
  },
  {
   "cell_type": "code",
   "execution_count": 28,
   "id": "b46ee55f",
   "metadata": {
    "execution": {
     "iopub.execute_input": "2025-03-20T00:48:01.684941Z",
     "iopub.status.busy": "2025-03-20T00:48:01.684577Z",
     "iopub.status.idle": "2025-03-20T00:48:02.999801Z",
     "shell.execute_reply": "2025-03-20T00:48:02.998674Z"
    },
    "papermill": {
     "duration": 1.328892,
     "end_time": "2025-03-20T00:48:03.001174",
     "exception": false,
     "start_time": "2025-03-20T00:48:01.672282",
     "status": "completed"
    },
    "tags": []
   },
   "outputs": [
    {
     "name": "stdout",
     "output_type": "stream",
     "text": [
      "Question: \tNani\n",
      "Answer: \tI don't know.\n"
     ]
    }
   ],
   "source": [
    "ques = \"Nani\"\n",
    "ans = retrieve_and_generate(ques)\n",
    "print_rag(ques, ans)"
   ]
  },
  {
   "cell_type": "code",
   "execution_count": 29,
   "id": "24f7dfa1",
   "metadata": {
    "execution": {
     "iopub.execute_input": "2025-03-20T00:48:03.026302Z",
     "iopub.status.busy": "2025-03-20T00:48:03.025924Z",
     "iopub.status.idle": "2025-03-20T00:48:05.356618Z",
     "shell.execute_reply": "2025-03-20T00:48:05.355121Z"
    },
    "papermill": {
     "duration": 2.344969,
     "end_time": "2025-03-20T00:48:05.358368",
     "exception": false,
     "start_time": "2025-03-20T00:48:03.013399",
     "status": "completed"
    },
    "tags": []
   },
   "outputs": [
    {
     "name": "stdout",
     "output_type": "stream",
     "text": [
      "Question: \tClassical Music\n",
      "Answer: \tThe retrieved context mentions various Pokémon with musical abilities, highlighting their connection to classical themes. Meloetta can control emotions through its special melodies, while Primarina learns and passes down songs generationally. Ludicolo responds to festive music, dancing along to it, indicating a strong link between music and their behavior.\n"
     ]
    }
   ],
   "source": [
    "ques = \"Classical Music\"\n",
    "ans = retrieve_and_generate(ques)\n",
    "print_rag(ques, ans)"
   ]
  },
  {
   "cell_type": "code",
   "execution_count": 30,
   "id": "68a0d5b7",
   "metadata": {
    "execution": {
     "iopub.execute_input": "2025-03-20T00:48:05.382080Z",
     "iopub.status.busy": "2025-03-20T00:48:05.381813Z",
     "iopub.status.idle": "2025-03-20T00:48:08.211602Z",
     "shell.execute_reply": "2025-03-20T00:48:08.209718Z"
    },
    "papermill": {
     "duration": 2.843327,
     "end_time": "2025-03-20T00:48:08.213553",
     "exception": false,
     "start_time": "2025-03-20T00:48:05.370226",
     "status": "completed"
    },
    "tags": []
   },
   "outputs": [
    {
     "name": "stdout",
     "output_type": "stream",
     "text": [
      "Question: \tWhich Pokemon can dance Salsa?\n",
      "Answer: \tLudicolo is known to begin dancing as soon as it hears cheerful, festive music, making it a suitable candidate for salsa dancing. Maractus also uses dance to drive away predators, but specifically for up-tempo songs. Therefore, Ludicolo is the primary Pokémon associated with dance in this context.\n"
     ]
    }
   ],
   "source": [
    "ques = \"Which Pokemon can dance Salsa?\"\n",
    "ans = retrieve_and_generate(ques)\n",
    "print_rag(ques, ans)"
   ]
  },
  {
   "cell_type": "code",
   "execution_count": 31,
   "id": "47524370",
   "metadata": {
    "execution": {
     "iopub.execute_input": "2025-03-20T00:48:08.240452Z",
     "iopub.status.busy": "2025-03-20T00:48:08.240079Z",
     "iopub.status.idle": "2025-03-20T00:48:09.989931Z",
     "shell.execute_reply": "2025-03-20T00:48:09.989094Z"
    },
    "papermill": {
     "duration": 1.764567,
     "end_time": "2025-03-20T00:48:09.991001",
     "exception": false,
     "start_time": "2025-03-20T00:48:08.226434",
     "status": "completed"
    },
    "tags": []
   },
   "outputs": [
    {
     "name": "stdout",
     "output_type": "stream",
     "text": [
      "Question: \tCreate a trivia question and answer pair on Pikachu\n",
      "Answer: \tTrivia Question: What type of Pokémon is Pikachu, and what phenomenon can occur when several of them gather?  \n",
      "Answer: Pikachu is an Electric-type Pokémon, and when several of them gather, their electricity can build up and cause lightning storms.\n",
      "\n",
      "Pokemon: Pikachu \n",
      "Info: When several of these POKéMON gather, their electricity could build and cause lightning storms.\n"
     ]
    }
   ],
   "source": [
    "ques = \"Create a trivia question and answer pair on Pikachu\"\n",
    "ans = retrieve_and_generate(ques)\n",
    "print_rag(ques, ans)\n",
    "\n",
    "print()\n",
    "pikachu = pokedex_df[pokedex_df.name.isin(['pikachu'])]\n",
    "print(\"Pokemon:\", pikachu['name'].tolist()[0].title(), \"\\nInfo:\", pikachu['info'].tolist()[0])"
   ]
  },
  {
   "cell_type": "markdown",
   "id": "2bd1747e",
   "metadata": {
    "papermill": {
     "duration": 0.010364,
     "end_time": "2025-03-20T00:48:10.012682",
     "exception": false,
     "start_time": "2025-03-20T00:48:10.002318",
     "status": "completed"
    },
    "tags": []
   },
   "source": [
    "## Learning Example\n",
    "### Where RAG goes \"wrong\""
   ]
  },
  {
   "cell_type": "code",
   "execution_count": 32,
   "id": "8ed33c1f",
   "metadata": {
    "execution": {
     "iopub.execute_input": "2025-03-20T00:48:10.035540Z",
     "iopub.status.busy": "2025-03-20T00:48:10.035209Z",
     "iopub.status.idle": "2025-03-20T00:48:12.018673Z",
     "shell.execute_reply": "2025-03-20T00:48:12.017481Z"
    },
    "papermill": {
     "duration": 1.996691,
     "end_time": "2025-03-20T00:48:12.020105",
     "exception": false,
     "start_time": "2025-03-20T00:48:10.023414",
     "status": "completed"
    },
    "tags": []
   },
   "outputs": [
    {
     "name": "stdout",
     "output_type": "stream",
     "text": [
      "Question: \tPokemon which can compete in Kaggle competitions\n",
      "Answer: \tThe Pokémon that can compete in Kaggle competitions include Rapidash, Kyogre, Zygarde, and Wo-Chien. Each has unique stats and abilities that may give them competitive advantages. Their performance would depend on the specific Kaggle competition parameters and rules.\n"
     ]
    }
   ],
   "source": [
    "ques = \"Pokemon which can compete in Kaggle competitions\"\n",
    "ans = retrieve_and_generate(ques)\n",
    "print_rag(ques, ans)"
   ]
  },
  {
   "cell_type": "markdown",
   "id": "bf75788a",
   "metadata": {
    "papermill": {
     "duration": 0.011085,
     "end_time": "2025-03-20T00:48:12.043479",
     "exception": false,
     "start_time": "2025-03-20T00:48:12.032394",
     "status": "completed"
    },
    "tags": []
   },
   "source": [
    "#### First of all, what does it mean for an output to be wrong / incorrect?\n",
    "We should start by defining our scope, and what set/type of outputs is considered out of scope, and what are our policies to handle: 1. Queries which are out of scope, and 2. LLM outputs which are out of scope.\n",
    "\n",
    "Let's look at the process:\n",
    "\n",
    "#### Process\n",
    "1. User prompt (out of our control)\n",
    "2. Retrieve documents from our knowledge base. (Vector DB)\n",
    "3. Prepare System prompt and add context, and user prompt.\n",
    "4. LLM inference of constructed prompt.\n",
    "\n",
    "For the question above, \"Pokemon which can compete in Kaggle competitions\", we might want to restrict the LLM from answering questions which are beyond the scope of our knowledge base. We might want to reduce its creativity in trying to generate an answer.\n",
    "\n",
    "We can do this by:\n",
    "- Checking the documents distance threshold and seeing if our query is beyond a certain distance from the documents. If yes, we might want to modify the system prompt (on the fly), or return more documents, or respond to the user without going through the LLM.\n",
    "- Changing our system prompt to be more restrictive and/or providing more context about the world of Pokemon."
   ]
  },
  {
   "cell_type": "code",
   "execution_count": 33,
   "id": "77f18b61",
   "metadata": {
    "execution": {
     "iopub.execute_input": "2025-03-20T00:48:12.067316Z",
     "iopub.status.busy": "2025-03-20T00:48:12.066935Z",
     "iopub.status.idle": "2025-03-20T00:48:14.042637Z",
     "shell.execute_reply": "2025-03-20T00:48:14.041503Z"
    },
    "papermill": {
     "duration": 1.989717,
     "end_time": "2025-03-20T00:48:14.044515",
     "exception": false,
     "start_time": "2025-03-20T00:48:12.054798",
     "status": "completed"
    },
    "tags": []
   },
   "outputs": [
    {
     "name": "stdout",
     "output_type": "stream",
     "text": [
      "Question: \tTallest pokemon\n",
      "Answer: \tThe tallest Pokémon is Palkia, standing at 42 units tall.\n"
     ]
    }
   ],
   "source": [
    "ques = \"Tallest pokemon\"\n",
    "ans = retrieve_and_generate(ques)\n",
    "print_rag(ques, ans)"
   ]
  },
  {
   "cell_type": "markdown",
   "id": "dc748fb1",
   "metadata": {
    "papermill": {
     "duration": 0.011978,
     "end_time": "2025-03-20T00:48:14.071173",
     "exception": false,
     "start_time": "2025-03-20T00:48:14.059195",
     "status": "completed"
    },
    "tags": []
   },
   "source": [
    "### Debugging: Let's check if Palkia is the tallest\n",
    "Clearly it is not. RAG will work well with text, but we need to do more if we want to make qualitative comparisons on quantities."
   ]
  },
  {
   "cell_type": "code",
   "execution_count": 34,
   "id": "b41161b7",
   "metadata": {
    "execution": {
     "iopub.execute_input": "2025-03-20T00:48:14.095190Z",
     "iopub.status.busy": "2025-03-20T00:48:14.094865Z",
     "iopub.status.idle": "2025-03-20T00:48:14.114431Z",
     "shell.execute_reply": "2025-03-20T00:48:14.113613Z"
    },
    "papermill": {
     "duration": 0.032847,
     "end_time": "2025-03-20T00:48:14.115528",
     "exception": false,
     "start_time": "2025-03-20T00:48:14.082681",
     "status": "completed"
    },
    "tags": []
   },
   "outputs": [
    {
     "data": {
      "text/html": [
       "<div>\n",
       "<style scoped>\n",
       "    .dataframe tbody tr th:only-of-type {\n",
       "        vertical-align: middle;\n",
       "    }\n",
       "\n",
       "    .dataframe tbody tr th {\n",
       "        vertical-align: top;\n",
       "    }\n",
       "\n",
       "    .dataframe thead th {\n",
       "        text-align: right;\n",
       "    }\n",
       "</style>\n",
       "<table border=\"1\" class=\"dataframe\">\n",
       "  <thead>\n",
       "    <tr style=\"text-align: right;\">\n",
       "      <th></th>\n",
       "      <th>id</th>\n",
       "      <th>name</th>\n",
       "      <th>height</th>\n",
       "      <th>weight</th>\n",
       "      <th>hp</th>\n",
       "      <th>attack</th>\n",
       "      <th>defense</th>\n",
       "      <th>s_attack</th>\n",
       "      <th>s_defense</th>\n",
       "      <th>speed</th>\n",
       "      <th>type</th>\n",
       "      <th>evo_set</th>\n",
       "      <th>info</th>\n",
       "    </tr>\n",
       "  </thead>\n",
       "  <tbody>\n",
       "    <tr>\n",
       "      <th>889</th>\n",
       "      <td>890</td>\n",
       "      <td>eternatus</td>\n",
       "      <td>200</td>\n",
       "      <td>9500</td>\n",
       "      <td>140</td>\n",
       "      <td>85</td>\n",
       "      <td>95</td>\n",
       "      <td>145</td>\n",
       "      <td>95</td>\n",
       "      <td>130</td>\n",
       "      <td>{poison,dragon}</td>\n",
       "      <td>469</td>\n",
       "      <td>The core on its chest absorbs energy emanating...</td>\n",
       "    </tr>\n",
       "    <tr>\n",
       "      <th>320</th>\n",
       "      <td>321</td>\n",
       "      <td>wailord</td>\n",
       "      <td>145</td>\n",
       "      <td>3980</td>\n",
       "      <td>170</td>\n",
       "      <td>90</td>\n",
       "      <td>45</td>\n",
       "      <td>90</td>\n",
       "      <td>45</td>\n",
       "      <td>60</td>\n",
       "      <td>{water}</td>\n",
       "      <td>161</td>\n",
       "      <td>WAILORD is the largest of all identified POKéM...</td>\n",
       "    </tr>\n",
       "    <tr>\n",
       "      <th>976</th>\n",
       "      <td>977</td>\n",
       "      <td>dondozo</td>\n",
       "      <td>120</td>\n",
       "      <td>2200</td>\n",
       "      <td>150</td>\n",
       "      <td>100</td>\n",
       "      <td>115</td>\n",
       "      <td>65</td>\n",
       "      <td>65</td>\n",
       "      <td>35</td>\n",
       "      <td>{water}</td>\n",
       "      <td>513</td>\n",
       "      <td>This Pokémon is a glutton, but it’s bad at get...</td>\n",
       "    </tr>\n",
       "    <tr>\n",
       "      <th>796</th>\n",
       "      <td>797</td>\n",
       "      <td>celesteela</td>\n",
       "      <td>92</td>\n",
       "      <td>9999</td>\n",
       "      <td>97</td>\n",
       "      <td>101</td>\n",
       "      <td>103</td>\n",
       "      <td>107</td>\n",
       "      <td>101</td>\n",
       "      <td>61</td>\n",
       "      <td>{steel,flying}</td>\n",
       "      <td>418</td>\n",
       "      <td>It appeared from the Ultra Wormhole. Witnesses...</td>\n",
       "    </tr>\n",
       "    <tr>\n",
       "      <th>207</th>\n",
       "      <td>208</td>\n",
       "      <td>steelix</td>\n",
       "      <td>92</td>\n",
       "      <td>4000</td>\n",
       "      <td>75</td>\n",
       "      <td>85</td>\n",
       "      <td>200</td>\n",
       "      <td>55</td>\n",
       "      <td>65</td>\n",
       "      <td>30</td>\n",
       "      <td>{steel,ground}</td>\n",
       "      <td>41</td>\n",
       "      <td>It is thought its body transformed as a result...</td>\n",
       "    </tr>\n",
       "    <tr>\n",
       "      <th>94</th>\n",
       "      <td>95</td>\n",
       "      <td>onix</td>\n",
       "      <td>88</td>\n",
       "      <td>2100</td>\n",
       "      <td>35</td>\n",
       "      <td>45</td>\n",
       "      <td>160</td>\n",
       "      <td>30</td>\n",
       "      <td>45</td>\n",
       "      <td>70</td>\n",
       "      <td>{rock,ground}</td>\n",
       "      <td>41</td>\n",
       "      <td>As it grows, the stone portions of its body ha...</td>\n",
       "    </tr>\n",
       "    <tr>\n",
       "      <th>383</th>\n",
       "      <td>384</td>\n",
       "      <td>rayquaza</td>\n",
       "      <td>70</td>\n",
       "      <td>2065</td>\n",
       "      <td>105</td>\n",
       "      <td>150</td>\n",
       "      <td>90</td>\n",
       "      <td>150</td>\n",
       "      <td>90</td>\n",
       "      <td>95</td>\n",
       "      <td>{dragon,flying}</td>\n",
       "      <td>200</td>\n",
       "      <td>RAYQUAZA lived for hundreds of millions of yea...</td>\n",
       "    </tr>\n",
       "    <tr>\n",
       "      <th>129</th>\n",
       "      <td>130</td>\n",
       "      <td>gyarados</td>\n",
       "      <td>65</td>\n",
       "      <td>2350</td>\n",
       "      <td>95</td>\n",
       "      <td>125</td>\n",
       "      <td>79</td>\n",
       "      <td>60</td>\n",
       "      <td>100</td>\n",
       "      <td>81</td>\n",
       "      <td>{water,flying}</td>\n",
       "      <td>64</td>\n",
       "      <td>Once it begins to rampage, a GYARADOS will bur...</td>\n",
       "    </tr>\n",
       "    <tr>\n",
       "      <th>349</th>\n",
       "      <td>350</td>\n",
       "      <td>milotic</td>\n",
       "      <td>62</td>\n",
       "      <td>1620</td>\n",
       "      <td>95</td>\n",
       "      <td>60</td>\n",
       "      <td>79</td>\n",
       "      <td>100</td>\n",
       "      <td>125</td>\n",
       "      <td>81</td>\n",
       "      <td>{water}</td>\n",
       "      <td>178</td>\n",
       "      <td>Its lovely scales are described as rainbow col...</td>\n",
       "    </tr>\n",
       "    <tr>\n",
       "      <th>716</th>\n",
       "      <td>717</td>\n",
       "      <td>yveltal</td>\n",
       "      <td>58</td>\n",
       "      <td>2030</td>\n",
       "      <td>126</td>\n",
       "      <td>131</td>\n",
       "      <td>95</td>\n",
       "      <td>131</td>\n",
       "      <td>98</td>\n",
       "      <td>99</td>\n",
       "      <td>{dark,flying}</td>\n",
       "      <td>369</td>\n",
       "      <td>When this legendary Pokémon’s wings and tail f...</td>\n",
       "    </tr>\n",
       "  </tbody>\n",
       "</table>\n",
       "</div>"
      ],
      "text/plain": [
       "      id        name  height  weight   hp  attack  defense  s_attack  \\\n",
       "889  890   eternatus     200    9500  140      85       95       145   \n",
       "320  321     wailord     145    3980  170      90       45        90   \n",
       "976  977     dondozo     120    2200  150     100      115        65   \n",
       "796  797  celesteela      92    9999   97     101      103       107   \n",
       "207  208     steelix      92    4000   75      85      200        55   \n",
       "94    95        onix      88    2100   35      45      160        30   \n",
       "383  384    rayquaza      70    2065  105     150       90       150   \n",
       "129  130    gyarados      65    2350   95     125       79        60   \n",
       "349  350     milotic      62    1620   95      60       79       100   \n",
       "716  717     yveltal      58    2030  126     131       95       131   \n",
       "\n",
       "     s_defense  speed             type  evo_set  \\\n",
       "889         95    130  {poison,dragon}      469   \n",
       "320         45     60          {water}      161   \n",
       "976         65     35          {water}      513   \n",
       "796        101     61   {steel,flying}      418   \n",
       "207         65     30   {steel,ground}       41   \n",
       "94          45     70    {rock,ground}       41   \n",
       "383         90     95  {dragon,flying}      200   \n",
       "129        100     81   {water,flying}       64   \n",
       "349        125     81          {water}      178   \n",
       "716         98     99    {dark,flying}      369   \n",
       "\n",
       "                                                  info  \n",
       "889  The core on its chest absorbs energy emanating...  \n",
       "320  WAILORD is the largest of all identified POKéM...  \n",
       "976  This Pokémon is a glutton, but it’s bad at get...  \n",
       "796  It appeared from the Ultra Wormhole. Witnesses...  \n",
       "207  It is thought its body transformed as a result...  \n",
       "94   As it grows, the stone portions of its body ha...  \n",
       "383  RAYQUAZA lived for hundreds of millions of yea...  \n",
       "129  Once it begins to rampage, a GYARADOS will bur...  \n",
       "349  Its lovely scales are described as rainbow col...  \n",
       "716  When this legendary Pokémon’s wings and tail f...  "
      ]
     },
     "metadata": {},
     "output_type": "display_data"
    },
    {
     "name": "stdout",
     "output_type": "stream",
     "text": [
      "\n"
     ]
    },
    {
     "data": {
      "text/html": [
       "<div>\n",
       "<style scoped>\n",
       "    .dataframe tbody tr th:only-of-type {\n",
       "        vertical-align: middle;\n",
       "    }\n",
       "\n",
       "    .dataframe tbody tr th {\n",
       "        vertical-align: top;\n",
       "    }\n",
       "\n",
       "    .dataframe thead th {\n",
       "        text-align: right;\n",
       "    }\n",
       "</style>\n",
       "<table border=\"1\" class=\"dataframe\">\n",
       "  <thead>\n",
       "    <tr style=\"text-align: right;\">\n",
       "      <th></th>\n",
       "      <th>id</th>\n",
       "      <th>name</th>\n",
       "      <th>height</th>\n",
       "      <th>weight</th>\n",
       "      <th>type</th>\n",
       "      <th>info</th>\n",
       "    </tr>\n",
       "  </thead>\n",
       "  <tbody>\n",
       "    <tr>\n",
       "      <th>483</th>\n",
       "      <td>484</td>\n",
       "      <td>palkia</td>\n",
       "      <td>42</td>\n",
       "      <td>3360</td>\n",
       "      <td>{water,dragon}</td>\n",
       "      <td>It has the ability to distort space. It is des...</td>\n",
       "    </tr>\n",
       "  </tbody>\n",
       "</table>\n",
       "</div>"
      ],
      "text/plain": [
       "      id    name  height  weight            type  \\\n",
       "483  484  palkia      42    3360  {water,dragon}   \n",
       "\n",
       "                                                  info  \n",
       "483  It has the ability to distort space. It is des...  "
      ]
     },
     "metadata": {},
     "output_type": "display_data"
    }
   ],
   "source": [
    "import copy\n",
    "\n",
    "tmp_df = copy.deepcopy(pokedex_df)\n",
    "tmp_df.sort_values(by=['height'], ascending=False, inplace=True)\n",
    "display(tmp_df.head(10))\n",
    "\n",
    "print()\n",
    "pkmn = pokedex_df[pokedex_df.name.isin(['palkia'])]\n",
    "display(pkmn[['id', 'name', 'height', 'weight','type','info']])"
   ]
  },
  {
   "cell_type": "markdown",
   "id": "9ab35b29",
   "metadata": {
    "papermill": {
     "duration": 0.012733,
     "end_time": "2025-03-20T00:48:14.140091",
     "exception": false,
     "start_time": "2025-03-20T00:48:14.127358",
     "status": "completed"
    },
    "tags": []
   },
   "source": [
    "### Why our system failed to answer the \"tallest pokemon?\" question\n",
    "1. Structured Data: LLMs don't work well with structured data. Even if we provided all the documents i.e. all Pokemon's info, the LLM would still probably not be able to \"figure out\" the tallest Pokemon, because it is not performing any quantitative analysis.\n",
    "2. Knowledge Base: The Vector DB returns only a limited number of documents. In my case, I'm using the default of 4.\n",
    "3. LLM Knowledge: The documents returned may not have included the tallest Pokemon, and the LLM couldn't use the knowledge of the tallest Pokemon it obtained from the internet.\n",
    "\n",
    "We can check each of these, and there will be more cause \"vectors\" which I may have missed.\n",
    "\n",
    "#### 1. Structured Data\n",
    "##### Challenge\n",
    "LLMs don’t work well with structured data, and CSV dataset usually don't have information on what the fields' units are, and sometimes they (fields/columns) aren't named well.\n",
    "\n",
    "##### Solution\n",
    "Converting the numerical fields into text fields such as “Height Info” field having an English sentence saying “The height of Palkia is 42 decimeters”, would allow the LLM to better use that information.\n",
    "\n",
    "Despite this, because the RAG only gives you information of the top X documents, the output may still be incorrect.\n",
    "\n",
    "#### 2. Knowledge Base: Vector DB limit\n",
    "##### Challenge\n",
    "We retrieve 4 documents for each query.\n",
    "\n",
    "Let’s say the word tallest, is present explicitly or implicitly in 20 documents out of 1000+ Pokemon, and out of these the 4 which are returned are not of the tallest Pokemon, but just Pokemon where height is mentioned in their Pokedex entry, the context itself may be completely incorrect.\n",
    "\n",
    "##### Solution\n",
    "One solution could be to add documents containing information about: \n",
    "- The tallest Pokemon.\n",
    "- The shortest Pokemon.\n",
    "- The Heaviest Pokemon.\n",
    "- The Lightest Pokemon.\n",
    "- etc.\n",
    "\n",
    "Now, if we search for tallest Pokemon, it will return one document having information on the tallest Pokemon.\n",
    "\n",
    "Another solution could be to have one document listing all the Pokemon and their heights in order from tallest to shortest. This way, reasoning models could even possibly tell you the rank of the Pokemon's height.\n",
    "\n",
    "Using one of these solutions, we can answer all those questions. Here the problem is the lack of required text based information in the knowledge base.\n",
    "\n",
    "#### 3. LLM knowledge: LLM knowledge and RAG document lack of overlap\n",
    "When I provide GPT 4o-mini the prompt \"tallest pokemon\" without going through the RAG process, it returns this:\n",
    "> As of my last knowledge update in October 2023, the tallest Pokémon is Mega Rayquaza, which stands at 10 feet (3.05 meters) tall. It's worth noting that while Rayquaza is known for its height in its Mega form, other Pokémon like Wailord and Giratin in their different forms also have significant heights but don't surpass Mega Rayquaza.\n",
    ">\n",
    "> If you have any specific questions or need more information about Pokémon, feel free to ask!\n",
    "\n",
    "Let's check the documents returned by \"tallest pokemon\", and see if the documents have Rayquaza or Mega Rayquaza."
   ]
  },
  {
   "cell_type": "code",
   "execution_count": 35,
   "id": "8a07f087",
   "metadata": {
    "execution": {
     "iopub.execute_input": "2025-03-20T00:48:14.165212Z",
     "iopub.status.busy": "2025-03-20T00:48:14.164893Z",
     "iopub.status.idle": "2025-03-20T00:48:14.170550Z",
     "shell.execute_reply": "2025-03-20T00:48:14.169606Z"
    },
    "papermill": {
     "duration": 0.019868,
     "end_time": "2025-03-20T00:48:14.171884",
     "exception": false,
     "start_time": "2025-03-20T00:48:14.152016",
     "status": "completed"
    },
    "tags": []
   },
   "outputs": [],
   "source": [
    "def print_retrieved_documents(db, user_prompt: Text, relevant_document_fields: Optional[List[Text]]=None):\n",
    "    state = {'question': user_prompt, 'context': None, 'answer': ''}\n",
    "    result = retrieve(db, state)\n",
    "    docs = []\n",
    "    for doc in result['context']:\n",
    "        if relevant_document_fields:\n",
    "            pokemon_name = doc.page_content.split(\"\\n\")[1].rsplit(\" \")[1]\n",
    "            pkmn = pokedex_df[pokedex_df.name.isin([pokemon_name])]\n",
    "            row = pkmn[relevant_document_fields].to_records()[0]\n",
    "            docs.append(row)\n",
    "        else:\n",
    "            print(doc)\n",
    "    if relevant_document_fields:\n",
    "        tmp_df = pd.DataFrame.from_records(docs)\n",
    "        tmp_df.columns = ['id'] + relevant_document_fields\n",
    "        with pd.option_context('display.max_colwidth', None):\n",
    "          display(tmp_df)"
   ]
  },
  {
   "cell_type": "code",
   "execution_count": 36,
   "id": "c86dad18",
   "metadata": {
    "execution": {
     "iopub.execute_input": "2025-03-20T00:48:14.197613Z",
     "iopub.status.busy": "2025-03-20T00:48:14.197299Z",
     "iopub.status.idle": "2025-03-20T00:48:14.903174Z",
     "shell.execute_reply": "2025-03-20T00:48:14.902131Z"
    },
    "papermill": {
     "duration": 0.720277,
     "end_time": "2025-03-20T00:48:14.904670",
     "exception": false,
     "start_time": "2025-03-20T00:48:14.184393",
     "status": "completed"
    },
    "tags": []
   },
   "outputs": [
    {
     "data": {
      "text/html": [
       "<div>\n",
       "<style scoped>\n",
       "    .dataframe tbody tr th:only-of-type {\n",
       "        vertical-align: middle;\n",
       "    }\n",
       "\n",
       "    .dataframe tbody tr th {\n",
       "        vertical-align: top;\n",
       "    }\n",
       "\n",
       "    .dataframe thead th {\n",
       "        text-align: right;\n",
       "    }\n",
       "</style>\n",
       "<table border=\"1\" class=\"dataframe\">\n",
       "  <thead>\n",
       "    <tr style=\"text-align: right;\">\n",
       "      <th></th>\n",
       "      <th>id</th>\n",
       "      <th>name</th>\n",
       "      <th>height</th>\n",
       "      <th>type</th>\n",
       "      <th>info</th>\n",
       "    </tr>\n",
       "  </thead>\n",
       "  <tbody>\n",
       "    <tr>\n",
       "      <th>0</th>\n",
       "      <td>144</td>\n",
       "      <td>zapdos</td>\n",
       "      <td>16</td>\n",
       "      <td>{electric,flying}</td>\n",
       "      <td>A legendary bird POKéMON that is said to appear from clouds while dropping enormous lightning bolts.</td>\n",
       "    </tr>\n",
       "    <tr>\n",
       "      <th>1</th>\n",
       "      <td>563</td>\n",
       "      <td>tirtouga</td>\n",
       "      <td>7</td>\n",
       "      <td>{water,rock}</td>\n",
       "      <td>Restored from a fossil, this Pokémon can dive to depths beyond half a mile.</td>\n",
       "    </tr>\n",
       "    <tr>\n",
       "      <th>2</th>\n",
       "      <td>776</td>\n",
       "      <td>togedemaru</td>\n",
       "      <td>3</td>\n",
       "      <td>{electric,steel}</td>\n",
       "      <td>The spiny fur on its back is normally at rest. When this Pokémon becomes agitated, its fur stands on end and stabs into its attackers.</td>\n",
       "    </tr>\n",
       "    <tr>\n",
       "      <th>3</th>\n",
       "      <td>483</td>\n",
       "      <td>palkia</td>\n",
       "      <td>42</td>\n",
       "      <td>{water,dragon}</td>\n",
       "      <td>It has the ability to distort space. It is described as a deity in Sinnoh-region mythology.</td>\n",
       "    </tr>\n",
       "  </tbody>\n",
       "</table>\n",
       "</div>"
      ],
      "text/plain": [
       "    id        name  height               type  \\\n",
       "0  144      zapdos      16  {electric,flying}   \n",
       "1  563    tirtouga       7       {water,rock}   \n",
       "2  776  togedemaru       3   {electric,steel}   \n",
       "3  483      palkia      42     {water,dragon}   \n",
       "\n",
       "                                                                                                                                     info  \n",
       "0                                    A legendary bird POKéMON that is said to appear from clouds while dropping enormous lightning bolts.  \n",
       "1                                                             Restored from a fossil, this Pokémon can dive to depths beyond half a mile.  \n",
       "2  The spiny fur on its back is normally at rest. When this Pokémon becomes agitated, its fur stands on end and stabs into its attackers.  \n",
       "3                                             It has the ability to distort space. It is described as a deity in Sinnoh-region mythology.  "
      ]
     },
     "metadata": {},
     "output_type": "display_data"
    }
   ],
   "source": [
    "print_retrieved_documents(vector_store, \"Tallest pokemon\", ['name', 'height', 'type', 'info'])"
   ]
  },
  {
   "cell_type": "markdown",
   "id": "1a8b1f80",
   "metadata": {
    "papermill": {
     "duration": 0.011654,
     "end_time": "2025-03-20T00:48:14.928657",
     "exception": false,
     "start_time": "2025-03-20T00:48:14.917003",
     "status": "completed"
    },
    "tags": []
   },
   "source": [
    "We can see that our LLM did VERY well, given the context. Our user prompt = \"tallest pokemon\" returns 4 documents, for Zapdos, Tirtouga, Togedemaru, and Palkia.\n",
    "\n",
    "\"Pokemon\" matched in the first three documents.\n",
    "\n",
    "Looks like \"tallest\" was semantically similar to \"enormous\" (in the case of Zapdos), \"half a mile\" and \"depths\" (for Tirtouga), probably \"stands on end\" for Togedemaru.\n",
    "\n",
    "Among these documents, Palkia has the largest value of Height.\n",
    "\n",
    "The LLM did well and said Palkia is the tallest!"
   ]
  },
  {
   "cell_type": "markdown",
   "id": "6e88f975",
   "metadata": {
    "papermill": {
     "duration": 0.011286,
     "end_time": "2025-03-20T00:48:14.951433",
     "exception": false,
     "start_time": "2025-03-20T00:48:14.940147",
     "status": "completed"
    },
    "tags": []
   },
   "source": [
    "### Experiment: Adding Numerical Data as Text\n",
    "Let's add some of the numerical data as text and see how our RAG performs.\n",
    "\n",
    "In a real-world situation, we would create a bunch of these documents from the numerical values, so that our RAG works well.\n",
    "\n",
    "Remember, given that LLMs are suffiently advanced nowadays, people will start to fall for the fallacy of \"Argument from Authority\" or \"Appeal to Authority\".\n",
    "\n",
    "Treating everything that the LLM answers with as gospel. We may not be there yet, but we soon will be. Our RAG systems will need to become better able to handle edge cases to prevent potential issues, and our pipelines should be able to learn quickly from existing and new issues.\n",
    "\n",
    "#### Let's start with Height"
   ]
  },
  {
   "cell_type": "code",
   "execution_count": 37,
   "id": "c3809129",
   "metadata": {
    "execution": {
     "iopub.execute_input": "2025-03-20T00:48:14.976090Z",
     "iopub.status.busy": "2025-03-20T00:48:14.975751Z",
     "iopub.status.idle": "2025-03-20T00:48:14.992721Z",
     "shell.execute_reply": "2025-03-20T00:48:14.991428Z"
    },
    "papermill": {
     "duration": 0.031075,
     "end_time": "2025-03-20T00:48:14.994179",
     "exception": false,
     "start_time": "2025-03-20T00:48:14.963104",
     "status": "completed"
    },
    "tags": []
   },
   "outputs": [
    {
     "data": {
      "text/html": [
       "<div>\n",
       "<style scoped>\n",
       "    .dataframe tbody tr th:only-of-type {\n",
       "        vertical-align: middle;\n",
       "    }\n",
       "\n",
       "    .dataframe tbody tr th {\n",
       "        vertical-align: top;\n",
       "    }\n",
       "\n",
       "    .dataframe thead th {\n",
       "        text-align: right;\n",
       "    }\n",
       "</style>\n",
       "<table border=\"1\" class=\"dataframe\">\n",
       "  <thead>\n",
       "    <tr style=\"text-align: right;\">\n",
       "      <th></th>\n",
       "      <th>id</th>\n",
       "      <th>name</th>\n",
       "      <th>height</th>\n",
       "      <th>weight</th>\n",
       "      <th>hp</th>\n",
       "      <th>attack</th>\n",
       "      <th>defense</th>\n",
       "      <th>s_attack</th>\n",
       "      <th>s_defense</th>\n",
       "      <th>speed</th>\n",
       "      <th>type</th>\n",
       "      <th>evo_set</th>\n",
       "      <th>info</th>\n",
       "    </tr>\n",
       "  </thead>\n",
       "  <tbody>\n",
       "    <tr>\n",
       "      <th>889</th>\n",
       "      <td>890</td>\n",
       "      <td>eternatus</td>\n",
       "      <td>200</td>\n",
       "      <td>9500</td>\n",
       "      <td>140</td>\n",
       "      <td>85</td>\n",
       "      <td>95</td>\n",
       "      <td>145</td>\n",
       "      <td>95</td>\n",
       "      <td>130</td>\n",
       "      <td>{poison,dragon}</td>\n",
       "      <td>469</td>\n",
       "      <td>The core on its chest absorbs energy emanating...</td>\n",
       "    </tr>\n",
       "    <tr>\n",
       "      <th>320</th>\n",
       "      <td>321</td>\n",
       "      <td>wailord</td>\n",
       "      <td>145</td>\n",
       "      <td>3980</td>\n",
       "      <td>170</td>\n",
       "      <td>90</td>\n",
       "      <td>45</td>\n",
       "      <td>90</td>\n",
       "      <td>45</td>\n",
       "      <td>60</td>\n",
       "      <td>{water}</td>\n",
       "      <td>161</td>\n",
       "      <td>WAILORD is the largest of all identified POKéM...</td>\n",
       "    </tr>\n",
       "    <tr>\n",
       "      <th>976</th>\n",
       "      <td>977</td>\n",
       "      <td>dondozo</td>\n",
       "      <td>120</td>\n",
       "      <td>2200</td>\n",
       "      <td>150</td>\n",
       "      <td>100</td>\n",
       "      <td>115</td>\n",
       "      <td>65</td>\n",
       "      <td>65</td>\n",
       "      <td>35</td>\n",
       "      <td>{water}</td>\n",
       "      <td>513</td>\n",
       "      <td>This Pokémon is a glutton, but it’s bad at get...</td>\n",
       "    </tr>\n",
       "  </tbody>\n",
       "</table>\n",
       "</div>"
      ],
      "text/plain": [
       "      id       name  height  weight   hp  attack  defense  s_attack  \\\n",
       "889  890  eternatus     200    9500  140      85       95       145   \n",
       "320  321    wailord     145    3980  170      90       45        90   \n",
       "976  977    dondozo     120    2200  150     100      115        65   \n",
       "\n",
       "     s_defense  speed             type  evo_set  \\\n",
       "889         95    130  {poison,dragon}      469   \n",
       "320         45     60          {water}      161   \n",
       "976         65     35          {water}      513   \n",
       "\n",
       "                                                  info  \n",
       "889  The core on its chest absorbs energy emanating...  \n",
       "320  WAILORD is the largest of all identified POKéM...  \n",
       "976  This Pokémon is a glutton, but it’s bad at get...  "
      ]
     },
     "metadata": {},
     "output_type": "display_data"
    },
    {
     "name": "stdout",
     "output_type": "stream",
     "text": [
      "The top 10 tallest Pokemon are eternatus, wailord, dondozo, celesteela, steelix, onix, rayquaza, gyarados, milotic, yveltal in that order.\n"
     ]
    }
   ],
   "source": [
    "tallest_df = copy.deepcopy(pokedex_df)\n",
    "tallest_df.sort_values(by=['height'], ascending=False, inplace=True)\n",
    "display(tallest_df.head(3))\n",
    "\n",
    "tallest_pokemon = tallest_df[['name', 'height', 'type', 'info']][:10].to_records()\n",
    "\n",
    "tallest_doc = \"The top 10 tallest Pokemon are {} in that order.\".format(\", \".join([r[1] for r in tallest_pokemon]))\n",
    "print(tallest_doc)"
   ]
  },
  {
   "cell_type": "markdown",
   "id": "e05df984",
   "metadata": {
    "papermill": {
     "duration": 0.011736,
     "end_time": "2025-03-20T00:48:15.018535",
     "exception": false,
     "start_time": "2025-03-20T00:48:15.006799",
     "status": "completed"
    },
    "tags": []
   },
   "source": [
    "Now let's add that text as a document to the Knowledge base."
   ]
  },
  {
   "cell_type": "code",
   "execution_count": 38,
   "id": "8e1aac07",
   "metadata": {
    "execution": {
     "iopub.execute_input": "2025-03-20T00:48:15.043796Z",
     "iopub.status.busy": "2025-03-20T00:48:15.043457Z",
     "iopub.status.idle": "2025-03-20T00:48:15.377196Z",
     "shell.execute_reply": "2025-03-20T00:48:15.376039Z"
    },
    "papermill": {
     "duration": 0.348309,
     "end_time": "2025-03-20T00:48:15.379027",
     "exception": false,
     "start_time": "2025-03-20T00:48:15.030718",
     "status": "completed"
    },
    "tags": []
   },
   "outputs": [
    {
     "data": {
      "text/plain": [
       "['821a6987-8c29-482f-8c7a-a336611f26ec']"
      ]
     },
     "execution_count": 38,
     "metadata": {},
     "output_type": "execute_result"
    }
   ],
   "source": [
    "vector_store.add_texts([tallest_doc])"
   ]
  },
  {
   "cell_type": "markdown",
   "id": "48372b16",
   "metadata": {
    "papermill": {
     "duration": 0.012788,
     "end_time": "2025-03-20T00:48:15.404355",
     "exception": false,
     "start_time": "2025-03-20T00:48:15.391567",
     "status": "completed"
    },
    "tags": []
   },
   "source": [
    "Re-test of \"tallest pokemon\" query."
   ]
  },
  {
   "cell_type": "code",
   "execution_count": 39,
   "id": "3fb34fd5",
   "metadata": {
    "execution": {
     "iopub.execute_input": "2025-03-20T00:48:15.429279Z",
     "iopub.status.busy": "2025-03-20T00:48:15.428981Z",
     "iopub.status.idle": "2025-03-20T00:48:16.663496Z",
     "shell.execute_reply": "2025-03-20T00:48:16.661774Z"
    },
    "papermill": {
     "duration": 1.24861,
     "end_time": "2025-03-20T00:48:16.665343",
     "exception": false,
     "start_time": "2025-03-20T00:48:15.416733",
     "status": "completed"
    },
    "tags": []
   },
   "outputs": [
    {
     "name": "stdout",
     "output_type": "stream",
     "text": [
      "Question: \tTallest pokemon\n",
      "Answer: \tThe tallest Pokémon is Eternatus. It ranks first in height among Pokémon. Other tall Pokémon include Wailord and Dondozo.\n"
     ]
    }
   ],
   "source": [
    "ques = \"Tallest pokemon\"\n",
    "ans = retrieve_and_generate(ques)\n",
    "print_rag(ques, ans)"
   ]
  },
  {
   "cell_type": "markdown",
   "id": "56ce0ae9",
   "metadata": {
    "papermill": {
     "duration": 0.012914,
     "end_time": "2025-03-20T00:48:16.691624",
     "exception": false,
     "start_time": "2025-03-20T00:48:16.678710",
     "status": "completed"
    },
    "tags": []
   },
   "source": [
    "Wohoo!!"
   ]
  },
  {
   "cell_type": "markdown",
   "id": "f95c2016",
   "metadata": {
    "papermill": {
     "duration": 0.012273,
     "end_time": "2025-03-20T00:48:16.716990",
     "exception": false,
     "start_time": "2025-03-20T00:48:16.704717",
     "status": "completed"
    },
    "tags": []
   },
   "source": [
    "## \"Grey\" Area of RAG outputs\n",
    "We need to figure out what responses and which inputs are acceptable.\n",
    "\n",
    "If we were running an org, we would have policies in place for every situation and case, and a feedback loop from users which helps us identify problematic outputs and address them."
   ]
  },
  {
   "cell_type": "code",
   "execution_count": 40,
   "id": "48b45595",
   "metadata": {
    "execution": {
     "iopub.execute_input": "2025-03-20T00:48:16.743412Z",
     "iopub.status.busy": "2025-03-20T00:48:16.743082Z",
     "iopub.status.idle": "2025-03-20T00:48:18.740238Z",
     "shell.execute_reply": "2025-03-20T00:48:18.739357Z"
    },
    "papermill": {
     "duration": 2.012495,
     "end_time": "2025-03-20T00:48:18.742154",
     "exception": false,
     "start_time": "2025-03-20T00:48:16.729659",
     "status": "completed"
    },
    "tags": []
   },
   "outputs": [
    {
     "name": "stdout",
     "output_type": "stream",
     "text": [
      "Question: \tPokemon which can use Excel and ChatGPT\n",
      "Answer: \tThe Pokémon that can be associated with using Excel and ChatGPT is Porygon, as it consists entirely of programming code and can move freely in cyberspace. Chatot can learn and speak human words, which aligns with interactive communication like ChatGPT. Magearna, being an artificial Pokémon that can understand human speech, adds to this theme as well.\n",
      "\n",
      "Pokemon: Porygon \n",
      "Info: A POKéMON that consists entirely of programming code. Capable of moving freely in cyberspace.\n"
     ]
    }
   ],
   "source": [
    "ques = \"Pokemon which can use Excel and ChatGPT\"\n",
    "ans = retrieve_and_generate(ques)\n",
    "print_rag(ques, ans)\n",
    "\n",
    "print()\n",
    "pkmn = pokedex_df[pokedex_df.name.isin(['porygon'])]\n",
    "print(\"Pokemon:\", pkmn['name'].tolist()[0].title(), \"\\nInfo:\", pkmn['info'].tolist()[0])"
   ]
  },
  {
   "cell_type": "code",
   "execution_count": 41,
   "id": "02916f88",
   "metadata": {
    "execution": {
     "iopub.execute_input": "2025-03-20T00:48:18.769103Z",
     "iopub.status.busy": "2025-03-20T00:48:18.768790Z",
     "iopub.status.idle": "2025-03-20T00:48:20.381977Z",
     "shell.execute_reply": "2025-03-20T00:48:20.380670Z"
    },
    "papermill": {
     "duration": 1.628284,
     "end_time": "2025-03-20T00:48:20.383807",
     "exception": false,
     "start_time": "2025-03-20T00:48:18.755523",
     "status": "completed"
    },
    "tags": []
   },
   "outputs": [
    {
     "name": "stdout",
     "output_type": "stream",
     "text": [
      "Question: \tCan Pokemon give ML interviews, and if not why?\n",
      "Answer: \tPokémon cannot give machine learning interviews because they are fictional characters and do not possess the ability to communicate like humans. While some Pokémon can understand human speech, they cannot articulate thoughts or ideas effectively. Thus, they are not capable of participating in interviews.\n"
     ]
    }
   ],
   "source": [
    "ques = \"Can Pokemon give ML interviews, and if not why?\"\n",
    "ans = retrieve_and_generate(ques)\n",
    "print_rag(ques, ans)"
   ]
  },
  {
   "cell_type": "code",
   "execution_count": 42,
   "id": "0cacdd02",
   "metadata": {
    "execution": {
     "iopub.execute_input": "2025-03-20T00:48:20.410468Z",
     "iopub.status.busy": "2025-03-20T00:48:20.410116Z",
     "iopub.status.idle": "2025-03-20T00:48:22.531180Z",
     "shell.execute_reply": "2025-03-20T00:48:22.529731Z"
    },
    "papermill": {
     "duration": 2.135914,
     "end_time": "2025-03-20T00:48:22.532613",
     "exception": false,
     "start_time": "2025-03-20T00:48:20.396699",
     "status": "completed"
    },
    "tags": []
   },
   "outputs": [
    {
     "name": "stdout",
     "output_type": "stream",
     "text": [
      "Question: \tCan Pokemon give ML interviews, and if yes why?\n",
      "Answer: \tPokémon cannot give ML interviews as they are fictional characters and do not possess the capability to participate in real-world events like interviews. While some Pokémon, like Magearna and Lucario, can understand human speech, they do not have the ability to communicate in human terms or engage in professional settings. Thus, it is not feasible for them to conduct interviews.\n"
     ]
    }
   ],
   "source": [
    "ques = \"Can Pokemon give ML interviews, and if yes why?\"\n",
    "ans = retrieve_and_generate(ques)\n",
    "print_rag(ques, ans)"
   ]
  },
  {
   "cell_type": "code",
   "execution_count": 43,
   "id": "9f48ecc4",
   "metadata": {
    "execution": {
     "iopub.execute_input": "2025-03-20T00:48:22.558435Z",
     "iopub.status.busy": "2025-03-20T00:48:22.558078Z",
     "iopub.status.idle": "2025-03-20T00:48:24.502884Z",
     "shell.execute_reply": "2025-03-20T00:48:24.501640Z"
    },
    "papermill": {
     "duration": 1.959397,
     "end_time": "2025-03-20T00:48:24.504474",
     "exception": false,
     "start_time": "2025-03-20T00:48:22.545077",
     "status": "completed"
    },
    "tags": []
   },
   "outputs": [
    {
     "name": "stdout",
     "output_type": "stream",
     "text": [
      "Question: \tThis dataset doesn't have any information that Pokemon are fictional. How did you come to that conclusion?\n",
      "Answer: \tThe dataset provides detailed statistics and lore for various Pokémon without explicitly stating that they are fictional. However, the context implies that Pokémon, like Giratina and Magearna, possess fantastical traits and origins that suggest they are not real creatures. Thus, the conclusion that Pokémon are fictional is inferred from their described attributes and characteristics.\n"
     ]
    }
   ],
   "source": [
    "ques = \"This dataset doesn't have any information that Pokemon are fictional. How did you come to that conclusion?\"\n",
    "ans = retrieve_and_generate(ques)\n",
    "print_rag(ques, ans)"
   ]
  },
  {
   "cell_type": "markdown",
   "id": "a436b3db",
   "metadata": {
    "papermill": {
     "duration": 0.012083,
     "end_time": "2025-03-20T00:48:24.529157",
     "exception": false,
     "start_time": "2025-03-20T00:48:24.517074",
     "status": "completed"
    },
    "tags": []
   },
   "source": [
    "# 3.0 Conclusion\n",
    "As we can see, RAG can perform fairly well, even with limited information. The better the LLM model doing the inference / reasoning, the better the output of the RAG.\n",
    "\n",
    "Let's say this dataset contained more information about the each Pokemon, especially in text form, we could use that information to make our RAG better. We could also transform some quantitative values into categorical value with a meaningful text label, which can be used by the LLM to generate better responses. For example, we could add information about each Pokemon type (Ghost, Normal, Fire etc), and use that to query our data in a more granular fashion.\n",
    "\n",
    "These common questions can be answered correctly with RAG, without random noise in training data of the LLM or things such as memes affecting the output of the LLM."
   ]
  }
 ],
 "metadata": {
  "kaggle": {
   "accelerator": "none",
   "dataSources": [
    {
     "datasetId": 6729319,
     "sourceId": 10836654,
     "sourceType": "datasetVersion"
    }
   ],
   "dockerImageVersionId": 30918,
   "isGpuEnabled": false,
   "isInternetEnabled": true,
   "language": "python",
   "sourceType": "notebook"
  },
  "kernelspec": {
   "display_name": "Python 3",
   "language": "python",
   "name": "python3"
  },
  "language_info": {
   "codemirror_mode": {
    "name": "ipython",
    "version": 3
   },
   "file_extension": ".py",
   "mimetype": "text/x-python",
   "name": "python",
   "nbconvert_exporter": "python",
   "pygments_lexer": "ipython3",
   "version": "3.10.12"
  },
  "papermill": {
   "default_parameters": {},
   "duration": 79.229794,
   "end_time": "2025-03-20T00:48:25.664180",
   "environment_variables": {},
   "exception": null,
   "input_path": "__notebook__.ipynb",
   "output_path": "__notebook__.ipynb",
   "parameters": {},
   "start_time": "2025-03-20T00:47:06.434386",
   "version": "2.6.0"
  }
 },
 "nbformat": 4,
 "nbformat_minor": 5
}

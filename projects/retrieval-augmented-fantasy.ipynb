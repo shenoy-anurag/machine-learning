{
 "cells": [
  {
   "cell_type": "markdown",
   "id": "045574a4",
   "metadata": {
    "papermill": {
     "duration": 0.008312,
     "end_time": "2025-03-20T00:47:09.108165",
     "exception": false,
     "start_time": "2025-03-20T00:47:09.099853",
     "status": "completed"
    },
    "tags": []
   },
   "source": [
    "# Install LLM, RAG dependencies"
   ]
  },
  {
   "cell_type": "code",
   "execution_count": 1,
   "id": "193ffbb6",
   "metadata": {
    "execution": {
     "iopub.execute_input": "2025-04-23T06:11:20.777785Z",
     "iopub.status.busy": "2025-04-23T06:11:20.777131Z",
     "iopub.status.idle": "2025-04-23T06:11:20.782175Z",
     "shell.execute_reply": "2025-04-23T06:11:20.781408Z",
     "shell.execute_reply.started": "2025-04-23T06:11:20.777761Z"
    },
    "papermill": {
     "duration": 0.01885,
     "end_time": "2025-03-20T00:47:09.134568",
     "exception": false,
     "start_time": "2025-03-20T00:47:09.115718",
     "status": "completed"
    },
    "tags": [],
    "trusted": true
   },
   "outputs": [
    {
     "name": "stdout",
     "output_type": "stream",
     "text": [
      "-------------------------\n"
     ]
    }
   ],
   "source": [
    "#ignore warnings\n",
    "import warnings\n",
    "warnings.filterwarnings('ignore')\n",
    "print('-'*25)"
   ]
  },
  {
   "cell_type": "code",
   "execution_count": 2,
   "id": "84cbd31f",
   "metadata": {
    "execution": {
     "iopub.execute_input": "2025-04-23T06:11:21.011978Z",
     "iopub.status.busy": "2025-04-23T06:11:21.011238Z",
     "iopub.status.idle": "2025-04-23T06:11:25.193050Z",
     "shell.execute_reply": "2025-04-23T06:11:25.192110Z",
     "shell.execute_reply.started": "2025-04-23T06:11:21.011941Z"
    },
    "papermill": {
     "duration": 16.696249,
     "end_time": "2025-03-20T00:47:25.839003",
     "exception": false,
     "start_time": "2025-03-20T00:47:09.142754",
     "status": "completed"
    },
    "tags": [],
    "trusted": true
   },
   "outputs": [
    {
     "name": "stdout",
     "output_type": "stream",
     "text": [
      "/Users/anurags/PycharmProjects/machine-learning/.venv/bin/python: No module named pip\n",
      "Note: you may need to restart the kernel to use updated packages.\n"
     ]
    }
   ],
   "source": [
    "%pip install --quiet --upgrade langchain-text-splitters langchain-community langgraph langchain-openai"
   ]
  },
  {
   "cell_type": "code",
   "execution_count": 59,
   "id": "3957ed7e",
   "metadata": {
    "execution": {
     "iopub.execute_input": "2025-04-23T06:14:14.026793Z",
     "iopub.status.busy": "2025-04-23T06:14:14.026048Z",
     "iopub.status.idle": "2025-04-23T06:14:14.033423Z",
     "shell.execute_reply": "2025-04-23T06:14:14.032687Z",
     "shell.execute_reply.started": "2025-04-23T06:14:14.026765Z"
    },
    "papermill": {
     "duration": 3.262443,
     "end_time": "2025-03-20T00:47:29.152712",
     "exception": false,
     "start_time": "2025-03-20T00:47:25.890269",
     "status": "completed"
    },
    "tags": [],
    "trusted": true
   },
   "outputs": [
    {
     "name": "stdout",
     "output_type": "stream",
     "text": [
      "Python version: 3.12.10 (main, Apr 17 2025, 03:50:21) [Clang 17.0.0 (clang-1700.0.13.3)]\n",
      "NumPy version: 2.2.5\n",
      "pandas version: 2.2.3\n",
      "matplotlib version: 3.10.1\n"
     ]
    }
   ],
   "source": [
    "import os\n",
    "import sys\n",
    "import time\n",
    "import json, orjson\n",
    "from typing import List, Dict, Text, Optional, AsyncIterator, Iterator\n",
    "\n",
    "import dotenv\n",
    "import numpy as np\n",
    "import pandas as pd\n",
    "import matplotlib\n",
    "import matplotlib.pyplot as plt\n",
    "import seaborn as sns\n",
    "sns.set_theme(style=\"white\")\n",
    "\n",
    "print(\"Python version: {}\". format(sys.version))\n",
    "print(\"NumPy version: {}\". format(np.__version__))\n",
    "print(\"pandas version: {}\". format(pd.__version__))\n",
    "print(\"matplotlib version: {}\". format(matplotlib.__version__))\n",
    "\n",
    "from langchain_core.document_loaders import BaseLoader\n",
    "from langchain_core.documents import Document\n",
    "from langchain.chat_models import init_chat_model\n",
    "from langchain_openai import OpenAIEmbeddings\n",
    "from langchain_community.document_loaders import CSVLoader\n",
    "from langchain_core.vectorstores import InMemoryVectorStore\n",
    "from langchain_qdrant import QdrantVectorStore"
   ]
  },
  {
   "cell_type": "code",
   "execution_count": 4,
   "id": "0139da11",
   "metadata": {},
   "outputs": [
    {
     "data": {
      "text/plain": [
       "True"
      ]
     },
     "execution_count": 4,
     "metadata": {},
     "output_type": "execute_result"
    }
   ],
   "source": [
    "dotenv.load_dotenv(\"../secrets.env\")"
   ]
  },
  {
   "cell_type": "code",
   "execution_count": 5,
   "id": "3261290f",
   "metadata": {
    "execution": {
     "iopub.execute_input": "2025-04-23T06:14:14.809257Z",
     "iopub.status.busy": "2025-04-23T06:14:14.808966Z",
     "iopub.status.idle": "2025-04-23T06:14:14.819721Z",
     "shell.execute_reply": "2025-04-23T06:14:14.818866Z",
     "shell.execute_reply.started": "2025-04-23T06:14:14.809234Z"
    },
    "papermill": {
     "duration": 0.03463,
     "end_time": "2025-03-20T00:47:25.882063",
     "exception": false,
     "start_time": "2025-03-20T00:47:25.847433",
     "status": "completed"
    },
    "tags": [],
    "trusted": true
   },
   "outputs": [
    {
     "name": "stdout",
     "output_type": "stream",
     "text": [
      "classes.csv\n",
      "equipment.csv\n",
      "monsters.csv\n",
      "races.csv\n",
      "spells.csv\n",
      "\n"
     ]
    }
   ],
   "source": [
    "# from subprocess import check_output\n",
    "# print(check_output([\"ls\", \"../input\"]).decode(\"utf8\"))\n",
    "# print(check_output([\"ls\", \"../input/dungeons-dragons\"]).decode(\"utf8\"))\n",
    "\n",
    "from subprocess import check_output\n",
    "print(check_output([\"ls\", \"../data/dungeons-dragons\"]).decode(\"utf8\"))"
   ]
  },
  {
   "cell_type": "markdown",
   "id": "2148b2d8",
   "metadata": {
    "papermill": {
     "duration": 0.007757,
     "end_time": "2025-03-20T00:47:29.169222",
     "exception": false,
     "start_time": "2025-03-20T00:47:29.161465",
     "status": "completed"
    },
    "tags": []
   },
   "source": [
    "# 1.0 Load data"
   ]
  },
  {
   "cell_type": "code",
   "execution_count": 6,
   "id": "5e575ecf",
   "metadata": {
    "execution": {
     "iopub.execute_input": "2025-04-23T06:14:18.379684Z",
     "iopub.status.busy": "2025-04-23T06:14:18.379006Z",
     "iopub.status.idle": "2025-04-23T06:14:18.384431Z",
     "shell.execute_reply": "2025-04-23T06:14:18.383587Z",
     "shell.execute_reply.started": "2025-04-23T06:14:18.379650Z"
    },
    "papermill": {
     "duration": 0.014234,
     "end_time": "2025-03-20T00:47:29.192505",
     "exception": false,
     "start_time": "2025-03-20T00:47:29.178271",
     "status": "completed"
    },
    "tags": [],
    "trusted": true
   },
   "outputs": [],
   "source": [
    "# DATA_FOLDER = \"/kaggle/input/dungeons-dragons/\"\n",
    "DATA_FOLDER = \"../data/dungeons-dragons/\"\n",
    "\n",
    "CLASSES_FILE = \"classes.csv\"\n",
    "RACES_FILE = \"races.csv\"\n",
    "MONSTERS_FILE = \"monsters.csv\"\n",
    "EQUIPMENT_FILE = \"equipment.csv\"\n",
    "SPELLS_FILE = \"spells.csv\""
   ]
  },
  {
   "cell_type": "code",
   "execution_count": 7,
   "id": "1e3a7f31",
   "metadata": {},
   "outputs": [],
   "source": [
    "races_df = pd.read_csv(os.path.join(DATA_FOLDER, RACES_FILE))\n",
    "classes_df = pd.read_csv(os.path.join(DATA_FOLDER, CLASSES_FILE))\n",
    "monsters_df = pd.read_csv(os.path.join(DATA_FOLDER, MONSTERS_FILE))\n",
    "equipment_df = pd.read_csv(os.path.join(DATA_FOLDER, EQUIPMENT_FILE))\n",
    "spells_df = pd.read_csv(os.path.join(DATA_FOLDER, SPELLS_FILE))"
   ]
  },
  {
   "cell_type": "code",
   "execution_count": 8,
   "id": "9ea78e38",
   "metadata": {
    "execution": {
     "iopub.execute_input": "2025-04-23T06:15:58.502609Z",
     "iopub.status.busy": "2025-04-23T06:15:58.501750Z",
     "iopub.status.idle": "2025-04-23T06:15:58.531664Z",
     "shell.execute_reply": "2025-04-23T06:15:58.530841Z",
     "shell.execute_reply.started": "2025-04-23T06:15:58.502580Z"
    },
    "papermill": {
     "duration": 0.057028,
     "end_time": "2025-03-20T00:47:29.258320",
     "exception": false,
     "start_time": "2025-03-20T00:47:29.201292",
     "status": "completed"
    },
    "tags": [],
    "trusted": true
   },
   "outputs": [
    {
     "name": "stdout",
     "output_type": "stream",
     "text": [
      "9\n"
     ]
    },
    {
     "data": {
      "text/html": [
       "<div>\n",
       "<style scoped>\n",
       "    .dataframe tbody tr th:only-of-type {\n",
       "        vertical-align: middle;\n",
       "    }\n",
       "\n",
       "    .dataframe tbody tr th {\n",
       "        vertical-align: top;\n",
       "    }\n",
       "\n",
       "    .dataframe thead th {\n",
       "        text-align: right;\n",
       "    }\n",
       "</style>\n",
       "<table border=\"1\" class=\"dataframe\">\n",
       "  <thead>\n",
       "    <tr style=\"text-align: right;\">\n",
       "      <th></th>\n",
       "      <th>Unnamed: 0</th>\n",
       "      <th>_id</th>\n",
       "      <th>index</th>\n",
       "      <th>name</th>\n",
       "      <th>speed</th>\n",
       "      <th>ability_bonuses</th>\n",
       "      <th>alignment</th>\n",
       "      <th>age</th>\n",
       "      <th>size</th>\n",
       "      <th>size_description</th>\n",
       "      <th>starting_proficiencies</th>\n",
       "      <th>languages</th>\n",
       "      <th>language_desc</th>\n",
       "      <th>traits</th>\n",
       "      <th>trait_options</th>\n",
       "      <th>subraces</th>\n",
       "      <th>url</th>\n",
       "      <th>starting_proficiency_options</th>\n",
       "      <th>ability_bonus_options</th>\n",
       "      <th>language_options</th>\n",
       "    </tr>\n",
       "  </thead>\n",
       "  <tbody>\n",
       "    <tr>\n",
       "      <th>0</th>\n",
       "      <td>0</td>\n",
       "      <td>5f2329af0b1bb138c59413c3</td>\n",
       "      <td>dragonborn</td>\n",
       "      <td>Dragonborn</td>\n",
       "      <td>30</td>\n",
       "      <td>[{'name': 'STR', 'url': '/api/ability-scores/s...</td>\n",
       "      <td>Dragonborn tend to extremes, making a conscio...</td>\n",
       "      <td>Young dragonborn grow quickly. They walk hours...</td>\n",
       "      <td>Medium</td>\n",
       "      <td>Dragonborn are taller and heavier than humans,...</td>\n",
       "      <td>[]</td>\n",
       "      <td>[{'url': '/api/languages/common', 'name': 'Com...</td>\n",
       "      <td>You can speak, read, and write Common and Drac...</td>\n",
       "      <td>[{'name': 'Draconic Ancestry', 'url': '/api/tr...</td>\n",
       "      <td>{'choose': 1, 'from': [{'name': 'Breath Weapon...</td>\n",
       "      <td>[]</td>\n",
       "      <td>/api/races/dragonborn</td>\n",
       "      <td>NaN</td>\n",
       "      <td>NaN</td>\n",
       "      <td>NaN</td>\n",
       "    </tr>\n",
       "    <tr>\n",
       "      <th>1</th>\n",
       "      <td>1</td>\n",
       "      <td>5f2329af0b1bb138c59413c0</td>\n",
       "      <td>dwarf</td>\n",
       "      <td>Dwarf</td>\n",
       "      <td>30</td>\n",
       "      <td>[{'name': 'CON', 'url': '/api/ability-scores/c...</td>\n",
       "      <td>Most dwarves are lawful, believing firmly in t...</td>\n",
       "      <td>Dwarves mature at the same rate as humans, but...</td>\n",
       "      <td>Medium</td>\n",
       "      <td>Dwarves stand between 4 and 5 feet tall and av...</td>\n",
       "      <td>[{'url': '/api/proficiencies/battleaxes', 'nam...</td>\n",
       "      <td>[{'url': '/api/languages/common', 'name': 'Com...</td>\n",
       "      <td>You can speak, read, and write Common and Dwar...</td>\n",
       "      <td>[{'name': 'Darkvision', 'url': '/api/traits/da...</td>\n",
       "      <td>NaN</td>\n",
       "      <td>[{'url': '/api/subraces/hill-dwarf', 'name': '...</td>\n",
       "      <td>/api/races/dwarf</td>\n",
       "      <td>{'choose': 1, 'type': 'proficiencies', 'from':...</td>\n",
       "      <td>NaN</td>\n",
       "      <td>NaN</td>\n",
       "    </tr>\n",
       "    <tr>\n",
       "      <th>2</th>\n",
       "      <td>2</td>\n",
       "      <td>5f2329af0b1bb138c59413bf</td>\n",
       "      <td>elf</td>\n",
       "      <td>Elf</td>\n",
       "      <td>30</td>\n",
       "      <td>[{'name': 'DEX', 'url': '/api/ability-scores/d...</td>\n",
       "      <td>Elves love freedom, variety, and self-expressi...</td>\n",
       "      <td>Although elves reach physical maturity at abou...</td>\n",
       "      <td>Medium</td>\n",
       "      <td>Elves range from under 5 to over 6 feet tall a...</td>\n",
       "      <td>[{'url': '/api/proficiencies/skill-perception'...</td>\n",
       "      <td>[{'url': '/api/languages/common', 'name': 'Com...</td>\n",
       "      <td>You can speak, read, and write Common and Elvi...</td>\n",
       "      <td>[{'name': 'Darkvision', 'url': '/api/traits/da...</td>\n",
       "      <td>NaN</td>\n",
       "      <td>[{'url': '/api/subraces/high-elf', 'name': 'Hi...</td>\n",
       "      <td>/api/races/elf</td>\n",
       "      <td>NaN</td>\n",
       "      <td>NaN</td>\n",
       "      <td>NaN</td>\n",
       "    </tr>\n",
       "    <tr>\n",
       "      <th>3</th>\n",
       "      <td>3</td>\n",
       "      <td>5f2329af0b1bb138c59413c4</td>\n",
       "      <td>gnome</td>\n",
       "      <td>Gnome</td>\n",
       "      <td>25</td>\n",
       "      <td>[{'name': 'INT', 'url': '/api/ability-scores/i...</td>\n",
       "      <td>Gnomes are most often good. Those who tend tow...</td>\n",
       "      <td>Gnomes mature at the same rate humans do, and...</td>\n",
       "      <td>Small</td>\n",
       "      <td>Gnomes are between 3 and 4 feet tall and avera...</td>\n",
       "      <td>[]</td>\n",
       "      <td>[{'url': '/api/languages/common', 'name': 'Com...</td>\n",
       "      <td>You can speak, read, and write Common and Gnom...</td>\n",
       "      <td>[{'name': 'Darkvision', 'url': '/api/traits/da...</td>\n",
       "      <td>NaN</td>\n",
       "      <td>[{'url': '/api/subraces/rock-gnome', 'name': '...</td>\n",
       "      <td>/api/races/gnome</td>\n",
       "      <td>NaN</td>\n",
       "      <td>NaN</td>\n",
       "      <td>NaN</td>\n",
       "    </tr>\n",
       "    <tr>\n",
       "      <th>4</th>\n",
       "      <td>4</td>\n",
       "      <td>5f2329af0b1bb138c59413c5</td>\n",
       "      <td>half-elf</td>\n",
       "      <td>Half-Elf</td>\n",
       "      <td>30</td>\n",
       "      <td>[{'name': 'CHA', 'url': '/api/ability-scores/c...</td>\n",
       "      <td>Half-elves share the chaotic bent of their elv...</td>\n",
       "      <td>Half-elves mature at the same rate humans do a...</td>\n",
       "      <td>Medium</td>\n",
       "      <td>Half-elves are about the same size as humans, ...</td>\n",
       "      <td>[]</td>\n",
       "      <td>[{'name': 'Common', 'url': '/api/languages/com...</td>\n",
       "      <td>You can speak, read, and write Common, Elvish,...</td>\n",
       "      <td>[{'name': 'Darkvision', 'url': '/api/traits/da...</td>\n",
       "      <td>NaN</td>\n",
       "      <td>[]</td>\n",
       "      <td>/api/races/half-elf</td>\n",
       "      <td>NaN</td>\n",
       "      <td>{'choose': 2, 'type': 'ability_bonuses', 'from...</td>\n",
       "      <td>{'choose': 1, 'type': 'languages', 'from': [{'...</td>\n",
       "    </tr>\n",
       "    <tr>\n",
       "      <th>5</th>\n",
       "      <td>5</td>\n",
       "      <td>5f2329af0b1bb138c59413c6</td>\n",
       "      <td>half-orc</td>\n",
       "      <td>Half-Orc</td>\n",
       "      <td>30</td>\n",
       "      <td>[{'name': 'STR', 'url': '/api/ability-scores/s...</td>\n",
       "      <td>Half-orcs inherit a tendency toward chaos fro...</td>\n",
       "      <td>Half-orcs mature a little faster than humans, ...</td>\n",
       "      <td>Medium</td>\n",
       "      <td>Half-orcs are somewhat larger and bulkier than...</td>\n",
       "      <td>[{'name': 'Skill: Intimidation', 'url': '/api/...</td>\n",
       "      <td>[{'url': '/api/languages/common', 'name': 'Com...</td>\n",
       "      <td>You can speak, read, and write Common and Orc....</td>\n",
       "      <td>[{'name': 'Darkvision', 'url': '/api/traits/da...</td>\n",
       "      <td>NaN</td>\n",
       "      <td>[]</td>\n",
       "      <td>/api/races/half-orc</td>\n",
       "      <td>NaN</td>\n",
       "      <td>NaN</td>\n",
       "      <td>NaN</td>\n",
       "    </tr>\n",
       "    <tr>\n",
       "      <th>6</th>\n",
       "      <td>6</td>\n",
       "      <td>5f2329af0b1bb138c59413c1</td>\n",
       "      <td>halfling</td>\n",
       "      <td>Halfling</td>\n",
       "      <td>25</td>\n",
       "      <td>[{'name': 'DEX', 'url': '/api/ability-scores/d...</td>\n",
       "      <td>Most halflings are lawful good. As a rule, the...</td>\n",
       "      <td>A halfling reaches adulthood at the age of 20 ...</td>\n",
       "      <td>Small</td>\n",
       "      <td>Halflings average about 3 feet tall and weigh ...</td>\n",
       "      <td>[]</td>\n",
       "      <td>[{'url': '/api/languages/common', 'name': 'Com...</td>\n",
       "      <td>You can speak, read, and write Common and Half...</td>\n",
       "      <td>[{'name': 'Brave', 'url': '/api/traits/brave'}...</td>\n",
       "      <td>NaN</td>\n",
       "      <td>[{'url': '/api/subraces/lightfoot-halfling', '...</td>\n",
       "      <td>/api/races/halfling</td>\n",
       "      <td>NaN</td>\n",
       "      <td>NaN</td>\n",
       "      <td>NaN</td>\n",
       "    </tr>\n",
       "    <tr>\n",
       "      <th>7</th>\n",
       "      <td>7</td>\n",
       "      <td>5f2329af0b1bb138c59413c2</td>\n",
       "      <td>human</td>\n",
       "      <td>Human</td>\n",
       "      <td>30</td>\n",
       "      <td>[{'name': 'STR', 'url': '/api/ability-scores/s...</td>\n",
       "      <td>Humans tend toward no particular alignment. Th...</td>\n",
       "      <td>Humans reach adulthood in their late teens and...</td>\n",
       "      <td>Medium</td>\n",
       "      <td>Humans vary widely in height and build, from b...</td>\n",
       "      <td>[]</td>\n",
       "      <td>[{'url': '/api/languages/common', 'name': 'Com...</td>\n",
       "      <td>You can speak, read, and write Common and one ...</td>\n",
       "      <td>[]</td>\n",
       "      <td>NaN</td>\n",
       "      <td>[]</td>\n",
       "      <td>/api/races/human</td>\n",
       "      <td>NaN</td>\n",
       "      <td>NaN</td>\n",
       "      <td>{'choose': 1, 'type': 'languages', 'from': [{'...</td>\n",
       "    </tr>\n",
       "    <tr>\n",
       "      <th>8</th>\n",
       "      <td>8</td>\n",
       "      <td>5f2329af0b1bb138c59413c7</td>\n",
       "      <td>tiefling</td>\n",
       "      <td>Tiefling</td>\n",
       "      <td>30</td>\n",
       "      <td>[{'name': 'INT', 'url': '/api/ability-scores/i...</td>\n",
       "      <td>Tieflings might not have an innate tendency to...</td>\n",
       "      <td>Tieflings mature at the same rate as humans bu...</td>\n",
       "      <td>Medium</td>\n",
       "      <td>Tieflings are about the same size and build as...</td>\n",
       "      <td>[]</td>\n",
       "      <td>[{'url': '/api/languages/common', 'name': 'Com...</td>\n",
       "      <td>You can speak, read, and write Common and Infe...</td>\n",
       "      <td>[{'name': 'Darkvision', 'url': '/api/traits/da...</td>\n",
       "      <td>NaN</td>\n",
       "      <td>[]</td>\n",
       "      <td>/api/races/tiefling</td>\n",
       "      <td>NaN</td>\n",
       "      <td>NaN</td>\n",
       "      <td>NaN</td>\n",
       "    </tr>\n",
       "  </tbody>\n",
       "</table>\n",
       "</div>"
      ],
      "text/plain": [
       "   Unnamed: 0                       _id       index        name  speed  \\\n",
       "0           0  5f2329af0b1bb138c59413c3  dragonborn  Dragonborn     30   \n",
       "1           1  5f2329af0b1bb138c59413c0       dwarf       Dwarf     30   \n",
       "2           2  5f2329af0b1bb138c59413bf         elf         Elf     30   \n",
       "3           3  5f2329af0b1bb138c59413c4       gnome       Gnome     25   \n",
       "4           4  5f2329af0b1bb138c59413c5    half-elf    Half-Elf     30   \n",
       "5           5  5f2329af0b1bb138c59413c6    half-orc    Half-Orc     30   \n",
       "6           6  5f2329af0b1bb138c59413c1    halfling    Halfling     25   \n",
       "7           7  5f2329af0b1bb138c59413c2       human       Human     30   \n",
       "8           8  5f2329af0b1bb138c59413c7    tiefling    Tiefling     30   \n",
       "\n",
       "                                     ability_bonuses  \\\n",
       "0  [{'name': 'STR', 'url': '/api/ability-scores/s...   \n",
       "1  [{'name': 'CON', 'url': '/api/ability-scores/c...   \n",
       "2  [{'name': 'DEX', 'url': '/api/ability-scores/d...   \n",
       "3  [{'name': 'INT', 'url': '/api/ability-scores/i...   \n",
       "4  [{'name': 'CHA', 'url': '/api/ability-scores/c...   \n",
       "5  [{'name': 'STR', 'url': '/api/ability-scores/s...   \n",
       "6  [{'name': 'DEX', 'url': '/api/ability-scores/d...   \n",
       "7  [{'name': 'STR', 'url': '/api/ability-scores/s...   \n",
       "8  [{'name': 'INT', 'url': '/api/ability-scores/i...   \n",
       "\n",
       "                                           alignment  \\\n",
       "0   Dragonborn tend to extremes, making a conscio...   \n",
       "1  Most dwarves are lawful, believing firmly in t...   \n",
       "2  Elves love freedom, variety, and self-expressi...   \n",
       "3  Gnomes are most often good. Those who tend tow...   \n",
       "4  Half-elves share the chaotic bent of their elv...   \n",
       "5   Half-orcs inherit a tendency toward chaos fro...   \n",
       "6  Most halflings are lawful good. As a rule, the...   \n",
       "7  Humans tend toward no particular alignment. Th...   \n",
       "8  Tieflings might not have an innate tendency to...   \n",
       "\n",
       "                                                 age    size  \\\n",
       "0  Young dragonborn grow quickly. They walk hours...  Medium   \n",
       "1  Dwarves mature at the same rate as humans, but...  Medium   \n",
       "2  Although elves reach physical maturity at abou...  Medium   \n",
       "3   Gnomes mature at the same rate humans do, and...   Small   \n",
       "4  Half-elves mature at the same rate humans do a...  Medium   \n",
       "5  Half-orcs mature a little faster than humans, ...  Medium   \n",
       "6  A halfling reaches adulthood at the age of 20 ...   Small   \n",
       "7  Humans reach adulthood in their late teens and...  Medium   \n",
       "8  Tieflings mature at the same rate as humans bu...  Medium   \n",
       "\n",
       "                                    size_description  \\\n",
       "0  Dragonborn are taller and heavier than humans,...   \n",
       "1  Dwarves stand between 4 and 5 feet tall and av...   \n",
       "2  Elves range from under 5 to over 6 feet tall a...   \n",
       "3  Gnomes are between 3 and 4 feet tall and avera...   \n",
       "4  Half-elves are about the same size as humans, ...   \n",
       "5  Half-orcs are somewhat larger and bulkier than...   \n",
       "6  Halflings average about 3 feet tall and weigh ...   \n",
       "7  Humans vary widely in height and build, from b...   \n",
       "8  Tieflings are about the same size and build as...   \n",
       "\n",
       "                              starting_proficiencies  \\\n",
       "0                                                 []   \n",
       "1  [{'url': '/api/proficiencies/battleaxes', 'nam...   \n",
       "2  [{'url': '/api/proficiencies/skill-perception'...   \n",
       "3                                                 []   \n",
       "4                                                 []   \n",
       "5  [{'name': 'Skill: Intimidation', 'url': '/api/...   \n",
       "6                                                 []   \n",
       "7                                                 []   \n",
       "8                                                 []   \n",
       "\n",
       "                                           languages  \\\n",
       "0  [{'url': '/api/languages/common', 'name': 'Com...   \n",
       "1  [{'url': '/api/languages/common', 'name': 'Com...   \n",
       "2  [{'url': '/api/languages/common', 'name': 'Com...   \n",
       "3  [{'url': '/api/languages/common', 'name': 'Com...   \n",
       "4  [{'name': 'Common', 'url': '/api/languages/com...   \n",
       "5  [{'url': '/api/languages/common', 'name': 'Com...   \n",
       "6  [{'url': '/api/languages/common', 'name': 'Com...   \n",
       "7  [{'url': '/api/languages/common', 'name': 'Com...   \n",
       "8  [{'url': '/api/languages/common', 'name': 'Com...   \n",
       "\n",
       "                                       language_desc  \\\n",
       "0  You can speak, read, and write Common and Drac...   \n",
       "1  You can speak, read, and write Common and Dwar...   \n",
       "2  You can speak, read, and write Common and Elvi...   \n",
       "3  You can speak, read, and write Common and Gnom...   \n",
       "4  You can speak, read, and write Common, Elvish,...   \n",
       "5  You can speak, read, and write Common and Orc....   \n",
       "6  You can speak, read, and write Common and Half...   \n",
       "7  You can speak, read, and write Common and one ...   \n",
       "8  You can speak, read, and write Common and Infe...   \n",
       "\n",
       "                                              traits  \\\n",
       "0  [{'name': 'Draconic Ancestry', 'url': '/api/tr...   \n",
       "1  [{'name': 'Darkvision', 'url': '/api/traits/da...   \n",
       "2  [{'name': 'Darkvision', 'url': '/api/traits/da...   \n",
       "3  [{'name': 'Darkvision', 'url': '/api/traits/da...   \n",
       "4  [{'name': 'Darkvision', 'url': '/api/traits/da...   \n",
       "5  [{'name': 'Darkvision', 'url': '/api/traits/da...   \n",
       "6  [{'name': 'Brave', 'url': '/api/traits/brave'}...   \n",
       "7                                                 []   \n",
       "8  [{'name': 'Darkvision', 'url': '/api/traits/da...   \n",
       "\n",
       "                                       trait_options  \\\n",
       "0  {'choose': 1, 'from': [{'name': 'Breath Weapon...   \n",
       "1                                                NaN   \n",
       "2                                                NaN   \n",
       "3                                                NaN   \n",
       "4                                                NaN   \n",
       "5                                                NaN   \n",
       "6                                                NaN   \n",
       "7                                                NaN   \n",
       "8                                                NaN   \n",
       "\n",
       "                                            subraces                    url  \\\n",
       "0                                                 []  /api/races/dragonborn   \n",
       "1  [{'url': '/api/subraces/hill-dwarf', 'name': '...       /api/races/dwarf   \n",
       "2  [{'url': '/api/subraces/high-elf', 'name': 'Hi...         /api/races/elf   \n",
       "3  [{'url': '/api/subraces/rock-gnome', 'name': '...       /api/races/gnome   \n",
       "4                                                 []    /api/races/half-elf   \n",
       "5                                                 []    /api/races/half-orc   \n",
       "6  [{'url': '/api/subraces/lightfoot-halfling', '...    /api/races/halfling   \n",
       "7                                                 []       /api/races/human   \n",
       "8                                                 []    /api/races/tiefling   \n",
       "\n",
       "                        starting_proficiency_options  \\\n",
       "0                                                NaN   \n",
       "1  {'choose': 1, 'type': 'proficiencies', 'from':...   \n",
       "2                                                NaN   \n",
       "3                                                NaN   \n",
       "4                                                NaN   \n",
       "5                                                NaN   \n",
       "6                                                NaN   \n",
       "7                                                NaN   \n",
       "8                                                NaN   \n",
       "\n",
       "                               ability_bonus_options  \\\n",
       "0                                                NaN   \n",
       "1                                                NaN   \n",
       "2                                                NaN   \n",
       "3                                                NaN   \n",
       "4  {'choose': 2, 'type': 'ability_bonuses', 'from...   \n",
       "5                                                NaN   \n",
       "6                                                NaN   \n",
       "7                                                NaN   \n",
       "8                                                NaN   \n",
       "\n",
       "                                    language_options  \n",
       "0                                                NaN  \n",
       "1                                                NaN  \n",
       "2                                                NaN  \n",
       "3                                                NaN  \n",
       "4  {'choose': 1, 'type': 'languages', 'from': [{'...  \n",
       "5                                                NaN  \n",
       "6                                                NaN  \n",
       "7  {'choose': 1, 'type': 'languages', 'from': [{'...  \n",
       "8                                                NaN  "
      ]
     },
     "execution_count": 8,
     "metadata": {},
     "output_type": "execute_result"
    }
   ],
   "source": [
    "races_df = pd.read_csv(os.path.join(DATA_FOLDER, RACES_FILE))\n",
    "\n",
    "print(len(races_df))\n",
    "races_df.head(10)"
   ]
  },
  {
   "cell_type": "markdown",
   "id": "27a73751",
   "metadata": {
    "papermill": {
     "duration": 0.008492,
     "end_time": "2025-03-20T00:47:29.276442",
     "exception": false,
     "start_time": "2025-03-20T00:47:29.267950",
     "status": "completed"
    },
    "tags": []
   },
   "source": [
    "# 1.1 Describe data"
   ]
  },
  {
   "cell_type": "code",
   "execution_count": 9,
   "id": "4f0cd298",
   "metadata": {
    "execution": {
     "iopub.execute_input": "2025-04-23T06:16:55.356278Z",
     "iopub.status.busy": "2025-04-23T06:16:55.355956Z",
     "iopub.status.idle": "2025-04-23T06:16:55.379938Z",
     "shell.execute_reply": "2025-04-23T06:16:55.379276Z",
     "shell.execute_reply.started": "2025-04-23T06:16:55.356255Z"
    },
    "papermill": {
     "duration": 0.04983,
     "end_time": "2025-03-20T00:47:29.334706",
     "exception": false,
     "start_time": "2025-03-20T00:47:29.284876",
     "status": "completed"
    },
    "tags": [],
    "trusted": true
   },
   "outputs": [
    {
     "name": "stdout",
     "output_type": "stream",
     "text": [
      "<class 'pandas.core.frame.DataFrame'>\n",
      "RangeIndex: 9 entries, 0 to 8\n",
      "Data columns (total 20 columns):\n",
      " #   Column                        Non-Null Count  Dtype \n",
      "---  ------                        --------------  ----- \n",
      " 0   Unnamed: 0                    9 non-null      int64 \n",
      " 1   _id                           9 non-null      object\n",
      " 2   index                         9 non-null      object\n",
      " 3   name                          9 non-null      object\n",
      " 4   speed                         9 non-null      int64 \n",
      " 5   ability_bonuses               9 non-null      object\n",
      " 6   alignment                     9 non-null      object\n",
      " 7   age                           9 non-null      object\n",
      " 8   size                          9 non-null      object\n",
      " 9   size_description              9 non-null      object\n",
      " 10  starting_proficiencies        9 non-null      object\n",
      " 11  languages                     9 non-null      object\n",
      " 12  language_desc                 9 non-null      object\n",
      " 13  traits                        9 non-null      object\n",
      " 14  trait_options                 1 non-null      object\n",
      " 15  subraces                      9 non-null      object\n",
      " 16  url                           9 non-null      object\n",
      " 17  starting_proficiency_options  1 non-null      object\n",
      " 18  ability_bonus_options         1 non-null      object\n",
      " 19  language_options              2 non-null      object\n",
      "dtypes: int64(2), object(18)\n",
      "memory usage: 1.5+ KB\n"
     ]
    },
    {
     "data": {
      "text/plain": [
       "None"
      ]
     },
     "metadata": {},
     "output_type": "display_data"
    }
   ],
   "source": [
    "# Getting Info\n",
    "display(races_df.info())"
   ]
  },
  {
   "cell_type": "code",
   "execution_count": 10,
   "id": "918b3c6c",
   "metadata": {
    "execution": {
     "iopub.execute_input": "2025-04-23T06:17:06.945871Z",
     "iopub.status.busy": "2025-04-23T06:17:06.945572Z",
     "iopub.status.idle": "2025-04-23T06:17:06.961867Z",
     "shell.execute_reply": "2025-04-23T06:17:06.961124Z",
     "shell.execute_reply.started": "2025-04-23T06:17:06.945850Z"
    },
    "papermill": {
     "duration": 0.041505,
     "end_time": "2025-03-20T00:47:29.385233",
     "exception": false,
     "start_time": "2025-03-20T00:47:29.343728",
     "status": "completed"
    },
    "tags": [],
    "trusted": true
   },
   "outputs": [
    {
     "data": {
      "text/html": [
       "<div>\n",
       "<style scoped>\n",
       "    .dataframe tbody tr th:only-of-type {\n",
       "        vertical-align: middle;\n",
       "    }\n",
       "\n",
       "    .dataframe tbody tr th {\n",
       "        vertical-align: top;\n",
       "    }\n",
       "\n",
       "    .dataframe thead th {\n",
       "        text-align: right;\n",
       "    }\n",
       "</style>\n",
       "<table border=\"1\" class=\"dataframe\">\n",
       "  <thead>\n",
       "    <tr style=\"text-align: right;\">\n",
       "      <th></th>\n",
       "      <th>Unnamed: 0</th>\n",
       "      <th>speed</th>\n",
       "    </tr>\n",
       "  </thead>\n",
       "  <tbody>\n",
       "    <tr>\n",
       "      <th>count</th>\n",
       "      <td>9.000000</td>\n",
       "      <td>9.000000</td>\n",
       "    </tr>\n",
       "    <tr>\n",
       "      <th>mean</th>\n",
       "      <td>4.000000</td>\n",
       "      <td>28.888889</td>\n",
       "    </tr>\n",
       "    <tr>\n",
       "      <th>std</th>\n",
       "      <td>2.738613</td>\n",
       "      <td>2.204793</td>\n",
       "    </tr>\n",
       "    <tr>\n",
       "      <th>min</th>\n",
       "      <td>0.000000</td>\n",
       "      <td>25.000000</td>\n",
       "    </tr>\n",
       "    <tr>\n",
       "      <th>25%</th>\n",
       "      <td>2.000000</td>\n",
       "      <td>30.000000</td>\n",
       "    </tr>\n",
       "    <tr>\n",
       "      <th>50%</th>\n",
       "      <td>4.000000</td>\n",
       "      <td>30.000000</td>\n",
       "    </tr>\n",
       "    <tr>\n",
       "      <th>75%</th>\n",
       "      <td>6.000000</td>\n",
       "      <td>30.000000</td>\n",
       "    </tr>\n",
       "    <tr>\n",
       "      <th>max</th>\n",
       "      <td>8.000000</td>\n",
       "      <td>30.000000</td>\n",
       "    </tr>\n",
       "  </tbody>\n",
       "</table>\n",
       "</div>"
      ],
      "text/plain": [
       "       Unnamed: 0      speed\n",
       "count    9.000000   9.000000\n",
       "mean     4.000000  28.888889\n",
       "std      2.738613   2.204793\n",
       "min      0.000000  25.000000\n",
       "25%      2.000000  30.000000\n",
       "50%      4.000000  30.000000\n",
       "75%      6.000000  30.000000\n",
       "max      8.000000  30.000000"
      ]
     },
     "execution_count": 10,
     "metadata": {},
     "output_type": "execute_result"
    }
   ],
   "source": [
    "races_df.describe()"
   ]
  },
  {
   "cell_type": "markdown",
   "id": "01d02a74",
   "metadata": {
    "papermill": {
     "duration": 0.009026,
     "end_time": "2025-03-20T00:47:29.403582",
     "exception": false,
     "start_time": "2025-03-20T00:47:29.394556",
     "status": "completed"
    },
    "tags": []
   },
   "source": [
    "## Null values"
   ]
  },
  {
   "cell_type": "code",
   "execution_count": 11,
   "id": "2761aa15",
   "metadata": {
    "execution": {
     "iopub.execute_input": "2025-04-23T06:17:23.910086Z",
     "iopub.status.busy": "2025-04-23T06:17:23.909376Z",
     "iopub.status.idle": "2025-04-23T06:17:23.916418Z",
     "shell.execute_reply": "2025-04-23T06:17:23.915536Z",
     "shell.execute_reply.started": "2025-04-23T06:17:23.910061Z"
    },
    "papermill": {
     "duration": 0.017668,
     "end_time": "2025-03-20T00:47:29.430115",
     "exception": false,
     "start_time": "2025-03-20T00:47:29.412447",
     "status": "completed"
    },
    "tags": [],
    "trusted": true
   },
   "outputs": [
    {
     "data": {
      "text/plain": [
       "Unnamed: 0                      0\n",
       "_id                             0\n",
       "index                           0\n",
       "name                            0\n",
       "speed                           0\n",
       "ability_bonuses                 0\n",
       "alignment                       0\n",
       "age                             0\n",
       "size                            0\n",
       "size_description                0\n",
       "starting_proficiencies          0\n",
       "languages                       0\n",
       "language_desc                   0\n",
       "traits                          0\n",
       "trait_options                   8\n",
       "subraces                        0\n",
       "url                             0\n",
       "starting_proficiency_options    8\n",
       "ability_bonus_options           8\n",
       "language_options                7\n",
       "dtype: int64"
      ]
     },
     "metadata": {},
     "output_type": "display_data"
    }
   ],
   "source": [
    "# Checking NULL values\n",
    "display(races_df.isnull().sum())"
   ]
  },
  {
   "cell_type": "markdown",
   "id": "465b2890",
   "metadata": {
    "papermill": {
     "duration": 0.008632,
     "end_time": "2025-03-20T00:47:29.448327",
     "exception": false,
     "start_time": "2025-03-20T00:47:29.439695",
     "status": "completed"
    },
    "tags": []
   },
   "source": [
    "# 1.2 EDA\n",
    "## 1.2.1 Distribution of Speed"
   ]
  },
  {
   "cell_type": "code",
   "execution_count": 12,
   "id": "d57fdc2c",
   "metadata": {
    "execution": {
     "iopub.execute_input": "2025-04-23T06:18:53.534965Z",
     "iopub.status.busy": "2025-04-23T06:18:53.534662Z",
     "iopub.status.idle": "2025-04-23T06:18:53.880368Z",
     "shell.execute_reply": "2025-04-23T06:18:53.879479Z",
     "shell.execute_reply.started": "2025-04-23T06:18:53.534945Z"
    },
    "papermill": {
     "duration": 0.474524,
     "end_time": "2025-03-20T00:47:29.931448",
     "exception": false,
     "start_time": "2025-03-20T00:47:29.456924",
     "status": "completed"
    },
    "tags": [],
    "trusted": true
   },
   "outputs": [
    {
     "data": {
      "image/png": "[encoded data removed]",
      "text/plain": [
       "<Figure size 1200x500 with 1 Axes>"
      ]
     },
     "metadata": {},
     "output_type": "display_data"
    }
   ],
   "source": [
    "plt.figure(figsize=(12, 5))\n",
    "sns.histplot(races_df['speed'], kde=True, label='Speed')\n",
    "plt.xlabel(\"Speed\")\n",
    "plt.ylabel(\"Frequency\")\n",
    "plt.title(\"Distribution of Race Speed\")\n",
    "plt.xticks(rotation=90)\n",
    "plt.legend()\n",
    "plt.show()"
   ]
  },
  {
   "cell_type": "code",
   "execution_count": 13,
   "id": "538e919e",
   "metadata": {},
   "outputs": [
    {
     "data": {
      "text/html": [
       "<div>\n",
       "<style scoped>\n",
       "    .dataframe tbody tr th:only-of-type {\n",
       "        vertical-align: middle;\n",
       "    }\n",
       "\n",
       "    .dataframe tbody tr th {\n",
       "        vertical-align: top;\n",
       "    }\n",
       "\n",
       "    .dataframe thead th {\n",
       "        text-align: right;\n",
       "    }\n",
       "</style>\n",
       "<table border=\"1\" class=\"dataframe\">\n",
       "  <thead>\n",
       "    <tr style=\"text-align: right;\">\n",
       "      <th></th>\n",
       "      <th>Unnamed: 0</th>\n",
       "      <th>_id</th>\n",
       "      <th>index</th>\n",
       "      <th>name</th>\n",
       "      <th>speed</th>\n",
       "      <th>ability_bonuses</th>\n",
       "      <th>alignment</th>\n",
       "      <th>age</th>\n",
       "      <th>size</th>\n",
       "      <th>size_description</th>\n",
       "      <th>starting_proficiencies</th>\n",
       "      <th>languages</th>\n",
       "      <th>language_desc</th>\n",
       "      <th>traits</th>\n",
       "      <th>trait_options</th>\n",
       "      <th>subraces</th>\n",
       "      <th>url</th>\n",
       "      <th>starting_proficiency_options</th>\n",
       "      <th>ability_bonus_options</th>\n",
       "      <th>language_options</th>\n",
       "    </tr>\n",
       "  </thead>\n",
       "  <tbody>\n",
       "    <tr>\n",
       "      <th>0</th>\n",
       "      <td>0</td>\n",
       "      <td>5f2329af0b1bb138c59413c3</td>\n",
       "      <td>dragonborn</td>\n",
       "      <td>Dragonborn</td>\n",
       "      <td>30</td>\n",
       "      <td>[{'name': 'STR', 'url': '/api/ability-scores/s...</td>\n",
       "      <td>Dragonborn tend to extremes, making a conscio...</td>\n",
       "      <td>Young dragonborn grow quickly. They walk hours...</td>\n",
       "      <td>Medium</td>\n",
       "      <td>Dragonborn are taller and heavier than humans,...</td>\n",
       "      <td>[]</td>\n",
       "      <td>[{'url': '/api/languages/common', 'name': 'Com...</td>\n",
       "      <td>You can speak, read, and write Common and Drac...</td>\n",
       "      <td>[{'name': 'Draconic Ancestry', 'url': '/api/tr...</td>\n",
       "      <td>{'choose': 1, 'from': [{'name': 'Breath Weapon...</td>\n",
       "      <td>[]</td>\n",
       "      <td>/api/races/dragonborn</td>\n",
       "      <td>NaN</td>\n",
       "      <td>NaN</td>\n",
       "      <td>NaN</td>\n",
       "    </tr>\n",
       "  </tbody>\n",
       "</table>\n",
       "</div>"
      ],
      "text/plain": [
       "   Unnamed: 0                       _id       index        name  speed  \\\n",
       "0           0  5f2329af0b1bb138c59413c3  dragonborn  Dragonborn     30   \n",
       "\n",
       "                                     ability_bonuses  \\\n",
       "0  [{'name': 'STR', 'url': '/api/ability-scores/s...   \n",
       "\n",
       "                                           alignment  \\\n",
       "0   Dragonborn tend to extremes, making a conscio...   \n",
       "\n",
       "                                                 age    size  \\\n",
       "0  Young dragonborn grow quickly. They walk hours...  Medium   \n",
       "\n",
       "                                    size_description starting_proficiencies  \\\n",
       "0  Dragonborn are taller and heavier than humans,...                     []   \n",
       "\n",
       "                                           languages  \\\n",
       "0  [{'url': '/api/languages/common', 'name': 'Com...   \n",
       "\n",
       "                                       language_desc  \\\n",
       "0  You can speak, read, and write Common and Drac...   \n",
       "\n",
       "                                              traits  \\\n",
       "0  [{'name': 'Draconic Ancestry', 'url': '/api/tr...   \n",
       "\n",
       "                                       trait_options subraces  \\\n",
       "0  {'choose': 1, 'from': [{'name': 'Breath Weapon...       []   \n",
       "\n",
       "                     url starting_proficiency_options ability_bonus_options  \\\n",
       "0  /api/races/dragonborn                          NaN                   NaN   \n",
       "\n",
       "  language_options  \n",
       "0              NaN  "
      ]
     },
     "execution_count": 13,
     "metadata": {},
     "output_type": "execute_result"
    }
   ],
   "source": [
    "races_df.head(1)"
   ]
  },
  {
   "cell_type": "code",
   "execution_count": 14,
   "id": "8243e50c",
   "metadata": {
    "execution": {
     "iopub.execute_input": "2025-03-20T00:47:30.266444Z",
     "iopub.status.busy": "2025-03-20T00:47:30.266054Z",
     "iopub.status.idle": "2025-03-20T00:47:30.271797Z",
     "shell.execute_reply": "2025-03-20T00:47:30.270948Z"
    },
    "papermill": {
     "duration": 0.019183,
     "end_time": "2025-03-20T00:47:30.273011",
     "exception": false,
     "start_time": "2025-03-20T00:47:30.253828",
     "status": "completed"
    },
    "tags": []
   },
   "outputs": [
    {
     "name": "stdout",
     "output_type": "stream",
     "text": [
      "['Unnamed: 0', '_id', 'index', 'name', 'hit_die', 'proficiency_choices', 'proficiencies', 'saving_throws', 'starting_equipment', 'class_levels', 'subclasses', 'url', 'spellcasting']\n"
     ]
    }
   ],
   "source": [
    "print(classes_df.columns.tolist())\n",
    "TEXT_COLUMNS = ['index', 'name', 'alignment', 'age', 'size', 'size_description', 'language_desc']\n",
    "JSON_COLUMNS = ['ability_bonuses', 'languages', 'traits']"
   ]
  },
  {
   "cell_type": "code",
   "execution_count": 15,
   "id": "b433209f",
   "metadata": {},
   "outputs": [
    {
     "data": {
      "text/plain": [
       "[{'name': 'Draconic Ancestry', 'url': '/api/traits/draconic-ancestry'},\n",
       " {'name': 'Breath Weapon', 'url': '/api/traits/breath-weapon'},\n",
       " {'name': 'Damage Resistance', 'url': '/api/traits/damage-resistance'}]"
      ]
     },
     "execution_count": 15,
     "metadata": {},
     "output_type": "execute_result"
    }
   ],
   "source": [
    "json.loads(\"[{\\\"name\\\": \\\"Draconic Ancestry\\\", \\\"url\\\": \\\"/api/traits/draconic-ancestry\\\"}, {\\\"name\\\": \\\"Breath Weapon\\\", \\\"url\\\": \\\"/api/traits/breath-weapon\\\"}, {\\\"name\\\": \\\"Damage Resistance\\\", \\\"url\\\": \\\"/api/traits/damage-resistance\\\"}]\")"
   ]
  },
  {
   "cell_type": "markdown",
   "id": "21819ebc",
   "metadata": {
    "papermill": {
     "duration": 0.009984,
     "end_time": "2025-03-20T00:47:30.655147",
     "exception": false,
     "start_time": "2025-03-20T00:47:30.645163",
     "status": "completed"
    },
    "tags": []
   },
   "source": [
    "# 2.0 Retrieval Augmented Generation\n",
    "## 2.0.0 Custom Data Loaders"
   ]
  },
  {
   "cell_type": "code",
   "execution_count": 16,
   "id": "223fca9f",
   "metadata": {},
   "outputs": [],
   "source": [
    "DOC_RACES_TEMPLATE = \"\"\"\n",
    "Race: {race}\n",
    "\n",
    "Speed: {speed}\n",
    "Alignment: \\n{alignment}\n",
    "Age: \\n{age}\n",
    "Size: {size}\n",
    "Description of Size of {race}: \\n{size_description}\n",
    "Languages spoken by {race}: \\n{language_desc}\n",
    "Ability bonuses of {race}: {ability_bonuses}\n",
    "Traits of {race}: {traits}\n",
    "\"\"\"\n",
    "\n",
    "\n",
    "def parse_traits(traits):\n",
    "    final_text = ''\n",
    "    traits = traits.replace(\"'\",'\\\"')\n",
    "    traits = json.loads(traits)\n",
    "    for trait in traits:\n",
    "        final_text += '\\n- {}'.format(trait['name'])\n",
    "    return final_text\n",
    "\n",
    "\n",
    "def parse_ability_bonuses(ability_bonuses):\n",
    "    final_text = ''\n",
    "    ability_bonuses = ability_bonuses.replace(\"'\",'\\\"')\n",
    "    ability_bonuses = json.loads(ability_bonuses)\n",
    "    for ab in ability_bonuses:\n",
    "        final_text += '\\n- {}'.format(ab['name'])\n",
    "    return final_text\n",
    "\n",
    "\n",
    "class DNDRaceDocumentLoader(BaseLoader):\n",
    "    \"\"\"An example document loader that reads a file line by line.\"\"\"\n",
    "\n",
    "    def __init__(self, file_path: str) -> None:\n",
    "        \"\"\"Initialize the loader with a file path.\n",
    "\n",
    "        Args:\n",
    "            file_path: The path to the file to load.\n",
    "        \"\"\"\n",
    "        self.file_path = file_path\n",
    "\n",
    "    # <-- Does not take any arguments\n",
    "    def lazy_load(self) -> Iterator[Document]:\n",
    "        \"\"\"A lazy loader that reads a file line by line.\n",
    "\n",
    "        When you're implementing lazy load methods, you should use a generator\n",
    "        to yield documents one by one.\n",
    "        \"\"\"\n",
    "        df = pd.read_csv(self.file_path)\n",
    "        for row in df.itertuples():\n",
    "            traits = parse_traits(row.traits)\n",
    "            ability_bonuses = parse_ability_bonuses(row.ability_bonuses)\n",
    "            language_desc = row.language_desc.replace(\n",
    "                \"You can\", \"{} can\".format(row.name))\n",
    "            page_content = DOC_RACES_TEMPLATE.format(\n",
    "                race=row.name, speed=row.speed, alignment=row.alignment.strip(),\n",
    "                age=row.age, size=row.size, size_description=row.size_description,\n",
    "                language_desc=language_desc, ability_bonuses=ability_bonuses, traits=traits,\n",
    "            )\n",
    "            yield Document(\n",
    "                page_content=page_content,\n",
    "                metadata={\n",
    "                    \"row_number\": row.Index, \"source\": self.file_path\n",
    "                },\n",
    "            )"
   ]
  },
  {
   "cell_type": "code",
   "execution_count": 17,
   "id": "bc0f16c6",
   "metadata": {},
   "outputs": [],
   "source": [
    "loader_races = DNDRaceDocumentLoader(os.path.join(DATA_FOLDER, RACES_FILE))"
   ]
  },
  {
   "cell_type": "code",
   "execution_count": 18,
   "id": "9adbbf55",
   "metadata": {},
   "outputs": [
    {
     "name": "stdout",
     "output_type": "stream",
     "text": [
      "\n",
      "<class 'langchain_core.documents.base.Document'>\n",
      "page_content='\n",
      "Race: Dragonborn\n",
      "\n",
      "Speed: 30\n",
      "Alignment: \n",
      "Dragonborn tend to extremes, making a conscious choice for one side or the other in the cosmic war between good and evil. Most dragonborn are good, but those who side with evil can be terrible villains.\n",
      "Age: \n",
      "Young dragonborn grow quickly. They walk hours after hatching, attain the size and development of a 10-year-old human child by the age of 3, and reach adulthood by 15. They live to be around 80.\n",
      "Size: Medium\n",
      "Description of Size of Dragonborn: \n",
      "Dragonborn are taller and heavier than humans, standing well over 6 feet tall and averaging almost 250 pounds. Your size is Medium.\n",
      "Languages spoken by Dragonborn: \n",
      "Dragonborn can speak, read, and write Common and Draconic. Draconic is thought to be one of the oldest languages and is often used in the study of magic. The language sounds harsh to most other creatures and includes numerous hard consonants and sibilants.\n",
      "Ability bonuses of Dragonborn: \n",
      "- STR\n",
      "- CHA\n",
      "Traits of Dragonborn: \n",
      "- Draconic Ancestry\n",
      "- Breath Weapon\n",
      "- Damage Resistance\n",
      "' metadata={'row_number': 0, 'source': '../data/dungeons-dragons/races.csv'}\n"
     ]
    }
   ],
   "source": [
    "## Test out the lazy load interface\n",
    "for doc in loader_races.lazy_load():\n",
    "    print()\n",
    "    print(type(doc))\n",
    "    print(doc)\n",
    "    break"
   ]
  },
  {
   "cell_type": "code",
   "execution_count": 19,
   "id": "6c5fbbf0",
   "metadata": {},
   "outputs": [
    {
     "name": "stdout",
     "output_type": "stream",
     "text": [
      "12\n"
     ]
    },
    {
     "data": {
      "text/html": [
       "<div>\n",
       "<style scoped>\n",
       "    .dataframe tbody tr th:only-of-type {\n",
       "        vertical-align: middle;\n",
       "    }\n",
       "\n",
       "    .dataframe tbody tr th {\n",
       "        vertical-align: top;\n",
       "    }\n",
       "\n",
       "    .dataframe thead th {\n",
       "        text-align: right;\n",
       "    }\n",
       "</style>\n",
       "<table border=\"1\" class=\"dataframe\">\n",
       "  <thead>\n",
       "    <tr style=\"text-align: right;\">\n",
       "      <th></th>\n",
       "      <th>Unnamed: 0</th>\n",
       "      <th>_id</th>\n",
       "      <th>index</th>\n",
       "      <th>name</th>\n",
       "      <th>hit_die</th>\n",
       "      <th>proficiency_choices</th>\n",
       "      <th>proficiencies</th>\n",
       "      <th>saving_throws</th>\n",
       "      <th>starting_equipment</th>\n",
       "      <th>class_levels</th>\n",
       "      <th>subclasses</th>\n",
       "      <th>url</th>\n",
       "      <th>spellcasting</th>\n",
       "    </tr>\n",
       "  </thead>\n",
       "  <tbody>\n",
       "    <tr>\n",
       "      <th>0</th>\n",
       "      <td>0</td>\n",
       "      <td>5f2329a70b1bb138c5940d30</td>\n",
       "      <td>barbarian</td>\n",
       "      <td>Barbarian</td>\n",
       "      <td>12</td>\n",
       "      <td>[{'choose': 2, 'type': 'proficiencies', 'from'...</td>\n",
       "      <td>[{'name': 'Light armor', 'url': '/api/proficie...</td>\n",
       "      <td>[{'name': 'STR', 'url': '/api/ability-scores/s...</td>\n",
       "      <td>{'url': '/api/starting-equipment/1', 'class': ...</td>\n",
       "      <td>{'url': '/api/classes/barbarian/levels', 'clas...</td>\n",
       "      <td>[{'url': '/api/subclasses/berserker', 'name': ...</td>\n",
       "      <td>/api/classes/barbarian</td>\n",
       "      <td>NaN</td>\n",
       "    </tr>\n",
       "    <tr>\n",
       "      <th>1</th>\n",
       "      <td>1</td>\n",
       "      <td>5f2329a70b1bb138c5940d31</td>\n",
       "      <td>bard</td>\n",
       "      <td>Bard</td>\n",
       "      <td>8</td>\n",
       "      <td>[{'choose': 3, 'type': 'proficiencies', 'from'...</td>\n",
       "      <td>[{'name': 'Light armor', 'url': '/api/proficie...</td>\n",
       "      <td>[{'name': 'DEX', 'url': '/api/ability-scores/d...</td>\n",
       "      <td>{'url': '/api/starting-equipment/2', 'class': ...</td>\n",
       "      <td>{'url': '/api/classes/bard/levels', 'class': '...</td>\n",
       "      <td>[{'url': '/api/subclasses/lore', 'name': 'Lore'}]</td>\n",
       "      <td>/api/classes/bard</td>\n",
       "      <td>{'url': '/api/spellcasting/bard', 'class': 'Ba...</td>\n",
       "    </tr>\n",
       "  </tbody>\n",
       "</table>\n",
       "</div>"
      ],
      "text/plain": [
       "   Unnamed: 0                       _id      index       name  hit_die  \\\n",
       "0           0  5f2329a70b1bb138c5940d30  barbarian  Barbarian       12   \n",
       "1           1  5f2329a70b1bb138c5940d31       bard       Bard        8   \n",
       "\n",
       "                                 proficiency_choices  \\\n",
       "0  [{'choose': 2, 'type': 'proficiencies', 'from'...   \n",
       "1  [{'choose': 3, 'type': 'proficiencies', 'from'...   \n",
       "\n",
       "                                       proficiencies  \\\n",
       "0  [{'name': 'Light armor', 'url': '/api/proficie...   \n",
       "1  [{'name': 'Light armor', 'url': '/api/proficie...   \n",
       "\n",
       "                                       saving_throws  \\\n",
       "0  [{'name': 'STR', 'url': '/api/ability-scores/s...   \n",
       "1  [{'name': 'DEX', 'url': '/api/ability-scores/d...   \n",
       "\n",
       "                                  starting_equipment  \\\n",
       "0  {'url': '/api/starting-equipment/1', 'class': ...   \n",
       "1  {'url': '/api/starting-equipment/2', 'class': ...   \n",
       "\n",
       "                                        class_levels  \\\n",
       "0  {'url': '/api/classes/barbarian/levels', 'clas...   \n",
       "1  {'url': '/api/classes/bard/levels', 'class': '...   \n",
       "\n",
       "                                          subclasses                     url  \\\n",
       "0  [{'url': '/api/subclasses/berserker', 'name': ...  /api/classes/barbarian   \n",
       "1  [{'url': '/api/subclasses/lore', 'name': 'Lore'}]       /api/classes/bard   \n",
       "\n",
       "                                        spellcasting  \n",
       "0                                                NaN  \n",
       "1  {'url': '/api/spellcasting/bard', 'class': 'Ba...  "
      ]
     },
     "execution_count": 19,
     "metadata": {},
     "output_type": "execute_result"
    }
   ],
   "source": [
    "print(len(classes_df))\n",
    "classes_df.head(2)"
   ]
  },
  {
   "cell_type": "code",
   "execution_count": 20,
   "id": "6a4099e9",
   "metadata": {},
   "outputs": [
    {
     "data": {
      "text/plain": [
       "[np.int64(1),\n",
       " '5f2329a70b1bb138c5940d31',\n",
       " 'bard',\n",
       " 'Bard',\n",
       " np.int64(8),\n",
       " \"[{'choose': 3, 'type': 'proficiencies', 'from': [{'url': '/api/proficiencies/skill-acrobatics', 'name': 'Skill: Acrobatics'}, {'url': '/api/proficiencies/skill-animal-handling', 'name': 'Skill: Animal Handling'}, {'url': '/api/proficiencies/skill-arcana', 'name': 'Skill: Arcana'}, {'url': '/api/proficiencies/skill-athletics', 'name': 'Skill: Athletics'}, {'url': '/api/proficiencies/skill-deception', 'name': 'Skill: Deception'}, {'url': '/api/proficiencies/skill-history', 'name': 'Skill: History'}, {'url': '/api/proficiencies/skill-insight', 'name': 'Skill: Insight'}, {'url': '/api/proficiencies/skill-intimidation', 'name': 'Skill: Intimidation'}, {'url': '/api/proficiencies/skill-investigation', 'name': 'Skill: Investigation'}, {'url': '/api/proficiencies/skill-medicine', 'name': 'Skill: Medicine'}, {'url': '/api/proficiencies/skill-nature', 'name': 'Skill: Nature'}, {'url': '/api/proficiencies/skill-perception', 'name': 'Skill: Perception'}, {'url': '/api/proficiencies/skill-performance', 'name': 'Skill: Performance'}, {'url': '/api/proficiencies/skill-persuasion', 'name': 'Skill: Persuasion'}, {'url': '/api/proficiencies/skill-religion', 'name': 'Skill: Religion'}, {'url': '/api/proficiencies/skill-sleight-of-hand', 'name': 'Skill: Sleight of Hand'}, {'url': '/api/proficiencies/skill-stealth', 'name': 'Skill: Stealth'}, {'url': '/api/proficiencies/skill-survival', 'name': 'Skill: Survival'}]}, {'choose': 3, 'type': 'proficiencies', 'from': [{'url': '/api/proficiencies/bagpipes', 'name': 'Bagpipes'}, {'url': '/api/proficiencies/drum', 'name': 'Drum'}, {'url': '/api/proficiencies/dulcimer', 'name': 'Dulcimer'}, {'url': '/api/proficiencies/flute', 'name': 'Flute'}, {'url': '/api/proficiencies/lute', 'name': 'Lute'}, {'url': '/api/proficiencies/lyre', 'name': 'Lyre'}, {'url': '/api/proficiencies/horn', 'name': 'Horn'}, {'url': '/api/proficiencies/pan-flute', 'name': 'Pan flute'}, {'url': '/api/proficiencies/shawm', 'name': 'Shawm'}, {'url': '/api/proficiencies/viol', 'name': 'Viol'}]}]\",\n",
       " \"[{'name': 'Light armor', 'url': '/api/proficiencies/light-armor'}, {'name': 'Simple weapons', 'url': '/api/proficiencies/simple-weapons'}, {'name': 'Longswords', 'url': '/api/proficiencies/longswords'}, {'name': 'Rapiers', 'url': '/api/proficiencies/rapiers'}, {'name': 'Shortswords', 'url': '/api/proficiencies/shortswords'}, {'name': 'Crossbows, hand', 'url': '/api/proficiencies/crossbows-hand'}]\",\n",
       " \"[{'name': 'DEX', 'url': '/api/ability-scores/dex'}, {'name': 'CHA', 'url': '/api/ability-scores/cha'}]\",\n",
       " \"{'url': '/api/starting-equipment/2', 'class': 'Bard'}\",\n",
       " \"{'url': '/api/classes/bard/levels', 'class': 'Bard'}\",\n",
       " \"[{'url': '/api/subclasses/lore', 'name': 'Lore'}]\",\n",
       " '/api/classes/bard',\n",
       " \"{'url': '/api/spellcasting/bard', 'class': 'Bard'}\"]"
      ]
     },
     "execution_count": 20,
     "metadata": {},
     "output_type": "execute_result"
    }
   ],
   "source": [
    "classes_df.iloc[1].to_list()"
   ]
  },
  {
   "cell_type": "code",
   "execution_count": null,
   "id": "01f15332",
   "metadata": {},
   "outputs": [],
   "source": [
    "DOC_CLASSES_TEMPLATE = \"\"\"\n",
    "Class: {class_name}\n",
    "\n",
    "Hit Die: {hit_die}\n",
    "Proficiencies: {proficiencies}\n",
    "Proficiency Choices: {proficiency_choices}\n",
    "Saving Throws: {saving_throws}\n",
    "Subclasses of {class_name}: {subclasses}\n",
    "\"\"\"\n",
    "# Starting Equipment: {starting_equipment}\n",
    "# Class Levels: \\n{class_levels}\n",
    "# Spell-casting: {spellcasting}\n",
    "\n",
    "\n",
    "def parse_proficiencies(proficiencies):\n",
    "    final_text = ''\n",
    "    try:\n",
    "        # proficiencies = proficiencies.replace(\"'\", '\\\"')\n",
    "        # proficiencies = json.loads(proficiencies)\n",
    "        proficiencies = eval(proficiencies)\n",
    "        for proficiency in proficiencies:\n",
    "            final_text += '\\n- {}'.format(proficiency['name'])\n",
    "        return final_text\n",
    "    except Exception as e:\n",
    "        # print(e)\n",
    "        return final_text\n",
    "\n",
    "\n",
    "def parse_proficiency_choices(proficiency_choices):\n",
    "    final_text = 'Choose any {} from the following choices:'\n",
    "    try:\n",
    "        # proficiency_choices = proficiency_choices.replace(\"'\", '\\\"')\n",
    "        # proficiency_choices = json.loads(proficiency_choices)\n",
    "        proficiency_choices = eval(proficiency_choices)\n",
    "        for proficiency in proficiency_choices:\n",
    "            final_text = final_text.format(proficiency['choose'])\n",
    "            for p in proficiency['from']:\n",
    "                final_text += '\\n- {}'.format(p['name'])\n",
    "        return final_text\n",
    "    except Exception as e:\n",
    "        # print(e)\n",
    "        return final_text\n",
    "\n",
    "\n",
    "def parse_saving_throws(saving_throws):\n",
    "    final_text = ''\n",
    "    try:\n",
    "        # saving_throws = saving_throws.replace(\"'\", '\\\"')\n",
    "        # saving_throws = json.loads(saving_throws)\n",
    "        saving_throws = eval(saving_throws)\n",
    "        for el in saving_throws:\n",
    "            final_text += '\\n- {}'.format(el['name'])\n",
    "        return final_text\n",
    "    except Exception as e:\n",
    "        # print(e)\n",
    "        return final_text\n",
    "\n",
    "\n",
    "# def parse_starting_equipment(starting_equipment):\n",
    "#     final_text = ''\n",
    "#     starting_equipment = starting_equipment.replace(\"'\", '\\\"')\n",
    "#     starting_equipment = json.loads(starting_equipment)\n",
    "#     for el in starting_equipment:\n",
    "#         final_text += '\\n- {}'.format(el['name'])\n",
    "#     return final_text\n",
    "\n",
    "\n",
    "# def parse_class_levels(class_levels):\n",
    "#     final_text = ''\n",
    "#     class_levels = class_levels.replace(\"'\", '\\\"')\n",
    "#     class_levels = json.loads(class_levels)\n",
    "#     for el in class_levels:\n",
    "#         final_text += '\\n- {}'.format(el['name'])\n",
    "#     return final_text\n",
    "\n",
    "\n",
    "def parse_subclasses(subclasses):\n",
    "    final_text = ''\n",
    "    try:\n",
    "        # subclasses = subclasses.replace(\"'\", '\\\"')\n",
    "        # subclasses = json.loads(subclasses)\n",
    "        subclasses = eval(subclasses)\n",
    "        for el in subclasses:\n",
    "            final_text += '\\n- {}'.format(el['name'])\n",
    "        return final_text\n",
    "    except Exception as e:\n",
    "        # print(e)\n",
    "        return final_text\n",
    "\n",
    "\n",
    "# def parse_spellcasting(spellcasting):\n",
    "#     final_text = ''\n",
    "#     spellcasting = spellcasting.replace(\"'\", '\\\"')\n",
    "#     spellcasting = json.loads(spellcasting)\n",
    "#     for el in spellcasting:\n",
    "#         final_text += '\\n- {}'.format(el['name'])\n",
    "#     return final_text\n",
    "\n",
    "\n",
    "class DNDClassDocumentLoader(BaseLoader):\n",
    "    \"\"\"An example document loader that reads a file line by line.\"\"\"\n",
    "\n",
    "    def __init__(self, file_path: str) -> None:\n",
    "        \"\"\"Initialize the loader with a file path.\n",
    "\n",
    "        Args:\n",
    "            file_path: The path to the file to load.\n",
    "        \"\"\"\n",
    "        self.file_path = file_path\n",
    "\n",
    "    # <-- Does not take any arguments\n",
    "    def lazy_load(self) -> Iterator[Document]:\n",
    "        \"\"\"A lazy loader that reads a file line by line.\n",
    "\n",
    "        When you're implementing lazy load methods, you should use a generator\n",
    "        to yield documents one by one.\n",
    "        \"\"\"\n",
    "        df = pd.read_csv(self.file_path)\n",
    "        for row in df.itertuples():\n",
    "            proficiencies = parse_proficiencies(row.proficiencies)\n",
    "            proficiency_choices = parse_proficiency_choices(row.proficiency_choices)\n",
    "            saving_throws = parse_saving_throws(row.saving_throws)\n",
    "            subclasses = parse_subclasses(row.subclasses)\n",
    "            page_content = DOC_CLASSES_TEMPLATE.format(\n",
    "                class_name=row.name, hit_die=row.hit_die, proficiencies=proficiencies,\n",
    "                saving_throws=saving_throws, proficiency_choices=proficiency_choices, \n",
    "                subclasses=subclasses\n",
    "            )\n",
    "            yield Document(\n",
    "                page_content=page_content,\n",
    "                metadata={\n",
    "                    \"row_number\": row.Index, \"id\": row[2], \"index\": row[3], \"category\": \"class\", \"source\": self.file_path\n",
    "                },\n",
    "            )"
   ]
  },
  {
   "cell_type": "code",
   "execution_count": 122,
   "id": "ff83433c",
   "metadata": {},
   "outputs": [
    {
     "name": "stdout",
     "output_type": "stream",
     "text": [
      "\n",
      "<class 'langchain_core.documents.base.Document'>\n",
      "page_content='\n",
      "Class: Barbarian\n",
      "\n",
      "Hit Die: 12\n",
      "Proficiencies: \n",
      "- Light armor\n",
      "- Medium armor\n",
      "- Shields\n",
      "- Simple weapons\n",
      "- Martial weapons\n",
      "Proficiency Choices: Choose any 2 from the following choices:\n",
      "- Skill: Animal Handling\n",
      "- Skill: Athletics\n",
      "- Skill: Intimidation\n",
      "- Skill: Nature\n",
      "- Skill: Perception\n",
      "- Skill: Survival\n",
      "Saving Throws: \n",
      "- STR\n",
      "- CON\n",
      "Subclasses of Barbarian: \n",
      "- Berserker\n",
      "' metadata={'row_number': 0, 'id': '5f2329a70b1bb138c5940d30', 'index': 'barbarian', 'category': 'class', 'source': '../data/dungeons-dragons/classes.csv'}\n"
     ]
    }
   ],
   "source": [
    "loader_classes = DNDClassDocumentLoader(os.path.join(DATA_FOLDER, CLASSES_FILE))\n",
    "## Test out the lazy load interface\n",
    "for doc in loader_classes.lazy_load():\n",
    "    print()\n",
    "    print(type(doc))\n",
    "    print(doc)\n",
    "    break"
   ]
  },
  {
   "cell_type": "code",
   "execution_count": 123,
   "id": "7a96b0ea",
   "metadata": {},
   "outputs": [
    {
     "name": "stdout",
     "output_type": "stream",
     "text": [
      "322\n"
     ]
    },
    {
     "data": {
      "text/html": [
       "<div>\n",
       "<style scoped>\n",
       "    .dataframe tbody tr th:only-of-type {\n",
       "        vertical-align: middle;\n",
       "    }\n",
       "\n",
       "    .dataframe tbody tr th {\n",
       "        vertical-align: top;\n",
       "    }\n",
       "\n",
       "    .dataframe thead th {\n",
       "        text-align: right;\n",
       "    }\n",
       "</style>\n",
       "<table border=\"1\" class=\"dataframe\">\n",
       "  <thead>\n",
       "    <tr style=\"text-align: right;\">\n",
       "      <th></th>\n",
       "      <th>Unnamed: 0</th>\n",
       "      <th>_id</th>\n",
       "      <th>index</th>\n",
       "      <th>name</th>\n",
       "      <th>size</th>\n",
       "      <th>type</th>\n",
       "      <th>subtype</th>\n",
       "      <th>alignment</th>\n",
       "      <th>armor_class</th>\n",
       "      <th>hit_points</th>\n",
       "      <th>hit_dice</th>\n",
       "      <th>speed</th>\n",
       "      <th>strength</th>\n",
       "      <th>dexterity</th>\n",
       "      <th>constitution</th>\n",
       "      <th>intelligence</th>\n",
       "      <th>wisdom</th>\n",
       "      <th>charisma</th>\n",
       "      <th>proficiencies</th>\n",
       "      <th>damage_vulnerabilities</th>\n",
       "      <th>damage_resistances</th>\n",
       "      <th>damage_immunities</th>\n",
       "      <th>condition_immunities</th>\n",
       "      <th>senses</th>\n",
       "      <th>languages</th>\n",
       "      <th>challenge_rating</th>\n",
       "      <th>special_abilities</th>\n",
       "      <th>actions</th>\n",
       "      <th>legendary_actions</th>\n",
       "      <th>url</th>\n",
       "      <th>reactions</th>\n",
       "      <th>other_speeds</th>\n",
       "    </tr>\n",
       "  </thead>\n",
       "  <tbody>\n",
       "    <tr>\n",
       "      <th>0</th>\n",
       "      <td>0</td>\n",
       "      <td>5f2329ad0b1bb138c59411ee</td>\n",
       "      <td>aboleth</td>\n",
       "      <td>Aboleth</td>\n",
       "      <td>Large</td>\n",
       "      <td>aberration</td>\n",
       "      <td>NaN</td>\n",
       "      <td>lawful evil</td>\n",
       "      <td>17</td>\n",
       "      <td>135</td>\n",
       "      <td>18d10</td>\n",
       "      <td>{'walk': '10 ft.', 'swim': '40 ft.'}</td>\n",
       "      <td>21</td>\n",
       "      <td>9</td>\n",
       "      <td>15</td>\n",
       "      <td>18</td>\n",
       "      <td>15</td>\n",
       "      <td>18</td>\n",
       "      <td>[{'name': 'Saving Throw: CON', 'url': '/api/pr...</td>\n",
       "      <td>[]</td>\n",
       "      <td>[]</td>\n",
       "      <td>[]</td>\n",
       "      <td>[]</td>\n",
       "      <td>{'darkvision': '120 ft.', 'passive_perception'...</td>\n",
       "      <td>Deep Speech, telepathy 120 ft.</td>\n",
       "      <td>10.00</td>\n",
       "      <td>[{'name': 'Amphibious', 'desc': 'The aboleth c...</td>\n",
       "      <td>[{'name': 'Multiattack', 'desc': 'The aboleth ...</td>\n",
       "      <td>[{'name': 'Detect', 'desc': 'The aboleth makes...</td>\n",
       "      <td>/api/monsters/aboleth</td>\n",
       "      <td>NaN</td>\n",
       "      <td>NaN</td>\n",
       "    </tr>\n",
       "    <tr>\n",
       "      <th>1</th>\n",
       "      <td>1</td>\n",
       "      <td>5f2329ad0b1bb138c59411ef</td>\n",
       "      <td>acolyte</td>\n",
       "      <td>Acolyte</td>\n",
       "      <td>Medium</td>\n",
       "      <td>humanoid</td>\n",
       "      <td>any race</td>\n",
       "      <td>any alignment</td>\n",
       "      <td>10</td>\n",
       "      <td>9</td>\n",
       "      <td>2d8</td>\n",
       "      <td>{'walk': '30 ft.'}</td>\n",
       "      <td>10</td>\n",
       "      <td>10</td>\n",
       "      <td>10</td>\n",
       "      <td>10</td>\n",
       "      <td>14</td>\n",
       "      <td>11</td>\n",
       "      <td>[{'name': 'Skill: Medicine', 'url': '/api/prof...</td>\n",
       "      <td>[]</td>\n",
       "      <td>[]</td>\n",
       "      <td>[]</td>\n",
       "      <td>[]</td>\n",
       "      <td>{'passive_perception': 12}</td>\n",
       "      <td>any one language (usually Common)</td>\n",
       "      <td>0.25</td>\n",
       "      <td>[{'name': 'Spellcasting', 'desc': 'The acolyte...</td>\n",
       "      <td>[{'name': 'Club', 'desc': 'Melee Weapon Attack...</td>\n",
       "      <td>NaN</td>\n",
       "      <td>/api/monsters/acolyte</td>\n",
       "      <td>NaN</td>\n",
       "      <td>NaN</td>\n",
       "    </tr>\n",
       "  </tbody>\n",
       "</table>\n",
       "</div>"
      ],
      "text/plain": [
       "   Unnamed: 0                       _id    index     name    size        type  \\\n",
       "0           0  5f2329ad0b1bb138c59411ee  aboleth  Aboleth   Large  aberration   \n",
       "1           1  5f2329ad0b1bb138c59411ef  acolyte  Acolyte  Medium    humanoid   \n",
       "\n",
       "    subtype      alignment  armor_class  hit_points hit_dice  \\\n",
       "0       NaN    lawful evil           17         135    18d10   \n",
       "1  any race  any alignment           10           9      2d8   \n",
       "\n",
       "                                  speed  strength  dexterity  constitution  \\\n",
       "0  {'walk': '10 ft.', 'swim': '40 ft.'}        21          9            15   \n",
       "1                    {'walk': '30 ft.'}        10         10            10   \n",
       "\n",
       "   intelligence  wisdom  charisma  \\\n",
       "0            18      15        18   \n",
       "1            10      14        11   \n",
       "\n",
       "                                       proficiencies damage_vulnerabilities  \\\n",
       "0  [{'name': 'Saving Throw: CON', 'url': '/api/pr...                     []   \n",
       "1  [{'name': 'Skill: Medicine', 'url': '/api/prof...                     []   \n",
       "\n",
       "  damage_resistances damage_immunities condition_immunities  \\\n",
       "0                 []                []                   []   \n",
       "1                 []                []                   []   \n",
       "\n",
       "                                              senses  \\\n",
       "0  {'darkvision': '120 ft.', 'passive_perception'...   \n",
       "1                         {'passive_perception': 12}   \n",
       "\n",
       "                           languages  challenge_rating  \\\n",
       "0     Deep Speech, telepathy 120 ft.             10.00   \n",
       "1  any one language (usually Common)              0.25   \n",
       "\n",
       "                                   special_abilities  \\\n",
       "0  [{'name': 'Amphibious', 'desc': 'The aboleth c...   \n",
       "1  [{'name': 'Spellcasting', 'desc': 'The acolyte...   \n",
       "\n",
       "                                             actions  \\\n",
       "0  [{'name': 'Multiattack', 'desc': 'The aboleth ...   \n",
       "1  [{'name': 'Club', 'desc': 'Melee Weapon Attack...   \n",
       "\n",
       "                                   legendary_actions                    url  \\\n",
       "0  [{'name': 'Detect', 'desc': 'The aboleth makes...  /api/monsters/aboleth   \n",
       "1                                                NaN  /api/monsters/acolyte   \n",
       "\n",
       "  reactions other_speeds  \n",
       "0       NaN          NaN  \n",
       "1       NaN          NaN  "
      ]
     },
     "execution_count": 123,
     "metadata": {},
     "output_type": "execute_result"
    }
   ],
   "source": [
    "print(len(monsters_df))\n",
    "pd.set_option('display.max_columns', 500)\n",
    "monsters_df.head(2)"
   ]
  },
  {
   "cell_type": "code",
   "execution_count": 124,
   "id": "7fe9004e",
   "metadata": {},
   "outputs": [],
   "source": [
    "monsters_df = pd.read_csv(os.path.join(DATA_FOLDER, MONSTERS_FILE))\n",
    "\n",
    "DOC_MONSTERS_TEMPLATE = \"\"\"\n",
    "Monster: {name}\n",
    "\n",
    "Size: {size}\n",
    "Type: {monster_type}\n",
    "Monster Subtype: {monster_subtype}\n",
    "Alignment: {alignment}\n",
    "Speed of {name}: {speed}\n",
    "Proficiencies: {proficiencies}\n",
    "Senses: {senses}\n",
    "Languages: {languages}\n",
    "Special Abilities of {name}: {special_abilities}\n",
    "Actions: {actions}\n",
    "Legendary Actions: {legendary_actions}\n",
    "\"\"\"\n",
    "LIST_COLUMNS = ['damage_vulnerabilities', 'damage_resistances',\n",
    "                'damage_immunities', 'condition_immunities']\n",
    "NAN_COLUMNS = ['reactions', 'other_speeds']\n",
    "SKIP = [\n",
    "    '_id', 'Unnamed: 0', 'index', 'name', 'url', 'size', 'type', 'subtype',\n",
    "    'alignment', 'speed', 'proficiencies', 'senses', 'languages',\n",
    "    'special_abilities', 'actions', 'legendary_actions'\n",
    "] + LIST_COLUMNS + NAN_COLUMNS\n",
    "\n",
    "\n",
    "def parse_proficiencies(proficiencies):\n",
    "    final_text = ''\n",
    "    # proficiencies = proficiencies.replace(\"'\", '\\\"')\n",
    "    # proficiencies = json.loads(proficiencies)\n",
    "    proficiencies = eval(proficiencies)\n",
    "    for proficiency in proficiencies:\n",
    "        final_text += '\\n- {}'.format(proficiency['name'])\n",
    "    return final_text\n",
    "\n",
    "\n",
    "def parse_speed(speed):\n",
    "    final_text = ''\n",
    "    # speed = speed.replace(\"'\", '\\\"')\n",
    "    # speed = json.loads(speed)\n",
    "    speed = eval(speed)\n",
    "    for k, v in speed.items():\n",
    "        final_text += '{} speed: {}'.format(k, v)\n",
    "    return final_text\n",
    "\n",
    "\n",
    "def parse_senses(senses):\n",
    "    final_text = ''\n",
    "    # senses = senses.replace(\"'\", '\\\"')\n",
    "    # senses = senses.replace(\"_\", ' ')\n",
    "    # senses = json.loads(senses)\n",
    "    senses = eval(senses)\n",
    "    for k, v in senses.items():\n",
    "        final_text += '\\n- {}: {}'.format(k, v)\n",
    "    return final_text\n",
    "\n",
    "\n",
    "def parse_special_abilities(special_abilities):\n",
    "    try:\n",
    "        final_text = ''\n",
    "        # special_abilities = special_abilities.replace(\"'s \", '\\^^s ')\n",
    "        # special_abilities = special_abilities.replace('\"', '\\'')\n",
    "        # special_abilities = special_abilities.replace(\"'\", '\\\"')\n",
    "        # special_abilities = special_abilities.replace(\"\\^^s \", '\\'s ')\n",
    "        # special_abilities = json.loads(special_abilities)\n",
    "        special_abilities = eval(special_abilities)\n",
    "        for sab in special_abilities:\n",
    "            final_text += '\\n- Name: {} Description: {}'.format(\n",
    "                sab['name'], sab['desc'])\n",
    "        return final_text\n",
    "    except Exception as e:\n",
    "        # print(e)\n",
    "        return ''\n",
    "\n",
    "\n",
    "def parse_actions(actions):\n",
    "    final_text = ''\n",
    "    actions = eval(actions)\n",
    "    for ac in actions:\n",
    "        final_text += '\\n- Name: {} Description: {}'.format(\n",
    "            ac['name'], ac['desc'])\n",
    "    return final_text\n",
    "\n",
    "\n",
    "def parse_legendary_actions(legendary_actions):\n",
    "    try:\n",
    "        final_text = ''\n",
    "        if not isinstance(legendary_actions, str):\n",
    "            return final_text\n",
    "        legendary_actions = legendary_actions.replace(\"'\", '\\\"')\n",
    "        legendary_actions = json.loads(legendary_actions)\n",
    "        for ac in legendary_actions:\n",
    "            final_text += '\\n- Name: {} Description: {}'.format(\n",
    "                ac['name'], ac['desc'])\n",
    "        return final_text\n",
    "    except Exception as e:\n",
    "        # print(e)\n",
    "        return ''\n",
    "\n",
    "\n",
    "def parse_list_columns(row, columns):\n",
    "    final_text = ''\n",
    "    try:\n",
    "        for col in columns:\n",
    "            txt = getattr(row, col)\n",
    "            if txt:\n",
    "                txt = txt.replace(\"'\", '\\\"')\n",
    "                field = col.replace(\"_\", ' ')\n",
    "                # txt = json.loads(txt)\n",
    "                txt = eval(txt)\n",
    "                if txt:\n",
    "                    final_text += field + ': ' + ', '.join(str(txt))\n",
    "        return final_text\n",
    "    except Exception as e:\n",
    "        # print(e)\n",
    "        return final_text\n",
    "\n",
    "\n",
    "def parse_numerical_columns(row, cols_to_skip, columns):\n",
    "    final_text = ''\n",
    "    for col in columns:\n",
    "        if col not in cols_to_skip:\n",
    "            final_text += '{}: {}, '.format(col, str(getattr(row, col)))\n",
    "    return final_text\n",
    "\n",
    "\n",
    "class DNDMonstersDocumentLoader(BaseLoader):\n",
    "    def __init__(self, file_path: str) -> None:\n",
    "        \"\"\"Initialize the loader with a file path.\n",
    "\n",
    "        Args:\n",
    "            file_path: The path to the file to load.\n",
    "        \"\"\"\n",
    "        self.file_path = file_path\n",
    "\n",
    "    # <-- Does not take any arguments\n",
    "    def lazy_load(self) -> Iterator[Document]:\n",
    "        \"\"\"A lazy loader that reads a file line by line.\n",
    "\n",
    "        When you're implementing lazy load methods, you should use a generator\n",
    "        to yield documents one by one.\n",
    "        \"\"\"\n",
    "        df = pd.read_csv(self.file_path)\n",
    "        df.fillna('', inplace=True)\n",
    "        for row in df.itertuples():\n",
    "            proficiencies = parse_proficiencies(row.proficiencies)\n",
    "            speed = parse_speed(row.speed)\n",
    "            senses = parse_senses(row.senses)\n",
    "            special_abilities = 'Unknown'\n",
    "            if row.special_abilities:\n",
    "                special_abilities = parse_special_abilities(row.special_abilities)\n",
    "            actions = 'Unknown'\n",
    "            if row.actions:\n",
    "                actions = parse_actions(row.actions)\n",
    "            legendary_actions = 'Unknown'\n",
    "            if row.legendary_actions:\n",
    "                legendary_actions = parse_legendary_actions(row.legendary_actions)\n",
    "            parsed_list_cols = parse_list_columns(row, LIST_COLUMNS)\n",
    "            parsed_numerical_columns = parse_numerical_columns(row, SKIP, df.columns.tolist())\n",
    "            page_content = DOC_MONSTERS_TEMPLATE.format(\n",
    "                name=row.name, size=str(row.size), monster_type=str(row[6]), \n",
    "                monster_subtype=str(row[7]) if row[7] else 'Not mentioned',\n",
    "                alignment=row.alignment, speed=speed, senses=senses, proficiencies=proficiencies,\n",
    "                languages=row.languages, special_abilities=special_abilities, actions=actions,\n",
    "                legendary_actions=legendary_actions\n",
    "            )\n",
    "            page_content += '\\n' + parsed_list_cols\n",
    "            page_content += '\\n' + parsed_numerical_columns\n",
    "            yield Document(\n",
    "                page_content=page_content,\n",
    "                metadata={\n",
    "                    \"row_number\": row.Index, \"id\": row[2], \"index\": row[3], \"category\": \"monster\", \"source\": self.file_path\n",
    "                },\n",
    "            )"
   ]
  },
  {
   "cell_type": "code",
   "execution_count": 125,
   "id": "5e4c4af0",
   "metadata": {},
   "outputs": [
    {
     "name": "stdout",
     "output_type": "stream",
     "text": [
      "\n",
      "Monster: Aboleth\n",
      "\n",
      "Size: Large\n",
      "Type: aberration\n",
      "Monster Subtype: Not mentioned\n",
      "Alignment: lawful evil\n",
      "Speed of Aboleth: walk speed: 10 ft.swim speed: 40 ft.\n",
      "Proficiencies: \n",
      "- Saving Throw: CON\n",
      "- Saving Throw: INT\n",
      "- Saving Throw: WIS\n",
      "- Skill: History\n",
      "- Skill: Perception\n",
      "Senses: \n",
      "- darkvision: 120 ft.\n",
      "- passive_perception: 20\n",
      "Languages: Deep Speech, telepathy 120 ft.\n",
      "Special Abilities of Aboleth: \n",
      "- Name: Amphibious Description: The aboleth can breathe air and water.\n",
      "- Name: Mucous Cloud Description: While underwater, the aboleth is surrounded by transformative mucus. A creature that touches the aboleth or that hits it with a melee attack while within 5 ft. of it must make a DC 14 Constitution saving throw. On a failure, the creature is diseased for 1d4 hours. The diseased creature can breathe only underwater.\n",
      "- Name: Probing Telepathy Description: If a creature communicates telepathically with the aboleth, the aboleth learns the creature's greatest desires if the aboleth can see the creature.\n",
      "Actions: \n",
      "- Name: Multiattack Description: The aboleth makes three tentacle attacks.\n",
      "- Name: Tentacle Description: Melee Weapon Attack: +9 to hit, reach 10 ft., one target. Hit: 12 (2d6 + 5) bludgeoning damage. If the target is a creature, it must succeed on a DC 14 Constitution saving throw or become diseased. The disease has no effect for 1 minute and can be removed by any magic that cures disease. After 1 minute, the diseased creature's skin becomes translucent and slimy, the creature can't regain hit points unless it is underwater, and the disease can be removed only by heal or another disease-curing spell of 6th level or higher. When the creature is outside a body of water, it takes 6 (1d12) acid damage every 10 minutes unless moisture is applied to the skin before 10 minutes have passed.\n",
      "- Name: Tail Description: Melee Weapon Attack: +9 to hit, reach 10 ft. one target. Hit: 15 (3d6 + 5) bludgeoning damage.\n",
      "- Name: Enslave Description: The aboleth targets one creature it can see within 30 ft. of it. The target must succeed on a DC 14 Wisdom saving throw or be magically charmed by the aboleth until the aboleth dies or until it is on a different plane of existence from the target. The charmed target is under the aboleth's control and can't take reactions, and the aboleth and the target can communicate telepathically with each other over any distance.\n",
      "Whenever the charmed target takes damage, the target can repeat the saving throw. On a success, the effect ends. No more than once every 24 hours, the target can also repeat the saving throw when it is at least 1 mile away from the aboleth.\n",
      "Legendary Actions: \n",
      "- Name: Detect Description: The aboleth makes a Wisdom (Perception) check.\n",
      "- Name: Tail Swipe Description: The aboleth makes one tail attack.\n",
      "- Name: Psychic Drain (Costs 2 Actions) Description: One creature charmed by the aboleth takes 10 (3d6) psychic damage, and the aboleth regains hit points equal to the damage the creature takes.\n",
      "\n",
      "\n",
      "armor_class: 17, hit_points: 135, hit_dice: 18d10, strength: 21, dexterity: 9, constitution: 15, intelligence: 18, wisdom: 15, charisma: 18, challenge_rating: 10.0, \n",
      "{'row_number': 0, 'id': '5f2329ad0b1bb138c59411ee', 'index': 'aboleth', 'category': 'monster', 'source': '../data/dungeons-dragons/monsters.csv'}\n"
     ]
    }
   ],
   "source": [
    "loader_monsters = DNDMonstersDocumentLoader(os.path.join(DATA_FOLDER, MONSTERS_FILE))\n",
    "\n",
    "docs_monsters = loader_monsters.load()\n",
    "print(docs_monsters[0].page_content)\n",
    "print(docs_monsters[0].metadata)"
   ]
  },
  {
   "cell_type": "markdown",
   "id": "de1dfa17",
   "metadata": {
    "papermill": {
     "duration": 0.010488,
     "end_time": "2025-03-20T00:47:33.250438",
     "exception": false,
     "start_time": "2025-03-20T00:47:33.239950",
     "status": "completed"
    },
    "tags": []
   },
   "source": [
    "## 2.0.1 Initialize LLM and Embeddings"
   ]
  },
  {
   "cell_type": "code",
   "execution_count": 126,
   "id": "e1bfea8f",
   "metadata": {
    "execution": {
     "iopub.execute_input": "2025-03-20T00:47:30.676381Z",
     "iopub.status.busy": "2025-03-20T00:47:30.676004Z",
     "iopub.status.idle": "2025-03-20T00:47:31.242602Z",
     "shell.execute_reply": "2025-03-20T00:47:31.241557Z"
    },
    "papermill": {
     "duration": 0.579182,
     "end_time": "2025-03-20T00:47:31.244290",
     "exception": false,
     "start_time": "2025-03-20T00:47:30.665108",
     "status": "completed"
    },
    "tags": []
   },
   "outputs": [],
   "source": [
    "# import os\n",
    "# from kaggle_secrets import UserSecretsClient\n",
    "# user_secrets = UserSecretsClient()\n",
    "\n",
    "# os.environ[\"OPENAI_API_KEY\"] = user_secrets.get_secret(\"OPENAI_API_KEY\")\n",
    "# OPENAI_API_KEY = user_secrets.get_secret(\"OPENAI_API_KEY\")"
   ]
  },
  {
   "cell_type": "code",
   "execution_count": 127,
   "id": "53dd1bd9",
   "metadata": {
    "execution": {
     "iopub.execute_input": "2025-03-20T00:47:33.273045Z",
     "iopub.status.busy": "2025-03-20T00:47:33.272781Z",
     "iopub.status.idle": "2025-03-20T00:47:33.641521Z",
     "shell.execute_reply": "2025-03-20T00:47:33.640609Z"
    },
    "papermill": {
     "duration": 0.382231,
     "end_time": "2025-03-20T00:47:33.643363",
     "exception": false,
     "start_time": "2025-03-20T00:47:33.261132",
     "status": "completed"
    },
    "tags": []
   },
   "outputs": [],
   "source": [
    "llm = init_chat_model(\"gpt-4o-mini\", model_provider=\"openai\")\n",
    "\n",
    "embeddings = OpenAIEmbeddings(model=\"text-embedding-3-small\")"
   ]
  },
  {
   "cell_type": "markdown",
   "id": "98c5e568",
   "metadata": {
    "papermill": {
     "duration": 0.015937,
     "end_time": "2025-03-20T00:47:33.677137",
     "exception": false,
     "start_time": "2025-03-20T00:47:33.661200",
     "status": "completed"
    },
    "tags": []
   },
   "source": [
    "## 2.0.2 Load CSV data as documents using LangChain"
   ]
  },
  {
   "cell_type": "code",
   "execution_count": 128,
   "id": "8ae54fe9",
   "metadata": {
    "execution": {
     "iopub.execute_input": "2025-03-20T00:47:33.707939Z",
     "iopub.status.busy": "2025-03-20T00:47:33.707638Z",
     "iopub.status.idle": "2025-03-20T00:47:33.725666Z",
     "shell.execute_reply": "2025-03-20T00:47:33.724855Z"
    },
    "papermill": {
     "duration": 0.032382,
     "end_time": "2025-03-20T00:47:33.726805",
     "exception": false,
     "start_time": "2025-03-20T00:47:33.694423",
     "status": "completed"
    },
    "tags": []
   },
   "outputs": [
    {
     "name": "stdout",
     "output_type": "stream",
     "text": [
      "page_content='\n",
      "Race: Dragonborn\n",
      "\n",
      "Speed: 30\n",
      "Alignment: \n",
      "Dragonborn tend to extremes, making a conscious choice for one side or the other in the cosmic war between good and evil. Most dragonborn are good, but those who side with evil can be terrible villains.\n",
      "Age: \n",
      "Young dragonborn grow quickly. They walk hours after hatching, attain the size and development of a 10-year-old human child by the age of 3, and reach adulthood by 15. They live to be around 80.\n",
      "Size: Medium\n",
      "Description of Size of Dragonborn: \n",
      "Dragonborn are taller and heavier than humans, standing well over 6 feet tall and averaging almost 250 pounds. Your size is Medium.\n",
      "Languages spoken by Dragonborn: \n",
      "Dragonborn can speak, read, and write Common and Draconic. Draconic is thought to be one of the oldest languages and is often used in the study of magic. The language sounds harsh to most other creatures and includes numerous hard consonants and sibilants.\n",
      "Ability bonuses of Dragonborn: \n",
      "- STR\n",
      "- CHA\n",
      "Traits of Dragonborn: \n",
      "- Draconic Ancestry\n",
      "- Breath Weapon\n",
      "- Damage Resistance\n",
      "' metadata={'row_number': 0, 'source': '../data/dungeons-dragons/races.csv'}\n",
      "page_content='\n",
      "Race: Dwarf\n",
      "\n",
      "Speed: 30\n",
      "Alignment: \n",
      "Most dwarves are lawful, believing firmly in the benefits of a well-ordered society. They tend toward good as well, with a strong sense of fair play and a belief that everyone deserves to share in the benefits of a just order.\n",
      "Age: \n",
      "Dwarves mature at the same rate as humans, but they're considered young until they reach the age of 50. On average, they live about 350 years.\n",
      "Size: Medium\n",
      "Description of Size of Dwarf: \n",
      "Dwarves stand between 4 and 5 feet tall and average about 150 pounds. Your size is Medium.\n",
      "Languages spoken by Dwarf: \n",
      "Dwarf can speak, read, and write Common and Dwarvish. Dwarvish is full of hard consonants and guttural sounds, and those characteristics spill over into whatever other language a dwarf might speak.\n",
      "Ability bonuses of Dwarf: \n",
      "- CON\n",
      "Traits of Dwarf: \n",
      "- Darkvision\n",
      "- Dwarven Resilience\n",
      "- Stonecunning\n",
      "- Dwarven Combat Training\n",
      "' metadata={'row_number': 1, 'source': '../data/dungeons-dragons/races.csv'}\n"
     ]
    }
   ],
   "source": [
    "loader_races = DNDRaceDocumentLoader(os.path.join(DATA_FOLDER, RACES_FILE))\n",
    "docs_races = loader_races.load()\n",
    "\n",
    "for record in docs_races[:2]:\n",
    "    print(record)"
   ]
  },
  {
   "cell_type": "code",
   "execution_count": 129,
   "id": "098aa2d4",
   "metadata": {},
   "outputs": [
    {
     "name": "stdout",
     "output_type": "stream",
     "text": [
      "page_content='\n",
      "Monster: Aboleth\n",
      "\n",
      "Size: Large\n",
      "Type: aberration\n",
      "Monster Subtype: Not mentioned\n",
      "Alignment: lawful evil\n",
      "Speed of Aboleth: walk speed: 10 ft.swim speed: 40 ft.\n",
      "Proficiencies: \n",
      "- Saving Throw: CON\n",
      "- Saving Throw: INT\n",
      "- Saving Throw: WIS\n",
      "- Skill: History\n",
      "- Skill: Perception\n",
      "Senses: \n",
      "- darkvision: 120 ft.\n",
      "- passive_perception: 20\n",
      "Languages: Deep Speech, telepathy 120 ft.\n",
      "Special Abilities of Aboleth: \n",
      "- Name: Amphibious Description: The aboleth can breathe air and water.\n",
      "- Name: Mucous Cloud Description: While underwater, the aboleth is surrounded by transformative mucus. A creature that touches the aboleth or that hits it with a melee attack while within 5 ft. of it must make a DC 14 Constitution saving throw. On a failure, the creature is diseased for 1d4 hours. The diseased creature can breathe only underwater.\n",
      "- Name: Probing Telepathy Description: If a creature communicates telepathically with the aboleth, the aboleth learns the creature's greatest desires if the aboleth can see the creature.\n",
      "Actions: \n",
      "- Name: Multiattack Description: The aboleth makes three tentacle attacks.\n",
      "- Name: Tentacle Description: Melee Weapon Attack: +9 to hit, reach 10 ft., one target. Hit: 12 (2d6 + 5) bludgeoning damage. If the target is a creature, it must succeed on a DC 14 Constitution saving throw or become diseased. The disease has no effect for 1 minute and can be removed by any magic that cures disease. After 1 minute, the diseased creature's skin becomes translucent and slimy, the creature can't regain hit points unless it is underwater, and the disease can be removed only by heal or another disease-curing spell of 6th level or higher. When the creature is outside a body of water, it takes 6 (1d12) acid damage every 10 minutes unless moisture is applied to the skin before 10 minutes have passed.\n",
      "- Name: Tail Description: Melee Weapon Attack: +9 to hit, reach 10 ft. one target. Hit: 15 (3d6 + 5) bludgeoning damage.\n",
      "- Name: Enslave Description: The aboleth targets one creature it can see within 30 ft. of it. The target must succeed on a DC 14 Wisdom saving throw or be magically charmed by the aboleth until the aboleth dies or until it is on a different plane of existence from the target. The charmed target is under the aboleth's control and can't take reactions, and the aboleth and the target can communicate telepathically with each other over any distance.\n",
      "Whenever the charmed target takes damage, the target can repeat the saving throw. On a success, the effect ends. No more than once every 24 hours, the target can also repeat the saving throw when it is at least 1 mile away from the aboleth.\n",
      "Legendary Actions: \n",
      "- Name: Detect Description: The aboleth makes a Wisdom (Perception) check.\n",
      "- Name: Tail Swipe Description: The aboleth makes one tail attack.\n",
      "- Name: Psychic Drain (Costs 2 Actions) Description: One creature charmed by the aboleth takes 10 (3d6) psychic damage, and the aboleth regains hit points equal to the damage the creature takes.\n",
      "\n",
      "\n",
      "armor_class: 17, hit_points: 135, hit_dice: 18d10, strength: 21, dexterity: 9, constitution: 15, intelligence: 18, wisdom: 15, charisma: 18, challenge_rating: 10.0, ' metadata={'row_number': 0, 'id': '5f2329ad0b1bb138c59411ee', 'index': 'aboleth', 'category': 'monster', 'source': '../data/dungeons-dragons/monsters.csv'}\n",
      "page_content='\n",
      "Monster: Acolyte\n",
      "\n",
      "Size: Medium\n",
      "Type: humanoid\n",
      "Monster Subtype: any race\n",
      "Alignment: any alignment\n",
      "Speed of Acolyte: walk speed: 30 ft.\n",
      "Proficiencies: \n",
      "- Skill: Medicine\n",
      "- Skill: Religion\n",
      "Senses: \n",
      "- passive_perception: 12\n",
      "Languages: any one language (usually Common)\n",
      "Special Abilities of Acolyte: \n",
      "- Name: Spellcasting Description: The acolyte is a 1st-level spellcaster. Its spellcasting ability is Wisdom (spell save DC 12, +4 to hit with spell attacks). The acolyte has following cleric spells prepared:\n",
      "\n",
      "- Cantrips (at will): light, sacred flame, thaumaturgy\n",
      "- 1st level (3 slots): bless, cure wounds, sanctuary\n",
      "Actions: \n",
      "- Name: Club Description: Melee Weapon Attack: +2 to hit, reach 5 ft., one target. Hit: 2 (1d4) bludgeoning damage.\n",
      "Legendary Actions: Unknown\n",
      "\n",
      "\n",
      "armor_class: 10, hit_points: 9, hit_dice: 2d8, strength: 10, dexterity: 10, constitution: 10, intelligence: 10, wisdom: 14, charisma: 11, challenge_rating: 0.25, ' metadata={'row_number': 1, 'id': '5f2329ad0b1bb138c59411ef', 'index': 'acolyte', 'category': 'monster', 'source': '../data/dungeons-dragons/monsters.csv'}\n"
     ]
    }
   ],
   "source": [
    "loader_monsters = DNDMonstersDocumentLoader(os.path.join(DATA_FOLDER, MONSTERS_FILE))\n",
    "\n",
    "docs_monsters = loader_monsters.load()\n",
    "\n",
    "for record in docs_monsters[:2]:\n",
    "    print(record)"
   ]
  },
  {
   "cell_type": "code",
   "execution_count": 130,
   "id": "f5f16bf6",
   "metadata": {},
   "outputs": [
    {
     "ename": "JSONDecodeError",
     "evalue": "Expecting ',' delimiter: line 1 column 119 (char 118)",
     "output_type": "error",
     "traceback": [
      "\u001b[31m---------------------------------------------------------------------------\u001b[39m",
      "\u001b[31mJSONDecodeError\u001b[39m                           Traceback (most recent call last)",
      "\u001b[36mCell\u001b[39m\u001b[36m \u001b[39m\u001b[32mIn[130]\u001b[39m\u001b[32m, line 3\u001b[39m\n\u001b[32m      1\u001b[39m loader_classes = DNDClassDocumentLoader(os.path.join(DATA_FOLDER, CLASSES_FILE))\n\u001b[32m----> \u001b[39m\u001b[32m3\u001b[39m docs_classes = \u001b[43mloader_classes\u001b[49m\u001b[43m.\u001b[49m\u001b[43mload\u001b[49m\u001b[43m(\u001b[49m\u001b[43m)\u001b[49m\n\u001b[32m      5\u001b[39m \u001b[38;5;28;01mfor\u001b[39;00m record \u001b[38;5;129;01min\u001b[39;00m docs_classes[:\u001b[32m2\u001b[39m]:\n\u001b[32m      6\u001b[39m     \u001b[38;5;28mprint\u001b[39m(record)\n",
      "\u001b[36mFile \u001b[39m\u001b[32m~/PycharmProjects/machine-learning/.venv/lib/python3.12/site-packages/langchain_core/document_loaders/base.py:32\u001b[39m, in \u001b[36mBaseLoader.load\u001b[39m\u001b[34m(self)\u001b[39m\n\u001b[32m     30\u001b[39m \u001b[38;5;28;01mdef\u001b[39;00m\u001b[38;5;250m \u001b[39m\u001b[34mload\u001b[39m(\u001b[38;5;28mself\u001b[39m) -> \u001b[38;5;28mlist\u001b[39m[Document]:\n\u001b[32m     31\u001b[39m \u001b[38;5;250m    \u001b[39m\u001b[33;03m\"\"\"Load data into Document objects.\"\"\"\u001b[39;00m\n\u001b[32m---> \u001b[39m\u001b[32m32\u001b[39m     \u001b[38;5;28;01mreturn\u001b[39;00m \u001b[38;5;28;43mlist\u001b[39;49m\u001b[43m(\u001b[49m\u001b[38;5;28;43mself\u001b[39;49m\u001b[43m.\u001b[49m\u001b[43mlazy_load\u001b[49m\u001b[43m(\u001b[49m\u001b[43m)\u001b[49m\u001b[43m)\u001b[49m\n",
      "\u001b[36mCell\u001b[39m\u001b[36m \u001b[39m\u001b[32mIn[121]\u001b[39m\u001b[32m, line 101\u001b[39m, in \u001b[36mDNDClassDocumentLoader.lazy_load\u001b[39m\u001b[34m(self)\u001b[39m\n\u001b[32m     99\u001b[39m \u001b[38;5;28;01mfor\u001b[39;00m row \u001b[38;5;129;01min\u001b[39;00m df.itertuples():\n\u001b[32m    100\u001b[39m     proficiencies = parse_proficiencies(row.proficiencies)\n\u001b[32m--> \u001b[39m\u001b[32m101\u001b[39m     proficiency_choices = \u001b[43mparse_proficiency_choices\u001b[49m\u001b[43m(\u001b[49m\u001b[43mrow\u001b[49m\u001b[43m.\u001b[49m\u001b[43mproficiency_choices\u001b[49m\u001b[43m)\u001b[49m\n\u001b[32m    102\u001b[39m     saving_throws = parse_saving_throws(row.saving_throws)\n\u001b[32m    103\u001b[39m     subclasses = parse_subclasses(row.subclasses)\n",
      "\u001b[36mCell\u001b[39m\u001b[36m \u001b[39m\u001b[32mIn[121]\u001b[39m\u001b[32m, line 27\u001b[39m, in \u001b[36mparse_proficiency_choices\u001b[39m\u001b[34m(proficiency_choices)\u001b[39m\n\u001b[32m     25\u001b[39m final_text = \u001b[33m'\u001b[39m\u001b[33mChoose any \u001b[39m\u001b[38;5;132;01m{}\u001b[39;00m\u001b[33m from the following choices:\u001b[39m\u001b[33m'\u001b[39m\n\u001b[32m     26\u001b[39m proficiency_choices = proficiency_choices.replace(\u001b[33m\"\u001b[39m\u001b[33m'\u001b[39m\u001b[33m\"\u001b[39m, \u001b[33m'\u001b[39m\u001b[38;5;130;01m\\\"\u001b[39;00m\u001b[33m'\u001b[39m)\n\u001b[32m---> \u001b[39m\u001b[32m27\u001b[39m proficiency_choices = \u001b[43mjson\u001b[49m\u001b[43m.\u001b[49m\u001b[43mloads\u001b[49m\u001b[43m(\u001b[49m\u001b[43mproficiency_choices\u001b[49m\u001b[43m)\u001b[49m\n\u001b[32m     28\u001b[39m \u001b[38;5;28;01mfor\u001b[39;00m proficiency \u001b[38;5;129;01min\u001b[39;00m proficiency_choices:\n\u001b[32m     29\u001b[39m     final_text = final_text.format(proficiency[\u001b[33m'\u001b[39m\u001b[33mchoose\u001b[39m\u001b[33m'\u001b[39m])\n",
      "\u001b[36mFile \u001b[39m\u001b[32m~/.pyenv/versions/3.12.10/lib/python3.12/json/__init__.py:346\u001b[39m, in \u001b[36mloads\u001b[39m\u001b[34m(s, cls, object_hook, parse_float, parse_int, parse_constant, object_pairs_hook, **kw)\u001b[39m\n\u001b[32m    341\u001b[39m     s = s.decode(detect_encoding(s), \u001b[33m'\u001b[39m\u001b[33msurrogatepass\u001b[39m\u001b[33m'\u001b[39m)\n\u001b[32m    343\u001b[39m \u001b[38;5;28;01mif\u001b[39;00m (\u001b[38;5;28mcls\u001b[39m \u001b[38;5;129;01mis\u001b[39;00m \u001b[38;5;28;01mNone\u001b[39;00m \u001b[38;5;129;01mand\u001b[39;00m object_hook \u001b[38;5;129;01mis\u001b[39;00m \u001b[38;5;28;01mNone\u001b[39;00m \u001b[38;5;129;01mand\u001b[39;00m\n\u001b[32m    344\u001b[39m         parse_int \u001b[38;5;129;01mis\u001b[39;00m \u001b[38;5;28;01mNone\u001b[39;00m \u001b[38;5;129;01mand\u001b[39;00m parse_float \u001b[38;5;129;01mis\u001b[39;00m \u001b[38;5;28;01mNone\u001b[39;00m \u001b[38;5;129;01mand\u001b[39;00m\n\u001b[32m    345\u001b[39m         parse_constant \u001b[38;5;129;01mis\u001b[39;00m \u001b[38;5;28;01mNone\u001b[39;00m \u001b[38;5;129;01mand\u001b[39;00m object_pairs_hook \u001b[38;5;129;01mis\u001b[39;00m \u001b[38;5;28;01mNone\u001b[39;00m \u001b[38;5;129;01mand\u001b[39;00m \u001b[38;5;129;01mnot\u001b[39;00m kw):\n\u001b[32m--> \u001b[39m\u001b[32m346\u001b[39m     \u001b[38;5;28;01mreturn\u001b[39;00m \u001b[43m_default_decoder\u001b[49m\u001b[43m.\u001b[49m\u001b[43mdecode\u001b[49m\u001b[43m(\u001b[49m\u001b[43ms\u001b[49m\u001b[43m)\u001b[49m\n\u001b[32m    347\u001b[39m \u001b[38;5;28;01mif\u001b[39;00m \u001b[38;5;28mcls\u001b[39m \u001b[38;5;129;01mis\u001b[39;00m \u001b[38;5;28;01mNone\u001b[39;00m:\n\u001b[32m    348\u001b[39m     \u001b[38;5;28mcls\u001b[39m = JSONDecoder\n",
      "\u001b[36mFile \u001b[39m\u001b[32m~/.pyenv/versions/3.12.10/lib/python3.12/json/decoder.py:338\u001b[39m, in \u001b[36mJSONDecoder.decode\u001b[39m\u001b[34m(self, s, _w)\u001b[39m\n\u001b[32m    333\u001b[39m \u001b[38;5;28;01mdef\u001b[39;00m\u001b[38;5;250m \u001b[39m\u001b[34mdecode\u001b[39m(\u001b[38;5;28mself\u001b[39m, s, _w=WHITESPACE.match):\n\u001b[32m    334\u001b[39m \u001b[38;5;250m    \u001b[39m\u001b[33;03m\"\"\"Return the Python representation of ``s`` (a ``str`` instance\u001b[39;00m\n\u001b[32m    335\u001b[39m \u001b[33;03m    containing a JSON document).\u001b[39;00m\n\u001b[32m    336\u001b[39m \n\u001b[32m    337\u001b[39m \u001b[33;03m    \"\"\"\u001b[39;00m\n\u001b[32m--> \u001b[39m\u001b[32m338\u001b[39m     obj, end = \u001b[38;5;28;43mself\u001b[39;49m\u001b[43m.\u001b[49m\u001b[43mraw_decode\u001b[49m\u001b[43m(\u001b[49m\u001b[43ms\u001b[49m\u001b[43m,\u001b[49m\u001b[43m \u001b[49m\u001b[43midx\u001b[49m\u001b[43m=\u001b[49m\u001b[43m_w\u001b[49m\u001b[43m(\u001b[49m\u001b[43ms\u001b[49m\u001b[43m,\u001b[49m\u001b[43m \u001b[49m\u001b[32;43m0\u001b[39;49m\u001b[43m)\u001b[49m\u001b[43m.\u001b[49m\u001b[43mend\u001b[49m\u001b[43m(\u001b[49m\u001b[43m)\u001b[49m\u001b[43m)\u001b[49m\n\u001b[32m    339\u001b[39m     end = _w(s, end).end()\n\u001b[32m    340\u001b[39m     \u001b[38;5;28;01mif\u001b[39;00m end != \u001b[38;5;28mlen\u001b[39m(s):\n",
      "\u001b[36mFile \u001b[39m\u001b[32m~/.pyenv/versions/3.12.10/lib/python3.12/json/decoder.py:354\u001b[39m, in \u001b[36mJSONDecoder.raw_decode\u001b[39m\u001b[34m(self, s, idx)\u001b[39m\n\u001b[32m    345\u001b[39m \u001b[38;5;250m\u001b[39m\u001b[33;03m\"\"\"Decode a JSON document from ``s`` (a ``str`` beginning with\u001b[39;00m\n\u001b[32m    346\u001b[39m \u001b[33;03ma JSON document) and return a 2-tuple of the Python\u001b[39;00m\n\u001b[32m    347\u001b[39m \u001b[33;03mrepresentation and the index in ``s`` where the document ended.\u001b[39;00m\n\u001b[32m   (...)\u001b[39m\u001b[32m    351\u001b[39m \n\u001b[32m    352\u001b[39m \u001b[33;03m\"\"\"\u001b[39;00m\n\u001b[32m    353\u001b[39m \u001b[38;5;28;01mtry\u001b[39;00m:\n\u001b[32m--> \u001b[39m\u001b[32m354\u001b[39m     obj, end = \u001b[38;5;28;43mself\u001b[39;49m\u001b[43m.\u001b[49m\u001b[43mscan_once\u001b[49m\u001b[43m(\u001b[49m\u001b[43ms\u001b[49m\u001b[43m,\u001b[49m\u001b[43m \u001b[49m\u001b[43midx\u001b[49m\u001b[43m)\u001b[49m\n\u001b[32m    355\u001b[39m \u001b[38;5;28;01mexcept\u001b[39;00m \u001b[38;5;167;01mStopIteration\u001b[39;00m \u001b[38;5;28;01mas\u001b[39;00m err:\n\u001b[32m    356\u001b[39m     \u001b[38;5;28;01mraise\u001b[39;00m JSONDecodeError(\u001b[33m\"\u001b[39m\u001b[33mExpecting value\u001b[39m\u001b[33m\"\u001b[39m, s, err.value) \u001b[38;5;28;01mfrom\u001b[39;00m\u001b[38;5;250m \u001b[39m\u001b[38;5;28;01mNone\u001b[39;00m\n",
      "\u001b[31mJSONDecodeError\u001b[39m: Expecting ',' delimiter: line 1 column 119 (char 118)"
     ]
    }
   ],
   "source": [
    "loader_classes = DNDClassDocumentLoader(os.path.join(DATA_FOLDER, CLASSES_FILE))\n",
    "\n",
    "docs_classes = loader_classes.load()\n",
    "\n",
    "for record in docs_classes[:2]:\n",
    "    print(record)"
   ]
  },
  {
   "cell_type": "markdown",
   "id": "c85c2ea3",
   "metadata": {
    "papermill": {
     "duration": 0.010065,
     "end_time": "2025-03-20T00:47:33.747619",
     "exception": false,
     "start_time": "2025-03-20T00:47:33.737554",
     "status": "completed"
    },
    "tags": []
   },
   "source": [
    "## 2.0.3 Store documents for search"
   ]
  },
  {
   "cell_type": "code",
   "execution_count": null,
   "id": "8673cbac",
   "metadata": {
    "execution": {
     "iopub.execute_input": "2025-03-20T00:47:33.769609Z",
     "iopub.status.busy": "2025-03-20T00:47:33.769288Z",
     "iopub.status.idle": "2025-03-20T00:47:43.497187Z",
     "shell.execute_reply": "2025-03-20T00:47:43.496229Z"
    },
    "papermill": {
     "duration": 9.740891,
     "end_time": "2025-03-20T00:47:43.498862",
     "exception": false,
     "start_time": "2025-03-20T00:47:33.757971",
     "status": "completed"
    },
    "tags": []
   },
   "outputs": [],
   "source": [
    "vector_store = QdrantVectorStore.from_documents(\n",
    "    docs_races,\n",
    "    embeddings,\n",
    "    url=os.environ['QDRANT_URL'],\n",
    "    prefer_grpc=True,\n",
    "    api_key=os.environ['QDRANT_API_KEY'],\n",
    "    collection_name=\"dungeons-dragons\",\n",
    ")\n",
    "vector_store = QdrantVectorStore.from_documents(\n",
    "    docs_classes,\n",
    "    embeddings,\n",
    "    url=os.environ['QDRANT_URL'],\n",
    "    prefer_grpc=True,\n",
    "    api_key=os.environ['QDRANT_API_KEY'],\n",
    "    collection_name=\"dungeons-dragons\",\n",
    ")\n",
    "vector_store = QdrantVectorStore.from_documents(\n",
    "    docs_monsters,\n",
    "    embeddings,\n",
    "    url=os.environ['QDRANT_URL'],\n",
    "    prefer_grpc=True,\n",
    "    api_key=os.environ['QDRANT_API_KEY'],\n",
    "    collection_name=\"dungeons-dragons\",\n",
    ")"
   ]
  },
  {
   "cell_type": "code",
   "execution_count": null,
   "id": "896bc6f5",
   "metadata": {
    "execution": {
     "iopub.execute_input": "2025-03-20T00:47:43.521365Z",
     "iopub.status.busy": "2025-03-20T00:47:43.521029Z",
     "iopub.status.idle": "2025-03-20T00:47:44.265819Z",
     "shell.execute_reply": "2025-03-20T00:47:44.264525Z"
    },
    "papermill": {
     "duration": 0.75758,
     "end_time": "2025-03-20T00:47:44.267453",
     "exception": false,
     "start_time": "2025-03-20T00:47:43.509873",
     "status": "completed"
    },
    "tags": []
   },
   "outputs": [],
   "source": [
    "docs = vector_store.similarity_search(\"Tell me about Dragonborn\", k=2)\n",
    "for doc in docs:\n",
    "    print(doc)"
   ]
  },
  {
   "cell_type": "markdown",
   "id": "e1737015",
   "metadata": {
    "papermill": {
     "duration": 0.010547,
     "end_time": "2025-03-20T00:47:44.289381",
     "exception": false,
     "start_time": "2025-03-20T00:47:44.278834",
     "status": "completed"
    },
    "tags": []
   },
   "source": [
    "# 2.1 Generate RAG prompt with context"
   ]
  },
  {
   "cell_type": "code",
   "execution_count": null,
   "id": "87fbad89",
   "metadata": {
    "execution": {
     "iopub.execute_input": "2025-03-20T00:47:44.312794Z",
     "iopub.status.busy": "2025-03-20T00:47:44.312460Z",
     "iopub.status.idle": "2025-03-20T00:47:44.560394Z",
     "shell.execute_reply": "2025-03-20T00:47:44.559264Z"
    },
    "papermill": {
     "duration": 0.261563,
     "end_time": "2025-03-20T00:47:44.561966",
     "exception": false,
     "start_time": "2025-03-20T00:47:44.300403",
     "status": "completed"
    },
    "tags": []
   },
   "outputs": [],
   "source": [
    "from pydantic import BaseModel\n",
    "from typing import List, Dict, Optional\n",
    "\n",
    "from langchain import hub\n",
    "\n",
    "prompt = hub.pull(\"rlm/rag-prompt\")\n",
    "\n",
    "\n",
    "class State(BaseModel):\n",
    "    question: str\n",
    "    context: Optional[List[Dict]]\n",
    "    answer: str\n",
    "\n",
    "\n",
    "def retrieve(db, state: State):\n",
    "    retrieved_docs = db.similarity_search(state[\"question\"]) # defaults to k = 4, so max 4 documents are returned.\n",
    "    return {\"context\": retrieved_docs}\n",
    "\n",
    "\n",
    "def generate(state: State):\n",
    "    docs_content = \"\\n\\n\".join(doc.page_content for doc in state[\"context\"])\n",
    "    messages = prompt.invoke(\n",
    "        {\"question\": state[\"question\"], \"context\": docs_content})\n",
    "    response = llm.invoke(messages)\n",
    "    return {\"answer\": response.content}\n",
    "\n",
    "\n",
    "def retrieve_and_generate(user_prompt, tenant=None):\n",
    "    state = {'question': user_prompt, 'context': None, 'answer': ''}\n",
    "    if tenant:\n",
    "        state.update({'tenant': tenant})\n",
    "\n",
    "    context = retrieve(vector_store, state)\n",
    "    state['context'] = context['context']\n",
    "    \n",
    "    ans = generate(state)['answer']\n",
    "    return ans\n",
    "\n",
    "\n",
    "def print_rag(user_prompt, rag_answer):\n",
    "    print(\"Question: \\t{}\".format(user_prompt))\n",
    "    print(\"Answer: \\t{}\".format(rag_answer))"
   ]
  },
  {
   "cell_type": "code",
   "execution_count": null,
   "id": "56b4f46a",
   "metadata": {
    "execution": {
     "iopub.execute_input": "2025-03-20T00:47:44.585184Z",
     "iopub.status.busy": "2025-03-20T00:47:44.584867Z",
     "iopub.status.idle": "2025-03-20T00:47:46.409150Z",
     "shell.execute_reply": "2025-03-20T00:47:46.407682Z"
    },
    "papermill": {
     "duration": 1.837619,
     "end_time": "2025-03-20T00:47:46.410733",
     "exception": false,
     "start_time": "2025-03-20T00:47:44.573114",
     "status": "completed"
    },
    "tags": []
   },
   "outputs": [],
   "source": [
    "state = {'question': \"Which races can speak Common?\", 'context': None, 'answer': ''}\n",
    "\n",
    "context = retrieve(vector_store, state)\n",
    "state['context'] = context['context']\n",
    "\n",
    "print(generate(state)['answer'])"
   ]
  },
  {
   "cell_type": "code",
   "execution_count": null,
   "id": "3d53cd20",
   "metadata": {},
   "outputs": [],
   "source": [
    "ques = \"What is Draconic?\"\n",
    "ans = retrieve_and_generate(ques)\n",
    "print_rag(ques, ans)"
   ]
  },
  {
   "cell_type": "markdown",
   "id": "e519f5de",
   "metadata": {
    "papermill": {
     "duration": 0.010535,
     "end_time": "2025-03-20T00:47:46.432418",
     "exception": false,
     "start_time": "2025-03-20T00:47:46.421883",
     "status": "completed"
    },
    "tags": []
   },
   "source": [
    "# 2.2 Ask Questions\n",
    "## Questions about my favorites: Dialga & Palkia from Sinnoh Region"
   ]
  },
  {
   "cell_type": "code",
   "execution_count": null,
   "id": "18501997",
   "metadata": {
    "execution": {
     "iopub.execute_input": "2025-03-20T00:47:46.455114Z",
     "iopub.status.busy": "2025-03-20T00:47:46.454814Z",
     "iopub.status.idle": "2025-03-20T00:47:48.646599Z",
     "shell.execute_reply": "2025-03-20T00:47:48.645387Z"
    },
    "papermill": {
     "duration": 2.204803,
     "end_time": "2025-03-20T00:47:48.648017",
     "exception": false,
     "start_time": "2025-03-20T00:47:46.443214",
     "status": "completed"
    },
    "tags": []
   },
   "outputs": [],
   "source": [
    "ques = \"Which Pokemon have the ability to manipulate space?\"\n",
    "ans = retrieve_and_generate(ques)\n",
    "print_rag(ques, ans)\n",
    "\n",
    "print()\n",
    "pkmn = pokedex_df[pokedex_df.name.isin(['palkia'])]\n",
    "print(\"Pokemon:\", pkmn['name'].tolist()[0].title(), \"\\nInfo:\", pkmn['info'].tolist()[0])"
   ]
  },
  {
   "cell_type": "code",
   "execution_count": null,
   "id": "232a1169",
   "metadata": {
    "execution": {
     "iopub.execute_input": "2025-03-20T00:47:48.724468Z",
     "iopub.status.busy": "2025-03-20T00:47:48.724132Z",
     "iopub.status.idle": "2025-03-20T00:47:51.087980Z",
     "shell.execute_reply": "2025-03-20T00:47:51.087064Z"
    },
    "papermill": {
     "duration": 2.430057,
     "end_time": "2025-03-20T00:47:51.089358",
     "exception": false,
     "start_time": "2025-03-20T00:47:48.659301",
     "status": "completed"
    },
    "tags": []
   },
   "outputs": [],
   "source": [
    "ques = \"Which Pokemon have the ability to control time?\"\n",
    "ans = retrieve_and_generate(ques)\n",
    "print_rag(ques, ans)\n",
    "\n",
    "print()\n",
    "pkmn = pokedex_df[pokedex_df.name.isin(['dialga'])]\n",
    "print(\"Pokemon:\", pkmn['name'].tolist()[0].title(), \"\\nInfo:\", pkmn['info'].tolist()[0])"
   ]
  },
  {
   "cell_type": "code",
   "execution_count": null,
   "id": "46c07018",
   "metadata": {
    "execution": {
     "iopub.execute_input": "2025-03-20T00:47:51.112719Z",
     "iopub.status.busy": "2025-03-20T00:47:51.112399Z",
     "iopub.status.idle": "2025-03-20T00:47:52.616897Z",
     "shell.execute_reply": "2025-03-20T00:47:52.615938Z"
    },
    "papermill": {
     "duration": 1.517385,
     "end_time": "2025-03-20T00:47:52.618041",
     "exception": false,
     "start_time": "2025-03-20T00:47:51.100656",
     "status": "completed"
    },
    "tags": []
   },
   "outputs": [],
   "source": [
    "ques = \"Popular ghost pokemon\"\n",
    "ans = retrieve_and_generate(ques)\n",
    "print_rag(ques, ans)"
   ]
  },
  {
   "cell_type": "code",
   "execution_count": null,
   "id": "0777b719",
   "metadata": {
    "execution": {
     "iopub.execute_input": "2025-03-20T00:47:52.641310Z",
     "iopub.status.busy": "2025-03-20T00:47:52.641017Z",
     "iopub.status.idle": "2025-03-20T00:47:57.741466Z",
     "shell.execute_reply": "2025-03-20T00:47:57.740598Z"
    },
    "papermill": {
     "duration": 5.113264,
     "end_time": "2025-03-20T00:47:57.742662",
     "exception": false,
     "start_time": "2025-03-20T00:47:52.629398",
     "status": "completed"
    },
    "tags": []
   },
   "outputs": [],
   "source": [
    "ques = \"Can you tell me about Pokemon which are from folk tales?\"\n",
    "ans = retrieve_and_generate(ques)\n",
    "print_rag(ques, ans)"
   ]
  },
  {
   "cell_type": "code",
   "execution_count": null,
   "id": "40c872ab",
   "metadata": {
    "execution": {
     "iopub.execute_input": "2025-03-20T00:47:57.767075Z",
     "iopub.status.busy": "2025-03-20T00:47:57.766774Z",
     "iopub.status.idle": "2025-03-20T00:48:00.098445Z",
     "shell.execute_reply": "2025-03-20T00:48:00.097338Z"
    },
    "papermill": {
     "duration": 2.345829,
     "end_time": "2025-03-20T00:48:00.100303",
     "exception": false,
     "start_time": "2025-03-20T00:47:57.754474",
     "status": "completed"
    },
    "tags": []
   },
   "outputs": [],
   "source": [
    "ques = \"Pokemon which cause Forest fires\"\n",
    "ans = retrieve_and_generate(ques)\n",
    "print_rag(ques, ans)\n",
    "\n",
    "print()\n",
    "pkmn = pokedex_df[pokedex_df.name.isin(['charizard'])]\n",
    "print(\"Pokemon:\", pkmn['name'].tolist()[0].title(), \"\\nInfo:\", pkmn['info'].tolist()[0])"
   ]
  },
  {
   "cell_type": "markdown",
   "id": "8f7a638d",
   "metadata": {
    "papermill": {
     "duration": 0.010666,
     "end_time": "2025-03-20T00:48:00.122377",
     "exception": false,
     "start_time": "2025-03-20T00:48:00.111711",
     "status": "completed"
    },
    "tags": []
   },
   "source": [
    "## Where RAG works well and prevents inaccurate information from being provided to the user"
   ]
  },
  {
   "cell_type": "code",
   "execution_count": null,
   "id": "2177ffe5",
   "metadata": {
    "execution": {
     "iopub.execute_input": "2025-03-20T00:48:00.145207Z",
     "iopub.status.busy": "2025-03-20T00:48:00.144860Z",
     "iopub.status.idle": "2025-03-20T00:48:01.659339Z",
     "shell.execute_reply": "2025-03-20T00:48:01.658154Z"
    },
    "papermill": {
     "duration": 1.527603,
     "end_time": "2025-03-20T00:48:01.660752",
     "exception": false,
     "start_time": "2025-03-20T00:48:00.133149",
     "status": "completed"
    },
    "tags": []
   },
   "outputs": [],
   "source": [
    "ques = \"Microsoft Office\"\n",
    "ans = retrieve_and_generate(ques)\n",
    "print_rag(ques, ans)"
   ]
  },
  {
   "cell_type": "code",
   "execution_count": null,
   "id": "b46ee55f",
   "metadata": {
    "execution": {
     "iopub.execute_input": "2025-03-20T00:48:01.684941Z",
     "iopub.status.busy": "2025-03-20T00:48:01.684577Z",
     "iopub.status.idle": "2025-03-20T00:48:02.999801Z",
     "shell.execute_reply": "2025-03-20T00:48:02.998674Z"
    },
    "papermill": {
     "duration": 1.328892,
     "end_time": "2025-03-20T00:48:03.001174",
     "exception": false,
     "start_time": "2025-03-20T00:48:01.672282",
     "status": "completed"
    },
    "tags": []
   },
   "outputs": [],
   "source": [
    "ques = \"Nani\"\n",
    "ans = retrieve_and_generate(ques)\n",
    "print_rag(ques, ans)"
   ]
  },
  {
   "cell_type": "code",
   "execution_count": null,
   "id": "24f7dfa1",
   "metadata": {
    "execution": {
     "iopub.execute_input": "2025-03-20T00:48:03.026302Z",
     "iopub.status.busy": "2025-03-20T00:48:03.025924Z",
     "iopub.status.idle": "2025-03-20T00:48:05.356618Z",
     "shell.execute_reply": "2025-03-20T00:48:05.355121Z"
    },
    "papermill": {
     "duration": 2.344969,
     "end_time": "2025-03-20T00:48:05.358368",
     "exception": false,
     "start_time": "2025-03-20T00:48:03.013399",
     "status": "completed"
    },
    "tags": []
   },
   "outputs": [],
   "source": [
    "ques = \"Classical Music\"\n",
    "ans = retrieve_and_generate(ques)\n",
    "print_rag(ques, ans)"
   ]
  },
  {
   "cell_type": "code",
   "execution_count": null,
   "id": "68a0d5b7",
   "metadata": {
    "execution": {
     "iopub.execute_input": "2025-03-20T00:48:05.382080Z",
     "iopub.status.busy": "2025-03-20T00:48:05.381813Z",
     "iopub.status.idle": "2025-03-20T00:48:08.211602Z",
     "shell.execute_reply": "2025-03-20T00:48:08.209718Z"
    },
    "papermill": {
     "duration": 2.843327,
     "end_time": "2025-03-20T00:48:08.213553",
     "exception": false,
     "start_time": "2025-03-20T00:48:05.370226",
     "status": "completed"
    },
    "tags": []
   },
   "outputs": [],
   "source": [
    "ques = \"Which Pokemon can dance Salsa?\"\n",
    "ans = retrieve_and_generate(ques)\n",
    "print_rag(ques, ans)"
   ]
  },
  {
   "cell_type": "code",
   "execution_count": null,
   "id": "47524370",
   "metadata": {
    "execution": {
     "iopub.execute_input": "2025-03-20T00:48:08.240452Z",
     "iopub.status.busy": "2025-03-20T00:48:08.240079Z",
     "iopub.status.idle": "2025-03-20T00:48:09.989931Z",
     "shell.execute_reply": "2025-03-20T00:48:09.989094Z"
    },
    "papermill": {
     "duration": 1.764567,
     "end_time": "2025-03-20T00:48:09.991001",
     "exception": false,
     "start_time": "2025-03-20T00:48:08.226434",
     "status": "completed"
    },
    "tags": []
   },
   "outputs": [],
   "source": [
    "ques = \"Create a trivia question and answer pair on Pikachu\"\n",
    "ans = retrieve_and_generate(ques)\n",
    "print_rag(ques, ans)\n",
    "\n",
    "print()\n",
    "pikachu = pokedex_df[pokedex_df.name.isin(['pikachu'])]\n",
    "print(\"Pokemon:\", pikachu['name'].tolist()[0].title(), \"\\nInfo:\", pikachu['info'].tolist()[0])"
   ]
  },
  {
   "cell_type": "markdown",
   "id": "2bd1747e",
   "metadata": {
    "papermill": {
     "duration": 0.010364,
     "end_time": "2025-03-20T00:48:10.012682",
     "exception": false,
     "start_time": "2025-03-20T00:48:10.002318",
     "status": "completed"
    },
    "tags": []
   },
   "source": [
    "## Learning Example\n",
    "### Where RAG goes \"wrong\""
   ]
  },
  {
   "cell_type": "code",
   "execution_count": null,
   "id": "8ed33c1f",
   "metadata": {
    "execution": {
     "iopub.execute_input": "2025-03-20T00:48:10.035540Z",
     "iopub.status.busy": "2025-03-20T00:48:10.035209Z",
     "iopub.status.idle": "2025-03-20T00:48:12.018673Z",
     "shell.execute_reply": "2025-03-20T00:48:12.017481Z"
    },
    "papermill": {
     "duration": 1.996691,
     "end_time": "2025-03-20T00:48:12.020105",
     "exception": false,
     "start_time": "2025-03-20T00:48:10.023414",
     "status": "completed"
    },
    "tags": []
   },
   "outputs": [],
   "source": [
    "ques = \"Pokemon which can compete in Kaggle competitions\"\n",
    "ans = retrieve_and_generate(ques)\n",
    "print_rag(ques, ans)"
   ]
  },
  {
   "cell_type": "markdown",
   "id": "bf75788a",
   "metadata": {
    "papermill": {
     "duration": 0.011085,
     "end_time": "2025-03-20T00:48:12.043479",
     "exception": false,
     "start_time": "2025-03-20T00:48:12.032394",
     "status": "completed"
    },
    "tags": []
   },
   "source": [
    "#### First of all, what does it mean for an output to be wrong / incorrect?\n",
    "We should start by defining our scope, and what set/type of outputs is considered out of scope, and what are our policies to handle: 1. Queries which are out of scope, and 2. LLM outputs which are out of scope.\n",
    "\n",
    "Let's look at the process:\n",
    "\n",
    "#### Process\n",
    "1. User prompt (out of our control)\n",
    "2. Retrieve documents from our knowledge base. (Vector DB)\n",
    "3. Prepare System prompt and add context, and user prompt.\n",
    "4. LLM inference of constructed prompt.\n",
    "\n",
    "For the question above, \"Pokemon which can compete in Kaggle competitions\", we might want to restrict the LLM from answering questions which are beyond the scope of our knowledge base. We might want to reduce its creativity in trying to generate an answer.\n",
    "\n",
    "We can do this by:\n",
    "- Checking the documents distance threshold and seeing if our query is beyond a certain distance from the documents. If yes, we might want to modify the system prompt (on the fly), or return more documents, or respond to the user without going through the LLM.\n",
    "- Changing our system prompt to be more restrictive and/or providing more context about the world of Pokemon."
   ]
  },
  {
   "cell_type": "code",
   "execution_count": null,
   "id": "77f18b61",
   "metadata": {
    "execution": {
     "iopub.execute_input": "2025-03-20T00:48:12.067316Z",
     "iopub.status.busy": "2025-03-20T00:48:12.066935Z",
     "iopub.status.idle": "2025-03-20T00:48:14.042637Z",
     "shell.execute_reply": "2025-03-20T00:48:14.041503Z"
    },
    "papermill": {
     "duration": 1.989717,
     "end_time": "2025-03-20T00:48:14.044515",
     "exception": false,
     "start_time": "2025-03-20T00:48:12.054798",
     "status": "completed"
    },
    "tags": []
   },
   "outputs": [],
   "source": [
    "ques = \"Tallest pokemon\"\n",
    "ans = retrieve_and_generate(ques)\n",
    "print_rag(ques, ans)"
   ]
  },
  {
   "cell_type": "markdown",
   "id": "dc748fb1",
   "metadata": {
    "papermill": {
     "duration": 0.011978,
     "end_time": "2025-03-20T00:48:14.071173",
     "exception": false,
     "start_time": "2025-03-20T00:48:14.059195",
     "status": "completed"
    },
    "tags": []
   },
   "source": [
    "### Debugging: Let's check if Palkia is the tallest\n",
    "Clearly it is not. RAG will work well with text, but we need to do more if we want to make qualitative comparisons on quantities."
   ]
  },
  {
   "cell_type": "code",
   "execution_count": null,
   "id": "b41161b7",
   "metadata": {
    "execution": {
     "iopub.execute_input": "2025-03-20T00:48:14.095190Z",
     "iopub.status.busy": "2025-03-20T00:48:14.094865Z",
     "iopub.status.idle": "2025-03-20T00:48:14.114431Z",
     "shell.execute_reply": "2025-03-20T00:48:14.113613Z"
    },
    "papermill": {
     "duration": 0.032847,
     "end_time": "2025-03-20T00:48:14.115528",
     "exception": false,
     "start_time": "2025-03-20T00:48:14.082681",
     "status": "completed"
    },
    "tags": []
   },
   "outputs": [],
   "source": [
    "import copy\n",
    "\n",
    "tmp_df = copy.deepcopy(pokedex_df)\n",
    "tmp_df.sort_values(by=['height'], ascending=False, inplace=True)\n",
    "display(tmp_df.head(10))\n",
    "\n",
    "print()\n",
    "pkmn = pokedex_df[pokedex_df.name.isin(['palkia'])]\n",
    "display(pkmn[['id', 'name', 'height', 'weight','type','info']])"
   ]
  },
  {
   "cell_type": "markdown",
   "id": "9ab35b29",
   "metadata": {
    "papermill": {
     "duration": 0.012733,
     "end_time": "2025-03-20T00:48:14.140091",
     "exception": false,
     "start_time": "2025-03-20T00:48:14.127358",
     "status": "completed"
    },
    "tags": []
   },
   "source": [
    "### Why our system failed to answer the \"tallest pokemon?\" question\n",
    "1. Structured Data: LLMs don't work well with structured data. Even if we provided all the documents i.e. all Pokemon's info, the LLM would still probably not be able to \"figure out\" the tallest Pokemon, because it is not performing any quantitative analysis.\n",
    "2. Knowledge Base: The Vector DB returns only a limited number of documents. In my case, I'm using the default of 4.\n",
    "3. LLM Knowledge: The documents returned may not have included the tallest Pokemon, and the LLM couldn't use the knowledge of the tallest Pokemon it obtained from the internet.\n",
    "\n",
    "We can check each of these, and there will be more cause \"vectors\" which I may have missed.\n",
    "\n",
    "#### 1. Structured Data\n",
    "##### Challenge\n",
    "LLMs don’t work well with structured data, and CSV dataset usually don't have information on what the fields' units are, and sometimes they (fields/columns) aren't named well.\n",
    "\n",
    "##### Solution\n",
    "Converting the numerical fields into text fields such as “Height Info” field having an English sentence saying “The height of Palkia is 42 decimeters”, would allow the LLM to better use that information.\n",
    "\n",
    "Despite this, because the RAG only gives you information of the top X documents, the output may still be incorrect.\n",
    "\n",
    "#### 2. Knowledge Base: Vector DB limit\n",
    "##### Challenge\n",
    "We retrieve 4 documents for each query.\n",
    "\n",
    "Let’s say the word tallest, is present explicitly or implicitly in 20 documents out of 1000+ Pokemon, and out of these the 4 which are returned are not of the tallest Pokemon, but just Pokemon where height is mentioned in their Pokedex entry, the context itself may be completely incorrect.\n",
    "\n",
    "##### Solution\n",
    "One solution could be to add documents containing information about: \n",
    "- The tallest Pokemon.\n",
    "- The shortest Pokemon.\n",
    "- The Heaviest Pokemon.\n",
    "- The Lightest Pokemon.\n",
    "- etc.\n",
    "\n",
    "Now, if we search for tallest Pokemon, it will return one document having information on the tallest Pokemon.\n",
    "\n",
    "Another solution could be to have one document listing all the Pokemon and their heights in order from tallest to shortest. This way, reasoning models could even possibly tell you the rank of the Pokemon's height.\n",
    "\n",
    "Using one of these solutions, we can answer all those questions. Here the problem is the lack of required text based information in the knowledge base.\n",
    "\n",
    "#### 3. LLM knowledge: LLM knowledge and RAG document lack of overlap\n",
    "When I provide GPT 4o-mini the prompt \"tallest pokemon\" without going through the RAG process, it returns this:\n",
    "> As of my last knowledge update in October 2023, the tallest Pokémon is Mega Rayquaza, which stands at 10 feet (3.05 meters) tall. It's worth noting that while Rayquaza is known for its height in its Mega form, other Pokémon like Wailord and Giratin in their different forms also have significant heights but don't surpass Mega Rayquaza.\n",
    ">\n",
    "> If you have any specific questions or need more information about Pokémon, feel free to ask!\n",
    "\n",
    "Let's check the documents returned by \"tallest pokemon\", and see if the documents have Rayquaza or Mega Rayquaza."
   ]
  },
  {
   "cell_type": "code",
   "execution_count": null,
   "id": "8a07f087",
   "metadata": {
    "execution": {
     "iopub.execute_input": "2025-03-20T00:48:14.165212Z",
     "iopub.status.busy": "2025-03-20T00:48:14.164893Z",
     "iopub.status.idle": "2025-03-20T00:48:14.170550Z",
     "shell.execute_reply": "2025-03-20T00:48:14.169606Z"
    },
    "papermill": {
     "duration": 0.019868,
     "end_time": "2025-03-20T00:48:14.171884",
     "exception": false,
     "start_time": "2025-03-20T00:48:14.152016",
     "status": "completed"
    },
    "tags": []
   },
   "outputs": [],
   "source": [
    "def print_retrieved_documents(db, user_prompt: Text, relevant_document_fields: Optional[List[Text]]=None):\n",
    "    state = {'question': user_prompt, 'context': None, 'answer': ''}\n",
    "    result = retrieve(db, state)\n",
    "    docs = []\n",
    "    for doc in result['context']:\n",
    "        if relevant_document_fields:\n",
    "            pokemon_name = doc.page_content.split(\"\\n\")[1].rsplit(\" \")[1]\n",
    "            pkmn = pokedex_df[pokedex_df.name.isin([pokemon_name])]\n",
    "            row = pkmn[relevant_document_fields].to_records()[0]\n",
    "            docs.append(row)\n",
    "        else:\n",
    "            print(doc)\n",
    "    if relevant_document_fields:\n",
    "        tmp_df = pd.DataFrame.from_records(docs)\n",
    "        tmp_df.columns = ['id'] + relevant_document_fields\n",
    "        with pd.option_context('display.max_colwidth', None):\n",
    "          display(tmp_df)"
   ]
  },
  {
   "cell_type": "code",
   "execution_count": null,
   "id": "c86dad18",
   "metadata": {
    "execution": {
     "iopub.execute_input": "2025-03-20T00:48:14.197613Z",
     "iopub.status.busy": "2025-03-20T00:48:14.197299Z",
     "iopub.status.idle": "2025-03-20T00:48:14.903174Z",
     "shell.execute_reply": "2025-03-20T00:48:14.902131Z"
    },
    "papermill": {
     "duration": 0.720277,
     "end_time": "2025-03-20T00:48:14.904670",
     "exception": false,
     "start_time": "2025-03-20T00:48:14.184393",
     "status": "completed"
    },
    "tags": []
   },
   "outputs": [],
   "source": [
    "print_retrieved_documents(vector_store, \"Tallest pokemon\", ['name', 'height', 'type', 'info'])"
   ]
  },
  {
   "cell_type": "markdown",
   "id": "1a8b1f80",
   "metadata": {
    "papermill": {
     "duration": 0.011654,
     "end_time": "2025-03-20T00:48:14.928657",
     "exception": false,
     "start_time": "2025-03-20T00:48:14.917003",
     "status": "completed"
    },
    "tags": []
   },
   "source": [
    "We can see that our LLM did VERY well, given the context. Our user prompt = \"tallest pokemon\" returns 4 documents, for Zapdos, Tirtouga, Togedemaru, and Palkia.\n",
    "\n",
    "\"Pokemon\" matched in the first three documents.\n",
    "\n",
    "Looks like \"tallest\" was semantically similar to \"enormous\" (in the case of Zapdos), \"half a mile\" and \"depths\" (for Tirtouga), probably \"stands on end\" for Togedemaru.\n",
    "\n",
    "Among these documents, Palkia has the largest value of Height.\n",
    "\n",
    "The LLM did well and said Palkia is the tallest!"
   ]
  },
  {
   "cell_type": "markdown",
   "id": "6e88f975",
   "metadata": {
    "papermill": {
     "duration": 0.011286,
     "end_time": "2025-03-20T00:48:14.951433",
     "exception": false,
     "start_time": "2025-03-20T00:48:14.940147",
     "status": "completed"
    },
    "tags": []
   },
   "source": [
    "### Experiment: Adding Numerical Data as Text\n",
    "Let's add some of the numerical data as text and see how our RAG performs.\n",
    "\n",
    "In a real-world situation, we would create a bunch of these documents from the numerical values, so that our RAG works well.\n",
    "\n",
    "Remember, given that LLMs are suffiently advanced nowadays, people will start to fall for the fallacy of \"Argument from Authority\" or \"Appeal to Authority\".\n",
    "\n",
    "Treating everything that the LLM answers with as gospel. We may not be there yet, but we soon will be. Our RAG systems will need to become better able to handle edge cases to prevent potential issues, and our pipelines should be able to learn quickly from existing and new issues.\n",
    "\n",
    "#### Let's start with Height"
   ]
  },
  {
   "cell_type": "code",
   "execution_count": null,
   "id": "c3809129",
   "metadata": {
    "execution": {
     "iopub.execute_input": "2025-03-20T00:48:14.976090Z",
     "iopub.status.busy": "2025-03-20T00:48:14.975751Z",
     "iopub.status.idle": "2025-03-20T00:48:14.992721Z",
     "shell.execute_reply": "2025-03-20T00:48:14.991428Z"
    },
    "papermill": {
     "duration": 0.031075,
     "end_time": "2025-03-20T00:48:14.994179",
     "exception": false,
     "start_time": "2025-03-20T00:48:14.963104",
     "status": "completed"
    },
    "tags": []
   },
   "outputs": [],
   "source": [
    "tallest_df = copy.deepcopy(pokedex_df)\n",
    "tallest_df.sort_values(by=['height'], ascending=False, inplace=True)\n",
    "display(tallest_df.head(3))\n",
    "\n",
    "tallest_pokemon = tallest_df[['name', 'height', 'type', 'info']][:10].to_records()\n",
    "\n",
    "tallest_doc = \"The top 10 tallest Pokemon are {} in that order.\".format(\", \".join([r[1] for r in tallest_pokemon]))\n",
    "print(tallest_doc)"
   ]
  },
  {
   "cell_type": "markdown",
   "id": "e05df984",
   "metadata": {
    "papermill": {
     "duration": 0.011736,
     "end_time": "2025-03-20T00:48:15.018535",
     "exception": false,
     "start_time": "2025-03-20T00:48:15.006799",
     "status": "completed"
    },
    "tags": []
   },
   "source": [
    "Now let's add that text as a document to the Knowledge base."
   ]
  },
  {
   "cell_type": "code",
   "execution_count": null,
   "id": "8e1aac07",
   "metadata": {
    "execution": {
     "iopub.execute_input": "2025-03-20T00:48:15.043796Z",
     "iopub.status.busy": "2025-03-20T00:48:15.043457Z",
     "iopub.status.idle": "2025-03-20T00:48:15.377196Z",
     "shell.execute_reply": "2025-03-20T00:48:15.376039Z"
    },
    "papermill": {
     "duration": 0.348309,
     "end_time": "2025-03-20T00:48:15.379027",
     "exception": false,
     "start_time": "2025-03-20T00:48:15.030718",
     "status": "completed"
    },
    "tags": []
   },
   "outputs": [],
   "source": [
    "vector_store.add_texts([tallest_doc])"
   ]
  },
  {
   "cell_type": "markdown",
   "id": "48372b16",
   "metadata": {
    "papermill": {
     "duration": 0.012788,
     "end_time": "2025-03-20T00:48:15.404355",
     "exception": false,
     "start_time": "2025-03-20T00:48:15.391567",
     "status": "completed"
    },
    "tags": []
   },
   "source": [
    "Re-test of \"tallest pokemon\" query."
   ]
  },
  {
   "cell_type": "code",
   "execution_count": null,
   "id": "3fb34fd5",
   "metadata": {
    "execution": {
     "iopub.execute_input": "2025-03-20T00:48:15.429279Z",
     "iopub.status.busy": "2025-03-20T00:48:15.428981Z",
     "iopub.status.idle": "2025-03-20T00:48:16.663496Z",
     "shell.execute_reply": "2025-03-20T00:48:16.661774Z"
    },
    "papermill": {
     "duration": 1.24861,
     "end_time": "2025-03-20T00:48:16.665343",
     "exception": false,
     "start_time": "2025-03-20T00:48:15.416733",
     "status": "completed"
    },
    "tags": []
   },
   "outputs": [],
   "source": [
    "ques = \"Tallest pokemon\"\n",
    "ans = retrieve_and_generate(ques)\n",
    "print_rag(ques, ans)"
   ]
  },
  {
   "cell_type": "markdown",
   "id": "56ce0ae9",
   "metadata": {
    "papermill": {
     "duration": 0.012914,
     "end_time": "2025-03-20T00:48:16.691624",
     "exception": false,
     "start_time": "2025-03-20T00:48:16.678710",
     "status": "completed"
    },
    "tags": []
   },
   "source": [
    "Wohoo!!"
   ]
  },
  {
   "cell_type": "markdown",
   "id": "f95c2016",
   "metadata": {
    "papermill": {
     "duration": 0.012273,
     "end_time": "2025-03-20T00:48:16.716990",
     "exception": false,
     "start_time": "2025-03-20T00:48:16.704717",
     "status": "completed"
    },
    "tags": []
   },
   "source": [
    "## \"Grey\" Area of RAG outputs\n",
    "We need to figure out what responses and which inputs are acceptable.\n",
    "\n",
    "If we were running an org, we would have policies in place for every situation and case, and a feedback loop from users which helps us identify problematic outputs and address them."
   ]
  },
  {
   "cell_type": "code",
   "execution_count": null,
   "id": "48b45595",
   "metadata": {
    "execution": {
     "iopub.execute_input": "2025-03-20T00:48:16.743412Z",
     "iopub.status.busy": "2025-03-20T00:48:16.743082Z",
     "iopub.status.idle": "2025-03-20T00:48:18.740238Z",
     "shell.execute_reply": "2025-03-20T00:48:18.739357Z"
    },
    "papermill": {
     "duration": 2.012495,
     "end_time": "2025-03-20T00:48:18.742154",
     "exception": false,
     "start_time": "2025-03-20T00:48:16.729659",
     "status": "completed"
    },
    "tags": []
   },
   "outputs": [],
   "source": [
    "ques = \"Pokemon which can use Excel and ChatGPT\"\n",
    "ans = retrieve_and_generate(ques)\n",
    "print_rag(ques, ans)\n",
    "\n",
    "print()\n",
    "pkmn = pokedex_df[pokedex_df.name.isin(['porygon'])]\n",
    "print(\"Pokemon:\", pkmn['name'].tolist()[0].title(), \"\\nInfo:\", pkmn['info'].tolist()[0])"
   ]
  },
  {
   "cell_type": "code",
   "execution_count": null,
   "id": "02916f88",
   "metadata": {
    "execution": {
     "iopub.execute_input": "2025-03-20T00:48:18.769103Z",
     "iopub.status.busy": "2025-03-20T00:48:18.768790Z",
     "iopub.status.idle": "2025-03-20T00:48:20.381977Z",
     "shell.execute_reply": "2025-03-20T00:48:20.380670Z"
    },
    "papermill": {
     "duration": 1.628284,
     "end_time": "2025-03-20T00:48:20.383807",
     "exception": false,
     "start_time": "2025-03-20T00:48:18.755523",
     "status": "completed"
    },
    "tags": []
   },
   "outputs": [],
   "source": [
    "ques = \"Can Pokemon give ML interviews, and if not why?\"\n",
    "ans = retrieve_and_generate(ques)\n",
    "print_rag(ques, ans)"
   ]
  },
  {
   "cell_type": "code",
   "execution_count": null,
   "id": "0cacdd02",
   "metadata": {
    "execution": {
     "iopub.execute_input": "2025-03-20T00:48:20.410468Z",
     "iopub.status.busy": "2025-03-20T00:48:20.410116Z",
     "iopub.status.idle": "2025-03-20T00:48:22.531180Z",
     "shell.execute_reply": "2025-03-20T00:48:22.529731Z"
    },
    "papermill": {
     "duration": 2.135914,
     "end_time": "2025-03-20T00:48:22.532613",
     "exception": false,
     "start_time": "2025-03-20T00:48:20.396699",
     "status": "completed"
    },
    "tags": []
   },
   "outputs": [],
   "source": [
    "ques = \"Can Pokemon give ML interviews, and if yes why?\"\n",
    "ans = retrieve_and_generate(ques)\n",
    "print_rag(ques, ans)"
   ]
  },
  {
   "cell_type": "code",
   "execution_count": null,
   "id": "9f48ecc4",
   "metadata": {
    "execution": {
     "iopub.execute_input": "2025-03-20T00:48:22.558435Z",
     "iopub.status.busy": "2025-03-20T00:48:22.558078Z",
     "iopub.status.idle": "2025-03-20T00:48:24.502884Z",
     "shell.execute_reply": "2025-03-20T00:48:24.501640Z"
    },
    "papermill": {
     "duration": 1.959397,
     "end_time": "2025-03-20T00:48:24.504474",
     "exception": false,
     "start_time": "2025-03-20T00:48:22.545077",
     "status": "completed"
    },
    "tags": []
   },
   "outputs": [],
   "source": [
    "ques = \"This dataset doesn't have any information that Pokemon are fictional. How did you come to that conclusion?\"\n",
    "ans = retrieve_and_generate(ques)\n",
    "print_rag(ques, ans)"
   ]
  },
  {
   "cell_type": "markdown",
   "id": "a436b3db",
   "metadata": {
    "papermill": {
     "duration": 0.012083,
     "end_time": "2025-03-20T00:48:24.529157",
     "exception": false,
     "start_time": "2025-03-20T00:48:24.517074",
     "status": "completed"
    },
    "tags": []
   },
   "source": [
    "# 3.0 Conclusion\n",
    "As we can see, RAG can perform fairly well, even with limited information. The better the LLM model doing the inference / reasoning, the better the output of the RAG.\n",
    "\n",
    "Let's say this dataset contained more information about the each Pokemon, especially in text form, we could use that information to make our RAG better. We could also transform some quantitative values into categorical value with a meaningful text label, which can be used by the LLM to generate better responses. For example, we could add information about each Pokemon type (Ghost, Normal, Fire etc), and use that to query our data in a more granular fashion.\n",
    "\n",
    "These common questions can be answered correctly with RAG, without random noise in training data of the LLM or things such as memes affecting the output of the LLM."
   ]
  }
 ],
 "metadata": {
  "kaggle": {
   "accelerator": "none",
   "dataSources": [
    {
     "datasetId": 812662,
     "sourceId": 1391791,
     "sourceType": "datasetVersion"
    }
   ],
   "dockerImageVersionId": 31012,
   "isGpuEnabled": false,
   "isInternetEnabled": true,
   "language": "python",
   "sourceType": "notebook"
  },
  "kernelspec": {
   "display_name": ".venv",
   "language": "python",
   "name": "python3"
  },
  "language_info": {
   "codemirror_mode": {
    "name": "ipython",
    "version": 3
   },
   "file_extension": ".py",
   "mimetype": "text/x-python",
   "name": "python",
   "nbconvert_exporter": "python",
   "pygments_lexer": "ipython3",
   "version": "3.12.10"
  },
  "papermill": {
   "default_parameters": {},
   "duration": 79.229794,
   "end_time": "2025-03-20T00:48:25.664180",
   "environment_variables": {},
   "exception": null,
   "input_path": "__notebook__.ipynb",
   "output_path": "__notebook__.ipynb",
   "parameters": {},
   "start_time": "2025-03-20T00:47:06.434386",
   "version": "2.6.0"
  }
 },
 "nbformat": 4,
 "nbformat_minor": 5
}
